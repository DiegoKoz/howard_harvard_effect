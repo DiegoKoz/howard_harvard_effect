{
 "cells": [
  {
   "cell_type": "markdown",
   "id": "2915ed23-5206-4d5f-a28f-bf7613b5c977",
   "metadata": {},
   "source": [
    "Distribution of race and gender by:\n",
    "\n",
    "1. year\n",
    "2. R1 vs other\n",
    "3. public, private control\n",
    "4. Region\n",
    "5. HBCU\n",
    "6. Tribal\n",
    "7. HSI\n",
    "8. MSI\n",
    "9. Womens' college\n",
    "10. Selectivity index\n",
    "\n",
    "three metrics:\n",
    "\n",
    "1. Proportion\n",
    "2. Relative over/under representation by race and gender, given the general prop. of that race and gender on that given year\n",
    "3. Ratio with respect to the expected proportion, given the especiality distribution of the group of institution in the combination of 2-10"
   ]
  },
  {
   "cell_type": "code",
   "execution_count": 45,
   "id": "8dc38b8b-e7c5-46b4-abb7-7613bea2d152",
   "metadata": {},
   "outputs": [],
   "source": [
    "%config Completer.use_jedi = False"
   ]
  },
  {
   "cell_type": "code",
   "execution_count": 46,
   "id": "75b553f3-63a7-48b4-9169-13ad145211df",
   "metadata": {},
   "outputs": [],
   "source": [
    "import pandas as pd\n",
    "import pickle\n",
    "from tqdm.notebook import tqdm\n",
    "import numpy as np\n",
    "import re\n",
    "import string\n",
    "\n",
    "from libs.LastNamesInference import LastNamesInference"
   ]
  },
  {
   "cell_type": "code",
   "execution_count": 47,
   "id": "a9692b7e-ab31-4f62-8be0-00da66e8e922",
   "metadata": {},
   "outputs": [],
   "source": [
    "address_clean = pd.read_pickle('/data/datasets/WOS/US/address_clean.p')"
   ]
  },
  {
   "cell_type": "code",
   "execution_count": 48,
   "id": "75c20e6a-fefb-43fa-bccc-43e7bcb71596",
   "metadata": {},
   "outputs": [
    {
     "data": {
      "text/plain": [
       "not HSI    0.957125\n",
       "HSI        0.042875\n",
       "Name: hsi, dtype: float64"
      ]
     },
     "execution_count": 48,
     "metadata": {},
     "output_type": "execute_result"
    }
   ],
   "source": [
    "address_clean.hsi.value_counts(normalize=True)"
   ]
  },
  {
   "cell_type": "code",
   "execution_count": 49,
   "id": "223d9a63-b77b-4e6d-af1a-4bbb86cd9eab",
   "metadata": {},
   "outputs": [],
   "source": [
    "df_papers = pd.read_pickle('/data/datasets/WOS/US/US_papers.p')"
   ]
  },
  {
   "cell_type": "markdown",
   "id": "f61d1cc6-3f08-4e62-af29-b39a31d9df89",
   "metadata": {},
   "source": [
    "- RQ2: In the present, are marginalized R&G more concentrated on a specific institution type?\n",
    "- RQ3: If we normalized participation by fields, does RQ2 change?\n"
   ]
  },
  {
   "cell_type": "code",
   "execution_count": 50,
   "id": "f2c4f719-33a5-4a94-95fc-67c240a879b5",
   "metadata": {
    "tags": []
   },
   "outputs": [],
   "source": [
    "howard = address_clean[address_clean.carnegie_id == '131520']"
   ]
  },
  {
   "cell_type": "code",
   "execution_count": 51,
   "id": "e4f48ba3-490b-4170-9135-0e488980895c",
   "metadata": {},
   "outputs": [
    {
     "data": {
      "text/html": [
       "<div>\n",
       "<style scoped>\n",
       "    .dataframe tbody tr th:only-of-type {\n",
       "        vertical-align: middle;\n",
       "    }\n",
       "\n",
       "    .dataframe tbody tr th {\n",
       "        vertical-align: top;\n",
       "    }\n",
       "\n",
       "    .dataframe thead th {\n",
       "        text-align: right;\n",
       "    }\n",
       "</style>\n",
       "<table border=\"1\" class=\"dataframe\">\n",
       "  <thead>\n",
       "    <tr style=\"text-align: right;\">\n",
       "      <th></th>\n",
       "      <th>cluster_id</th>\n",
       "      <th>id_art</th>\n",
       "      <th>grid_id</th>\n",
       "      <th>carnegie_id</th>\n",
       "      <th>carnegie_name</th>\n",
       "      <th>r1</th>\n",
       "      <th>control</th>\n",
       "      <th>obereg</th>\n",
       "      <th>hbcu</th>\n",
       "      <th>tribal</th>\n",
       "      <th>...</th>\n",
       "      <th>Top1CR_Q</th>\n",
       "      <th>npapers</th>\n",
       "      <th>impact</th>\n",
       "      <th>avg_citations</th>\n",
       "      <th>npapers_Q</th>\n",
       "      <th>impact_Q</th>\n",
       "      <th>avg_citations_Q</th>\n",
       "      <th>usnr_rank</th>\n",
       "      <th>usnr_rank_cat</th>\n",
       "      <th>avg_citations_Q10</th>\n",
       "    </tr>\n",
       "  </thead>\n",
       "  <tbody>\n",
       "    <tr>\n",
       "      <th>14974875</th>\n",
       "      <td>7282087</td>\n",
       "      <td>44152683</td>\n",
       "      <td>grid.257127.4</td>\n",
       "      <td>131520</td>\n",
       "      <td>Howard University</td>\n",
       "      <td>not R1</td>\n",
       "      <td>private_nfp</td>\n",
       "      <td>Mid_East</td>\n",
       "      <td>HBCU</td>\n",
       "      <td>not tribal</td>\n",
       "      <td>...</td>\n",
       "      <td>(0.0, 0.02)</td>\n",
       "      <td>11596</td>\n",
       "      <td>13475.148</td>\n",
       "      <td>1.162039</td>\n",
       "      <td>(5, 64564)</td>\n",
       "      <td>(0.85, 95992.29)</td>\n",
       "      <td>(0.1, 1.47)</td>\n",
       "      <td>83.0</td>\n",
       "      <td>top_100</td>\n",
       "      <td>(0.1, 1.24)</td>\n",
       "    </tr>\n",
       "    <tr>\n",
       "      <th>14974876</th>\n",
       "      <td>42542991</td>\n",
       "      <td>52231209</td>\n",
       "      <td>grid.257127.4</td>\n",
       "      <td>131520</td>\n",
       "      <td>Howard University</td>\n",
       "      <td>not R1</td>\n",
       "      <td>private_nfp</td>\n",
       "      <td>Mid_East</td>\n",
       "      <td>HBCU</td>\n",
       "      <td>not tribal</td>\n",
       "      <td>...</td>\n",
       "      <td>(0.0, 0.02)</td>\n",
       "      <td>11596</td>\n",
       "      <td>13475.148</td>\n",
       "      <td>1.162039</td>\n",
       "      <td>(5, 64564)</td>\n",
       "      <td>(0.85, 95992.29)</td>\n",
       "      <td>(0.1, 1.47)</td>\n",
       "      <td>83.0</td>\n",
       "      <td>top_100</td>\n",
       "      <td>(0.1, 1.24)</td>\n",
       "    </tr>\n",
       "    <tr>\n",
       "      <th>14974877</th>\n",
       "      <td>51575029</td>\n",
       "      <td>63672355</td>\n",
       "      <td>grid.257127.4</td>\n",
       "      <td>131520</td>\n",
       "      <td>Howard University</td>\n",
       "      <td>not R1</td>\n",
       "      <td>private_nfp</td>\n",
       "      <td>Mid_East</td>\n",
       "      <td>HBCU</td>\n",
       "      <td>not tribal</td>\n",
       "      <td>...</td>\n",
       "      <td>(0.0, 0.02)</td>\n",
       "      <td>11596</td>\n",
       "      <td>13475.148</td>\n",
       "      <td>1.162039</td>\n",
       "      <td>(5, 64564)</td>\n",
       "      <td>(0.85, 95992.29)</td>\n",
       "      <td>(0.1, 1.47)</td>\n",
       "      <td>83.0</td>\n",
       "      <td>top_100</td>\n",
       "      <td>(0.1, 1.24)</td>\n",
       "    </tr>\n",
       "    <tr>\n",
       "      <th>14974878</th>\n",
       "      <td>27224778</td>\n",
       "      <td>47822200</td>\n",
       "      <td>grid.257127.4</td>\n",
       "      <td>131520</td>\n",
       "      <td>Howard University</td>\n",
       "      <td>not R1</td>\n",
       "      <td>private_nfp</td>\n",
       "      <td>Mid_East</td>\n",
       "      <td>HBCU</td>\n",
       "      <td>not tribal</td>\n",
       "      <td>...</td>\n",
       "      <td>(0.0, 0.02)</td>\n",
       "      <td>11596</td>\n",
       "      <td>13475.148</td>\n",
       "      <td>1.162039</td>\n",
       "      <td>(5, 64564)</td>\n",
       "      <td>(0.85, 95992.29)</td>\n",
       "      <td>(0.1, 1.47)</td>\n",
       "      <td>83.0</td>\n",
       "      <td>top_100</td>\n",
       "      <td>(0.1, 1.24)</td>\n",
       "    </tr>\n",
       "    <tr>\n",
       "      <th>14974879</th>\n",
       "      <td>26103310</td>\n",
       "      <td>46241265</td>\n",
       "      <td>grid.257127.4</td>\n",
       "      <td>131520</td>\n",
       "      <td>Howard University</td>\n",
       "      <td>not R1</td>\n",
       "      <td>private_nfp</td>\n",
       "      <td>Mid_East</td>\n",
       "      <td>HBCU</td>\n",
       "      <td>not tribal</td>\n",
       "      <td>...</td>\n",
       "      <td>(0.0, 0.02)</td>\n",
       "      <td>11596</td>\n",
       "      <td>13475.148</td>\n",
       "      <td>1.162039</td>\n",
       "      <td>(5, 64564)</td>\n",
       "      <td>(0.85, 95992.29)</td>\n",
       "      <td>(0.1, 1.47)</td>\n",
       "      <td>83.0</td>\n",
       "      <td>top_100</td>\n",
       "      <td>(0.1, 1.24)</td>\n",
       "    </tr>\n",
       "    <tr>\n",
       "      <th>...</th>\n",
       "      <td>...</td>\n",
       "      <td>...</td>\n",
       "      <td>...</td>\n",
       "      <td>...</td>\n",
       "      <td>...</td>\n",
       "      <td>...</td>\n",
       "      <td>...</td>\n",
       "      <td>...</td>\n",
       "      <td>...</td>\n",
       "      <td>...</td>\n",
       "      <td>...</td>\n",
       "      <td>...</td>\n",
       "      <td>...</td>\n",
       "      <td>...</td>\n",
       "      <td>...</td>\n",
       "      <td>...</td>\n",
       "      <td>...</td>\n",
       "      <td>...</td>\n",
       "      <td>...</td>\n",
       "      <td>...</td>\n",
       "      <td>...</td>\n",
       "    </tr>\n",
       "    <tr>\n",
       "      <th>14984638</th>\n",
       "      <td>50163063</td>\n",
       "      <td>62984663</td>\n",
       "      <td>grid.257127.4</td>\n",
       "      <td>131520</td>\n",
       "      <td>Howard University</td>\n",
       "      <td>not R1</td>\n",
       "      <td>private_nfp</td>\n",
       "      <td>Mid_East</td>\n",
       "      <td>HBCU</td>\n",
       "      <td>not tribal</td>\n",
       "      <td>...</td>\n",
       "      <td>(0.0, 0.02)</td>\n",
       "      <td>11596</td>\n",
       "      <td>13475.148</td>\n",
       "      <td>1.162039</td>\n",
       "      <td>(5, 64564)</td>\n",
       "      <td>(0.85, 95992.29)</td>\n",
       "      <td>(0.1, 1.47)</td>\n",
       "      <td>83.0</td>\n",
       "      <td>top_100</td>\n",
       "      <td>(0.1, 1.24)</td>\n",
       "    </tr>\n",
       "    <tr>\n",
       "      <th>14984639</th>\n",
       "      <td>50917584</td>\n",
       "      <td>51562409</td>\n",
       "      <td>grid.257127.4</td>\n",
       "      <td>131520</td>\n",
       "      <td>Howard University</td>\n",
       "      <td>not R1</td>\n",
       "      <td>private_nfp</td>\n",
       "      <td>Mid_East</td>\n",
       "      <td>HBCU</td>\n",
       "      <td>not tribal</td>\n",
       "      <td>...</td>\n",
       "      <td>(0.0, 0.02)</td>\n",
       "      <td>11596</td>\n",
       "      <td>13475.148</td>\n",
       "      <td>1.162039</td>\n",
       "      <td>(5, 64564)</td>\n",
       "      <td>(0.85, 95992.29)</td>\n",
       "      <td>(0.1, 1.47)</td>\n",
       "      <td>83.0</td>\n",
       "      <td>top_100</td>\n",
       "      <td>(0.1, 1.24)</td>\n",
       "    </tr>\n",
       "    <tr>\n",
       "      <th>14984640</th>\n",
       "      <td>5917671</td>\n",
       "      <td>29810409</td>\n",
       "      <td>grid.257127.4</td>\n",
       "      <td>131520</td>\n",
       "      <td>Howard University</td>\n",
       "      <td>not R1</td>\n",
       "      <td>private_nfp</td>\n",
       "      <td>Mid_East</td>\n",
       "      <td>HBCU</td>\n",
       "      <td>not tribal</td>\n",
       "      <td>...</td>\n",
       "      <td>(0.0, 0.02)</td>\n",
       "      <td>11596</td>\n",
       "      <td>13475.148</td>\n",
       "      <td>1.162039</td>\n",
       "      <td>(5, 64564)</td>\n",
       "      <td>(0.85, 95992.29)</td>\n",
       "      <td>(0.1, 1.47)</td>\n",
       "      <td>83.0</td>\n",
       "      <td>top_100</td>\n",
       "      <td>(0.1, 1.24)</td>\n",
       "    </tr>\n",
       "    <tr>\n",
       "      <th>14984641</th>\n",
       "      <td>18597559</td>\n",
       "      <td>61457782</td>\n",
       "      <td>grid.257127.4</td>\n",
       "      <td>131520</td>\n",
       "      <td>Howard University</td>\n",
       "      <td>not R1</td>\n",
       "      <td>private_nfp</td>\n",
       "      <td>Mid_East</td>\n",
       "      <td>HBCU</td>\n",
       "      <td>not tribal</td>\n",
       "      <td>...</td>\n",
       "      <td>(0.0, 0.02)</td>\n",
       "      <td>11596</td>\n",
       "      <td>13475.148</td>\n",
       "      <td>1.162039</td>\n",
       "      <td>(5, 64564)</td>\n",
       "      <td>(0.85, 95992.29)</td>\n",
       "      <td>(0.1, 1.47)</td>\n",
       "      <td>83.0</td>\n",
       "      <td>top_100</td>\n",
       "      <td>(0.1, 1.24)</td>\n",
       "    </tr>\n",
       "    <tr>\n",
       "      <th>14984642</th>\n",
       "      <td>42563323</td>\n",
       "      <td>63175775</td>\n",
       "      <td>grid.257127.4</td>\n",
       "      <td>131520</td>\n",
       "      <td>Howard University</td>\n",
       "      <td>not R1</td>\n",
       "      <td>private_nfp</td>\n",
       "      <td>Mid_East</td>\n",
       "      <td>HBCU</td>\n",
       "      <td>not tribal</td>\n",
       "      <td>...</td>\n",
       "      <td>(0.0, 0.02)</td>\n",
       "      <td>11596</td>\n",
       "      <td>13475.148</td>\n",
       "      <td>1.162039</td>\n",
       "      <td>(5, 64564)</td>\n",
       "      <td>(0.85, 95992.29)</td>\n",
       "      <td>(0.1, 1.47)</td>\n",
       "      <td>83.0</td>\n",
       "      <td>top_100</td>\n",
       "      <td>(0.1, 1.24)</td>\n",
       "    </tr>\n",
       "  </tbody>\n",
       "</table>\n",
       "<p>9768 rows × 31 columns</p>\n",
       "</div>"
      ],
      "text/plain": [
       "          cluster_id    id_art        grid_id carnegie_id      carnegie_name  \\\n",
       "14974875     7282087  44152683  grid.257127.4      131520  Howard University   \n",
       "14974876    42542991  52231209  grid.257127.4      131520  Howard University   \n",
       "14974877    51575029  63672355  grid.257127.4      131520  Howard University   \n",
       "14974878    27224778  47822200  grid.257127.4      131520  Howard University   \n",
       "14974879    26103310  46241265  grid.257127.4      131520  Howard University   \n",
       "...              ...       ...            ...         ...                ...   \n",
       "14984638    50163063  62984663  grid.257127.4      131520  Howard University   \n",
       "14984639    50917584  51562409  grid.257127.4      131520  Howard University   \n",
       "14984640     5917671  29810409  grid.257127.4      131520  Howard University   \n",
       "14984641    18597559  61457782  grid.257127.4      131520  Howard University   \n",
       "14984642    42563323  63175775  grid.257127.4      131520  Howard University   \n",
       "\n",
       "              r1      control    obereg  hbcu      tribal  ...     Top1CR_Q  \\\n",
       "14974875  not R1  private_nfp  Mid_East  HBCU  not tribal  ...  (0.0, 0.02)   \n",
       "14974876  not R1  private_nfp  Mid_East  HBCU  not tribal  ...  (0.0, 0.02)   \n",
       "14974877  not R1  private_nfp  Mid_East  HBCU  not tribal  ...  (0.0, 0.02)   \n",
       "14974878  not R1  private_nfp  Mid_East  HBCU  not tribal  ...  (0.0, 0.02)   \n",
       "14974879  not R1  private_nfp  Mid_East  HBCU  not tribal  ...  (0.0, 0.02)   \n",
       "...          ...          ...       ...   ...         ...  ...          ...   \n",
       "14984638  not R1  private_nfp  Mid_East  HBCU  not tribal  ...  (0.0, 0.02)   \n",
       "14984639  not R1  private_nfp  Mid_East  HBCU  not tribal  ...  (0.0, 0.02)   \n",
       "14984640  not R1  private_nfp  Mid_East  HBCU  not tribal  ...  (0.0, 0.02)   \n",
       "14984641  not R1  private_nfp  Mid_East  HBCU  not tribal  ...  (0.0, 0.02)   \n",
       "14984642  not R1  private_nfp  Mid_East  HBCU  not tribal  ...  (0.0, 0.02)   \n",
       "\n",
       "         npapers     impact avg_citations   npapers_Q          impact_Q  \\\n",
       "14974875   11596  13475.148      1.162039  (5, 64564)  (0.85, 95992.29)   \n",
       "14974876   11596  13475.148      1.162039  (5, 64564)  (0.85, 95992.29)   \n",
       "14974877   11596  13475.148      1.162039  (5, 64564)  (0.85, 95992.29)   \n",
       "14974878   11596  13475.148      1.162039  (5, 64564)  (0.85, 95992.29)   \n",
       "14974879   11596  13475.148      1.162039  (5, 64564)  (0.85, 95992.29)   \n",
       "...          ...        ...           ...         ...               ...   \n",
       "14984638   11596  13475.148      1.162039  (5, 64564)  (0.85, 95992.29)   \n",
       "14984639   11596  13475.148      1.162039  (5, 64564)  (0.85, 95992.29)   \n",
       "14984640   11596  13475.148      1.162039  (5, 64564)  (0.85, 95992.29)   \n",
       "14984641   11596  13475.148      1.162039  (5, 64564)  (0.85, 95992.29)   \n",
       "14984642   11596  13475.148      1.162039  (5, 64564)  (0.85, 95992.29)   \n",
       "\n",
       "          avg_citations_Q  usnr_rank  usnr_rank_cat avg_citations_Q10  \n",
       "14974875      (0.1, 1.47)       83.0        top_100       (0.1, 1.24)  \n",
       "14974876      (0.1, 1.47)       83.0        top_100       (0.1, 1.24)  \n",
       "14974877      (0.1, 1.47)       83.0        top_100       (0.1, 1.24)  \n",
       "14974878      (0.1, 1.47)       83.0        top_100       (0.1, 1.24)  \n",
       "14974879      (0.1, 1.47)       83.0        top_100       (0.1, 1.24)  \n",
       "...                   ...        ...            ...               ...  \n",
       "14984638      (0.1, 1.47)       83.0        top_100       (0.1, 1.24)  \n",
       "14984639      (0.1, 1.47)       83.0        top_100       (0.1, 1.24)  \n",
       "14984640      (0.1, 1.47)       83.0        top_100       (0.1, 1.24)  \n",
       "14984641      (0.1, 1.47)       83.0        top_100       (0.1, 1.24)  \n",
       "14984642      (0.1, 1.47)       83.0        top_100       (0.1, 1.24)  \n",
       "\n",
       "[9768 rows x 31 columns]"
      ]
     },
     "execution_count": 51,
     "metadata": {},
     "output_type": "execute_result"
    }
   ],
   "source": [
    "howard"
   ]
  },
  {
   "cell_type": "code",
   "execution_count": 52,
   "id": "cb2645bc-fdbb-41b6-918a-a14f543e01c2",
   "metadata": {},
   "outputs": [
    {
     "data": {
      "text/html": [
       "<div>\n",
       "<style scoped>\n",
       "    .dataframe tbody tr th:only-of-type {\n",
       "        vertical-align: middle;\n",
       "    }\n",
       "\n",
       "    .dataframe tbody tr th {\n",
       "        vertical-align: top;\n",
       "    }\n",
       "\n",
       "    .dataframe thead th {\n",
       "        text-align: right;\n",
       "    }\n",
       "</style>\n",
       "<table border=\"1\" class=\"dataframe\">\n",
       "  <thead>\n",
       "    <tr style=\"text-align: right;\">\n",
       "      <th></th>\n",
       "      <th>cluster_id</th>\n",
       "      <th>id_art</th>\n",
       "      <th>grid_id</th>\n",
       "      <th>carnegie_id</th>\n",
       "      <th>carnegie_name</th>\n",
       "      <th>r1</th>\n",
       "      <th>control</th>\n",
       "      <th>obereg</th>\n",
       "      <th>hbcu</th>\n",
       "      <th>tribal</th>\n",
       "      <th>...</th>\n",
       "      <th>Top1CR_Q</th>\n",
       "      <th>npapers</th>\n",
       "      <th>impact</th>\n",
       "      <th>avg_citations</th>\n",
       "      <th>npapers_Q</th>\n",
       "      <th>impact_Q</th>\n",
       "      <th>avg_citations_Q</th>\n",
       "      <th>usnr_rank</th>\n",
       "      <th>usnr_rank_cat</th>\n",
       "      <th>avg_citations_Q10</th>\n",
       "    </tr>\n",
       "  </thead>\n",
       "  <tbody>\n",
       "    <tr>\n",
       "      <th>2976819</th>\n",
       "      <td>2334755</td>\n",
       "      <td>29818433</td>\n",
       "      <td>grid.38142.3c</td>\n",
       "      <td>166027</td>\n",
       "      <td>Harvard University</td>\n",
       "      <td>R1</td>\n",
       "      <td>private_nfp</td>\n",
       "      <td>New_England</td>\n",
       "      <td>not HBCU</td>\n",
       "      <td>not tribal</td>\n",
       "      <td>...</td>\n",
       "      <td>(0.03, 0.17)</td>\n",
       "      <td>445620</td>\n",
       "      <td>969871.123</td>\n",
       "      <td>2.176453</td>\n",
       "      <td>(146327, 445620)</td>\n",
       "      <td>(246486.01, 969871.12)</td>\n",
       "      <td>(1.77, 4.07)</td>\n",
       "      <td>2.0</td>\n",
       "      <td>top_10</td>\n",
       "      <td>(2.17, 4.07)</td>\n",
       "    </tr>\n",
       "    <tr>\n",
       "      <th>2976820</th>\n",
       "      <td>53798920</td>\n",
       "      <td>45131934</td>\n",
       "      <td>grid.38142.3c</td>\n",
       "      <td>166027</td>\n",
       "      <td>Harvard University</td>\n",
       "      <td>R1</td>\n",
       "      <td>private_nfp</td>\n",
       "      <td>New_England</td>\n",
       "      <td>not HBCU</td>\n",
       "      <td>not tribal</td>\n",
       "      <td>...</td>\n",
       "      <td>(0.03, 0.17)</td>\n",
       "      <td>445620</td>\n",
       "      <td>969871.123</td>\n",
       "      <td>2.176453</td>\n",
       "      <td>(146327, 445620)</td>\n",
       "      <td>(246486.01, 969871.12)</td>\n",
       "      <td>(1.77, 4.07)</td>\n",
       "      <td>2.0</td>\n",
       "      <td>top_10</td>\n",
       "      <td>(2.17, 4.07)</td>\n",
       "    </tr>\n",
       "    <tr>\n",
       "      <th>2976821</th>\n",
       "      <td>40300552</td>\n",
       "      <td>48093667</td>\n",
       "      <td>grid.38142.3c</td>\n",
       "      <td>166027</td>\n",
       "      <td>Harvard University</td>\n",
       "      <td>R1</td>\n",
       "      <td>private_nfp</td>\n",
       "      <td>New_England</td>\n",
       "      <td>not HBCU</td>\n",
       "      <td>not tribal</td>\n",
       "      <td>...</td>\n",
       "      <td>(0.03, 0.17)</td>\n",
       "      <td>445620</td>\n",
       "      <td>969871.123</td>\n",
       "      <td>2.176453</td>\n",
       "      <td>(146327, 445620)</td>\n",
       "      <td>(246486.01, 969871.12)</td>\n",
       "      <td>(1.77, 4.07)</td>\n",
       "      <td>2.0</td>\n",
       "      <td>top_10</td>\n",
       "      <td>(2.17, 4.07)</td>\n",
       "    </tr>\n",
       "    <tr>\n",
       "      <th>2976822</th>\n",
       "      <td>49791729</td>\n",
       "      <td>31774021</td>\n",
       "      <td>grid.38142.3c</td>\n",
       "      <td>166027</td>\n",
       "      <td>Harvard University</td>\n",
       "      <td>R1</td>\n",
       "      <td>private_nfp</td>\n",
       "      <td>New_England</td>\n",
       "      <td>not HBCU</td>\n",
       "      <td>not tribal</td>\n",
       "      <td>...</td>\n",
       "      <td>(0.03, 0.17)</td>\n",
       "      <td>445620</td>\n",
       "      <td>969871.123</td>\n",
       "      <td>2.176453</td>\n",
       "      <td>(146327, 445620)</td>\n",
       "      <td>(246486.01, 969871.12)</td>\n",
       "      <td>(1.77, 4.07)</td>\n",
       "      <td>2.0</td>\n",
       "      <td>top_10</td>\n",
       "      <td>(2.17, 4.07)</td>\n",
       "    </tr>\n",
       "    <tr>\n",
       "      <th>2976823</th>\n",
       "      <td>32092575</td>\n",
       "      <td>54343911</td>\n",
       "      <td>grid.38142.3c</td>\n",
       "      <td>166027</td>\n",
       "      <td>Harvard University</td>\n",
       "      <td>R1</td>\n",
       "      <td>private_nfp</td>\n",
       "      <td>New_England</td>\n",
       "      <td>not HBCU</td>\n",
       "      <td>not tribal</td>\n",
       "      <td>...</td>\n",
       "      <td>(0.03, 0.17)</td>\n",
       "      <td>445620</td>\n",
       "      <td>969871.123</td>\n",
       "      <td>2.176453</td>\n",
       "      <td>(146327, 445620)</td>\n",
       "      <td>(246486.01, 969871.12)</td>\n",
       "      <td>(1.77, 4.07)</td>\n",
       "      <td>2.0</td>\n",
       "      <td>top_10</td>\n",
       "      <td>(2.17, 4.07)</td>\n",
       "    </tr>\n",
       "    <tr>\n",
       "      <th>...</th>\n",
       "      <td>...</td>\n",
       "      <td>...</td>\n",
       "      <td>...</td>\n",
       "      <td>...</td>\n",
       "      <td>...</td>\n",
       "      <td>...</td>\n",
       "      <td>...</td>\n",
       "      <td>...</td>\n",
       "      <td>...</td>\n",
       "      <td>...</td>\n",
       "      <td>...</td>\n",
       "      <td>...</td>\n",
       "      <td>...</td>\n",
       "      <td>...</td>\n",
       "      <td>...</td>\n",
       "      <td>...</td>\n",
       "      <td>...</td>\n",
       "      <td>...</td>\n",
       "      <td>...</td>\n",
       "      <td>...</td>\n",
       "      <td>...</td>\n",
       "    </tr>\n",
       "    <tr>\n",
       "      <th>3697823</th>\n",
       "      <td>9855205</td>\n",
       "      <td>62124190</td>\n",
       "      <td>grid.38142.3c</td>\n",
       "      <td>166027</td>\n",
       "      <td>Harvard University</td>\n",
       "      <td>R1</td>\n",
       "      <td>private_nfp</td>\n",
       "      <td>New_England</td>\n",
       "      <td>not HBCU</td>\n",
       "      <td>not tribal</td>\n",
       "      <td>...</td>\n",
       "      <td>(0.03, 0.17)</td>\n",
       "      <td>445620</td>\n",
       "      <td>969871.123</td>\n",
       "      <td>2.176453</td>\n",
       "      <td>(146327, 445620)</td>\n",
       "      <td>(246486.01, 969871.12)</td>\n",
       "      <td>(1.77, 4.07)</td>\n",
       "      <td>2.0</td>\n",
       "      <td>top_10</td>\n",
       "      <td>(2.17, 4.07)</td>\n",
       "    </tr>\n",
       "    <tr>\n",
       "      <th>3697824</th>\n",
       "      <td>50135279</td>\n",
       "      <td>56168647</td>\n",
       "      <td>grid.38142.3c</td>\n",
       "      <td>166027</td>\n",
       "      <td>Harvard University</td>\n",
       "      <td>R1</td>\n",
       "      <td>private_nfp</td>\n",
       "      <td>New_England</td>\n",
       "      <td>not HBCU</td>\n",
       "      <td>not tribal</td>\n",
       "      <td>...</td>\n",
       "      <td>(0.03, 0.17)</td>\n",
       "      <td>445620</td>\n",
       "      <td>969871.123</td>\n",
       "      <td>2.176453</td>\n",
       "      <td>(146327, 445620)</td>\n",
       "      <td>(246486.01, 969871.12)</td>\n",
       "      <td>(1.77, 4.07)</td>\n",
       "      <td>2.0</td>\n",
       "      <td>top_10</td>\n",
       "      <td>(2.17, 4.07)</td>\n",
       "    </tr>\n",
       "    <tr>\n",
       "      <th>3697825</th>\n",
       "      <td>48246028</td>\n",
       "      <td>55077141</td>\n",
       "      <td>grid.38142.3c</td>\n",
       "      <td>166027</td>\n",
       "      <td>Harvard University</td>\n",
       "      <td>R1</td>\n",
       "      <td>private_nfp</td>\n",
       "      <td>New_England</td>\n",
       "      <td>not HBCU</td>\n",
       "      <td>not tribal</td>\n",
       "      <td>...</td>\n",
       "      <td>(0.03, 0.17)</td>\n",
       "      <td>445620</td>\n",
       "      <td>969871.123</td>\n",
       "      <td>2.176453</td>\n",
       "      <td>(146327, 445620)</td>\n",
       "      <td>(246486.01, 969871.12)</td>\n",
       "      <td>(1.77, 4.07)</td>\n",
       "      <td>2.0</td>\n",
       "      <td>top_10</td>\n",
       "      <td>(2.17, 4.07)</td>\n",
       "    </tr>\n",
       "    <tr>\n",
       "      <th>3697826</th>\n",
       "      <td>52446264</td>\n",
       "      <td>47840603</td>\n",
       "      <td>grid.38142.3c</td>\n",
       "      <td>166027</td>\n",
       "      <td>Harvard University</td>\n",
       "      <td>R1</td>\n",
       "      <td>private_nfp</td>\n",
       "      <td>New_England</td>\n",
       "      <td>not HBCU</td>\n",
       "      <td>not tribal</td>\n",
       "      <td>...</td>\n",
       "      <td>(0.03, 0.17)</td>\n",
       "      <td>445620</td>\n",
       "      <td>969871.123</td>\n",
       "      <td>2.176453</td>\n",
       "      <td>(146327, 445620)</td>\n",
       "      <td>(246486.01, 969871.12)</td>\n",
       "      <td>(1.77, 4.07)</td>\n",
       "      <td>2.0</td>\n",
       "      <td>top_10</td>\n",
       "      <td>(2.17, 4.07)</td>\n",
       "    </tr>\n",
       "    <tr>\n",
       "      <th>3697827</th>\n",
       "      <td>53596600</td>\n",
       "      <td>54078407</td>\n",
       "      <td>grid.38142.3c</td>\n",
       "      <td>166027</td>\n",
       "      <td>Harvard University</td>\n",
       "      <td>R1</td>\n",
       "      <td>private_nfp</td>\n",
       "      <td>New_England</td>\n",
       "      <td>not HBCU</td>\n",
       "      <td>not tribal</td>\n",
       "      <td>...</td>\n",
       "      <td>(0.03, 0.17)</td>\n",
       "      <td>445620</td>\n",
       "      <td>969871.123</td>\n",
       "      <td>2.176453</td>\n",
       "      <td>(146327, 445620)</td>\n",
       "      <td>(246486.01, 969871.12)</td>\n",
       "      <td>(1.77, 4.07)</td>\n",
       "      <td>2.0</td>\n",
       "      <td>top_10</td>\n",
       "      <td>(2.17, 4.07)</td>\n",
       "    </tr>\n",
       "  </tbody>\n",
       "</table>\n",
       "<p>721009 rows × 31 columns</p>\n",
       "</div>"
      ],
      "text/plain": [
       "         cluster_id    id_art        grid_id carnegie_id       carnegie_name  \\\n",
       "2976819     2334755  29818433  grid.38142.3c      166027  Harvard University   \n",
       "2976820    53798920  45131934  grid.38142.3c      166027  Harvard University   \n",
       "2976821    40300552  48093667  grid.38142.3c      166027  Harvard University   \n",
       "2976822    49791729  31774021  grid.38142.3c      166027  Harvard University   \n",
       "2976823    32092575  54343911  grid.38142.3c      166027  Harvard University   \n",
       "...             ...       ...            ...         ...                 ...   \n",
       "3697823     9855205  62124190  grid.38142.3c      166027  Harvard University   \n",
       "3697824    50135279  56168647  grid.38142.3c      166027  Harvard University   \n",
       "3697825    48246028  55077141  grid.38142.3c      166027  Harvard University   \n",
       "3697826    52446264  47840603  grid.38142.3c      166027  Harvard University   \n",
       "3697827    53596600  54078407  grid.38142.3c      166027  Harvard University   \n",
       "\n",
       "         r1      control       obereg      hbcu      tribal  ...  \\\n",
       "2976819  R1  private_nfp  New_England  not HBCU  not tribal  ...   \n",
       "2976820  R1  private_nfp  New_England  not HBCU  not tribal  ...   \n",
       "2976821  R1  private_nfp  New_England  not HBCU  not tribal  ...   \n",
       "2976822  R1  private_nfp  New_England  not HBCU  not tribal  ...   \n",
       "2976823  R1  private_nfp  New_England  not HBCU  not tribal  ...   \n",
       "...      ..          ...          ...       ...         ...  ...   \n",
       "3697823  R1  private_nfp  New_England  not HBCU  not tribal  ...   \n",
       "3697824  R1  private_nfp  New_England  not HBCU  not tribal  ...   \n",
       "3697825  R1  private_nfp  New_England  not HBCU  not tribal  ...   \n",
       "3697826  R1  private_nfp  New_England  not HBCU  not tribal  ...   \n",
       "3697827  R1  private_nfp  New_England  not HBCU  not tribal  ...   \n",
       "\n",
       "             Top1CR_Q npapers      impact avg_citations         npapers_Q  \\\n",
       "2976819  (0.03, 0.17)  445620  969871.123      2.176453  (146327, 445620)   \n",
       "2976820  (0.03, 0.17)  445620  969871.123      2.176453  (146327, 445620)   \n",
       "2976821  (0.03, 0.17)  445620  969871.123      2.176453  (146327, 445620)   \n",
       "2976822  (0.03, 0.17)  445620  969871.123      2.176453  (146327, 445620)   \n",
       "2976823  (0.03, 0.17)  445620  969871.123      2.176453  (146327, 445620)   \n",
       "...               ...     ...         ...           ...               ...   \n",
       "3697823  (0.03, 0.17)  445620  969871.123      2.176453  (146327, 445620)   \n",
       "3697824  (0.03, 0.17)  445620  969871.123      2.176453  (146327, 445620)   \n",
       "3697825  (0.03, 0.17)  445620  969871.123      2.176453  (146327, 445620)   \n",
       "3697826  (0.03, 0.17)  445620  969871.123      2.176453  (146327, 445620)   \n",
       "3697827  (0.03, 0.17)  445620  969871.123      2.176453  (146327, 445620)   \n",
       "\n",
       "                       impact_Q  avg_citations_Q  usnr_rank  usnr_rank_cat  \\\n",
       "2976819  (246486.01, 969871.12)     (1.77, 4.07)        2.0         top_10   \n",
       "2976820  (246486.01, 969871.12)     (1.77, 4.07)        2.0         top_10   \n",
       "2976821  (246486.01, 969871.12)     (1.77, 4.07)        2.0         top_10   \n",
       "2976822  (246486.01, 969871.12)     (1.77, 4.07)        2.0         top_10   \n",
       "2976823  (246486.01, 969871.12)     (1.77, 4.07)        2.0         top_10   \n",
       "...                         ...              ...        ...            ...   \n",
       "3697823  (246486.01, 969871.12)     (1.77, 4.07)        2.0         top_10   \n",
       "3697824  (246486.01, 969871.12)     (1.77, 4.07)        2.0         top_10   \n",
       "3697825  (246486.01, 969871.12)     (1.77, 4.07)        2.0         top_10   \n",
       "3697826  (246486.01, 969871.12)     (1.77, 4.07)        2.0         top_10   \n",
       "3697827  (246486.01, 969871.12)     (1.77, 4.07)        2.0         top_10   \n",
       "\n",
       "        avg_citations_Q10  \n",
       "2976819      (2.17, 4.07)  \n",
       "2976820      (2.17, 4.07)  \n",
       "2976821      (2.17, 4.07)  \n",
       "2976822      (2.17, 4.07)  \n",
       "2976823      (2.17, 4.07)  \n",
       "...                   ...  \n",
       "3697823      (2.17, 4.07)  \n",
       "3697824      (2.17, 4.07)  \n",
       "3697825      (2.17, 4.07)  \n",
       "3697826      (2.17, 4.07)  \n",
       "3697827      (2.17, 4.07)  \n",
       "\n",
       "[721009 rows x 31 columns]"
      ]
     },
     "execution_count": 52,
     "metadata": {},
     "output_type": "execute_result"
    }
   ],
   "source": [
    "address_clean[address_clean.carnegie_id == '166027']"
   ]
  },
  {
   "cell_type": "code",
   "execution_count": null,
   "id": "81bbfa52-8ec8-4e12-936e-8c05e999be5e",
   "metadata": {},
   "outputs": [],
   "source": []
  },
  {
   "cell_type": "code",
   "execution_count": 53,
   "id": "dc18b866-783d-457e-8372-f8868427b763",
   "metadata": {},
   "outputs": [
    {
     "data": {
      "text/plain": [
       "166027    721009\n",
       "162928    327219\n",
       "170976    314933\n",
       "190415    306044\n",
       "110662    303932\n",
       "           ...  \n",
       "120768         2\n",
       "108807         2\n",
       "123527         1\n",
       "149532         1\n",
       "121886         1\n",
       "Name: carnegie_id, Length: 685, dtype: int64"
      ]
     },
     "execution_count": 53,
     "metadata": {},
     "output_type": "execute_result"
    }
   ],
   "source": [
    "address_clean.carnegie_id.value_counts()"
   ]
  },
  {
   "cell_type": "code",
   "execution_count": 54,
   "id": "2ee37646-4889-43b9-9ce3-33539e72ee97",
   "metadata": {},
   "outputs": [
    {
     "data": {
      "text/plain": [
       "R1        0.837239\n",
       "not R1    0.162761\n",
       "Name: r1, dtype: float64"
      ]
     },
     "execution_count": 54,
     "metadata": {},
     "output_type": "execute_result"
    }
   ],
   "source": [
    "address_clean.r1.value_counts(normalize=True)"
   ]
  },
  {
   "cell_type": "code",
   "execution_count": 55,
   "id": "69e9c64a-d4c3-43e1-bed6-440e7e1c693c",
   "metadata": {},
   "outputs": [],
   "source": [
    "def split_by_gender(df_race):\n",
    "    df_race = df_race.copy()\n",
    "    df_race['gender'] = df_race.gender.str.upper()\n",
    "\n",
    "    boolean_mask_M = df_race.gender == 'M'\n",
    "    boolean_mask_F = df_race.gender == 'F'\n",
    "\n",
    "    race_dist_M = df_race.loc[boolean_mask_M,['white','hispanic','black','asian']]\n",
    "    race_dist_F = df_race.loc[boolean_mask_F,['white','hispanic','black','asian']]\n",
    "\n",
    "    race_dist_M.columns = race_dist_M.columns + '_M'\n",
    "    race_dist_F.columns = race_dist_F.columns + '_F'\n",
    "    race_dist_MF = pd.concat([race_dist_M,race_dist_F]).fillna(0).sort_index()\n",
    "    df_race = df_race.join(race_dist_MF,how='inner' )\n",
    "    return df_race\n"
   ]
  },
  {
   "cell_type": "code",
   "execution_count": 56,
   "id": "3f5ff2f5-7892-4cd8-acc0-bd08e8e0c992",
   "metadata": {},
   "outputs": [],
   "source": [
    "def infer_race(us_papers, df=None):\n",
    "    papers = us_papers.drop_duplicates('cluster_ID')\n",
    "    lni = LastNamesInference(names = papers.nom)\n",
    "    if df is None:\n",
    "        df = us_papers.copy()\n",
    "    tqdm.pandas(desc=\"inferring race from lastnames\")\n",
    "    lastname_race_dist = df.progress_apply(lambda x: lni.get_name_dist(lastname=x.nom), axis=1)\n",
    "    df[lni.prob_order] = pd.DataFrame(lastname_race_dist.to_list(), index=df.index)\n",
    "    df = split_by_gender(df)\n",
    "    return df"
   ]
  },
  {
   "cell_type": "code",
   "execution_count": 57,
   "id": "2decc594-4bb4-4ab3-b4fe-2260ab8d7151",
   "metadata": {},
   "outputs": [],
   "source": [
    "df = df_papers.merge(address_clean, how='inner', left_on=['cluster_ID','id_art'], right_on=['cluster_id', 'id_art'])"
   ]
  },
  {
   "cell_type": "code",
   "execution_count": 58,
   "id": "ac767f2b-1e7e-4100-b19f-6c48a4d9f73e",
   "metadata": {},
   "outputs": [
    {
     "data": {
      "text/plain": [
       "2018    1735609\n",
       "2016    1667558\n",
       "2017    1667092\n",
       "2015    1602143\n",
       "2014    1550742\n",
       "2013    1505349\n",
       "2012    1434661\n",
       "2011    1275937\n",
       "2010    1146411\n",
       "2009    1080101\n",
       "2008    1041258\n",
       "2019     326573\n",
       "Name: Annee_Bibliographique, dtype: int64"
      ]
     },
     "execution_count": 58,
     "metadata": {},
     "output_type": "execute_result"
    }
   ],
   "source": [
    "df.Annee_Bibliographique.value_counts()"
   ]
  },
  {
   "cell_type": "code",
   "execution_count": 59,
   "id": "321edc28-3766-4acb-a155-3fd82a593a90",
   "metadata": {},
   "outputs": [],
   "source": [
    "# I remove articles from 2019, due to small sample size\n",
    "df = df[df.Annee_Bibliographique<2019]"
   ]
  },
  {
   "cell_type": "code",
   "execution_count": 60,
   "id": "c0bade8a-a4f3-4636-a6bc-a4ef38c476b1",
   "metadata": {},
   "outputs": [
    {
     "name": "stderr",
     "output_type": "stream",
     "text": [
      "imputing by the mean: 100% 3400405/3400405 [00:12<00:00, 280727.21it/s]\n"
     ]
    },
    {
     "data": {
      "application/vnd.jupyter.widget-view+json": {
       "model_id": "303d64a3d8af4e86ac05d692b9543c3b",
       "version_major": 2,
       "version_minor": 0
      },
      "text/plain": [
       "inferring race from lastnames:   0%|          | 0/15706861 [00:00<?, ?it/s]"
      ]
     },
     "metadata": {},
     "output_type": "display_data"
    }
   ],
   "source": [
    "df_race = infer_race(df)"
   ]
  },
  {
   "cell_type": "code",
   "execution_count": 61,
   "id": "d1624bee-9a95-4aca-95b3-f76c91929ff8",
   "metadata": {},
   "outputs": [
    {
     "data": {
      "text/plain": [
       "not tribal    11176882\n",
       "Name: tribal, dtype: int64"
      ]
     },
     "execution_count": 61,
     "metadata": {},
     "output_type": "execute_result"
    }
   ],
   "source": [
    "df_race.tribal.value_counts()"
   ]
  },
  {
   "cell_type": "markdown",
   "id": "40f944f7-4a33-4904-ac0e-20ef0f785fdb",
   "metadata": {},
   "source": [
    "I am removing the 'tribal' flag because we are currently unable to find any article from tribal colleges"
   ]
  },
  {
   "cell_type": "code",
   "execution_count": 62,
   "id": "28720eae-1eaa-45d9-83c4-931ca14bd11b",
   "metadata": {},
   "outputs": [],
   "source": [
    "df_authors = df_race[['cluster_ID','Annee_Bibliographique','Prenom','nom','carnegie_id', #ID and wos metadata\n",
    "         'carnegie_name', 'r1', 'control', 'obereg', 'hbcu', 'hsi', 'msi', 'womens', 'selindex', #Carnegie groups\n",
    "         'usnr_rank_cat','Top10CR_Q','Top5CR_Q','Top1CR_Q','impact_Q','avg_citations_Q','avg_citations_Q10', # citations groups\n",
    "         'white', 'hispanic','black', 'asian', 'white_M', 'hispanic_M', 'black_M', 'asian_M', # race and gender\n",
    "       'white_F', 'hispanic_F', 'black_F', 'asian_F']]"
   ]
  },
  {
   "cell_type": "code",
   "execution_count": 63,
   "id": "71176382-6b4d-4e61-b374-05094a3a075d",
   "metadata": {},
   "outputs": [],
   "source": [
    "df_authors = df_authors.drop_duplicates() "
   ]
  },
  {
   "cell_type": "markdown",
   "id": "1ad6729e-8b04-429d-a583-d331897aae59",
   "metadata": {},
   "source": [
    "### Methodological note:\n",
    "\n",
    "I'm keeping single instances of authors institution, etc. But I will do double counting of authors for multiple institutions/disciplines/specialities"
   ]
  },
  {
   "cell_type": "code",
   "execution_count": 64,
   "id": "7ebb953c-2971-48d2-9683-3bcd6a952b3a",
   "metadata": {},
   "outputs": [
    {
     "data": {
      "text/plain": [
       "19891624    84\n",
       "11459727    82\n",
       "25654258    76\n",
       "50594731    70\n",
       "35507949    70\n",
       "            ..\n",
       "20813996     1\n",
       "23253880     1\n",
       "23253719     1\n",
       "23253369     1\n",
       "55571533     1\n",
       "Name: cluster_ID, Length: 2568916, dtype: int64"
      ]
     },
     "execution_count": 64,
     "metadata": {},
     "output_type": "execute_result"
    }
   ],
   "source": [
    "df_authors.cluster_ID.value_counts()"
   ]
  },
  {
   "cell_type": "markdown",
   "id": "3931c6f2-f503-40f1-9d58-c68350c1c318",
   "metadata": {},
   "source": [
    "- RQ1: How is the proportion of authors by group evolving over time? Is the same tendency for all institutions’ type?"
   ]
  },
  {
   "cell_type": "code",
   "execution_count": null,
   "id": "46638d40-29d5-439e-accc-8306d78ddb35",
   "metadata": {},
   "outputs": [],
   "source": [
    "prop_df = df_authors.groupby(['Annee_Bibliographique','r1', 'control', 'obereg', 'hbcu', 'hsi', 'msi', 'womens', 'selindex',\n",
    "                              'usnr_rank_cat','Top10CR_Q','Top5CR_Q','Top1CR_Q','impact_Q','avg_citations_Q','avg_citations_Q10'])\\\n",
    "                [['white_M', 'hispanic_M', 'black_M', 'asian_M','white_F', 'hispanic_F', 'black_F', 'asian_F']].mean()\n",
    "size = df_authors.groupby(['Annee_Bibliographique','r1', 'control', 'obereg', 'hbcu', 'hsi', 'msi', 'womens', 'selindex',\n",
    "                          'usnr_rank_cat','Top10CR_Q','Top5CR_Q','Top1CR_Q','impact_Q','avg_citations_Q','avg_citations_Q10'])['cluster_ID'].count()"
   ]
  },
  {
   "cell_type": "code",
   "execution_count": null,
   "id": "860f6c4e-2f47-4d18-92d5-21be381afcbf",
   "metadata": {},
   "outputs": [],
   "source": [
    "1 "
   ]
  },
  {
   "cell_type": "code",
   "execution_count": null,
   "id": "a3233bf8-f005-427d-bfc4-088d8e9b60f6",
   "metadata": {},
   "outputs": [],
   "source": [
    "prop_df = prop_df.join(size).reset_index().rename(columns={'cluster_ID':'n'})"
   ]
  },
  {
   "cell_type": "code",
   "execution_count": null,
   "id": "aa19352d-3991-44ac-ad9a-18dd73d5fe28",
   "metadata": {},
   "outputs": [],
   "source": [
    "prop_df = prop_df[prop_df.n>100] # I exclude cases with low sample size"
   ]
  },
  {
   "cell_type": "markdown",
   "id": "e74ed426-908b-42f2-945e-84de2b06cfda",
   "metadata": {},
   "source": [
    "### relative difference// relative over-under representation: \n",
    "\n",
    "is the relative under/over representation of a group, given its mean proportion that given year"
   ]
  },
  {
   "cell_type": "code",
   "execution_count": null,
   "id": "84fd2e63-c984-46f3-94cc-826bbaacdad1",
   "metadata": {},
   "outputs": [],
   "source": [
    "mean_dist = df_authors.groupby('Annee_Bibliographique')[['white_M', 'hispanic_M', 'black_M', 'asian_M','white_F', 'hispanic_F', 'black_F', 'asian_F']].mean().reset_index()"
   ]
  },
  {
   "cell_type": "code",
   "execution_count": null,
   "id": "3ea00a28-ba43-4f33-92c7-7aee44c8994b",
   "metadata": {},
   "outputs": [],
   "source": [
    "rel_diff = prop_df.copy()"
   ]
  },
  {
   "cell_type": "code",
   "execution_count": null,
   "id": "60fc7ca2-6531-49f5-a7c6-b2132966ec42",
   "metadata": {},
   "outputs": [],
   "source": [
    "mean_dist.columns = ['Annee_Bibliographique', 'avg_white_M', 'avg_hispanic_M', 'avg_black_M', 'avg_asian_M','avg_white_F', 'avg_hispanic_F', 'avg_black_F', 'avg_asian_F']"
   ]
  },
  {
   "cell_type": "code",
   "execution_count": null,
   "id": "e7ad6c5c-c13e-4203-827e-d33bd735c539",
   "metadata": {},
   "outputs": [],
   "source": [
    "rel_diff = rel_diff.merge(mean_dist, on='Annee_Bibliographique')"
   ]
  },
  {
   "cell_type": "code",
   "execution_count": null,
   "id": "3dfdecb3-3e64-4eca-819c-69a6512e32f2",
   "metadata": {},
   "outputs": [],
   "source": [
    "rel_diff[['white_M', 'hispanic_M', 'black_M', 'asian_M','white_F', 'hispanic_F', 'black_F', 'asian_F']] = \\\n",
    "rel_diff[['white_M', 'hispanic_M', 'black_M', 'asian_M','white_F', 'hispanic_F', 'black_F', 'asian_F']]/\\\n",
    "rel_diff[['avg_white_M', 'avg_hispanic_M', 'avg_black_M', 'avg_asian_M','avg_white_F', 'avg_hispanic_F', 'avg_black_F', 'avg_asian_F']].to_numpy()"
   ]
  },
  {
   "cell_type": "code",
   "execution_count": null,
   "id": "5940f3bd-4dc9-4d81-b8ba-e19899b174bc",
   "metadata": {},
   "outputs": [],
   "source": [
    "rel_diff = rel_diff[['Annee_Bibliographique', 'r1', 'control', 'obereg', 'hbcu',\n",
    "       'hsi', 'msi', 'womens', 'selindex','usnr_rank_cat','Top10CR_Q','Top5CR_Q','Top1CR_Q','impact_Q','avg_citations_Q','avg_citations_Q10',\n",
    "                     'white_M', 'hispanic_M', 'black_M','asian_M', 'white_F', 'hispanic_F', 'black_F', 'asian_F', 'n']]"
   ]
  },
  {
   "cell_type": "code",
   "execution_count": null,
   "id": "9938adcf-2506-4585-a4c6-c26f9a7e5643",
   "metadata": {},
   "outputs": [],
   "source": [
    "prop_df.to_csv('../../results/institutions/rg_carnegie.csv', index=False)\n",
    "rel_diff.to_csv('../../results/institutions/rg_carnegie_rel_diff.csv', index=False)"
   ]
  },
  {
   "cell_type": "markdown",
   "id": "fd206093-21e4-416e-acbb-67a5bbf6247a",
   "metadata": {},
   "source": [
    "# distribution respect expected by disciplines\n",
    "## There are 294394 combinations of categories. This code is too computationally expensive\n"
   ]
  },
  {
   "cell_type": "code",
   "execution_count": null,
   "id": "a565fd72-e397-4132-a0ed-bd6dbb48fdf2",
   "metadata": {},
   "outputs": [],
   "source": [
    "# prop_df= pd.read_csv('../../results/institutions/rg_carnegie.csv')\n",
    "\n",
    "\n",
    "# speciality_rg_dist = df_authors.groupby(['Annee_Bibliographique','ESpecialite'])[['white_M', 'hispanic_M', 'black_M', 'asian_M','white_F', 'hispanic_F', 'black_F', 'asian_F']].mean()\n",
    "\n",
    "# def wm(x, cols, w=\"n\"):\n",
    "#     return pd.Series(np.average(x[cols], weights=x[w], axis=0), cols)\n",
    "\n",
    "# def prop_df_esp_control_cat(cat):\n",
    "#     univ_cat_specialy_dist = df_authors.groupby(['Annee_Bibliographique','ESpecialite',cat])[['cluster_ID']].count().reset_index()\n",
    "#     univ_cat_specialy_dist = univ_cat_specialy_dist.rename(columns={'cluster_ID':'n'})\n",
    "\n",
    "#     univ_cat_specialy_dist = univ_cat_specialy_dist.merge(speciality_rg_dist, on=['Annee_Bibliographique','ESpecialite'])\n",
    "#     univ_cat_specialy_dist = univ_cat_specialy_dist[univ_cat_specialy_dist.n>=100] #I exclude cases with low sample size\n",
    "\n",
    "#     expected_dist = univ_cat_specialy_dist.groupby(['Annee_Bibliographique', cat]).apply(wm, ['white_M', 'hispanic_M', 'black_M', 'asian_M','white_F', 'hispanic_F', 'black_F', 'asian_F'])\n",
    "#     exp_size = univ_cat_specialy_dist.groupby(['Annee_Bibliographique', cat]).n.sum()\n",
    "\n",
    "#     expected_dist = expected_dist.join(exp_size).reset_index().rename(columns={'cluster_ID':'n'})\n",
    "#     expected_dist = expected_dist[expected_dist.n>=100] #I exclude cases with low sample size\n",
    "#     expected_dist[cat] = expected_dist[cat].astype(str)\n",
    "\n",
    "#     expected_dist = expected_dist.set_index(['Annee_Bibliographique', cat])\n",
    "\n",
    "#     prop_df_ = prop_df.groupby(['Annee_Bibliographique', cat]).apply(wm, ['white_M', 'hispanic_M', 'black_M', 'asian_M','white_F', 'hispanic_F', 'black_F', 'asian_F'])\n",
    "#     cat_n =  prop_df.groupby(['Annee_Bibliographique',cat]).n.sum()\n",
    "#     prop_df_['n'] = cat_n\n",
    "#     prop_df_,expected_dist = prop_df_.align(expected_dist,axis=0,join='inner')\n",
    "#     prop_df_esp_control = prop_df_/expected_dist\n",
    "#     prop_df_esp_control = prop_df_esp_control.reset_index()\n",
    "#     prop_df_esp_control = prop_df_esp_control.drop(columns=['n'])\n",
    "#     prop_df_esp_control = prop_df_esp_control.merge(cat_n.reset_index(), left_on = ['Annee_Bibliographique',cat], right_on=['Annee_Bibliographique',cat])\n",
    "#     prop_df_esp_control = prop_df_esp_control.rename(columns={cat:'institution_cat'})\n",
    "#     prop_df_esp_control['institution_cat_group'] = cat\n",
    "#     return (prop_df_esp_control)\n",
    "\n",
    "# univ_cats = ['r1', 'control', 'obereg', 'hbcu', 'hsi', 'msi', 'womens', 'selindex','usnr_rank_cat','Top10CR_Q','Top5CR_Q','Top1CR_Q','impact_Q','avg_citations_Q']\n",
    "\n",
    "# prop_df_esp_control = pd.DataFrame()\n",
    "# for cat in tqdm(univ_cats):\n",
    "#     prop_df_esp_control_ = prop_df_esp_control_cat(cat)\n",
    "#     prop_df_esp_control = pd.concat([prop_df_esp_control,prop_df_esp_control_])\n",
    "\n",
    "# prop_df_esp_control.to_csv('../../results/institutions/rg_carnegie_disp_control.csv', index=False)"
   ]
  },
  {
   "cell_type": "markdown",
   "id": "18695caf-db22-43c3-a130-b4a03485a6f3",
   "metadata": {},
   "source": [
    "## authors with more than 1 paper"
   ]
  },
  {
   "cell_type": "code",
   "execution_count": null,
   "id": "5775f68b-f652-4696-9641-f8cde0f18d80",
   "metadata": {},
   "outputs": [],
   "source": [
    "authors_n = df_authors.cluster_ID.value_counts()"
   ]
  },
  {
   "cell_type": "code",
   "execution_count": null,
   "id": "3a2dfe37-2193-46c5-9bb9-093124f0c30a",
   "metadata": {},
   "outputs": [],
   "source": [
    "df_authors_2 = df_authors[df_authors.cluster_ID.isin(authors_n[authors_n>1].index)].reset_index()"
   ]
  },
  {
   "cell_type": "code",
   "execution_count": null,
   "id": "03d0150d-9c53-4e25-aa2d-192e0fd2a185",
   "metadata": {},
   "outputs": [],
   "source": [
    "prop_df_2 = df_authors_2.groupby(['Annee_Bibliographique','r1', 'control', 'obereg', 'hbcu', 'hsi', 'msi', 'womens', 'selindex',\n",
    "                              'usnr_rank_cat','Top10CR_Q','Top5CR_Q','Top1CR_Q','impact_Q','avg_citations_Q','avg_citations_Q10'])\\\n",
    "                [['white_M', 'hispanic_M', 'black_M', 'asian_M','white_F', 'hispanic_F', 'black_F', 'asian_F']].mean()\n",
    "size_2 = df_authors_2.groupby(['Annee_Bibliographique','r1', 'control', 'obereg', 'hbcu', 'hsi', 'msi', 'womens', 'selindex',\n",
    "                          'usnr_rank_cat','Top10CR_Q','Top5CR_Q','Top1CR_Q','impact_Q','avg_citations_Q','avg_citations_Q10'])['cluster_ID'].count()"
   ]
  },
  {
   "cell_type": "code",
   "execution_count": null,
   "id": "117a4a06-afe1-40c8-83cf-226e1158f219",
   "metadata": {},
   "outputs": [],
   "source": [
    "prop_df_2 = prop_df_2.join(size_2).reset_index().rename(columns={'cluster_ID':'n'})"
   ]
  },
  {
   "cell_type": "code",
   "execution_count": null,
   "id": "91297f28-0694-42c5-8395-6110814f19c5",
   "metadata": {},
   "outputs": [],
   "source": [
    "prop_df_2 = prop_df_2[prop_df_2.n>100] # I exclude cases with low sample size"
   ]
  },
  {
   "cell_type": "markdown",
   "id": "94851059-b94f-4145-8528-cbf481ffee32",
   "metadata": {},
   "source": [
    "### relative difference// relative over-under representation: \n",
    "\n",
    "is the relative under/over representation of a group, given its mean proportion that given year"
   ]
  },
  {
   "cell_type": "code",
   "execution_count": null,
   "id": "0bad687f-af46-452c-bf1a-67f30485de4b",
   "metadata": {},
   "outputs": [],
   "source": [
    "mean_dist_2 = df_authors_2.groupby('Annee_Bibliographique')[['white_M', 'hispanic_M', 'black_M', 'asian_M','white_F', 'hispanic_F', 'black_F', 'asian_F']].mean().reset_index()"
   ]
  },
  {
   "cell_type": "code",
   "execution_count": null,
   "id": "72bf966b-7101-4efd-a785-b0af30cc1380",
   "metadata": {},
   "outputs": [],
   "source": [
    "rel_diff_2 = prop_df_2.copy()"
   ]
  },
  {
   "cell_type": "code",
   "execution_count": null,
   "id": "f3b83428-76f3-4e43-81d3-d29de421957f",
   "metadata": {},
   "outputs": [],
   "source": [
    "mean_dist_2.columns = ['Annee_Bibliographique', 'avg_white_M', 'avg_hispanic_M', 'avg_black_M', 'avg_asian_M','avg_white_F', 'avg_hispanic_F', 'avg_black_F', 'avg_asian_F']"
   ]
  },
  {
   "cell_type": "code",
   "execution_count": null,
   "id": "00837579-be46-4c96-9cdd-13d17ea4b604",
   "metadata": {},
   "outputs": [],
   "source": [
    "rel_diff_2 = rel_diff_2.merge(mean_dist_2, on='Annee_Bibliographique')"
   ]
  },
  {
   "cell_type": "code",
   "execution_count": null,
   "id": "fb2c6ae1-cfcb-4ed7-aa6c-086ac53ff575",
   "metadata": {},
   "outputs": [],
   "source": [
    "rel_diff_2[['white_M', 'hispanic_M', 'black_M', 'asian_M','white_F', 'hispanic_F', 'black_F', 'asian_F']] = \\\n",
    "rel_diff_2[['white_M', 'hispanic_M', 'black_M', 'asian_M','white_F', 'hispanic_F', 'black_F', 'asian_F']]/\\\n",
    "rel_diff_2[['avg_white_M', 'avg_hispanic_M', 'avg_black_M', 'avg_asian_M','avg_white_F', 'avg_hispanic_F', 'avg_black_F', 'avg_asian_F']].to_numpy()"
   ]
  },
  {
   "cell_type": "code",
   "execution_count": null,
   "id": "7b6a6321-ac9e-43bc-96e2-3356236724c2",
   "metadata": {},
   "outputs": [],
   "source": [
    "rel_diff_2 = rel_diff_2[['Annee_Bibliographique', 'r1', 'control', 'obereg', 'hbcu',\n",
    "       'hsi', 'msi', 'womens', 'selindex','usnr_rank_cat','Top10CR_Q','Top5CR_Q','Top1CR_Q','impact_Q','avg_citations_Q','avg_citations_Q10',\n",
    "                     'white_M', 'hispanic_M', 'black_M','asian_M', 'white_F', 'hispanic_F', 'black_F', 'asian_F', 'n']]"
   ]
  },
  {
   "cell_type": "code",
   "execution_count": null,
   "id": "18b7e064-c16d-4b18-bb38-c9cad82aaee7",
   "metadata": {},
   "outputs": [],
   "source": [
    "prop_df_2.to_csv('../../results/institutions/rg_carnegie_2.csv', index=False)\n",
    "rel_diff_2.to_csv('../../results/institutions/rg_carnegie_rel_diff_2.csv', index=False)"
   ]
  },
  {
   "cell_type": "code",
   "execution_count": null,
   "id": "97bf9374-7bf9-43af-901e-6bf5defd5d1a",
   "metadata": {},
   "outputs": [],
   "source": []
  },
  {
   "cell_type": "code",
   "execution_count": null,
   "id": "7b66bf88-88bb-46eb-a8d6-bb192648b1d1",
   "metadata": {},
   "outputs": [],
   "source": []
  },
  {
   "cell_type": "code",
   "execution_count": null,
   "id": "4c19d730-91fb-4d8a-90e5-1501d96e0318",
   "metadata": {},
   "outputs": [],
   "source": []
  },
  {
   "cell_type": "code",
   "execution_count": null,
   "id": "c68e214a-1655-44ff-ae12-ccef572436c0",
   "metadata": {},
   "outputs": [],
   "source": []
  }
 ],
 "metadata": {
  "kernelspec": {
   "display_name": "Python 3 (ipykernel)",
   "language": "python",
   "name": "python3"
  },
  "language_info": {
   "codemirror_mode": {
    "name": "ipython",
    "version": 3
   },
   "file_extension": ".py",
   "mimetype": "text/x-python",
   "name": "python",
   "nbconvert_exporter": "python",
   "pygments_lexer": "ipython3",
   "version": "3.10.8"
  }
 },
 "nbformat": 4,
 "nbformat_minor": 5
}
