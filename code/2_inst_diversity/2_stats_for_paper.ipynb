{
 "cells": [
  {
   "cell_type": "code",
   "execution_count": 20,
   "id": "bc2cadb3-46a7-4a91-82ac-185a0545ac6c",
   "metadata": {},
   "outputs": [],
   "source": [
    "%config Completer.use_jedi = False"
   ]
  },
  {
   "cell_type": "code",
   "execution_count": 21,
   "id": "3234af3b-3366-419d-aa60-b3b5494bd00d",
   "metadata": {},
   "outputs": [],
   "source": [
    "import pandas as pd\n",
    "import pickle\n",
    "from tqdm.notebook import tqdm\n",
    "import numpy as np\n",
    "import re\n",
    "import string\n",
    "\n",
    "from libs.LastNamesInference import LastNamesInference"
   ]
  },
  {
   "cell_type": "code",
   "execution_count": 22,
   "id": "b548584d-69a1-45f0-8581-d76978165e11",
   "metadata": {},
   "outputs": [],
   "source": [
    "address_clean = pd.read_pickle('/data/datasets/WOS/US/address_clean.p')"
   ]
  },
  {
   "cell_type": "code",
   "execution_count": 23,
   "id": "dc193047-b326-4bd1-a1f2-2250e561d8c2",
   "metadata": {},
   "outputs": [],
   "source": [
    "addres_raw = pd.read_table('/data/datasets/WOS/US/Adresses_race.txt',delimiter='\\t')"
   ]
  },
  {
   "cell_type": "code",
   "execution_count": 24,
   "id": "3a26ed51-16d3-4ec1-88e1-2cc3df1f82f6",
   "metadata": {},
   "outputs": [
    {
     "name": "stdout",
     "output_type": "stream",
     "text": [
      "4713444 authors (raw)\n"
     ]
    }
   ],
   "source": [
    "print(\"{} authors (raw)\".format(addres_raw.cluster_id.unique().shape[0]))"
   ]
  },
  {
   "cell_type": "code",
   "execution_count": 25,
   "id": "12df925b-6d40-4a39-bac8-eda88ded6d9d",
   "metadata": {},
   "outputs": [
    {
     "name": "stdout",
     "output_type": "stream",
     "text": [
      "5431451 papers (raw)\n"
     ]
    }
   ],
   "source": [
    "print(\"{} papers (raw)\".format(addres_raw.id_art.unique().shape[0]))"
   ]
  },
  {
   "cell_type": "code",
   "execution_count": 26,
   "id": "7c3a6610-18a2-4882-979f-2db39e9bb5fe",
   "metadata": {},
   "outputs": [
    {
     "name": "stdout",
     "output_type": "stream",
     "text": [
      "261336 institutions (raw)\n"
     ]
    }
   ],
   "source": [
    "print(\"{} institutions (raw)\".format(addres_raw.Institution.unique().shape[0]))"
   ]
  },
  {
   "cell_type": "code",
   "execution_count": 27,
   "id": "51cba2eb-127e-48b7-a88c-0b6d6f1c4853",
   "metadata": {},
   "outputs": [
    {
     "name": "stdout",
     "output_type": "stream",
     "text": [
      "3441264 authors\n"
     ]
    }
   ],
   "source": [
    "print(\"{} authors\".format(address_clean.cluster_id.unique().shape[0]))"
   ]
  },
  {
   "cell_type": "code",
   "execution_count": 28,
   "id": "a6bdb770-2dfe-4c56-86ee-ee467819e3b5",
   "metadata": {},
   "outputs": [
    {
     "name": "stdout",
     "output_type": "stream",
     "text": [
      "4553335 papers\n"
     ]
    }
   ],
   "source": [
    "print(\"{} papers\".format(address_clean.id_art.unique().shape[0]))"
   ]
  },
  {
   "cell_type": "code",
   "execution_count": 29,
   "id": "6e59a189-e3db-406f-9cb8-733f80bc85eb",
   "metadata": {},
   "outputs": [
    {
     "name": "stdout",
     "output_type": "stream",
     "text": [
      "685 universities\n"
     ]
    }
   ],
   "source": [
    "print(\"{} universities\".format(address_clean.carnegie_id.unique().shape[0]))"
   ]
  },
  {
   "cell_type": "code",
   "execution_count": 30,
   "id": "c511b9fe-e52b-4c8c-876e-962175c163db",
   "metadata": {},
   "outputs": [
    {
     "data": {
      "text/plain": [
       "0.8383275482002875"
      ]
     },
     "execution_count": 30,
     "metadata": {},
     "output_type": "execute_result"
    }
   ],
   "source": [
    "4553335/5431451"
   ]
  },
  {
   "cell_type": "code",
   "execution_count": 31,
   "id": "f06d7c78-d252-4719-84d3-1b13d0f37a6b",
   "metadata": {},
   "outputs": [
    {
     "data": {
      "text/plain": [
       "0.7300954461323822"
      ]
     },
     "execution_count": 31,
     "metadata": {},
     "output_type": "execute_result"
    }
   ],
   "source": [
    "3441264/4713444"
   ]
  },
  {
   "cell_type": "code",
   "execution_count": 32,
   "id": "26a98e31-9b11-44cb-8401-3dad1938f708",
   "metadata": {},
   "outputs": [],
   "source": [
    "def npapers(c,v):\n",
    "    df = address_clean[address_clean[c]==v]\n",
    "    print(\"{} papers\".format(df.id_art.unique().shape[0]))\n",
    "    print(\"{} authors\".format(df.cluster_id.unique().shape[0]))\n",
    "    print(\"{} universities\".format(df.carnegie_id.unique().shape[0]))"
   ]
  },
  {
   "cell_type": "code",
   "execution_count": 33,
   "id": "403c2469-d63f-49eb-ab8c-b43001e6a886",
   "metadata": {},
   "outputs": [
    {
     "name": "stdout",
     "output_type": "stream",
     "text": [
      "35518 papers\n",
      "24829 authors\n",
      "62 universities\n"
     ]
    }
   ],
   "source": [
    "npapers('hbcu','HBCU')"
   ]
  },
  {
   "cell_type": "code",
   "execution_count": 34,
   "id": "0e433474-ea2e-45d8-aed5-5595f5165078",
   "metadata": {},
   "outputs": [
    {
     "name": "stdout",
     "output_type": "stream",
     "text": [
      "278109 papers\n",
      "169469 authors\n",
      "127 universities\n"
     ]
    }
   ],
   "source": [
    "npapers('hsi','HSI')"
   ]
  },
  {
   "cell_type": "code",
   "execution_count": 35,
   "id": "ffa8be3f-9d1c-4340-b9f9-bf78d15bf352",
   "metadata": {},
   "outputs": [
    {
     "name": "stdout",
     "output_type": "stream",
     "text": [
      "8710 papers\n",
      "5320 authors\n",
      "25 universities\n"
     ]
    }
   ],
   "source": [
    "npapers('womens','Womens')"
   ]
  },
  {
   "cell_type": "code",
   "execution_count": 36,
   "id": "b13f489c-aafd-495c-ba74-cb511f1647cb",
   "metadata": {
    "tags": []
   },
   "outputs": [
    {
     "name": "stderr",
     "output_type": "stream",
     "text": [
      "/tmp/ipykernel_136/252003900.py:1: FutureWarning: Indexing with multiple keys (implicitly converted to a tuple of keys) will be deprecated, use a list instead.\n",
      "  address_clean.groupby('selindex')['id_art','cluster_id','carnegie_id'].nunique()\n"
     ]
    },
    {
     "data": {
      "text/html": [
       "<div>\n",
       "<style scoped>\n",
       "    .dataframe tbody tr th:only-of-type {\n",
       "        vertical-align: middle;\n",
       "    }\n",
       "\n",
       "    .dataframe tbody tr th {\n",
       "        vertical-align: top;\n",
       "    }\n",
       "\n",
       "    .dataframe thead th {\n",
       "        text-align: right;\n",
       "    }\n",
       "</style>\n",
       "<table border=\"1\" class=\"dataframe\">\n",
       "  <thead>\n",
       "    <tr style=\"text-align: right;\">\n",
       "      <th></th>\n",
       "      <th>id_art</th>\n",
       "      <th>cluster_id</th>\n",
       "      <th>carnegie_id</th>\n",
       "    </tr>\n",
       "    <tr>\n",
       "      <th>selindex</th>\n",
       "      <th></th>\n",
       "      <th></th>\n",
       "      <th></th>\n",
       "    </tr>\n",
       "  </thead>\n",
       "  <tbody>\n",
       "    <tr>\n",
       "      <th>inclusive</th>\n",
       "      <td>262617</td>\n",
       "      <td>168731</td>\n",
       "      <td>196</td>\n",
       "    </tr>\n",
       "    <tr>\n",
       "      <th>more_selective</th>\n",
       "      <td>3264304</td>\n",
       "      <td>2280454</td>\n",
       "      <td>187</td>\n",
       "    </tr>\n",
       "    <tr>\n",
       "      <th>not_indexed</th>\n",
       "      <td>428957</td>\n",
       "      <td>303370</td>\n",
       "      <td>96</td>\n",
       "    </tr>\n",
       "    <tr>\n",
       "      <th>selective</th>\n",
       "      <td>1283167</td>\n",
       "      <td>833853</td>\n",
       "      <td>206</td>\n",
       "    </tr>\n",
       "  </tbody>\n",
       "</table>\n",
       "</div>"
      ],
      "text/plain": [
       "                 id_art  cluster_id  carnegie_id\n",
       "selindex                                        \n",
       "inclusive        262617      168731          196\n",
       "more_selective  3264304     2280454          187\n",
       "not_indexed      428957      303370           96\n",
       "selective       1283167      833853          206"
      ]
     },
     "execution_count": 36,
     "metadata": {},
     "output_type": "execute_result"
    }
   ],
   "source": [
    "address_clean.groupby('selindex')['id_art','cluster_id','carnegie_id'].nunique()"
   ]
  },
  {
   "cell_type": "code",
   "execution_count": 37,
   "id": "c7e2c1c0-61d6-402e-93f4-aacec66f5eab",
   "metadata": {},
   "outputs": [
    {
     "name": "stderr",
     "output_type": "stream",
     "text": [
      "/tmp/ipykernel_136/3887997064.py:1: FutureWarning: Indexing with multiple keys (implicitly converted to a tuple of keys) will be deprecated, use a list instead.\n",
      "  address_clean.groupby('avg_citations_Q')['id_art','cluster_id','carnegie_id'].nunique()\n"
     ]
    },
    {
     "data": {
      "text/html": [
       "<div>\n",
       "<style scoped>\n",
       "    .dataframe tbody tr th:only-of-type {\n",
       "        vertical-align: middle;\n",
       "    }\n",
       "\n",
       "    .dataframe tbody tr th {\n",
       "        vertical-align: top;\n",
       "    }\n",
       "\n",
       "    .dataframe thead th {\n",
       "        text-align: right;\n",
       "    }\n",
       "</style>\n",
       "<table border=\"1\" class=\"dataframe\">\n",
       "  <thead>\n",
       "    <tr style=\"text-align: right;\">\n",
       "      <th></th>\n",
       "      <th>id_art</th>\n",
       "      <th>cluster_id</th>\n",
       "      <th>carnegie_id</th>\n",
       "    </tr>\n",
       "    <tr>\n",
       "      <th>avg_citations_Q</th>\n",
       "      <th></th>\n",
       "      <th></th>\n",
       "      <th></th>\n",
       "    </tr>\n",
       "  </thead>\n",
       "  <tbody>\n",
       "    <tr>\n",
       "      <th>(0.1, 1.47)</th>\n",
       "      <td>1746770</td>\n",
       "      <td>1204592</td>\n",
       "      <td>547</td>\n",
       "    </tr>\n",
       "    <tr>\n",
       "      <th>(1.48, 1.74)</th>\n",
       "      <td>1815227</td>\n",
       "      <td>1189355</td>\n",
       "      <td>78</td>\n",
       "    </tr>\n",
       "    <tr>\n",
       "      <th>(1.77, 4.07)</th>\n",
       "      <td>1826346</td>\n",
       "      <td>1215155</td>\n",
       "      <td>60</td>\n",
       "    </tr>\n",
       "  </tbody>\n",
       "</table>\n",
       "</div>"
      ],
      "text/plain": [
       "                  id_art  cluster_id  carnegie_id\n",
       "avg_citations_Q                                  \n",
       "(0.1, 1.47)      1746770     1204592          547\n",
       "(1.48, 1.74)     1815227     1189355           78\n",
       "(1.77, 4.07)     1826346     1215155           60"
      ]
     },
     "execution_count": 37,
     "metadata": {},
     "output_type": "execute_result"
    }
   ],
   "source": [
    "address_clean.groupby('avg_citations_Q')['id_art','cluster_id','carnegie_id'].nunique()"
   ]
  },
  {
   "cell_type": "code",
   "execution_count": 38,
   "id": "c8c18279-e8d8-4c43-a997-bdb86f6e2277",
   "metadata": {},
   "outputs": [
    {
     "name": "stderr",
     "output_type": "stream",
     "text": [
      "/tmp/ipykernel_136/2565696184.py:1: FutureWarning: Indexing with multiple keys (implicitly converted to a tuple of keys) will be deprecated, use a list instead.\n",
      "  address_clean.groupby('avg_citations_Q10')['id_art','cluster_id','carnegie_id'].nunique()\n"
     ]
    },
    {
     "data": {
      "text/html": [
       "<div>\n",
       "<style scoped>\n",
       "    .dataframe tbody tr th:only-of-type {\n",
       "        vertical-align: middle;\n",
       "    }\n",
       "\n",
       "    .dataframe tbody tr th {\n",
       "        vertical-align: top;\n",
       "    }\n",
       "\n",
       "    .dataframe thead th {\n",
       "        text-align: right;\n",
       "    }\n",
       "</style>\n",
       "<table border=\"1\" class=\"dataframe\">\n",
       "  <thead>\n",
       "    <tr style=\"text-align: right;\">\n",
       "      <th></th>\n",
       "      <th>id_art</th>\n",
       "      <th>cluster_id</th>\n",
       "      <th>carnegie_id</th>\n",
       "    </tr>\n",
       "    <tr>\n",
       "      <th>avg_citations_Q10</th>\n",
       "      <th></th>\n",
       "      <th></th>\n",
       "      <th></th>\n",
       "    </tr>\n",
       "  </thead>\n",
       "  <tbody>\n",
       "    <tr>\n",
       "      <th>(0.1, 1.24)</th>\n",
       "      <td>578602</td>\n",
       "      <td>393312</td>\n",
       "      <td>430</td>\n",
       "    </tr>\n",
       "    <tr>\n",
       "      <th>(1.24, 1.34)</th>\n",
       "      <td>558175</td>\n",
       "      <td>354724</td>\n",
       "      <td>61</td>\n",
       "    </tr>\n",
       "    <tr>\n",
       "      <th>(1.34, 1.43)</th>\n",
       "      <td>581558</td>\n",
       "      <td>365063</td>\n",
       "      <td>40</td>\n",
       "    </tr>\n",
       "    <tr>\n",
       "      <th>(1.43, 1.54)</th>\n",
       "      <td>500969</td>\n",
       "      <td>302332</td>\n",
       "      <td>33</td>\n",
       "    </tr>\n",
       "    <tr>\n",
       "      <th>(1.54, 1.59)</th>\n",
       "      <td>599016</td>\n",
       "      <td>366844</td>\n",
       "      <td>22</td>\n",
       "    </tr>\n",
       "    <tr>\n",
       "      <th>(1.59, 1.66)</th>\n",
       "      <td>590696</td>\n",
       "      <td>369040</td>\n",
       "      <td>23</td>\n",
       "    </tr>\n",
       "    <tr>\n",
       "      <th>(1.66, 1.81)</th>\n",
       "      <td>672059</td>\n",
       "      <td>407611</td>\n",
       "      <td>23</td>\n",
       "    </tr>\n",
       "    <tr>\n",
       "      <th>(1.82, 1.91)</th>\n",
       "      <td>682885</td>\n",
       "      <td>431533</td>\n",
       "      <td>11</td>\n",
       "    </tr>\n",
       "    <tr>\n",
       "      <th>(1.91, 2.15)</th>\n",
       "      <td>651981</td>\n",
       "      <td>392126</td>\n",
       "      <td>17</td>\n",
       "    </tr>\n",
       "    <tr>\n",
       "      <th>(2.17, 4.07)</th>\n",
       "      <td>566369</td>\n",
       "      <td>328855</td>\n",
       "      <td>25</td>\n",
       "    </tr>\n",
       "  </tbody>\n",
       "</table>\n",
       "</div>"
      ],
      "text/plain": [
       "                   id_art  cluster_id  carnegie_id\n",
       "avg_citations_Q10                                 \n",
       "(0.1, 1.24)        578602      393312          430\n",
       "(1.24, 1.34)       558175      354724           61\n",
       "(1.34, 1.43)       581558      365063           40\n",
       "(1.43, 1.54)       500969      302332           33\n",
       "(1.54, 1.59)       599016      366844           22\n",
       "(1.59, 1.66)       590696      369040           23\n",
       "(1.66, 1.81)       672059      407611           23\n",
       "(1.82, 1.91)       682885      431533           11\n",
       "(1.91, 2.15)       651981      392126           17\n",
       "(2.17, 4.07)       566369      328855           25"
      ]
     },
     "execution_count": 38,
     "metadata": {},
     "output_type": "execute_result"
    }
   ],
   "source": [
    "address_clean.groupby('avg_citations_Q10')['id_art','cluster_id','carnegie_id'].nunique()"
   ]
  },
  {
   "cell_type": "code",
   "execution_count": 39,
   "id": "fa57bf67-615e-45c2-8039-b2bfb37db377",
   "metadata": {},
   "outputs": [
    {
     "name": "stderr",
     "output_type": "stream",
     "text": [
      "/tmp/ipykernel_136/4243000484.py:1: FutureWarning: Indexing with multiple keys (implicitly converted to a tuple of keys) will be deprecated, use a list instead.\n",
      "  address_clean.groupby('usnr_rank_cat')['id_art','cluster_id','carnegie_id'].nunique()\n"
     ]
    },
    {
     "data": {
      "text/html": [
       "<div>\n",
       "<style scoped>\n",
       "    .dataframe tbody tr th:only-of-type {\n",
       "        vertical-align: middle;\n",
       "    }\n",
       "\n",
       "    .dataframe tbody tr th {\n",
       "        vertical-align: top;\n",
       "    }\n",
       "\n",
       "    .dataframe thead th {\n",
       "        text-align: right;\n",
       "    }\n",
       "</style>\n",
       "<table border=\"1\" class=\"dataframe\">\n",
       "  <thead>\n",
       "    <tr style=\"text-align: right;\">\n",
       "      <th></th>\n",
       "      <th>id_art</th>\n",
       "      <th>cluster_id</th>\n",
       "      <th>carnegie_id</th>\n",
       "    </tr>\n",
       "    <tr>\n",
       "      <th>usnr_rank_cat</th>\n",
       "      <th></th>\n",
       "      <th></th>\n",
       "      <th></th>\n",
       "    </tr>\n",
       "  </thead>\n",
       "  <tbody>\n",
       "    <tr>\n",
       "      <th>top_10</th>\n",
       "      <td>960994</td>\n",
       "      <td>592170</td>\n",
       "      <td>12</td>\n",
       "    </tr>\n",
       "    <tr>\n",
       "      <th>top_100</th>\n",
       "      <td>2517913</td>\n",
       "      <td>1684950</td>\n",
       "      <td>89</td>\n",
       "    </tr>\n",
       "    <tr>\n",
       "      <th>not_top</th>\n",
       "      <td>1901865</td>\n",
       "      <td>1330966</td>\n",
       "      <td>584</td>\n",
       "    </tr>\n",
       "  </tbody>\n",
       "</table>\n",
       "</div>"
      ],
      "text/plain": [
       "                id_art  cluster_id  carnegie_id\n",
       "usnr_rank_cat                                  \n",
       "top_10          960994      592170           12\n",
       "top_100        2517913     1684950           89\n",
       "not_top        1901865     1330966          584"
      ]
     },
     "execution_count": 39,
     "metadata": {},
     "output_type": "execute_result"
    }
   ],
   "source": [
    "address_clean.groupby('usnr_rank_cat')['id_art','cluster_id','carnegie_id'].nunique()"
   ]
  },
  {
   "cell_type": "code",
   "execution_count": 40,
   "id": "28ac9387-a1e9-4653-bf87-0bfbb649b17c",
   "metadata": {},
   "outputs": [
    {
     "data": {
      "text/plain": [
       "Index(['cluster_id', 'id_art', 'grid_id', 'carnegie_id', 'carnegie_name', 'r1',\n",
       "       'control', 'obereg', 'hbcu', 'tribal', 'hsi', 'msi', 'womens',\n",
       "       'selindex', 'n_papers_on_WOS', 'ncitable_docs', 'Top10CR', 'Top5CR',\n",
       "       'Top1CR', 'Top10CR_Q', 'Top5CR_Q', 'Top1CR_Q', 'npapers', 'impact',\n",
       "       'avg_citations', 'npapers_Q', 'impact_Q', 'avg_citations_Q',\n",
       "       'usnr_rank', 'usnr_rank_cat', 'avg_citations_Q10'],\n",
       "      dtype='object')"
      ]
     },
     "execution_count": 40,
     "metadata": {},
     "output_type": "execute_result"
    }
   ],
   "source": [
    "address_clean.columns"
   ]
  },
  {
   "cell_type": "code",
   "execution_count": 41,
   "id": "b88408a0-0911-4df9-9b47-78eae3586c58",
   "metadata": {},
   "outputs": [
    {
     "data": {
      "text/html": [
       "<div>\n",
       "<style scoped>\n",
       "    .dataframe tbody tr th:only-of-type {\n",
       "        vertical-align: middle;\n",
       "    }\n",
       "\n",
       "    .dataframe tbody tr th {\n",
       "        vertical-align: top;\n",
       "    }\n",
       "\n",
       "    .dataframe thead th {\n",
       "        text-align: right;\n",
       "    }\n",
       "</style>\n",
       "<table border=\"1\" class=\"dataframe\">\n",
       "  <thead>\n",
       "    <tr style=\"text-align: right;\">\n",
       "      <th></th>\n",
       "      <th>cluster_id</th>\n",
       "      <th>id_art</th>\n",
       "      <th>grid_id</th>\n",
       "      <th>carnegie_id</th>\n",
       "      <th>carnegie_name</th>\n",
       "      <th>r1</th>\n",
       "      <th>control</th>\n",
       "      <th>obereg</th>\n",
       "      <th>hbcu</th>\n",
       "      <th>tribal</th>\n",
       "      <th>...</th>\n",
       "      <th>Top1CR_Q</th>\n",
       "      <th>npapers</th>\n",
       "      <th>impact</th>\n",
       "      <th>avg_citations</th>\n",
       "      <th>npapers_Q</th>\n",
       "      <th>impact_Q</th>\n",
       "      <th>avg_citations_Q</th>\n",
       "      <th>usnr_rank</th>\n",
       "      <th>usnr_rank_cat</th>\n",
       "      <th>avg_citations_Q10</th>\n",
       "    </tr>\n",
       "  </thead>\n",
       "  <tbody>\n",
       "  </tbody>\n",
       "</table>\n",
       "<p>0 rows × 31 columns</p>\n",
       "</div>"
      ],
      "text/plain": [
       "Empty DataFrame\n",
       "Columns: [cluster_id, id_art, grid_id, carnegie_id, carnegie_name, r1, control, obereg, hbcu, tribal, hsi, msi, womens, selindex, n_papers_on_WOS, ncitable_docs, Top10CR, Top5CR, Top1CR, Top10CR_Q, Top5CR_Q, Top1CR_Q, npapers, impact, avg_citations, npapers_Q, impact_Q, avg_citations_Q, usnr_rank, usnr_rank_cat, avg_citations_Q10]\n",
       "Index: []\n",
       "\n",
       "[0 rows x 31 columns]"
      ]
     },
     "execution_count": 41,
     "metadata": {},
     "output_type": "execute_result"
    }
   ],
   "source": [
    "address_clean[(address_clean.hsi=='HSI') & (address_clean.usnr_rank_cat =='top_10')]"
   ]
  },
  {
   "cell_type": "code",
   "execution_count": 42,
   "id": "4f7ca1cf-d5af-49cc-b36b-19a89a15fa5d",
   "metadata": {},
   "outputs": [
    {
     "data": {
      "text/plain": [
       "University of California, Santa Barbara    71406\n",
       "University of California, Riverside        58756\n",
       "Texas A & M University-College Station       812\n",
       "Name: carnegie_name, dtype: int64"
      ]
     },
     "execution_count": 42,
     "metadata": {},
     "output_type": "execute_result"
    }
   ],
   "source": [
    "address_clean[(address_clean.hsi=='HSI') & (address_clean.usnr_rank_cat =='top_100')].carnegie_name.value_counts()"
   ]
  },
  {
   "cell_type": "code",
   "execution_count": 43,
   "id": "25bda8d9-4027-41bd-bd09-b79c9fd9dd38",
   "metadata": {},
   "outputs": [
    {
     "data": {
      "text/plain": [
       "Howard University    9768\n",
       "Name: carnegie_name, dtype: int64"
      ]
     },
     "execution_count": 43,
     "metadata": {},
     "output_type": "execute_result"
    }
   ],
   "source": [
    "address_clean[(address_clean.hbcu=='HBCU') & (address_clean.usnr_rank_cat =='top_100')].carnegie_name.value_counts()"
   ]
  },
  {
   "cell_type": "code",
   "execution_count": 44,
   "id": "092c24bd-b9c0-421d-8535-61ac8d5298a4",
   "metadata": {},
   "outputs": [
    {
     "data": {
      "text/plain": [
       "Series([], Name: carnegie_name, dtype: int64)"
      ]
     },
     "execution_count": 44,
     "metadata": {},
     "output_type": "execute_result"
    }
   ],
   "source": [
    "address_clean[(address_clean.womens=='Womens') & (address_clean.usnr_rank_cat =='top_100')].carnegie_name.value_counts()"
   ]
  },
  {
   "cell_type": "code",
   "execution_count": 45,
   "id": "11e9608d-16f1-4925-9b97-3c1aef444185",
   "metadata": {},
   "outputs": [],
   "source": [
    "harvard = address_clean[address_clean.carnegie_name =='Harvard University']"
   ]
  },
  {
   "cell_type": "code",
   "execution_count": 46,
   "id": "f592c2c6-ca4a-4c78-9657-684963fd6cd6",
   "metadata": {},
   "outputs": [
    {
     "data": {
      "text/plain": [
       "Harvard University                             721009\n",
       "Columbia University                            206912\n",
       "MIT                                            177157\n",
       "Columbia University in the City of New York     26920\n",
       "Massachusetts Institute of Technology           21250\n",
       "Name: carnegie_name, dtype: int64"
      ]
     },
     "execution_count": 46,
     "metadata": {},
     "output_type": "execute_result"
    }
   ],
   "source": [
    "address_clean[address_clean.usnr_rank==2].carnegie_name.value_counts()"
   ]
  },
  {
   "cell_type": "code",
   "execution_count": 47,
   "id": "eeccdb86-e48f-4e70-b408-591680f2a7a9",
   "metadata": {},
   "outputs": [],
   "source": [
    "avg_citations_df = address_clean[['carnegie_name','avg_citations']].drop_duplicates()"
   ]
  },
  {
   "cell_type": "code",
   "execution_count": 48,
   "id": "e43656b2-ef10-42b9-be43-15d71741e00e",
   "metadata": {},
   "outputs": [],
   "source": [
    "def min_max_mean_papers_per_inst(group_df):\n",
    "    inst_n = group_df.carnegie_id.value_counts()\n",
    "    min_inst_n = min(inst_n)\n",
    "    max_inst_n = max(inst_n)\n",
    "    mean_inst_n = np.mean(inst_n)\n",
    "    res = 'min: {}, max: {}, mean: {}'.format(min_inst_n,max_inst_n,min_inst_n)\n",
    "    return(res)"
   ]
  },
  {
   "cell_type": "code",
   "execution_count": 49,
   "id": "e23f11ee-862b-4e4e-9ccf-7705b4c81f64",
   "metadata": {},
   "outputs": [],
   "source": [
    "group_df = address_clean[address_clean.usnr_rank_cat=='not_top']"
   ]
  },
  {
   "cell_type": "code",
   "execution_count": 50,
   "id": "3932498a-088a-4fcc-86b9-44bb6e41e63b",
   "metadata": {},
   "outputs": [],
   "source": [
    "inst_n = group_df.carnegie_id.value_counts()"
   ]
  },
  {
   "cell_type": "code",
   "execution_count": 51,
   "id": "ea0d8f61-f540-47a5-b7c4-93972ffe9ffd",
   "metadata": {},
   "outputs": [
    {
     "data": {
      "text/plain": [
       "usnr_rank_cat\n",
       "top_10     min: 78923, max: 721009, mean: 78923\n",
       "top_100        min: 812, max: 314933, mean: 812\n",
       "not_top            min: 1, max: 251607, mean: 1\n",
       "dtype: object"
      ]
     },
     "execution_count": 51,
     "metadata": {},
     "output_type": "execute_result"
    }
   ],
   "source": [
    "address_clean.groupby('usnr_rank_cat').apply(min_max_mean_papers_per_inst)"
   ]
  },
  {
   "cell_type": "code",
   "execution_count": 52,
   "id": "1cb5bd14-fba5-4c95-8aad-addec2a15bd7",
   "metadata": {},
   "outputs": [],
   "source": [
    "inst_n = group_df.carnegie_id.value_counts()"
   ]
  },
  {
   "cell_type": "code",
   "execution_count": 53,
   "id": "0f6d3d0d-285a-4b9e-82c0-aa6518670c82",
   "metadata": {},
   "outputs": [
    {
     "data": {
      "text/plain": [
       "usnr_rank_cat\n",
       "top_10     min: 78923, max: 721009, mean: 78923\n",
       "top_100        min: 812, max: 314933, mean: 812\n",
       "not_top            min: 1, max: 251607, mean: 1\n",
       "dtype: object"
      ]
     },
     "execution_count": 53,
     "metadata": {},
     "output_type": "execute_result"
    }
   ],
   "source": [
    "address_clean.groupby('usnr_rank_cat').apply(lambda x: min_max_mean_papers_per_inst(x))"
   ]
  },
  {
   "cell_type": "markdown",
   "id": "17009655-b1b3-491c-97dc-72a3786358c8",
   "metadata": {},
   "source": [
    "## Number of papers by institution and flags"
   ]
  },
  {
   "cell_type": "code",
   "execution_count": 54,
   "id": "4af1b4cb-fb25-4bcd-a074-65b93ce37f58",
   "metadata": {},
   "outputs": [],
   "source": [
    "n_inst = address_clean.groupby('carnegie_id')['id_art'].nunique()"
   ]
  },
  {
   "cell_type": "code",
   "execution_count": 55,
   "id": "fcfc3875-4796-426b-9aab-39d445a25c68",
   "metadata": {},
   "outputs": [],
   "source": [
    "metadata_df = address_clean.drop_duplicates('carnegie_id')"
   ]
  },
  {
   "cell_type": "code",
   "execution_count": 56,
   "id": "08534822-b56b-4721-9e3d-09b3209b3796",
   "metadata": {},
   "outputs": [],
   "source": [
    "n_inst = n_inst.to_frame().rename(columns={'id_art':'n_papers'}).merge(metadata_df, on='carnegie_id')"
   ]
  },
  {
   "cell_type": "code",
   "execution_count": 57,
   "id": "875fc29b-c705-4916-ad18-8b08a67d382b",
   "metadata": {},
   "outputs": [],
   "source": [
    "n_inst = n_inst.drop(columns=['cluster_id','id_art'])"
   ]
  },
  {
   "cell_type": "code",
   "execution_count": 58,
   "id": "bfe30012-fe8f-45cb-918d-fabf54338c36",
   "metadata": {},
   "outputs": [],
   "source": [
    "n_inst.sort_values('n_papers').to_excel('../../data/n_papers_by_institution.xlsx')"
   ]
  },
  {
   "cell_type": "code",
   "execution_count": 59,
   "id": "a1ecb038-4420-4eb3-a5dd-b9800497edb8",
   "metadata": {},
   "outputs": [
    {
     "data": {
      "text/plain": [
       "Index(['carnegie_id', 'n_papers', 'grid_id', 'carnegie_name', 'r1', 'control',\n",
       "       'obereg', 'hbcu', 'tribal', 'hsi', 'msi', 'womens', 'selindex',\n",
       "       'n_papers_on_WOS', 'ncitable_docs', 'Top10CR', 'Top5CR', 'Top1CR',\n",
       "       'Top10CR_Q', 'Top5CR_Q', 'Top1CR_Q', 'npapers', 'impact',\n",
       "       'avg_citations', 'npapers_Q', 'impact_Q', 'avg_citations_Q',\n",
       "       'usnr_rank', 'usnr_rank_cat', 'avg_citations_Q10'],\n",
       "      dtype='object')"
      ]
     },
     "execution_count": 59,
     "metadata": {},
     "output_type": "execute_result"
    }
   ],
   "source": [
    "n_inst.columns"
   ]
  },
  {
   "cell_type": "markdown",
   "id": "fd87ad71-0776-4199-aeb3-600663cbea24",
   "metadata": {},
   "source": [
    "Methods HBCU, HSI, WDC"
   ]
  },
  {
   "cell_type": "code",
   "execution_count": 60,
   "id": "f1ac366b-5bf6-49b9-80fc-7b478523608c",
   "metadata": {},
   "outputs": [],
   "source": [
    "hbcu_df = address_clean[address_clean.hbcu=='HBCU']\n",
    "hsi_df = address_clean[address_clean.hsi=='HSI']\n",
    "wc_df = address_clean[address_clean.womens=='Womens']"
   ]
  },
  {
   "cell_type": "code",
   "execution_count": 61,
   "id": "e0b151c2-6afe-41f0-a9f8-6768b5c1872e",
   "metadata": {},
   "outputs": [],
   "source": [
    "hbcu_n = hbcu_df.groupby('carnegie_id').id_art.nunique().sort_values()\n",
    "hsi_n = hsi_df.groupby('carnegie_id').id_art.nunique().sort_values()\n",
    "wc_n = wc_df.groupby('carnegie_id').id_art.nunique().sort_values()"
   ]
  },
  {
   "cell_type": "code",
   "execution_count": 62,
   "id": "2186214e-72d5-483b-a15f-594bacc03294",
   "metadata": {},
   "outputs": [
    {
     "data": {
      "text/plain": [
       "0.6978785062059161"
      ]
     },
     "execution_count": 62,
     "metadata": {},
     "output_type": "execute_result"
    }
   ],
   "source": [
    "hbcu_n[-10:].sum()/hbcu_n.sum()"
   ]
  },
  {
   "cell_type": "code",
   "execution_count": 63,
   "id": "6f170c49-bd32-4eb0-b98d-91bceb3f2107",
   "metadata": {},
   "outputs": [
    {
     "data": {
      "text/plain": [
       "0.09904860845316857"
      ]
     },
     "execution_count": 63,
     "metadata": {},
     "output_type": "execute_result"
    }
   ],
   "source": [
    "hbcu_n[:40].sum()/hbcu_n.sum()"
   ]
  },
  {
   "cell_type": "code",
   "execution_count": 64,
   "id": "5d8b2390-979c-488b-9de0-b8ed99027bb7",
   "metadata": {},
   "outputs": [
    {
     "data": {
      "text/plain": [
       "0.7309611393596027"
      ]
     },
     "execution_count": 64,
     "metadata": {},
     "output_type": "execute_result"
    }
   ],
   "source": [
    "hsi_n[-10:].sum()/hsi_n.sum()"
   ]
  },
  {
   "cell_type": "code",
   "execution_count": 65,
   "id": "2e7c4246-730a-4948-85b7-03c7fa5bba9e",
   "metadata": {},
   "outputs": [
    {
     "data": {
      "text/plain": [
       "0.2690388606403973"
      ]
     },
     "execution_count": 65,
     "metadata": {},
     "output_type": "execute_result"
    }
   ],
   "source": [
    "hsi_n[:-10].sum()/hsi_n.sum()"
   ]
  },
  {
   "cell_type": "code",
   "execution_count": 66,
   "id": "dd3f8079-8ec1-4ffa-afb5-0122b32824af",
   "metadata": {},
   "outputs": [
    {
     "data": {
      "text/plain": [
       "0.9059078467153284"
      ]
     },
     "execution_count": 66,
     "metadata": {},
     "output_type": "execute_result"
    }
   ],
   "source": [
    "wc_n[-10:].sum()/wc_n.sum()"
   ]
  },
  {
   "cell_type": "code",
   "execution_count": 67,
   "id": "f8305f31-38ad-46e6-8281-0b74ea3e2814",
   "metadata": {},
   "outputs": [
    {
     "data": {
      "text/plain": [
       "0.09409215328467153"
      ]
     },
     "execution_count": 67,
     "metadata": {},
     "output_type": "execute_result"
    }
   ],
   "source": [
    "wc_n[:-10].sum()/wc_n.sum()"
   ]
  },
  {
   "cell_type": "code",
   "execution_count": null,
   "id": "0c05e48d-3e5f-4c9d-839a-b39127b94c0a",
   "metadata": {},
   "outputs": [],
   "source": []
  },
  {
   "cell_type": "code",
   "execution_count": null,
   "id": "df1d237f-3d5c-425b-9e53-64b48325477c",
   "metadata": {},
   "outputs": [],
   "source": []
  }
 ],
 "metadata": {
  "kernelspec": {
   "display_name": "Python 3 (ipykernel)",
   "language": "python",
   "name": "python3"
  },
  "language_info": {
   "codemirror_mode": {
    "name": "ipython",
    "version": 3
   },
   "file_extension": ".py",
   "mimetype": "text/x-python",
   "name": "python",
   "nbconvert_exporter": "python",
   "pygments_lexer": "ipython3",
   "version": "3.10.8"
  }
 },
 "nbformat": 4,
 "nbformat_minor": 5
}
