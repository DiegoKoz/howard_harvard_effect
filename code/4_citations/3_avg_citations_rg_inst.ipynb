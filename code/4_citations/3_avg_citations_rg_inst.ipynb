{
 "cells": [
  {
   "cell_type": "code",
   "execution_count": 1,
   "id": "d807c703-06d0-4b96-bd85-b8064d05eef8",
   "metadata": {},
   "outputs": [],
   "source": [
    "%config Completer.use_jedi = False"
   ]
  },
  {
   "cell_type": "code",
   "execution_count": 2,
   "id": "3e0d5f52-8c98-447a-bd1a-7b9f14f2caeb",
   "metadata": {},
   "outputs": [],
   "source": [
    "import pandas as pd\n",
    "import pickle\n",
    "# import pickle5 as pickle\n",
    "from tqdm.notebook import tqdm\n",
    "import numpy as np\n",
    "import statsmodels.api as sm\n",
    "from libs.OLSNormModel import OLSNormModel"
   ]
  },
  {
   "cell_type": "code",
   "execution_count": 3,
   "id": "246c3bf5-559a-4cd9-b343-bbe26f29cbd4",
   "metadata": {},
   "outputs": [],
   "source": [
    "def save(x, file_name):\n",
    "    with open(file_name, 'wb') as handle:\n",
    "        pickle.dump(x, handle, protocol=pickle.HIGHEST_PROTOCOL)\n",
    "\n",
    "def restore(file_name):\n",
    "    with open(file_name, 'rb') as handle:\n",
    "        x = pickle.load(handle)\n",
    "    return x"
   ]
  },
  {
   "cell_type": "code",
   "execution_count": 4,
   "id": "4c0a8c92-ce91-4595-8858-a1de973b835d",
   "metadata": {},
   "outputs": [],
   "source": [
    "df_ols = pd.read_pickle('../../data/df_ols.p')"
   ]
  },
  {
   "cell_type": "code",
   "execution_count": 5,
   "id": "e08ec862-99fd-44d5-89d9-4841d7fac438",
   "metadata": {},
   "outputs": [],
   "source": [
    "avg_citations_Q10_order = np.sort(df_ols.avg_citations_Q10.unique())"
   ]
  },
  {
   "cell_type": "code",
   "execution_count": 6,
   "id": "30963c49-d105-4e3b-b9b2-aa0189aecb3e",
   "metadata": {},
   "outputs": [],
   "source": [
    "df_ols[\"selindex\"] = df_ols[\"selindex\"].astype(\"category\").cat.set_categories(['inclusive','selective','more_selective'], ordered=True)\n",
    "df_ols['usnr_rank_cat'] = df_ols['usnr_rank_cat'].cat.set_categories(['not_top','top_100','top_10'], ordered=True)\n",
    "df_ols['avg_citations_Q'] = df_ols['avg_citations_Q'].astype(\"category\").cat.set_categories(['(0.1, 1.47)', '(1.48, 1.74)','(1.77, 4.07)'], ordered=True)\n",
    "df_ols['avg_citations_Q10'] = df_ols['avg_citations_Q10'].astype(\"category\").cat.set_categories(avg_citations_Q10_order, ordered=True)"
   ]
  },
  {
   "cell_type": "code",
   "execution_count": 7,
   "id": "973da877-3d53-4748-b5c0-a385a0ffc38f",
   "metadata": {},
   "outputs": [],
   "source": [
    "rg_groups = ['white_M', 'hispanic_M', 'black_M', 'asian_M','white_F', 'hispanic_F', 'black_F', 'asian_F']"
   ]
  },
  {
   "cell_type": "code",
   "execution_count": 8,
   "id": "553f643d-499d-46ec-905c-08b25079494a",
   "metadata": {},
   "outputs": [],
   "source": [
    "def mean_impact(df, metric='norm_cit_all_IAC'):\n",
    "    \n",
    "    _ = df[rg_groups].multiply(df[metric], axis=\"index\").dropna()\n",
    "    res = _.sum()/df[rg_groups].sum()\n",
    "    #res=res.to_frame().reset_index().rename(columns={'index':'rg',0:'value'})\n",
    "    res['metric'] = metric\n",
    "    return res"
   ]
  },
  {
   "cell_type": "code",
   "execution_count": 9,
   "id": "b8a2c2ec-b85f-4865-b402-c8046eb95b04",
   "metadata": {},
   "outputs": [],
   "source": [
    "inst_groups = ['usnr_rank_cat','selindex','avg_citations_Q','avg_citations_Q10']\n",
    "metrics  = ['norm_cit_all_IAC','norm_FI_2','cit_rel_all_IAC','FIR_2']"
   ]
  },
  {
   "cell_type": "code",
   "execution_count": 10,
   "id": "b51813c3-7a7c-41e7-a8aa-f945ed0d2553",
   "metadata": {},
   "outputs": [
    {
     "data": {
      "application/vnd.jupyter.widget-view+json": {
       "model_id": "e16ca5b02d09419cb7a9abb5a97a3409",
       "version_major": 2,
       "version_minor": 0
      },
      "text/plain": [
       "  0%|          | 0/4 [00:00<?, ?it/s]"
      ]
     },
     "metadata": {},
     "output_type": "display_data"
    },
    {
     "name": "stderr",
     "output_type": "stream",
     "text": [
      "/tmp/ipykernel_2334/204535532.py:7: FutureWarning: The frame.append method is deprecated and will be removed from pandas in a future version. Use pandas.concat instead.\n",
      "  results= results.append(_)\n",
      "/tmp/ipykernel_2334/204535532.py:7: FutureWarning: The frame.append method is deprecated and will be removed from pandas in a future version. Use pandas.concat instead.\n",
      "  results= results.append(_)\n",
      "/tmp/ipykernel_2334/204535532.py:7: FutureWarning: The frame.append method is deprecated and will be removed from pandas in a future version. Use pandas.concat instead.\n",
      "  results= results.append(_)\n",
      "/tmp/ipykernel_2334/204535532.py:7: FutureWarning: The frame.append method is deprecated and will be removed from pandas in a future version. Use pandas.concat instead.\n",
      "  results= results.append(_)\n"
     ]
    },
    {
     "data": {
      "application/vnd.jupyter.widget-view+json": {
       "model_id": "b1fd836142254a858a26f03d922396ee",
       "version_major": 2,
       "version_minor": 0
      },
      "text/plain": [
       "  0%|          | 0/4 [00:00<?, ?it/s]"
      ]
     },
     "metadata": {},
     "output_type": "display_data"
    },
    {
     "name": "stderr",
     "output_type": "stream",
     "text": [
      "/tmp/ipykernel_2334/204535532.py:7: FutureWarning: The frame.append method is deprecated and will be removed from pandas in a future version. Use pandas.concat instead.\n",
      "  results= results.append(_)\n",
      "/tmp/ipykernel_2334/204535532.py:7: FutureWarning: The frame.append method is deprecated and will be removed from pandas in a future version. Use pandas.concat instead.\n",
      "  results= results.append(_)\n",
      "/tmp/ipykernel_2334/204535532.py:7: FutureWarning: The frame.append method is deprecated and will be removed from pandas in a future version. Use pandas.concat instead.\n",
      "  results= results.append(_)\n",
      "/tmp/ipykernel_2334/204535532.py:7: FutureWarning: The frame.append method is deprecated and will be removed from pandas in a future version. Use pandas.concat instead.\n",
      "  results= results.append(_)\n"
     ]
    },
    {
     "data": {
      "application/vnd.jupyter.widget-view+json": {
       "model_id": "5ce3c19ce3204ac9b138e232461d6da9",
       "version_major": 2,
       "version_minor": 0
      },
      "text/plain": [
       "  0%|          | 0/4 [00:00<?, ?it/s]"
      ]
     },
     "metadata": {},
     "output_type": "display_data"
    },
    {
     "name": "stderr",
     "output_type": "stream",
     "text": [
      "/tmp/ipykernel_2334/204535532.py:7: FutureWarning: The frame.append method is deprecated and will be removed from pandas in a future version. Use pandas.concat instead.\n",
      "  results= results.append(_)\n",
      "/tmp/ipykernel_2334/204535532.py:7: FutureWarning: The frame.append method is deprecated and will be removed from pandas in a future version. Use pandas.concat instead.\n",
      "  results= results.append(_)\n",
      "/tmp/ipykernel_2334/204535532.py:7: FutureWarning: The frame.append method is deprecated and will be removed from pandas in a future version. Use pandas.concat instead.\n",
      "  results= results.append(_)\n",
      "/tmp/ipykernel_2334/204535532.py:7: FutureWarning: The frame.append method is deprecated and will be removed from pandas in a future version. Use pandas.concat instead.\n",
      "  results= results.append(_)\n"
     ]
    },
    {
     "data": {
      "application/vnd.jupyter.widget-view+json": {
       "model_id": "8057f2f7fdf44d8291960ca08e13533f",
       "version_major": 2,
       "version_minor": 0
      },
      "text/plain": [
       "  0%|          | 0/4 [00:00<?, ?it/s]"
      ]
     },
     "metadata": {},
     "output_type": "display_data"
    },
    {
     "name": "stderr",
     "output_type": "stream",
     "text": [
      "/tmp/ipykernel_2334/204535532.py:7: FutureWarning: The frame.append method is deprecated and will be removed from pandas in a future version. Use pandas.concat instead.\n",
      "  results= results.append(_)\n",
      "/tmp/ipykernel_2334/204535532.py:7: FutureWarning: The frame.append method is deprecated and will be removed from pandas in a future version. Use pandas.concat instead.\n",
      "  results= results.append(_)\n",
      "/tmp/ipykernel_2334/204535532.py:7: FutureWarning: The frame.append method is deprecated and will be removed from pandas in a future version. Use pandas.concat instead.\n",
      "  results= results.append(_)\n",
      "/tmp/ipykernel_2334/204535532.py:7: FutureWarning: The frame.append method is deprecated and will be removed from pandas in a future version. Use pandas.concat instead.\n",
      "  results= results.append(_)\n"
     ]
    }
   ],
   "source": [
    "results = pd.DataFrame()\n",
    "for metric in metrics:\n",
    "    for inst_group in tqdm(inst_groups):\n",
    "        _ = df_ols.groupby(inst_group).apply(lambda x: mean_impact(x,metric)).reset_index()\n",
    "        _['inst_group']= inst_group\n",
    "        _ = _.rename(columns={inst_group:'categories'})\n",
    "        results= results.append(_)"
   ]
  },
  {
   "cell_type": "code",
   "execution_count": 11,
   "id": "3ef2d13f-f509-4e7a-8a98-70b580eb9d99",
   "metadata": {},
   "outputs": [],
   "source": [
    "results = results.reset_index(drop=True)"
   ]
  },
  {
   "cell_type": "code",
   "execution_count": 12,
   "id": "dfdf1ecb-490f-4135-96dd-fec0a4c74b8e",
   "metadata": {
    "tags": []
   },
   "outputs": [],
   "source": [
    "gap = results.loc[:,'hispanic_M':'asian_F'].divide(results.white_M, axis=0) -1"
   ]
  },
  {
   "cell_type": "code",
   "execution_count": 13,
   "id": "383622c6-5512-4605-b8fc-d584d1f3811d",
   "metadata": {},
   "outputs": [],
   "source": [
    "gap = gap.join(results[['categories', 'metric','inst_group']])"
   ]
  },
  {
   "cell_type": "markdown",
   "id": "bf3d8844-f501-4322-9c1a-37e515127b03",
   "metadata": {},
   "source": [
    "hbcu-hsi-wm"
   ]
  },
  {
   "cell_type": "code",
   "execution_count": 14,
   "id": "dcd11fb4-a52c-4164-83eb-e26ac8c2e888",
   "metadata": {},
   "outputs": [],
   "source": [
    "def mean_impact2(df_ols,ig, metric='norm_cit_all_IAC'):\n",
    "    df = df_ols[df_ols[ig].str.lower()==ig]\n",
    "    _ = df[rg_groups].multiply(df[metric], axis=\"index\").dropna()\n",
    "    res = _.sum()/df[rg_groups].sum()\n",
    "    return res"
   ]
  },
  {
   "cell_type": "code",
   "execution_count": 15,
   "id": "ec12b44e-893c-4360-885e-e870503dc34c",
   "metadata": {},
   "outputs": [],
   "source": [
    "inst_group2 = ['hbcu','hsi','womens']"
   ]
  },
  {
   "cell_type": "code",
   "execution_count": 16,
   "id": "03c60bbe-1f8e-4926-a329-d881f1f3d2a5",
   "metadata": {},
   "outputs": [
    {
     "name": "stderr",
     "output_type": "stream",
     "text": [
      "/tmp/ipykernel_2334/2567830657.py:9: FutureWarning: The frame.append method is deprecated and will be removed from pandas in a future version. Use pandas.concat instead.\n",
      "  results2= results2.append(_)\n",
      "/tmp/ipykernel_2334/2567830657.py:9: FutureWarning: The frame.append method is deprecated and will be removed from pandas in a future version. Use pandas.concat instead.\n",
      "  results2= results2.append(_)\n",
      "/tmp/ipykernel_2334/2567830657.py:9: FutureWarning: The frame.append method is deprecated and will be removed from pandas in a future version. Use pandas.concat instead.\n",
      "  results2= results2.append(_)\n",
      "/tmp/ipykernel_2334/2567830657.py:9: FutureWarning: The frame.append method is deprecated and will be removed from pandas in a future version. Use pandas.concat instead.\n",
      "  results2= results2.append(_)\n",
      "/tmp/ipykernel_2334/2567830657.py:9: FutureWarning: The frame.append method is deprecated and will be removed from pandas in a future version. Use pandas.concat instead.\n",
      "  results2= results2.append(_)\n",
      "/tmp/ipykernel_2334/2567830657.py:9: FutureWarning: The frame.append method is deprecated and will be removed from pandas in a future version. Use pandas.concat instead.\n",
      "  results2= results2.append(_)\n",
      "/tmp/ipykernel_2334/2567830657.py:9: FutureWarning: The frame.append method is deprecated and will be removed from pandas in a future version. Use pandas.concat instead.\n",
      "  results2= results2.append(_)\n",
      "/tmp/ipykernel_2334/2567830657.py:9: FutureWarning: The frame.append method is deprecated and will be removed from pandas in a future version. Use pandas.concat instead.\n",
      "  results2= results2.append(_)\n",
      "/tmp/ipykernel_2334/2567830657.py:9: FutureWarning: The frame.append method is deprecated and will be removed from pandas in a future version. Use pandas.concat instead.\n",
      "  results2= results2.append(_)\n",
      "/tmp/ipykernel_2334/2567830657.py:9: FutureWarning: The frame.append method is deprecated and will be removed from pandas in a future version. Use pandas.concat instead.\n",
      "  results2= results2.append(_)\n",
      "/tmp/ipykernel_2334/2567830657.py:9: FutureWarning: The frame.append method is deprecated and will be removed from pandas in a future version. Use pandas.concat instead.\n",
      "  results2= results2.append(_)\n",
      "/tmp/ipykernel_2334/2567830657.py:9: FutureWarning: The frame.append method is deprecated and will be removed from pandas in a future version. Use pandas.concat instead.\n",
      "  results2= results2.append(_)\n"
     ]
    }
   ],
   "source": [
    "results2 = pd.DataFrame()\n",
    "for metric in metrics:\n",
    "    for ig in inst_group2:\n",
    "        _ = mean_impact2(df_ols,ig,metric).reset_index().rename(columns={'index':'rg',0:'value'})\n",
    "        _['inst_group']= 'hhw'\n",
    "        _['categories']= ig\n",
    "        _['metric'] = metric\n",
    "        _ = _.rename(columns={inst_group:'categories'})\n",
    "        results2= results2.append(_)"
   ]
  },
  {
   "cell_type": "code",
   "execution_count": 17,
   "id": "53b230f3-27f7-4737-a7a3-3f0a38a677e4",
   "metadata": {},
   "outputs": [],
   "source": [
    "results2 = results2.reset_index(drop=True)\n",
    "\n",
    "results2 = results2.pivot(index=['inst_group', 'categories', 'metric'],columns='rg',values='value').reset_index()"
   ]
  },
  {
   "cell_type": "code",
   "execution_count": 18,
   "id": "d66b5358-5240-4e14-bcc4-b1eec7b35eb5",
   "metadata": {
    "tags": []
   },
   "outputs": [],
   "source": [
    "gap2 = results2.loc[:,'asian_F':'white_F'].divide(results2.white_M, axis=0) -1"
   ]
  },
  {
   "cell_type": "code",
   "execution_count": 19,
   "id": "49973394-e665-4ee1-a630-2dfd3773f7a9",
   "metadata": {},
   "outputs": [],
   "source": [
    "gap2 = gap2.join(results2[['categories', 'metric','inst_group']])"
   ]
  },
  {
   "cell_type": "code",
   "execution_count": 20,
   "id": "ba8b7602-e8d6-4894-82da-0bb333dd4e03",
   "metadata": {},
   "outputs": [
    {
     "name": "stderr",
     "output_type": "stream",
     "text": [
      "/tmp/ipykernel_2334/604642454.py:1: FutureWarning: The frame.append method is deprecated and will be removed from pandas in a future version. Use pandas.concat instead.\n",
      "  gap = gap.append(gap2)\n"
     ]
    }
   ],
   "source": [
    "gap = gap.append(gap2)"
   ]
  },
  {
   "cell_type": "code",
   "execution_count": 21,
   "id": "e8114c55-7a15-44c0-ba85-858365774ba5",
   "metadata": {},
   "outputs": [],
   "source": [
    "gap.to_csv('../../results/linear_models/citations_gap.csv',index=False)"
   ]
  },
  {
   "cell_type": "markdown",
   "id": "007af660-325a-4785-93c8-7ebbf0e8691b",
   "metadata": {},
   "source": [
    "positive negative effect"
   ]
  },
  {
   "cell_type": "code",
   "execution_count": 22,
   "id": "c6d3fa06-c505-4aec-9811-5cd3291db4c5",
   "metadata": {},
   "outputs": [],
   "source": [
    "def mean_impact2(df, metric='norm_cit_all_IAC'):\n",
    "    \n",
    "    _ = df[rg_groups].multiply(df[metric], axis=\"index\").dropna()\n",
    "    res = _.sum()/df[rg_groups].sum()\n",
    "    return res"
   ]
  },
  {
   "cell_type": "code",
   "execution_count": 23,
   "id": "e1b6f4ea-cd13-4122-8337-431faaf3c996",
   "metadata": {},
   "outputs": [],
   "source": [
    "inst_groups = ['usnr_rank_cat','selindex','avg_citations_Q','avg_citations_Q10']\n",
    "metrics  = ['norm_cit_all_IAC','norm_FI_2']"
   ]
  },
  {
   "cell_type": "code",
   "execution_count": 24,
   "id": "61054141-d5c1-4435-8b7f-f85cf124771d",
   "metadata": {
    "tags": []
   },
   "outputs": [
    {
     "name": "stderr",
     "output_type": "stream",
     "text": [
      "/tmp/ipykernel_2334/2691531190.py:12: FutureWarning: The frame.append method is deprecated and will be removed from pandas in a future version. Use pandas.concat instead.\n",
      "  results= results.append(_)\n",
      "/tmp/ipykernel_2334/2691531190.py:12: FutureWarning: The frame.append method is deprecated and will be removed from pandas in a future version. Use pandas.concat instead.\n",
      "  results= results.append(_)\n",
      "/tmp/ipykernel_2334/2691531190.py:12: FutureWarning: The frame.append method is deprecated and will be removed from pandas in a future version. Use pandas.concat instead.\n",
      "  results= results.append(_)\n",
      "/tmp/ipykernel_2334/2691531190.py:12: FutureWarning: The frame.append method is deprecated and will be removed from pandas in a future version. Use pandas.concat instead.\n",
      "  results= results.append(_)\n",
      "/tmp/ipykernel_2334/2691531190.py:12: FutureWarning: The frame.append method is deprecated and will be removed from pandas in a future version. Use pandas.concat instead.\n",
      "  results= results.append(_)\n",
      "/tmp/ipykernel_2334/2691531190.py:12: FutureWarning: The frame.append method is deprecated and will be removed from pandas in a future version. Use pandas.concat instead.\n",
      "  results= results.append(_)\n",
      "/tmp/ipykernel_2334/2691531190.py:12: FutureWarning: The frame.append method is deprecated and will be removed from pandas in a future version. Use pandas.concat instead.\n",
      "  results= results.append(_)\n",
      "/tmp/ipykernel_2334/2691531190.py:12: FutureWarning: The frame.append method is deprecated and will be removed from pandas in a future version. Use pandas.concat instead.\n",
      "  results= results.append(_)\n"
     ]
    }
   ],
   "source": [
    "results = pd.DataFrame()\n",
    "for metric in metrics:\n",
    "    for inst_group in inst_groups:\n",
    "        _ = df_ols.groupby(inst_group).apply(lambda x: mean_impact2(x,metric)).reset_index()\n",
    "        _ = _.set_index(inst_group).T\n",
    "        _['negative_effect'] = _.iloc[:,0] - _.iloc[:,1]\n",
    "        _['positive_effect'] = _.iloc[:,2] - _.iloc[:,1]\n",
    "        _ = _.T.reset_index()\n",
    "        _['inst_group']= inst_group\n",
    "        _['metric']=metric\n",
    "        _ = _.rename(columns={inst_group:'categories'})\n",
    "        results= results.append(_)"
   ]
  },
  {
   "cell_type": "code",
   "execution_count": 25,
   "id": "4282fb84-666b-4a30-85d6-73961604b0f6",
   "metadata": {},
   "outputs": [],
   "source": [
    "results.to_csv('../../results/linear_models/rg_inst_citations.csv',index=False)"
   ]
  }
 ],
 "metadata": {
  "kernelspec": {
   "display_name": "Python 3 (ipykernel)",
   "language": "python",
   "name": "python3"
  },
  "language_info": {
   "codemirror_mode": {
    "name": "ipython",
    "version": 3
   },
   "file_extension": ".py",
   "mimetype": "text/x-python",
   "name": "python",
   "nbconvert_exporter": "python",
   "pygments_lexer": "ipython3",
   "version": "3.10.8"
  }
 },
 "nbformat": 4,
 "nbformat_minor": 5
}
