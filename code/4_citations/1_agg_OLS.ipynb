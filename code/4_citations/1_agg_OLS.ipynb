{
 "cells": [
  {
   "cell_type": "code",
   "execution_count": 1,
   "id": "82bc571a-42a1-414e-9130-a473038400f3",
   "metadata": {},
   "outputs": [],
   "source": [
    "%config Completer.use_jedi = False"
   ]
  },
  {
   "cell_type": "code",
   "execution_count": 2,
   "id": "2ed6a552-d0eb-4eeb-a184-6f291f2d6a93",
   "metadata": {},
   "outputs": [],
   "source": [
    "#!pip install statsmodels"
   ]
  },
  {
   "cell_type": "code",
   "execution_count": 3,
   "id": "6f39b791-fdcf-42d0-911f-06116ebe3836",
   "metadata": {},
   "outputs": [],
   "source": [
    "import pandas as pd\n",
    "import pickle\n",
    "# import pickle5 as pickle\n",
    "from tqdm.notebook import tqdm\n",
    "import numpy as np\n",
    "import statsmodels.api as sm\n",
    "from libs.OLSNormModel import OLSNormModel"
   ]
  },
  {
   "cell_type": "code",
   "execution_count": 4,
   "id": "0cc70905-5d10-4f01-94d3-b98824f141fc",
   "metadata": {},
   "outputs": [],
   "source": [
    "def save(x, file_name):\n",
    "    with open(file_name, 'wb') as handle:\n",
    "        pickle.dump(x, handle, protocol=pickle.HIGHEST_PROTOCOL)\n",
    "\n",
    "def restore(file_name):\n",
    "    with open(file_name, 'rb') as handle:\n",
    "        x = pickle.load(handle)\n",
    "    return x"
   ]
  },
  {
   "cell_type": "code",
   "execution_count": 5,
   "id": "5b206097-11dc-443d-9c0c-35fe6fac9bf9",
   "metadata": {},
   "outputs": [],
   "source": [
    "df_ols = pd.read_pickle('../../data/df_ols.p')"
   ]
  },
  {
   "cell_type": "markdown",
   "id": "4ded991e-fc82-47ab-9bb3-60f585285fa5",
   "metadata": {
    "tags": []
   },
   "source": [
    "# OLS"
   ]
  },
  {
   "cell_type": "code",
   "execution_count": 33,
   "id": "8913405c-d695-4de9-81d5-de91546ed3b4",
   "metadata": {},
   "outputs": [],
   "source": [
    "df_ols = df_ols.drop(columns='avg_citations_Q10')"
   ]
  },
  {
   "cell_type": "code",
   "execution_count": 34,
   "id": "540b9d34-8687-4cfb-80b3-c57c0fcbc8c0",
   "metadata": {},
   "outputs": [
    {
     "data": {
      "text/plain": [
       "low       357166\n",
       "medium    316567\n",
       "high      273783\n",
       "Name: avg_citations_Q, dtype: int64"
      ]
     },
     "execution_count": 34,
     "metadata": {},
     "output_type": "execute_result"
    }
   ],
   "source": [
    "df_ols.avg_citations_Q.value_counts()"
   ]
  },
  {
   "cell_type": "code",
   "execution_count": 35,
   "id": "301c3aba-7b0e-489d-b78c-3245d4ee0681",
   "metadata": {},
   "outputs": [],
   "source": [
    "avg_citations_Q_dict = {\"(0.1, 1.47)\" : 'low', \"(1.48, 1.74)\" : 'medium', \"(1.77, 4.07)\": 'high'}\n",
    "df_ols=df_ols.replace({\"avg_citations_Q\": avg_citations_Q_dict})"
   ]
  },
  {
   "cell_type": "code",
   "execution_count": 36,
   "id": "c185ebd9-6012-41ac-bb46-900879e641b6",
   "metadata": {},
   "outputs": [
    {
     "data": {
      "text/plain": [
       "low       357166\n",
       "medium    316567\n",
       "high      273783\n",
       "Name: avg_citations_Q, dtype: int64"
      ]
     },
     "execution_count": 36,
     "metadata": {},
     "output_type": "execute_result"
    }
   ],
   "source": [
    "df_ols.avg_citations_Q.value_counts()"
   ]
  },
  {
   "cell_type": "code",
   "execution_count": 37,
   "id": "7d1203b8-37b8-46c5-a765-ee2e2c225d70",
   "metadata": {
    "tags": []
   },
   "outputs": [],
   "source": [
    "## Now we use 'FIR_2','cit_rel_all_IAC' for the unnormalized versions\n",
    "\n",
    "## normalized dep variable by topic\n",
    "\n",
    "#I normalized the citations by their mean, so they are relative impact, and can be compared with the topic normalized\n",
    "#df_ols['Cit_2_iac'] = df_ols.Cit_2_iac/df_ols.Cit_2_iac.mean()\n",
    "#df_ols['FI_2'] = df_ols.FI_2/df_ols.FI_2.mean()"
   ]
  },
  {
   "cell_type": "code",
   "execution_count": 38,
   "id": "39ad4163-33b5-4f79-a7d9-2d2767c6a206",
   "metadata": {},
   "outputs": [],
   "source": [
    "ols_norm = OLSNormModel(df_ols)"
   ]
  },
  {
   "cell_type": "code",
   "execution_count": 39,
   "id": "3e6e3d95-68ab-4767-bbfe-1f3cd4313a6f",
   "metadata": {},
   "outputs": [],
   "source": [
    "models = ['usnr_rank_cat','selindex','avg_citations_Q','avg_citations']\n",
    "dep_vars = ['norm_cit_all_IAC','norm_FI_2','FIR_2','cit_rel_all_IAC']"
   ]
  },
  {
   "cell_type": "code",
   "execution_count": 40,
   "id": "0019fd42-c0f8-42ed-9c0f-22a31584169a",
   "metadata": {
    "tags": []
   },
   "outputs": [
    {
     "data": {
      "application/vnd.jupyter.widget-view+json": {
       "model_id": "8c1bb641f15b479b8b2b1734c1c5a537",
       "version_major": 2,
       "version_minor": 0
      },
      "text/plain": [
       "  0%|          | 0/4 [00:00<?, ?it/s]"
      ]
     },
     "metadata": {},
     "output_type": "display_data"
    },
    {
     "data": {
      "application/vnd.jupyter.widget-view+json": {
       "model_id": "5289701913304891a6399bc37d266d5f",
       "version_major": 2,
       "version_minor": 0
      },
      "text/plain": [
       "  0%|          | 0/4 [00:00<?, ?it/s]"
      ]
     },
     "metadata": {},
     "output_type": "display_data"
    },
    {
     "data": {
      "application/vnd.jupyter.widget-view+json": {
       "model_id": "a9aa4b3cc1b44daa8c07c0731ecb42b2",
       "version_major": 2,
       "version_minor": 0
      },
      "text/plain": [
       "  0%|          | 0/4 [00:00<?, ?it/s]"
      ]
     },
     "metadata": {},
     "output_type": "display_data"
    },
    {
     "data": {
      "application/vnd.jupyter.widget-view+json": {
       "model_id": "b0356c1663e84290a450aea09b6f29a3",
       "version_major": 2,
       "version_minor": 0
      },
      "text/plain": [
       "  0%|          | 0/4 [00:00<?, ?it/s]"
      ]
     },
     "metadata": {},
     "output_type": "display_data"
    },
    {
     "data": {
      "application/vnd.jupyter.widget-view+json": {
       "model_id": "14ae0783c5674021be9c087a506e3ee7",
       "version_major": 2,
       "version_minor": 0
      },
      "text/plain": [
       "  0%|          | 0/4 [00:00<?, ?it/s]"
      ]
     },
     "metadata": {},
     "output_type": "display_data"
    }
   ],
   "source": [
    "fitted_models_norm = {}\n",
    "for model in tqdm(models):\n",
    "    for dv in tqdm(dep_vars):\n",
    "        _ = ols_norm.main(model=model, dep = dv)\n",
    "        fitted_models_norm[model+'+'+dv]=_"
   ]
  },
  {
   "cell_type": "code",
   "execution_count": 41,
   "id": "4abfcaef-e289-4bdc-88a0-261bd5763f4a",
   "metadata": {
    "tags": []
   },
   "outputs": [
    {
     "name": "stderr",
     "output_type": "stream",
     "text": [
      "/home/jovyan/rg_institutions/code/4_citations/libs/OLSNormModel.py:86: FutureWarning: The frame.append method is deprecated and will be removed from pandas in a future version. Use pandas.concat instead.\n",
      "  results = results.append(_)\n",
      "/home/jovyan/rg_institutions/code/4_citations/libs/OLSNormModel.py:86: FutureWarning: The frame.append method is deprecated and will be removed from pandas in a future version. Use pandas.concat instead.\n",
      "  results = results.append(_)\n",
      "/home/jovyan/rg_institutions/code/4_citations/libs/OLSNormModel.py:86: FutureWarning: The frame.append method is deprecated and will be removed from pandas in a future version. Use pandas.concat instead.\n",
      "  results = results.append(_)\n",
      "/home/jovyan/rg_institutions/code/4_citations/libs/OLSNormModel.py:86: FutureWarning: The frame.append method is deprecated and will be removed from pandas in a future version. Use pandas.concat instead.\n",
      "  results = results.append(_)\n",
      "/home/jovyan/rg_institutions/code/4_citations/libs/OLSNormModel.py:86: FutureWarning: The frame.append method is deprecated and will be removed from pandas in a future version. Use pandas.concat instead.\n",
      "  results = results.append(_)\n",
      "/home/jovyan/rg_institutions/code/4_citations/libs/OLSNormModel.py:86: FutureWarning: The frame.append method is deprecated and will be removed from pandas in a future version. Use pandas.concat instead.\n",
      "  results = results.append(_)\n",
      "/home/jovyan/rg_institutions/code/4_citations/libs/OLSNormModel.py:86: FutureWarning: The frame.append method is deprecated and will be removed from pandas in a future version. Use pandas.concat instead.\n",
      "  results = results.append(_)\n",
      "/home/jovyan/rg_institutions/code/4_citations/libs/OLSNormModel.py:86: FutureWarning: The frame.append method is deprecated and will be removed from pandas in a future version. Use pandas.concat instead.\n",
      "  results = results.append(_)\n",
      "/home/jovyan/rg_institutions/code/4_citations/libs/OLSNormModel.py:86: FutureWarning: The frame.append method is deprecated and will be removed from pandas in a future version. Use pandas.concat instead.\n",
      "  results = results.append(_)\n",
      "/home/jovyan/rg_institutions/code/4_citations/libs/OLSNormModel.py:86: FutureWarning: The frame.append method is deprecated and will be removed from pandas in a future version. Use pandas.concat instead.\n",
      "  results = results.append(_)\n",
      "/home/jovyan/rg_institutions/code/4_citations/libs/OLSNormModel.py:86: FutureWarning: The frame.append method is deprecated and will be removed from pandas in a future version. Use pandas.concat instead.\n",
      "  results = results.append(_)\n",
      "/home/jovyan/rg_institutions/code/4_citations/libs/OLSNormModel.py:86: FutureWarning: The frame.append method is deprecated and will be removed from pandas in a future version. Use pandas.concat instead.\n",
      "  results = results.append(_)\n",
      "/home/jovyan/rg_institutions/code/4_citations/libs/OLSNormModel.py:86: FutureWarning: The frame.append method is deprecated and will be removed from pandas in a future version. Use pandas.concat instead.\n",
      "  results = results.append(_)\n",
      "/home/jovyan/rg_institutions/code/4_citations/libs/OLSNormModel.py:86: FutureWarning: The frame.append method is deprecated and will be removed from pandas in a future version. Use pandas.concat instead.\n",
      "  results = results.append(_)\n",
      "/home/jovyan/rg_institutions/code/4_citations/libs/OLSNormModel.py:86: FutureWarning: The frame.append method is deprecated and will be removed from pandas in a future version. Use pandas.concat instead.\n",
      "  results = results.append(_)\n",
      "/home/jovyan/rg_institutions/code/4_citations/libs/OLSNormModel.py:86: FutureWarning: The frame.append method is deprecated and will be removed from pandas in a future version. Use pandas.concat instead.\n",
      "  results = results.append(_)\n"
     ]
    }
   ],
   "source": [
    "params_table_norm = ols_norm.get_params_table(fitted_models_norm)"
   ]
  },
  {
   "cell_type": "code",
   "execution_count": 42,
   "id": "eba9d23c-8105-4524-9fe8-ca32aa12a631",
   "metadata": {},
   "outputs": [
    {
     "data": {
      "text/plain": [
       "Intercept                  16\n",
       "white_F                    16\n",
       "asian_F                    16\n",
       "nb_auteur                  16\n",
       "hispanic_F                 16\n",
       "black_F                    16\n",
       "asian_M                    16\n",
       "black_M                    16\n",
       "hispanic_M                 16\n",
       "career_age                 16\n",
       "usnr_rank_cat_top_10        4\n",
       "usnr_rank_cat_top_100       4\n",
       "selindex_more_selective     4\n",
       "selindex_selective          4\n",
       "avg_citations_Q_high        4\n",
       "avg_citations_Q_medium      4\n",
       "avg_citations               4\n",
       "Name: variable, dtype: int64"
      ]
     },
     "execution_count": 42,
     "metadata": {},
     "output_type": "execute_result"
    }
   ],
   "source": [
    "params_table_norm.variable.value_counts()"
   ]
  },
  {
   "cell_type": "code",
   "execution_count": 43,
   "id": "c435b1a3-b446-461f-b7ea-b61205601669",
   "metadata": {},
   "outputs": [
    {
     "data": {
      "text/html": [
       "<div>\n",
       "<style scoped>\n",
       "    .dataframe tbody tr th:only-of-type {\n",
       "        vertical-align: middle;\n",
       "    }\n",
       "\n",
       "    .dataframe tbody tr th {\n",
       "        vertical-align: top;\n",
       "    }\n",
       "\n",
       "    .dataframe thead th {\n",
       "        text-align: right;\n",
       "    }\n",
       "</style>\n",
       "<table border=\"1\" class=\"dataframe\">\n",
       "  <thead>\n",
       "    <tr style=\"text-align: right;\">\n",
       "      <th></th>\n",
       "      <th>variable</th>\n",
       "      <th>coeff</th>\n",
       "      <th>pvals</th>\n",
       "      <th>conf_lower</th>\n",
       "      <th>conf_higher</th>\n",
       "      <th>institution_cov</th>\n",
       "      <th>dep</th>\n",
       "      <th>n</th>\n",
       "    </tr>\n",
       "  </thead>\n",
       "  <tbody>\n",
       "    <tr>\n",
       "      <th>7</th>\n",
       "      <td>hispanic_F</td>\n",
       "      <td>-0.129009</td>\n",
       "      <td>1.301866e-09</td>\n",
       "      <td>-0.170685</td>\n",
       "      <td>-0.087334</td>\n",
       "      <td>usnr_rank_cat</td>\n",
       "      <td>norm_cit_all_IAC</td>\n",
       "      <td>947516.0</td>\n",
       "    </tr>\n",
       "    <tr>\n",
       "      <th>7</th>\n",
       "      <td>hispanic_F</td>\n",
       "      <td>-0.231397</td>\n",
       "      <td>2.699222e-09</td>\n",
       "      <td>-0.307633</td>\n",
       "      <td>-0.155160</td>\n",
       "      <td>usnr_rank_cat</td>\n",
       "      <td>cit_rel_all_IAC</td>\n",
       "      <td>947516.0</td>\n",
       "    </tr>\n",
       "    <tr>\n",
       "      <th>7</th>\n",
       "      <td>hispanic_F</td>\n",
       "      <td>-0.143937</td>\n",
       "      <td>1.454251e-11</td>\n",
       "      <td>-0.185716</td>\n",
       "      <td>-0.102158</td>\n",
       "      <td>selindex</td>\n",
       "      <td>norm_cit_all_IAC</td>\n",
       "      <td>947516.0</td>\n",
       "    </tr>\n",
       "    <tr>\n",
       "      <th>7</th>\n",
       "      <td>hispanic_F</td>\n",
       "      <td>-0.252638</td>\n",
       "      <td>8.826567e-11</td>\n",
       "      <td>-0.328983</td>\n",
       "      <td>-0.176293</td>\n",
       "      <td>selindex</td>\n",
       "      <td>cit_rel_all_IAC</td>\n",
       "      <td>947516.0</td>\n",
       "    </tr>\n",
       "    <tr>\n",
       "      <th>7</th>\n",
       "      <td>hispanic_F</td>\n",
       "      <td>-0.135651</td>\n",
       "      <td>1.737565e-10</td>\n",
       "      <td>-0.177304</td>\n",
       "      <td>-0.093998</td>\n",
       "      <td>avg_citations_Q</td>\n",
       "      <td>norm_cit_all_IAC</td>\n",
       "      <td>947516.0</td>\n",
       "    </tr>\n",
       "    <tr>\n",
       "      <th>7</th>\n",
       "      <td>hispanic_F</td>\n",
       "      <td>-0.240639</td>\n",
       "      <td>6.072629e-10</td>\n",
       "      <td>-0.316851</td>\n",
       "      <td>-0.164427</td>\n",
       "      <td>avg_citations_Q</td>\n",
       "      <td>cit_rel_all_IAC</td>\n",
       "      <td>947516.0</td>\n",
       "    </tr>\n",
       "    <tr>\n",
       "      <th>7</th>\n",
       "      <td>hispanic_F</td>\n",
       "      <td>-0.133005</td>\n",
       "      <td>3.732839e-10</td>\n",
       "      <td>-0.174616</td>\n",
       "      <td>-0.091394</td>\n",
       "      <td>avg_citations</td>\n",
       "      <td>norm_cit_all_IAC</td>\n",
       "      <td>947516.0</td>\n",
       "    </tr>\n",
       "    <tr>\n",
       "      <th>7</th>\n",
       "      <td>hispanic_F</td>\n",
       "      <td>-0.236918</td>\n",
       "      <td>1.082202e-09</td>\n",
       "      <td>-0.313081</td>\n",
       "      <td>-0.160756</td>\n",
       "      <td>avg_citations</td>\n",
       "      <td>cit_rel_all_IAC</td>\n",
       "      <td>947516.0</td>\n",
       "    </tr>\n",
       "  </tbody>\n",
       "</table>\n",
       "</div>"
      ],
      "text/plain": [
       "     variable     coeff         pvals  conf_lower  conf_higher  \\\n",
       "7  hispanic_F -0.129009  1.301866e-09   -0.170685    -0.087334   \n",
       "7  hispanic_F -0.231397  2.699222e-09   -0.307633    -0.155160   \n",
       "7  hispanic_F -0.143937  1.454251e-11   -0.185716    -0.102158   \n",
       "7  hispanic_F -0.252638  8.826567e-11   -0.328983    -0.176293   \n",
       "7  hispanic_F -0.135651  1.737565e-10   -0.177304    -0.093998   \n",
       "7  hispanic_F -0.240639  6.072629e-10   -0.316851    -0.164427   \n",
       "7  hispanic_F -0.133005  3.732839e-10   -0.174616    -0.091394   \n",
       "7  hispanic_F -0.236918  1.082202e-09   -0.313081    -0.160756   \n",
       "\n",
       "   institution_cov               dep         n  \n",
       "7    usnr_rank_cat  norm_cit_all_IAC  947516.0  \n",
       "7    usnr_rank_cat   cit_rel_all_IAC  947516.0  \n",
       "7         selindex  norm_cit_all_IAC  947516.0  \n",
       "7         selindex   cit_rel_all_IAC  947516.0  \n",
       "7  avg_citations_Q  norm_cit_all_IAC  947516.0  \n",
       "7  avg_citations_Q   cit_rel_all_IAC  947516.0  \n",
       "7    avg_citations  norm_cit_all_IAC  947516.0  \n",
       "7    avg_citations   cit_rel_all_IAC  947516.0  "
      ]
     },
     "execution_count": 43,
     "metadata": {},
     "output_type": "execute_result"
    }
   ],
   "source": [
    "params_table_norm[(params_table_norm.variable=='hispanic_F') & (params_table_norm.dep.str.contains('cit'))]"
   ]
  },
  {
   "cell_type": "code",
   "execution_count": 44,
   "id": "38957974-115e-4a62-a056-ee45342f79bd",
   "metadata": {},
   "outputs": [],
   "source": [
    "params_table_norm.to_csv('../../results/linear_models/agg_model/ols_params.csv')"
   ]
  }
 ],
 "metadata": {
  "kernelspec": {
   "display_name": "Python 3 (ipykernel)",
   "language": "python",
   "name": "python3"
  },
  "language_info": {
   "codemirror_mode": {
    "name": "ipython",
    "version": 3
   },
   "file_extension": ".py",
   "mimetype": "text/x-python",
   "name": "python",
   "nbconvert_exporter": "python",
   "pygments_lexer": "ipython3",
   "version": "3.10.8"
  }
 },
 "nbformat": 4,
 "nbformat_minor": 5
}
