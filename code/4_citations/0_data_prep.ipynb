{
 "cells": [
  {
   "cell_type": "code",
   "execution_count": 1,
   "id": "e08a8972-a41b-4d2c-b0a0-a94ff53613a9",
   "metadata": {},
   "outputs": [],
   "source": [
    "#!pip install statsmodels"
   ]
  },
  {
   "cell_type": "code",
   "execution_count": 2,
   "id": "8d9ad737-e337-4aca-8a8d-95f7c9451c3d",
   "metadata": {},
   "outputs": [],
   "source": [
    "%config Completer.use_jedi = False"
   ]
  },
  {
   "cell_type": "code",
   "execution_count": 3,
   "id": "9821ed88-28a7-441b-bbb7-f68d9ff65d27",
   "metadata": {},
   "outputs": [],
   "source": [
    "import pandas as pd\n",
    "import pickle\n",
    "#import pickle5 as pickle\n",
    "from tqdm.notebook import tqdm\n",
    "import numpy as np\n",
    "import statsmodels.api as sm\n",
    "from libs.LastNamesInference import LastNamesInference\n",
    "\n",
    "import glob\n",
    "import os"
   ]
  },
  {
   "cell_type": "code",
   "execution_count": 4,
   "id": "204471bf-5230-40dd-abef-fad27e65cab8",
   "metadata": {},
   "outputs": [],
   "source": [
    "def save(x, file_name):\n",
    "    with open(file_name, 'wb') as handle:\n",
    "        pickle.dump(x, handle, protocol=pickle.HIGHEST_PROTOCOL)\n",
    "\n",
    "def restore(file_name):\n",
    "    with open(file_name, 'rb') as handle:\n",
    "        x = pickle.load(handle)\n",
    "    return x"
   ]
  },
  {
   "cell_type": "code",
   "execution_count": 5,
   "id": "6869f84f-b7e5-4d6d-b809-6c96b8c78fe7",
   "metadata": {},
   "outputs": [],
   "source": [
    "us_papers = pd.read_pickle('/data/datasets//WOS/US/US_papers.p')"
   ]
  },
  {
   "cell_type": "code",
   "execution_count": 6,
   "id": "6f681753-9fc4-4f36-8504-6a64cedf4c50",
   "metadata": {},
   "outputs": [],
   "source": [
    "cit_2_iac_df = pd.read_csv('/data/datasets/WOS/US/us_papers_citations.csv', delimiter='\\t')"
   ]
  },
  {
   "cell_type": "code",
   "execution_count": 7,
   "id": "1700e426-2b5f-4a0e-9a5e-ec275ff0cc3e",
   "metadata": {},
   "outputs": [],
   "source": [
    "jif = pd.read_csv('/data/datasets/WOS/US/us_papers_jif.csv', delimiter='\\t')\n",
    "jif = jif[~jif.FI_2.isnull()]"
   ]
  },
  {
   "cell_type": "code",
   "execution_count": 8,
   "id": "cef33bd8-0ebd-446a-8ee7-81e92945d6b0",
   "metadata": {},
   "outputs": [],
   "source": [
    "address_clean = pd.read_pickle('/data/datasets/WOS/US/address_clean.p')"
   ]
  },
  {
   "cell_type": "markdown",
   "id": "79e987d9-9826-409a-891c-38d0787434bd",
   "metadata": {
    "tags": []
   },
   "source": [
    "## Fit LDA models and save doc dist"
   ]
  },
  {
   "cell_type": "code",
   "execution_count": 9,
   "id": "74ebdfd1-ddab-42f2-880f-1ed706ad6a8c",
   "metadata": {},
   "outputs": [],
   "source": [
    "def transform_data(df,lda_model,vectorizer):\n",
    "    lda_model.n_jobs = 1\n",
    "    texts = df.text_clean.values\n",
    "    data_vectorized = vectorizer.transform(texts)\n",
    "    doc_dist = lda_model.transform(data_vectorized)\n",
    "    doc_dist_df = pd.DataFrame(doc_dist,columns=['topic_{}'.format(x) for x in range(1,201)])\n",
    "    doc_dist_df = pd.merge(df['id_art'],doc_dist_df,left_index=True,right_index=True)\n",
    "    return doc_dist_df\n"
   ]
  },
  {
   "cell_type": "code",
   "execution_count": 10,
   "id": "6053f7e9-4e0c-4d07-aa65-5dc3df5e63e2",
   "metadata": {},
   "outputs": [],
   "source": [
    "#!mkdir '/data/datasets/WOS/US/lda_fields/'"
   ]
  },
  {
   "cell_type": "code",
   "execution_count": 11,
   "id": "e453d1d0-f66b-465e-bbcb-788404ea2453",
   "metadata": {},
   "outputs": [],
   "source": [
    "# def get_doc_dist_all_fields(text_path =\"/data/datasets/WOS/US/text/\"):\n",
    "    \n",
    "#     filenames =  glob.glob(text_path + '*.txt')\n",
    "#     disciplines = [os.path.basename(x).replace(r'text_clean_', '').replace('.txt','') for x in filenames]  \n",
    "#     for discipline in tqdm(disciplines):\n",
    "#         lda_model_ = restore('../../../race/results/lda_fields/lda_model_{}.p'.format(discipline))\n",
    "#         vectorizer_ = restore('../../../race/results/lda_fields/vectorizer_{}.p'.format(discipline))\n",
    "#         df_ = pd.read_csv(\"/data/datasets/WOS/US/text/text_clean_{}.txt\".format(discipline))\n",
    "#         doc_dist_df = transform_data(df_,lda_model_,vectorizer_)\n",
    "#         doc_dist_df.to_pickle('/data/datasets/WOS/US/lda_fields/doc_dist_{}'.format(discipline))"
   ]
  },
  {
   "cell_type": "code",
   "execution_count": 12,
   "id": "c68d9992-47e2-493f-ba39-da186010ce20",
   "metadata": {
    "tags": []
   },
   "outputs": [],
   "source": [
    "# get_doc_dist_all_fields(text_path =\"/data/datasets/WOS/US/text/\")"
   ]
  },
  {
   "cell_type": "markdown",
   "id": "2a12375b-009d-4b2e-93d2-56c30723d7e7",
   "metadata": {},
   "source": [
    "## Clean dataset"
   ]
  },
  {
   "cell_type": "code",
   "execution_count": 13,
   "id": "ab0a70d2-2964-491f-82c8-786f3dadd8b2",
   "metadata": {},
   "outputs": [],
   "source": [
    "class PrepareDataOLS:\n",
    "    \n",
    "    def __init__(self,us_papers,address_clean,jif): #cit_2_iac_df\n",
    "        df_papers = us_papers[us_papers.ordre==1]\n",
    "        #df_papers = df_papers.merge(cit_2_iac_df[['ID_Art','Cit_2_iac']], left_on='id_art',right_on='ID_Art').drop('ID_Art',1)\n",
    "        df_papers = df_papers.merge(jif, left_on='id_art', right_on='ID_Art').drop(\"ID_Art\", 1)\n",
    "        df_papers = df_papers.merge(address_clean, left_on=['id_art','cluster_ID'], right_on= ['id_art','cluster_id'])\n",
    "        self.df_papers = df_papers\n",
    "        self.race_gender_groups= [\"white_M\", \"hispanic_M\", \"black_M\", \"asian_M\", \"white_F\", \"hispanic_F\", \"black_F\", \"asian_F\"]\n",
    "        text_path =\"/data/datasets/WOS/US/text/\"\n",
    "        self.disciplines = [os.path.basename(x).replace(r'text_clean_', '').replace('.txt','') for x in glob.glob(text_path + '*.txt')] + ['socsci','health']\n",
    "        \n",
    "    def split_by_gender(self,df_race):\n",
    "        df_race = df_race.copy()\n",
    "        df_race['gender'] = df_race.gender.str.upper()\n",
    "\n",
    "        boolean_mask_M = df_race.gender == 'M'\n",
    "        boolean_mask_F = df_race.gender == 'F'\n",
    "\n",
    "        race_dist_M = df_race.loc[boolean_mask_M,['white','hispanic','black','asian']]\n",
    "        race_dist_F = df_race.loc[boolean_mask_F,['white','hispanic','black','asian']]\n",
    "\n",
    "        race_dist_M.columns = race_dist_M.columns + '_M'\n",
    "        race_dist_F.columns = race_dist_F.columns + '_F'\n",
    "        race_dist_MF = pd.concat([race_dist_M,race_dist_F]).fillna(0).sort_index()\n",
    "        df_race = df_race.join(race_dist_MF,how='inner' )\n",
    "        return df_race\n",
    "    \n",
    "    def infer_race(self,normalized_df):\n",
    "        authors = normalized_df.drop_duplicates('cluster_ID')\n",
    "        lni = LastNamesInference(names = authors.nom)\n",
    "        df = normalized_df.copy()\n",
    "        tqdm.pandas(desc=\"inferring race from lastnames\")\n",
    "        lastname_race_dist = df.progress_apply(lambda x: lni.get_name_dist(lastname=x.nom), axis=1)\n",
    "        df[lni.prob_order] = pd.DataFrame(lastname_race_dist.to_list(), index=df.index)\n",
    "        df = self.split_by_gender(df)\n",
    "        return df\n",
    " \n",
    "    def prepare_dataset(self,normalized_df):\n",
    "        df_race = self.infer_race(normalized_df)\n",
    "        \n",
    "        df_race = df_race[df_race.selindex!='not_indexed']\n",
    "        \n",
    "        df_race['gender'] = df_race.gender.replace({'M':0,'F':1,\n",
    "                                     'UNK':np.nan,\n",
    "                                     'UNI':np.nan,\n",
    "                                     'uni':np.nan,\n",
    "                                     'INI':np.nan,\n",
    "                                     'f':1,\n",
    "                                     'm':0\n",
    "                                     })\n",
    "\n",
    "        df_race['career_age'] = df_race.Annee_Bibliographique - df_race.yfp\n",
    "        df_race = df_race.drop_duplicates()\n",
    "        df_race = df_race[~df_race.white_F.isnull()]\n",
    "        return df_race\n",
    "\n",
    "    def normalize_by_topic(self,df_papers,discipline):\n",
    "        if discipline in (['socsci','health']):\n",
    "            doc_dist_df = pd.read_pickle('/data/datasets/WOS/US/lda_{}_dist.p'.format(discipline))\n",
    "        else:\n",
    "            doc_dist_df = pd.read_pickle('/data/datasets/WOS/US/lda_fields/doc_dist_{}'.format(discipline))        \n",
    "        df = df_papers.merge(doc_dist_df, on ='id_art').drop_duplicates('id_art').copy()\n",
    "\n",
    "        for dep in ['FI_2','cit_all_IAC']:\n",
    "            df_tmp=df.copy()\n",
    "            _ = pd.DataFrame()\n",
    "            for year in tqdm(df_tmp.Annee_Bibliographique.unique()):\n",
    "                df_year = df_tmp[df_tmp.Annee_Bibliographique == year].copy().reset_index(drop=True) \n",
    "                avg_y_topic = (df_year.filter(like='topic').T@df_year[dep])/df_year.filter(like='topic').sum()\n",
    "                expected_y = df_year.filter(like='topic')@avg_y_topic\n",
    "                df_year['norm_{}'.format(dep)] = df_year[dep]/expected_y\n",
    "                _ = _.append(df_year)\n",
    "            df = df.merge(_[['id_art','norm_{}'.format(dep)]], how='outer', on='id_art')\n",
    "        return df\n",
    "    \n",
    "    def normalize_disciplines(self):\n",
    "        normalized_df = pd.DataFrame()\n",
    "        for discipline in tqdm(self.disciplines):\n",
    "            _ = self.normalize_by_topic(self.df_papers,discipline)\n",
    "            normalized_df = normalized_df.append(_)\n",
    "        return normalized_df\n",
    "    \n",
    "    def main(self):\n",
    "        \n",
    "        normalized_df = self.normalize_disciplines().reset_index(drop=True)\n",
    "        df_merge = self.prepare_dataset(normalized_df)\n",
    "        return df_merge\n"
   ]
  },
  {
   "cell_type": "code",
   "execution_count": 14,
   "id": "ae4b307a-8833-4d1e-8392-c4b9bf0c0625",
   "metadata": {},
   "outputs": [
    {
     "name": "stderr",
     "output_type": "stream",
     "text": [
      "/tmp/ipykernel_1428/3080512228.py:6: FutureWarning: In a future version of pandas all arguments of DataFrame.drop except for the argument 'labels' will be keyword-only.\n",
      "  df_papers = df_papers.merge(jif, left_on='id_art', right_on='ID_Art').drop(\"ID_Art\", 1)\n"
     ]
    }
   ],
   "source": [
    "#prepare_data = PrepareDataOLS(us_papers,address_clean,cit_2_iac_df,jif)\n",
    "prepare_data = PrepareDataOLS(us_papers,address_clean,jif)"
   ]
  },
  {
   "cell_type": "code",
   "execution_count": 15,
   "id": "9e2e9b3b-0b71-40f1-ad56-5dd97697840a",
   "metadata": {},
   "outputs": [
    {
     "data": {
      "application/vnd.jupyter.widget-view+json": {
       "model_id": "9189cfa94b9c405384ca7d4f3eec3276",
       "version_major": 2,
       "version_minor": 0
      },
      "text/plain": [
       "  0%|          | 0/11 [00:00<?, ?it/s]"
      ]
     },
     "metadata": {},
     "output_type": "display_data"
    },
    {
     "data": {
      "application/vnd.jupyter.widget-view+json": {
       "model_id": "bf7efece87694def9555290953ac4c49",
       "version_major": 2,
       "version_minor": 0
      },
      "text/plain": [
       "  0%|          | 0/11 [00:00<?, ?it/s]"
      ]
     },
     "metadata": {},
     "output_type": "display_data"
    },
    {
     "name": "stderr",
     "output_type": "stream",
     "text": [
      "/tmp/ipykernel_1428/3080512228.py:73: FutureWarning: The frame.append method is deprecated and will be removed from pandas in a future version. Use pandas.concat instead.\n",
      "  _ = _.append(df_year)\n",
      "/tmp/ipykernel_1428/3080512228.py:73: FutureWarning: The frame.append method is deprecated and will be removed from pandas in a future version. Use pandas.concat instead.\n",
      "  _ = _.append(df_year)\n",
      "/tmp/ipykernel_1428/3080512228.py:73: FutureWarning: The frame.append method is deprecated and will be removed from pandas in a future version. Use pandas.concat instead.\n",
      "  _ = _.append(df_year)\n",
      "/tmp/ipykernel_1428/3080512228.py:73: FutureWarning: The frame.append method is deprecated and will be removed from pandas in a future version. Use pandas.concat instead.\n",
      "  _ = _.append(df_year)\n",
      "/tmp/ipykernel_1428/3080512228.py:73: FutureWarning: The frame.append method is deprecated and will be removed from pandas in a future version. Use pandas.concat instead.\n",
      "  _ = _.append(df_year)\n",
      "/tmp/ipykernel_1428/3080512228.py:73: FutureWarning: The frame.append method is deprecated and will be removed from pandas in a future version. Use pandas.concat instead.\n",
      "  _ = _.append(df_year)\n",
      "/tmp/ipykernel_1428/3080512228.py:73: FutureWarning: The frame.append method is deprecated and will be removed from pandas in a future version. Use pandas.concat instead.\n",
      "  _ = _.append(df_year)\n",
      "/tmp/ipykernel_1428/3080512228.py:73: FutureWarning: The frame.append method is deprecated and will be removed from pandas in a future version. Use pandas.concat instead.\n",
      "  _ = _.append(df_year)\n",
      "/tmp/ipykernel_1428/3080512228.py:73: FutureWarning: The frame.append method is deprecated and will be removed from pandas in a future version. Use pandas.concat instead.\n",
      "  _ = _.append(df_year)\n",
      "/tmp/ipykernel_1428/3080512228.py:73: FutureWarning: The frame.append method is deprecated and will be removed from pandas in a future version. Use pandas.concat instead.\n",
      "  _ = _.append(df_year)\n",
      "/tmp/ipykernel_1428/3080512228.py:73: FutureWarning: The frame.append method is deprecated and will be removed from pandas in a future version. Use pandas.concat instead.\n",
      "  _ = _.append(df_year)\n"
     ]
    },
    {
     "data": {
      "application/vnd.jupyter.widget-view+json": {
       "model_id": "35b6a4edf9574846b36da24d12c86b98",
       "version_major": 2,
       "version_minor": 0
      },
      "text/plain": [
       "  0%|          | 0/11 [00:00<?, ?it/s]"
      ]
     },
     "metadata": {},
     "output_type": "display_data"
    },
    {
     "name": "stderr",
     "output_type": "stream",
     "text": [
      "/tmp/ipykernel_1428/3080512228.py:73: FutureWarning: The frame.append method is deprecated and will be removed from pandas in a future version. Use pandas.concat instead.\n",
      "  _ = _.append(df_year)\n",
      "/tmp/ipykernel_1428/3080512228.py:73: FutureWarning: The frame.append method is deprecated and will be removed from pandas in a future version. Use pandas.concat instead.\n",
      "  _ = _.append(df_year)\n",
      "/tmp/ipykernel_1428/3080512228.py:73: FutureWarning: The frame.append method is deprecated and will be removed from pandas in a future version. Use pandas.concat instead.\n",
      "  _ = _.append(df_year)\n",
      "/tmp/ipykernel_1428/3080512228.py:73: FutureWarning: The frame.append method is deprecated and will be removed from pandas in a future version. Use pandas.concat instead.\n",
      "  _ = _.append(df_year)\n",
      "/tmp/ipykernel_1428/3080512228.py:73: FutureWarning: The frame.append method is deprecated and will be removed from pandas in a future version. Use pandas.concat instead.\n",
      "  _ = _.append(df_year)\n",
      "/tmp/ipykernel_1428/3080512228.py:73: FutureWarning: The frame.append method is deprecated and will be removed from pandas in a future version. Use pandas.concat instead.\n",
      "  _ = _.append(df_year)\n",
      "/tmp/ipykernel_1428/3080512228.py:73: FutureWarning: The frame.append method is deprecated and will be removed from pandas in a future version. Use pandas.concat instead.\n",
      "  _ = _.append(df_year)\n",
      "/tmp/ipykernel_1428/3080512228.py:73: FutureWarning: The frame.append method is deprecated and will be removed from pandas in a future version. Use pandas.concat instead.\n",
      "  _ = _.append(df_year)\n",
      "/tmp/ipykernel_1428/3080512228.py:73: FutureWarning: The frame.append method is deprecated and will be removed from pandas in a future version. Use pandas.concat instead.\n",
      "  _ = _.append(df_year)\n",
      "/tmp/ipykernel_1428/3080512228.py:73: FutureWarning: The frame.append method is deprecated and will be removed from pandas in a future version. Use pandas.concat instead.\n",
      "  _ = _.append(df_year)\n",
      "/tmp/ipykernel_1428/3080512228.py:73: FutureWarning: The frame.append method is deprecated and will be removed from pandas in a future version. Use pandas.concat instead.\n",
      "  _ = _.append(df_year)\n",
      "/tmp/ipykernel_1428/3080512228.py:81: FutureWarning: The frame.append method is deprecated and will be removed from pandas in a future version. Use pandas.concat instead.\n",
      "  normalized_df = normalized_df.append(_)\n"
     ]
    },
    {
     "data": {
      "application/vnd.jupyter.widget-view+json": {
       "model_id": "7cb5742abde64512b9dbc8d6a4510648",
       "version_major": 2,
       "version_minor": 0
      },
      "text/plain": [
       "  0%|          | 0/11 [00:00<?, ?it/s]"
      ]
     },
     "metadata": {},
     "output_type": "display_data"
    },
    {
     "name": "stderr",
     "output_type": "stream",
     "text": [
      "/tmp/ipykernel_1428/3080512228.py:73: FutureWarning: The frame.append method is deprecated and will be removed from pandas in a future version. Use pandas.concat instead.\n",
      "  _ = _.append(df_year)\n",
      "/tmp/ipykernel_1428/3080512228.py:73: FutureWarning: The frame.append method is deprecated and will be removed from pandas in a future version. Use pandas.concat instead.\n",
      "  _ = _.append(df_year)\n",
      "/tmp/ipykernel_1428/3080512228.py:73: FutureWarning: The frame.append method is deprecated and will be removed from pandas in a future version. Use pandas.concat instead.\n",
      "  _ = _.append(df_year)\n",
      "/tmp/ipykernel_1428/3080512228.py:73: FutureWarning: The frame.append method is deprecated and will be removed from pandas in a future version. Use pandas.concat instead.\n",
      "  _ = _.append(df_year)\n",
      "/tmp/ipykernel_1428/3080512228.py:73: FutureWarning: The frame.append method is deprecated and will be removed from pandas in a future version. Use pandas.concat instead.\n",
      "  _ = _.append(df_year)\n",
      "/tmp/ipykernel_1428/3080512228.py:73: FutureWarning: The frame.append method is deprecated and will be removed from pandas in a future version. Use pandas.concat instead.\n",
      "  _ = _.append(df_year)\n",
      "/tmp/ipykernel_1428/3080512228.py:73: FutureWarning: The frame.append method is deprecated and will be removed from pandas in a future version. Use pandas.concat instead.\n",
      "  _ = _.append(df_year)\n",
      "/tmp/ipykernel_1428/3080512228.py:73: FutureWarning: The frame.append method is deprecated and will be removed from pandas in a future version. Use pandas.concat instead.\n",
      "  _ = _.append(df_year)\n",
      "/tmp/ipykernel_1428/3080512228.py:73: FutureWarning: The frame.append method is deprecated and will be removed from pandas in a future version. Use pandas.concat instead.\n",
      "  _ = _.append(df_year)\n",
      "/tmp/ipykernel_1428/3080512228.py:73: FutureWarning: The frame.append method is deprecated and will be removed from pandas in a future version. Use pandas.concat instead.\n",
      "  _ = _.append(df_year)\n",
      "/tmp/ipykernel_1428/3080512228.py:73: FutureWarning: The frame.append method is deprecated and will be removed from pandas in a future version. Use pandas.concat instead.\n",
      "  _ = _.append(df_year)\n"
     ]
    },
    {
     "data": {
      "application/vnd.jupyter.widget-view+json": {
       "model_id": "4f00dfd511964ad5955c7bc0c77f19c0",
       "version_major": 2,
       "version_minor": 0
      },
      "text/plain": [
       "  0%|          | 0/11 [00:00<?, ?it/s]"
      ]
     },
     "metadata": {},
     "output_type": "display_data"
    },
    {
     "name": "stderr",
     "output_type": "stream",
     "text": [
      "/tmp/ipykernel_1428/3080512228.py:73: FutureWarning: The frame.append method is deprecated and will be removed from pandas in a future version. Use pandas.concat instead.\n",
      "  _ = _.append(df_year)\n",
      "/tmp/ipykernel_1428/3080512228.py:73: FutureWarning: The frame.append method is deprecated and will be removed from pandas in a future version. Use pandas.concat instead.\n",
      "  _ = _.append(df_year)\n",
      "/tmp/ipykernel_1428/3080512228.py:73: FutureWarning: The frame.append method is deprecated and will be removed from pandas in a future version. Use pandas.concat instead.\n",
      "  _ = _.append(df_year)\n",
      "/tmp/ipykernel_1428/3080512228.py:73: FutureWarning: The frame.append method is deprecated and will be removed from pandas in a future version. Use pandas.concat instead.\n",
      "  _ = _.append(df_year)\n",
      "/tmp/ipykernel_1428/3080512228.py:73: FutureWarning: The frame.append method is deprecated and will be removed from pandas in a future version. Use pandas.concat instead.\n",
      "  _ = _.append(df_year)\n",
      "/tmp/ipykernel_1428/3080512228.py:73: FutureWarning: The frame.append method is deprecated and will be removed from pandas in a future version. Use pandas.concat instead.\n",
      "  _ = _.append(df_year)\n",
      "/tmp/ipykernel_1428/3080512228.py:73: FutureWarning: The frame.append method is deprecated and will be removed from pandas in a future version. Use pandas.concat instead.\n",
      "  _ = _.append(df_year)\n",
      "/tmp/ipykernel_1428/3080512228.py:73: FutureWarning: The frame.append method is deprecated and will be removed from pandas in a future version. Use pandas.concat instead.\n",
      "  _ = _.append(df_year)\n",
      "/tmp/ipykernel_1428/3080512228.py:73: FutureWarning: The frame.append method is deprecated and will be removed from pandas in a future version. Use pandas.concat instead.\n",
      "  _ = _.append(df_year)\n",
      "/tmp/ipykernel_1428/3080512228.py:73: FutureWarning: The frame.append method is deprecated and will be removed from pandas in a future version. Use pandas.concat instead.\n",
      "  _ = _.append(df_year)\n",
      "/tmp/ipykernel_1428/3080512228.py:73: FutureWarning: The frame.append method is deprecated and will be removed from pandas in a future version. Use pandas.concat instead.\n",
      "  _ = _.append(df_year)\n",
      "/tmp/ipykernel_1428/3080512228.py:81: FutureWarning: The frame.append method is deprecated and will be removed from pandas in a future version. Use pandas.concat instead.\n",
      "  normalized_df = normalized_df.append(_)\n"
     ]
    },
    {
     "data": {
      "application/vnd.jupyter.widget-view+json": {
       "model_id": "86b9e17e28054e9ca36c1948b80ef596",
       "version_major": 2,
       "version_minor": 0
      },
      "text/plain": [
       "  0%|          | 0/11 [00:00<?, ?it/s]"
      ]
     },
     "metadata": {},
     "output_type": "display_data"
    },
    {
     "name": "stderr",
     "output_type": "stream",
     "text": [
      "/tmp/ipykernel_1428/3080512228.py:73: FutureWarning: The frame.append method is deprecated and will be removed from pandas in a future version. Use pandas.concat instead.\n",
      "  _ = _.append(df_year)\n",
      "/tmp/ipykernel_1428/3080512228.py:73: FutureWarning: The frame.append method is deprecated and will be removed from pandas in a future version. Use pandas.concat instead.\n",
      "  _ = _.append(df_year)\n",
      "/tmp/ipykernel_1428/3080512228.py:73: FutureWarning: The frame.append method is deprecated and will be removed from pandas in a future version. Use pandas.concat instead.\n",
      "  _ = _.append(df_year)\n",
      "/tmp/ipykernel_1428/3080512228.py:73: FutureWarning: The frame.append method is deprecated and will be removed from pandas in a future version. Use pandas.concat instead.\n",
      "  _ = _.append(df_year)\n",
      "/tmp/ipykernel_1428/3080512228.py:73: FutureWarning: The frame.append method is deprecated and will be removed from pandas in a future version. Use pandas.concat instead.\n",
      "  _ = _.append(df_year)\n",
      "/tmp/ipykernel_1428/3080512228.py:73: FutureWarning: The frame.append method is deprecated and will be removed from pandas in a future version. Use pandas.concat instead.\n",
      "  _ = _.append(df_year)\n",
      "/tmp/ipykernel_1428/3080512228.py:73: FutureWarning: The frame.append method is deprecated and will be removed from pandas in a future version. Use pandas.concat instead.\n",
      "  _ = _.append(df_year)\n",
      "/tmp/ipykernel_1428/3080512228.py:73: FutureWarning: The frame.append method is deprecated and will be removed from pandas in a future version. Use pandas.concat instead.\n",
      "  _ = _.append(df_year)\n",
      "/tmp/ipykernel_1428/3080512228.py:73: FutureWarning: The frame.append method is deprecated and will be removed from pandas in a future version. Use pandas.concat instead.\n",
      "  _ = _.append(df_year)\n",
      "/tmp/ipykernel_1428/3080512228.py:73: FutureWarning: The frame.append method is deprecated and will be removed from pandas in a future version. Use pandas.concat instead.\n",
      "  _ = _.append(df_year)\n",
      "/tmp/ipykernel_1428/3080512228.py:73: FutureWarning: The frame.append method is deprecated and will be removed from pandas in a future version. Use pandas.concat instead.\n",
      "  _ = _.append(df_year)\n"
     ]
    },
    {
     "data": {
      "application/vnd.jupyter.widget-view+json": {
       "model_id": "49aae4cf98a34e969041491326a71ea4",
       "version_major": 2,
       "version_minor": 0
      },
      "text/plain": [
       "  0%|          | 0/11 [00:00<?, ?it/s]"
      ]
     },
     "metadata": {},
     "output_type": "display_data"
    },
    {
     "name": "stderr",
     "output_type": "stream",
     "text": [
      "/tmp/ipykernel_1428/3080512228.py:73: FutureWarning: The frame.append method is deprecated and will be removed from pandas in a future version. Use pandas.concat instead.\n",
      "  _ = _.append(df_year)\n",
      "/tmp/ipykernel_1428/3080512228.py:73: FutureWarning: The frame.append method is deprecated and will be removed from pandas in a future version. Use pandas.concat instead.\n",
      "  _ = _.append(df_year)\n",
      "/tmp/ipykernel_1428/3080512228.py:73: FutureWarning: The frame.append method is deprecated and will be removed from pandas in a future version. Use pandas.concat instead.\n",
      "  _ = _.append(df_year)\n",
      "/tmp/ipykernel_1428/3080512228.py:73: FutureWarning: The frame.append method is deprecated and will be removed from pandas in a future version. Use pandas.concat instead.\n",
      "  _ = _.append(df_year)\n",
      "/tmp/ipykernel_1428/3080512228.py:73: FutureWarning: The frame.append method is deprecated and will be removed from pandas in a future version. Use pandas.concat instead.\n",
      "  _ = _.append(df_year)\n",
      "/tmp/ipykernel_1428/3080512228.py:73: FutureWarning: The frame.append method is deprecated and will be removed from pandas in a future version. Use pandas.concat instead.\n",
      "  _ = _.append(df_year)\n",
      "/tmp/ipykernel_1428/3080512228.py:73: FutureWarning: The frame.append method is deprecated and will be removed from pandas in a future version. Use pandas.concat instead.\n",
      "  _ = _.append(df_year)\n",
      "/tmp/ipykernel_1428/3080512228.py:73: FutureWarning: The frame.append method is deprecated and will be removed from pandas in a future version. Use pandas.concat instead.\n",
      "  _ = _.append(df_year)\n",
      "/tmp/ipykernel_1428/3080512228.py:73: FutureWarning: The frame.append method is deprecated and will be removed from pandas in a future version. Use pandas.concat instead.\n",
      "  _ = _.append(df_year)\n",
      "/tmp/ipykernel_1428/3080512228.py:73: FutureWarning: The frame.append method is deprecated and will be removed from pandas in a future version. Use pandas.concat instead.\n",
      "  _ = _.append(df_year)\n",
      "/tmp/ipykernel_1428/3080512228.py:73: FutureWarning: The frame.append method is deprecated and will be removed from pandas in a future version. Use pandas.concat instead.\n",
      "  _ = _.append(df_year)\n",
      "/tmp/ipykernel_1428/3080512228.py:81: FutureWarning: The frame.append method is deprecated and will be removed from pandas in a future version. Use pandas.concat instead.\n",
      "  normalized_df = normalized_df.append(_)\n"
     ]
    },
    {
     "data": {
      "application/vnd.jupyter.widget-view+json": {
       "model_id": "2cda3918ea6a485cad24c4a66a7676a6",
       "version_major": 2,
       "version_minor": 0
      },
      "text/plain": [
       "  0%|          | 0/11 [00:00<?, ?it/s]"
      ]
     },
     "metadata": {},
     "output_type": "display_data"
    },
    {
     "name": "stderr",
     "output_type": "stream",
     "text": [
      "/tmp/ipykernel_1428/3080512228.py:73: FutureWarning: The frame.append method is deprecated and will be removed from pandas in a future version. Use pandas.concat instead.\n",
      "  _ = _.append(df_year)\n",
      "/tmp/ipykernel_1428/3080512228.py:73: FutureWarning: The frame.append method is deprecated and will be removed from pandas in a future version. Use pandas.concat instead.\n",
      "  _ = _.append(df_year)\n",
      "/tmp/ipykernel_1428/3080512228.py:73: FutureWarning: The frame.append method is deprecated and will be removed from pandas in a future version. Use pandas.concat instead.\n",
      "  _ = _.append(df_year)\n",
      "/tmp/ipykernel_1428/3080512228.py:73: FutureWarning: The frame.append method is deprecated and will be removed from pandas in a future version. Use pandas.concat instead.\n",
      "  _ = _.append(df_year)\n",
      "/tmp/ipykernel_1428/3080512228.py:73: FutureWarning: The frame.append method is deprecated and will be removed from pandas in a future version. Use pandas.concat instead.\n",
      "  _ = _.append(df_year)\n",
      "/tmp/ipykernel_1428/3080512228.py:73: FutureWarning: The frame.append method is deprecated and will be removed from pandas in a future version. Use pandas.concat instead.\n",
      "  _ = _.append(df_year)\n",
      "/tmp/ipykernel_1428/3080512228.py:73: FutureWarning: The frame.append method is deprecated and will be removed from pandas in a future version. Use pandas.concat instead.\n",
      "  _ = _.append(df_year)\n",
      "/tmp/ipykernel_1428/3080512228.py:73: FutureWarning: The frame.append method is deprecated and will be removed from pandas in a future version. Use pandas.concat instead.\n",
      "  _ = _.append(df_year)\n",
      "/tmp/ipykernel_1428/3080512228.py:73: FutureWarning: The frame.append method is deprecated and will be removed from pandas in a future version. Use pandas.concat instead.\n",
      "  _ = _.append(df_year)\n",
      "/tmp/ipykernel_1428/3080512228.py:73: FutureWarning: The frame.append method is deprecated and will be removed from pandas in a future version. Use pandas.concat instead.\n",
      "  _ = _.append(df_year)\n",
      "/tmp/ipykernel_1428/3080512228.py:73: FutureWarning: The frame.append method is deprecated and will be removed from pandas in a future version. Use pandas.concat instead.\n",
      "  _ = _.append(df_year)\n"
     ]
    },
    {
     "data": {
      "application/vnd.jupyter.widget-view+json": {
       "model_id": "b953cecbecfb494498e21dec8cf17245",
       "version_major": 2,
       "version_minor": 0
      },
      "text/plain": [
       "  0%|          | 0/11 [00:00<?, ?it/s]"
      ]
     },
     "metadata": {},
     "output_type": "display_data"
    },
    {
     "name": "stderr",
     "output_type": "stream",
     "text": [
      "/tmp/ipykernel_1428/3080512228.py:73: FutureWarning: The frame.append method is deprecated and will be removed from pandas in a future version. Use pandas.concat instead.\n",
      "  _ = _.append(df_year)\n",
      "/tmp/ipykernel_1428/3080512228.py:73: FutureWarning: The frame.append method is deprecated and will be removed from pandas in a future version. Use pandas.concat instead.\n",
      "  _ = _.append(df_year)\n",
      "/tmp/ipykernel_1428/3080512228.py:73: FutureWarning: The frame.append method is deprecated and will be removed from pandas in a future version. Use pandas.concat instead.\n",
      "  _ = _.append(df_year)\n",
      "/tmp/ipykernel_1428/3080512228.py:73: FutureWarning: The frame.append method is deprecated and will be removed from pandas in a future version. Use pandas.concat instead.\n",
      "  _ = _.append(df_year)\n",
      "/tmp/ipykernel_1428/3080512228.py:73: FutureWarning: The frame.append method is deprecated and will be removed from pandas in a future version. Use pandas.concat instead.\n",
      "  _ = _.append(df_year)\n",
      "/tmp/ipykernel_1428/3080512228.py:73: FutureWarning: The frame.append method is deprecated and will be removed from pandas in a future version. Use pandas.concat instead.\n",
      "  _ = _.append(df_year)\n",
      "/tmp/ipykernel_1428/3080512228.py:73: FutureWarning: The frame.append method is deprecated and will be removed from pandas in a future version. Use pandas.concat instead.\n",
      "  _ = _.append(df_year)\n",
      "/tmp/ipykernel_1428/3080512228.py:73: FutureWarning: The frame.append method is deprecated and will be removed from pandas in a future version. Use pandas.concat instead.\n",
      "  _ = _.append(df_year)\n",
      "/tmp/ipykernel_1428/3080512228.py:73: FutureWarning: The frame.append method is deprecated and will be removed from pandas in a future version. Use pandas.concat instead.\n",
      "  _ = _.append(df_year)\n",
      "/tmp/ipykernel_1428/3080512228.py:73: FutureWarning: The frame.append method is deprecated and will be removed from pandas in a future version. Use pandas.concat instead.\n",
      "  _ = _.append(df_year)\n",
      "/tmp/ipykernel_1428/3080512228.py:73: FutureWarning: The frame.append method is deprecated and will be removed from pandas in a future version. Use pandas.concat instead.\n",
      "  _ = _.append(df_year)\n",
      "/tmp/ipykernel_1428/3080512228.py:81: FutureWarning: The frame.append method is deprecated and will be removed from pandas in a future version. Use pandas.concat instead.\n",
      "  normalized_df = normalized_df.append(_)\n"
     ]
    },
    {
     "data": {
      "application/vnd.jupyter.widget-view+json": {
       "model_id": "e7fdb3cdf943438fb2cf935796813bbe",
       "version_major": 2,
       "version_minor": 0
      },
      "text/plain": [
       "  0%|          | 0/11 [00:00<?, ?it/s]"
      ]
     },
     "metadata": {},
     "output_type": "display_data"
    },
    {
     "name": "stderr",
     "output_type": "stream",
     "text": [
      "/tmp/ipykernel_1428/3080512228.py:73: FutureWarning: The frame.append method is deprecated and will be removed from pandas in a future version. Use pandas.concat instead.\n",
      "  _ = _.append(df_year)\n",
      "/tmp/ipykernel_1428/3080512228.py:73: FutureWarning: The frame.append method is deprecated and will be removed from pandas in a future version. Use pandas.concat instead.\n",
      "  _ = _.append(df_year)\n",
      "/tmp/ipykernel_1428/3080512228.py:73: FutureWarning: The frame.append method is deprecated and will be removed from pandas in a future version. Use pandas.concat instead.\n",
      "  _ = _.append(df_year)\n",
      "/tmp/ipykernel_1428/3080512228.py:73: FutureWarning: The frame.append method is deprecated and will be removed from pandas in a future version. Use pandas.concat instead.\n",
      "  _ = _.append(df_year)\n",
      "/tmp/ipykernel_1428/3080512228.py:73: FutureWarning: The frame.append method is deprecated and will be removed from pandas in a future version. Use pandas.concat instead.\n",
      "  _ = _.append(df_year)\n",
      "/tmp/ipykernel_1428/3080512228.py:73: FutureWarning: The frame.append method is deprecated and will be removed from pandas in a future version. Use pandas.concat instead.\n",
      "  _ = _.append(df_year)\n",
      "/tmp/ipykernel_1428/3080512228.py:73: FutureWarning: The frame.append method is deprecated and will be removed from pandas in a future version. Use pandas.concat instead.\n",
      "  _ = _.append(df_year)\n",
      "/tmp/ipykernel_1428/3080512228.py:73: FutureWarning: The frame.append method is deprecated and will be removed from pandas in a future version. Use pandas.concat instead.\n",
      "  _ = _.append(df_year)\n",
      "/tmp/ipykernel_1428/3080512228.py:73: FutureWarning: The frame.append method is deprecated and will be removed from pandas in a future version. Use pandas.concat instead.\n",
      "  _ = _.append(df_year)\n",
      "/tmp/ipykernel_1428/3080512228.py:73: FutureWarning: The frame.append method is deprecated and will be removed from pandas in a future version. Use pandas.concat instead.\n",
      "  _ = _.append(df_year)\n",
      "/tmp/ipykernel_1428/3080512228.py:73: FutureWarning: The frame.append method is deprecated and will be removed from pandas in a future version. Use pandas.concat instead.\n",
      "  _ = _.append(df_year)\n"
     ]
    },
    {
     "data": {
      "application/vnd.jupyter.widget-view+json": {
       "model_id": "d723e1ecddf24c6cb4acfc25a139bb84",
       "version_major": 2,
       "version_minor": 0
      },
      "text/plain": [
       "  0%|          | 0/11 [00:00<?, ?it/s]"
      ]
     },
     "metadata": {},
     "output_type": "display_data"
    },
    {
     "name": "stderr",
     "output_type": "stream",
     "text": [
      "/tmp/ipykernel_1428/3080512228.py:73: FutureWarning: The frame.append method is deprecated and will be removed from pandas in a future version. Use pandas.concat instead.\n",
      "  _ = _.append(df_year)\n",
      "/tmp/ipykernel_1428/3080512228.py:73: FutureWarning: The frame.append method is deprecated and will be removed from pandas in a future version. Use pandas.concat instead.\n",
      "  _ = _.append(df_year)\n",
      "/tmp/ipykernel_1428/3080512228.py:73: FutureWarning: The frame.append method is deprecated and will be removed from pandas in a future version. Use pandas.concat instead.\n",
      "  _ = _.append(df_year)\n",
      "/tmp/ipykernel_1428/3080512228.py:73: FutureWarning: The frame.append method is deprecated and will be removed from pandas in a future version. Use pandas.concat instead.\n",
      "  _ = _.append(df_year)\n",
      "/tmp/ipykernel_1428/3080512228.py:73: FutureWarning: The frame.append method is deprecated and will be removed from pandas in a future version. Use pandas.concat instead.\n",
      "  _ = _.append(df_year)\n",
      "/tmp/ipykernel_1428/3080512228.py:73: FutureWarning: The frame.append method is deprecated and will be removed from pandas in a future version. Use pandas.concat instead.\n",
      "  _ = _.append(df_year)\n",
      "/tmp/ipykernel_1428/3080512228.py:73: FutureWarning: The frame.append method is deprecated and will be removed from pandas in a future version. Use pandas.concat instead.\n",
      "  _ = _.append(df_year)\n",
      "/tmp/ipykernel_1428/3080512228.py:73: FutureWarning: The frame.append method is deprecated and will be removed from pandas in a future version. Use pandas.concat instead.\n",
      "  _ = _.append(df_year)\n",
      "/tmp/ipykernel_1428/3080512228.py:73: FutureWarning: The frame.append method is deprecated and will be removed from pandas in a future version. Use pandas.concat instead.\n",
      "  _ = _.append(df_year)\n",
      "/tmp/ipykernel_1428/3080512228.py:73: FutureWarning: The frame.append method is deprecated and will be removed from pandas in a future version. Use pandas.concat instead.\n",
      "  _ = _.append(df_year)\n",
      "/tmp/ipykernel_1428/3080512228.py:73: FutureWarning: The frame.append method is deprecated and will be removed from pandas in a future version. Use pandas.concat instead.\n",
      "  _ = _.append(df_year)\n",
      "/tmp/ipykernel_1428/3080512228.py:81: FutureWarning: The frame.append method is deprecated and will be removed from pandas in a future version. Use pandas.concat instead.\n",
      "  normalized_df = normalized_df.append(_)\n"
     ]
    },
    {
     "data": {
      "application/vnd.jupyter.widget-view+json": {
       "model_id": "021ea1e5b8304255be647d34b9c7689d",
       "version_major": 2,
       "version_minor": 0
      },
      "text/plain": [
       "  0%|          | 0/11 [00:00<?, ?it/s]"
      ]
     },
     "metadata": {},
     "output_type": "display_data"
    },
    {
     "name": "stderr",
     "output_type": "stream",
     "text": [
      "/tmp/ipykernel_1428/3080512228.py:73: FutureWarning: The frame.append method is deprecated and will be removed from pandas in a future version. Use pandas.concat instead.\n",
      "  _ = _.append(df_year)\n",
      "/tmp/ipykernel_1428/3080512228.py:73: FutureWarning: The frame.append method is deprecated and will be removed from pandas in a future version. Use pandas.concat instead.\n",
      "  _ = _.append(df_year)\n",
      "/tmp/ipykernel_1428/3080512228.py:73: FutureWarning: The frame.append method is deprecated and will be removed from pandas in a future version. Use pandas.concat instead.\n",
      "  _ = _.append(df_year)\n",
      "/tmp/ipykernel_1428/3080512228.py:73: FutureWarning: The frame.append method is deprecated and will be removed from pandas in a future version. Use pandas.concat instead.\n",
      "  _ = _.append(df_year)\n",
      "/tmp/ipykernel_1428/3080512228.py:73: FutureWarning: The frame.append method is deprecated and will be removed from pandas in a future version. Use pandas.concat instead.\n",
      "  _ = _.append(df_year)\n",
      "/tmp/ipykernel_1428/3080512228.py:73: FutureWarning: The frame.append method is deprecated and will be removed from pandas in a future version. Use pandas.concat instead.\n",
      "  _ = _.append(df_year)\n",
      "/tmp/ipykernel_1428/3080512228.py:73: FutureWarning: The frame.append method is deprecated and will be removed from pandas in a future version. Use pandas.concat instead.\n",
      "  _ = _.append(df_year)\n",
      "/tmp/ipykernel_1428/3080512228.py:73: FutureWarning: The frame.append method is deprecated and will be removed from pandas in a future version. Use pandas.concat instead.\n",
      "  _ = _.append(df_year)\n",
      "/tmp/ipykernel_1428/3080512228.py:73: FutureWarning: The frame.append method is deprecated and will be removed from pandas in a future version. Use pandas.concat instead.\n",
      "  _ = _.append(df_year)\n",
      "/tmp/ipykernel_1428/3080512228.py:73: FutureWarning: The frame.append method is deprecated and will be removed from pandas in a future version. Use pandas.concat instead.\n",
      "  _ = _.append(df_year)\n",
      "/tmp/ipykernel_1428/3080512228.py:73: FutureWarning: The frame.append method is deprecated and will be removed from pandas in a future version. Use pandas.concat instead.\n",
      "  _ = _.append(df_year)\n"
     ]
    },
    {
     "data": {
      "application/vnd.jupyter.widget-view+json": {
       "model_id": "1965c4d78741428880070c43e549c2d8",
       "version_major": 2,
       "version_minor": 0
      },
      "text/plain": [
       "  0%|          | 0/11 [00:00<?, ?it/s]"
      ]
     },
     "metadata": {},
     "output_type": "display_data"
    },
    {
     "name": "stderr",
     "output_type": "stream",
     "text": [
      "/tmp/ipykernel_1428/3080512228.py:73: FutureWarning: The frame.append method is deprecated and will be removed from pandas in a future version. Use pandas.concat instead.\n",
      "  _ = _.append(df_year)\n",
      "/tmp/ipykernel_1428/3080512228.py:73: FutureWarning: The frame.append method is deprecated and will be removed from pandas in a future version. Use pandas.concat instead.\n",
      "  _ = _.append(df_year)\n",
      "/tmp/ipykernel_1428/3080512228.py:73: FutureWarning: The frame.append method is deprecated and will be removed from pandas in a future version. Use pandas.concat instead.\n",
      "  _ = _.append(df_year)\n",
      "/tmp/ipykernel_1428/3080512228.py:73: FutureWarning: The frame.append method is deprecated and will be removed from pandas in a future version. Use pandas.concat instead.\n",
      "  _ = _.append(df_year)\n",
      "/tmp/ipykernel_1428/3080512228.py:73: FutureWarning: The frame.append method is deprecated and will be removed from pandas in a future version. Use pandas.concat instead.\n",
      "  _ = _.append(df_year)\n",
      "/tmp/ipykernel_1428/3080512228.py:73: FutureWarning: The frame.append method is deprecated and will be removed from pandas in a future version. Use pandas.concat instead.\n",
      "  _ = _.append(df_year)\n",
      "/tmp/ipykernel_1428/3080512228.py:73: FutureWarning: The frame.append method is deprecated and will be removed from pandas in a future version. Use pandas.concat instead.\n",
      "  _ = _.append(df_year)\n",
      "/tmp/ipykernel_1428/3080512228.py:73: FutureWarning: The frame.append method is deprecated and will be removed from pandas in a future version. Use pandas.concat instead.\n",
      "  _ = _.append(df_year)\n",
      "/tmp/ipykernel_1428/3080512228.py:73: FutureWarning: The frame.append method is deprecated and will be removed from pandas in a future version. Use pandas.concat instead.\n",
      "  _ = _.append(df_year)\n",
      "/tmp/ipykernel_1428/3080512228.py:73: FutureWarning: The frame.append method is deprecated and will be removed from pandas in a future version. Use pandas.concat instead.\n",
      "  _ = _.append(df_year)\n",
      "/tmp/ipykernel_1428/3080512228.py:73: FutureWarning: The frame.append method is deprecated and will be removed from pandas in a future version. Use pandas.concat instead.\n",
      "  _ = _.append(df_year)\n",
      "/tmp/ipykernel_1428/3080512228.py:81: FutureWarning: The frame.append method is deprecated and will be removed from pandas in a future version. Use pandas.concat instead.\n",
      "  normalized_df = normalized_df.append(_)\n"
     ]
    },
    {
     "data": {
      "application/vnd.jupyter.widget-view+json": {
       "model_id": "9bf55a9971804817906a371393431f99",
       "version_major": 2,
       "version_minor": 0
      },
      "text/plain": [
       "  0%|          | 0/11 [00:00<?, ?it/s]"
      ]
     },
     "metadata": {},
     "output_type": "display_data"
    },
    {
     "name": "stderr",
     "output_type": "stream",
     "text": [
      "/tmp/ipykernel_1428/3080512228.py:73: FutureWarning: The frame.append method is deprecated and will be removed from pandas in a future version. Use pandas.concat instead.\n",
      "  _ = _.append(df_year)\n",
      "/tmp/ipykernel_1428/3080512228.py:73: FutureWarning: The frame.append method is deprecated and will be removed from pandas in a future version. Use pandas.concat instead.\n",
      "  _ = _.append(df_year)\n",
      "/tmp/ipykernel_1428/3080512228.py:73: FutureWarning: The frame.append method is deprecated and will be removed from pandas in a future version. Use pandas.concat instead.\n",
      "  _ = _.append(df_year)\n",
      "/tmp/ipykernel_1428/3080512228.py:73: FutureWarning: The frame.append method is deprecated and will be removed from pandas in a future version. Use pandas.concat instead.\n",
      "  _ = _.append(df_year)\n",
      "/tmp/ipykernel_1428/3080512228.py:73: FutureWarning: The frame.append method is deprecated and will be removed from pandas in a future version. Use pandas.concat instead.\n",
      "  _ = _.append(df_year)\n",
      "/tmp/ipykernel_1428/3080512228.py:73: FutureWarning: The frame.append method is deprecated and will be removed from pandas in a future version. Use pandas.concat instead.\n",
      "  _ = _.append(df_year)\n",
      "/tmp/ipykernel_1428/3080512228.py:73: FutureWarning: The frame.append method is deprecated and will be removed from pandas in a future version. Use pandas.concat instead.\n",
      "  _ = _.append(df_year)\n",
      "/tmp/ipykernel_1428/3080512228.py:73: FutureWarning: The frame.append method is deprecated and will be removed from pandas in a future version. Use pandas.concat instead.\n",
      "  _ = _.append(df_year)\n",
      "/tmp/ipykernel_1428/3080512228.py:73: FutureWarning: The frame.append method is deprecated and will be removed from pandas in a future version. Use pandas.concat instead.\n",
      "  _ = _.append(df_year)\n",
      "/tmp/ipykernel_1428/3080512228.py:73: FutureWarning: The frame.append method is deprecated and will be removed from pandas in a future version. Use pandas.concat instead.\n",
      "  _ = _.append(df_year)\n",
      "/tmp/ipykernel_1428/3080512228.py:73: FutureWarning: The frame.append method is deprecated and will be removed from pandas in a future version. Use pandas.concat instead.\n",
      "  _ = _.append(df_year)\n"
     ]
    },
    {
     "data": {
      "application/vnd.jupyter.widget-view+json": {
       "model_id": "8a147d5b157b48cca4d2f4097ae3e03d",
       "version_major": 2,
       "version_minor": 0
      },
      "text/plain": [
       "  0%|          | 0/11 [00:00<?, ?it/s]"
      ]
     },
     "metadata": {},
     "output_type": "display_data"
    },
    {
     "name": "stderr",
     "output_type": "stream",
     "text": [
      "/tmp/ipykernel_1428/3080512228.py:73: FutureWarning: The frame.append method is deprecated and will be removed from pandas in a future version. Use pandas.concat instead.\n",
      "  _ = _.append(df_year)\n",
      "/tmp/ipykernel_1428/3080512228.py:73: FutureWarning: The frame.append method is deprecated and will be removed from pandas in a future version. Use pandas.concat instead.\n",
      "  _ = _.append(df_year)\n",
      "/tmp/ipykernel_1428/3080512228.py:73: FutureWarning: The frame.append method is deprecated and will be removed from pandas in a future version. Use pandas.concat instead.\n",
      "  _ = _.append(df_year)\n",
      "/tmp/ipykernel_1428/3080512228.py:73: FutureWarning: The frame.append method is deprecated and will be removed from pandas in a future version. Use pandas.concat instead.\n",
      "  _ = _.append(df_year)\n",
      "/tmp/ipykernel_1428/3080512228.py:73: FutureWarning: The frame.append method is deprecated and will be removed from pandas in a future version. Use pandas.concat instead.\n",
      "  _ = _.append(df_year)\n",
      "/tmp/ipykernel_1428/3080512228.py:73: FutureWarning: The frame.append method is deprecated and will be removed from pandas in a future version. Use pandas.concat instead.\n",
      "  _ = _.append(df_year)\n",
      "/tmp/ipykernel_1428/3080512228.py:73: FutureWarning: The frame.append method is deprecated and will be removed from pandas in a future version. Use pandas.concat instead.\n",
      "  _ = _.append(df_year)\n",
      "/tmp/ipykernel_1428/3080512228.py:73: FutureWarning: The frame.append method is deprecated and will be removed from pandas in a future version. Use pandas.concat instead.\n",
      "  _ = _.append(df_year)\n",
      "/tmp/ipykernel_1428/3080512228.py:73: FutureWarning: The frame.append method is deprecated and will be removed from pandas in a future version. Use pandas.concat instead.\n",
      "  _ = _.append(df_year)\n",
      "/tmp/ipykernel_1428/3080512228.py:73: FutureWarning: The frame.append method is deprecated and will be removed from pandas in a future version. Use pandas.concat instead.\n",
      "  _ = _.append(df_year)\n",
      "/tmp/ipykernel_1428/3080512228.py:73: FutureWarning: The frame.append method is deprecated and will be removed from pandas in a future version. Use pandas.concat instead.\n",
      "  _ = _.append(df_year)\n",
      "/tmp/ipykernel_1428/3080512228.py:81: FutureWarning: The frame.append method is deprecated and will be removed from pandas in a future version. Use pandas.concat instead.\n",
      "  normalized_df = normalized_df.append(_)\n"
     ]
    },
    {
     "data": {
      "application/vnd.jupyter.widget-view+json": {
       "model_id": "90662eded3b54ee7919f0d9f14d8a378",
       "version_major": 2,
       "version_minor": 0
      },
      "text/plain": [
       "  0%|          | 0/11 [00:00<?, ?it/s]"
      ]
     },
     "metadata": {},
     "output_type": "display_data"
    },
    {
     "name": "stderr",
     "output_type": "stream",
     "text": [
      "/tmp/ipykernel_1428/3080512228.py:73: FutureWarning: The frame.append method is deprecated and will be removed from pandas in a future version. Use pandas.concat instead.\n",
      "  _ = _.append(df_year)\n",
      "/tmp/ipykernel_1428/3080512228.py:73: FutureWarning: The frame.append method is deprecated and will be removed from pandas in a future version. Use pandas.concat instead.\n",
      "  _ = _.append(df_year)\n",
      "/tmp/ipykernel_1428/3080512228.py:73: FutureWarning: The frame.append method is deprecated and will be removed from pandas in a future version. Use pandas.concat instead.\n",
      "  _ = _.append(df_year)\n",
      "/tmp/ipykernel_1428/3080512228.py:73: FutureWarning: The frame.append method is deprecated and will be removed from pandas in a future version. Use pandas.concat instead.\n",
      "  _ = _.append(df_year)\n",
      "/tmp/ipykernel_1428/3080512228.py:73: FutureWarning: The frame.append method is deprecated and will be removed from pandas in a future version. Use pandas.concat instead.\n",
      "  _ = _.append(df_year)\n",
      "/tmp/ipykernel_1428/3080512228.py:73: FutureWarning: The frame.append method is deprecated and will be removed from pandas in a future version. Use pandas.concat instead.\n",
      "  _ = _.append(df_year)\n",
      "/tmp/ipykernel_1428/3080512228.py:73: FutureWarning: The frame.append method is deprecated and will be removed from pandas in a future version. Use pandas.concat instead.\n",
      "  _ = _.append(df_year)\n",
      "/tmp/ipykernel_1428/3080512228.py:73: FutureWarning: The frame.append method is deprecated and will be removed from pandas in a future version. Use pandas.concat instead.\n",
      "  _ = _.append(df_year)\n",
      "/tmp/ipykernel_1428/3080512228.py:73: FutureWarning: The frame.append method is deprecated and will be removed from pandas in a future version. Use pandas.concat instead.\n",
      "  _ = _.append(df_year)\n",
      "/tmp/ipykernel_1428/3080512228.py:73: FutureWarning: The frame.append method is deprecated and will be removed from pandas in a future version. Use pandas.concat instead.\n",
      "  _ = _.append(df_year)\n",
      "/tmp/ipykernel_1428/3080512228.py:73: FutureWarning: The frame.append method is deprecated and will be removed from pandas in a future version. Use pandas.concat instead.\n",
      "  _ = _.append(df_year)\n"
     ]
    },
    {
     "data": {
      "application/vnd.jupyter.widget-view+json": {
       "model_id": "9be36ed90fd14e4895fbacefb3029342",
       "version_major": 2,
       "version_minor": 0
      },
      "text/plain": [
       "  0%|          | 0/11 [00:00<?, ?it/s]"
      ]
     },
     "metadata": {},
     "output_type": "display_data"
    },
    {
     "name": "stderr",
     "output_type": "stream",
     "text": [
      "/tmp/ipykernel_1428/3080512228.py:73: FutureWarning: The frame.append method is deprecated and will be removed from pandas in a future version. Use pandas.concat instead.\n",
      "  _ = _.append(df_year)\n",
      "/tmp/ipykernel_1428/3080512228.py:73: FutureWarning: The frame.append method is deprecated and will be removed from pandas in a future version. Use pandas.concat instead.\n",
      "  _ = _.append(df_year)\n",
      "/tmp/ipykernel_1428/3080512228.py:73: FutureWarning: The frame.append method is deprecated and will be removed from pandas in a future version. Use pandas.concat instead.\n",
      "  _ = _.append(df_year)\n",
      "/tmp/ipykernel_1428/3080512228.py:73: FutureWarning: The frame.append method is deprecated and will be removed from pandas in a future version. Use pandas.concat instead.\n",
      "  _ = _.append(df_year)\n",
      "/tmp/ipykernel_1428/3080512228.py:73: FutureWarning: The frame.append method is deprecated and will be removed from pandas in a future version. Use pandas.concat instead.\n",
      "  _ = _.append(df_year)\n",
      "/tmp/ipykernel_1428/3080512228.py:73: FutureWarning: The frame.append method is deprecated and will be removed from pandas in a future version. Use pandas.concat instead.\n",
      "  _ = _.append(df_year)\n",
      "/tmp/ipykernel_1428/3080512228.py:73: FutureWarning: The frame.append method is deprecated and will be removed from pandas in a future version. Use pandas.concat instead.\n",
      "  _ = _.append(df_year)\n",
      "/tmp/ipykernel_1428/3080512228.py:73: FutureWarning: The frame.append method is deprecated and will be removed from pandas in a future version. Use pandas.concat instead.\n",
      "  _ = _.append(df_year)\n",
      "/tmp/ipykernel_1428/3080512228.py:73: FutureWarning: The frame.append method is deprecated and will be removed from pandas in a future version. Use pandas.concat instead.\n",
      "  _ = _.append(df_year)\n",
      "/tmp/ipykernel_1428/3080512228.py:73: FutureWarning: The frame.append method is deprecated and will be removed from pandas in a future version. Use pandas.concat instead.\n",
      "  _ = _.append(df_year)\n",
      "/tmp/ipykernel_1428/3080512228.py:73: FutureWarning: The frame.append method is deprecated and will be removed from pandas in a future version. Use pandas.concat instead.\n",
      "  _ = _.append(df_year)\n",
      "/tmp/ipykernel_1428/3080512228.py:81: FutureWarning: The frame.append method is deprecated and will be removed from pandas in a future version. Use pandas.concat instead.\n",
      "  normalized_df = normalized_df.append(_)\n"
     ]
    },
    {
     "data": {
      "application/vnd.jupyter.widget-view+json": {
       "model_id": "6ef02b3abb0f457bace5c2372554e939",
       "version_major": 2,
       "version_minor": 0
      },
      "text/plain": [
       "  0%|          | 0/11 [00:00<?, ?it/s]"
      ]
     },
     "metadata": {},
     "output_type": "display_data"
    },
    {
     "name": "stderr",
     "output_type": "stream",
     "text": [
      "/tmp/ipykernel_1428/3080512228.py:73: FutureWarning: The frame.append method is deprecated and will be removed from pandas in a future version. Use pandas.concat instead.\n",
      "  _ = _.append(df_year)\n",
      "/tmp/ipykernel_1428/3080512228.py:73: FutureWarning: The frame.append method is deprecated and will be removed from pandas in a future version. Use pandas.concat instead.\n",
      "  _ = _.append(df_year)\n",
      "/tmp/ipykernel_1428/3080512228.py:73: FutureWarning: The frame.append method is deprecated and will be removed from pandas in a future version. Use pandas.concat instead.\n",
      "  _ = _.append(df_year)\n",
      "/tmp/ipykernel_1428/3080512228.py:73: FutureWarning: The frame.append method is deprecated and will be removed from pandas in a future version. Use pandas.concat instead.\n",
      "  _ = _.append(df_year)\n",
      "/tmp/ipykernel_1428/3080512228.py:73: FutureWarning: The frame.append method is deprecated and will be removed from pandas in a future version. Use pandas.concat instead.\n",
      "  _ = _.append(df_year)\n",
      "/tmp/ipykernel_1428/3080512228.py:73: FutureWarning: The frame.append method is deprecated and will be removed from pandas in a future version. Use pandas.concat instead.\n",
      "  _ = _.append(df_year)\n",
      "/tmp/ipykernel_1428/3080512228.py:73: FutureWarning: The frame.append method is deprecated and will be removed from pandas in a future version. Use pandas.concat instead.\n",
      "  _ = _.append(df_year)\n",
      "/tmp/ipykernel_1428/3080512228.py:73: FutureWarning: The frame.append method is deprecated and will be removed from pandas in a future version. Use pandas.concat instead.\n",
      "  _ = _.append(df_year)\n",
      "/tmp/ipykernel_1428/3080512228.py:73: FutureWarning: The frame.append method is deprecated and will be removed from pandas in a future version. Use pandas.concat instead.\n",
      "  _ = _.append(df_year)\n",
      "/tmp/ipykernel_1428/3080512228.py:73: FutureWarning: The frame.append method is deprecated and will be removed from pandas in a future version. Use pandas.concat instead.\n",
      "  _ = _.append(df_year)\n",
      "/tmp/ipykernel_1428/3080512228.py:73: FutureWarning: The frame.append method is deprecated and will be removed from pandas in a future version. Use pandas.concat instead.\n",
      "  _ = _.append(df_year)\n"
     ]
    },
    {
     "data": {
      "application/vnd.jupyter.widget-view+json": {
       "model_id": "58d7f9acce5244e781b59c60be568925",
       "version_major": 2,
       "version_minor": 0
      },
      "text/plain": [
       "  0%|          | 0/11 [00:00<?, ?it/s]"
      ]
     },
     "metadata": {},
     "output_type": "display_data"
    },
    {
     "name": "stderr",
     "output_type": "stream",
     "text": [
      "/tmp/ipykernel_1428/3080512228.py:73: FutureWarning: The frame.append method is deprecated and will be removed from pandas in a future version. Use pandas.concat instead.\n",
      "  _ = _.append(df_year)\n",
      "/tmp/ipykernel_1428/3080512228.py:73: FutureWarning: The frame.append method is deprecated and will be removed from pandas in a future version. Use pandas.concat instead.\n",
      "  _ = _.append(df_year)\n",
      "/tmp/ipykernel_1428/3080512228.py:73: FutureWarning: The frame.append method is deprecated and will be removed from pandas in a future version. Use pandas.concat instead.\n",
      "  _ = _.append(df_year)\n",
      "/tmp/ipykernel_1428/3080512228.py:73: FutureWarning: The frame.append method is deprecated and will be removed from pandas in a future version. Use pandas.concat instead.\n",
      "  _ = _.append(df_year)\n",
      "/tmp/ipykernel_1428/3080512228.py:73: FutureWarning: The frame.append method is deprecated and will be removed from pandas in a future version. Use pandas.concat instead.\n",
      "  _ = _.append(df_year)\n",
      "/tmp/ipykernel_1428/3080512228.py:73: FutureWarning: The frame.append method is deprecated and will be removed from pandas in a future version. Use pandas.concat instead.\n",
      "  _ = _.append(df_year)\n",
      "/tmp/ipykernel_1428/3080512228.py:73: FutureWarning: The frame.append method is deprecated and will be removed from pandas in a future version. Use pandas.concat instead.\n",
      "  _ = _.append(df_year)\n",
      "/tmp/ipykernel_1428/3080512228.py:73: FutureWarning: The frame.append method is deprecated and will be removed from pandas in a future version. Use pandas.concat instead.\n",
      "  _ = _.append(df_year)\n",
      "/tmp/ipykernel_1428/3080512228.py:73: FutureWarning: The frame.append method is deprecated and will be removed from pandas in a future version. Use pandas.concat instead.\n",
      "  _ = _.append(df_year)\n",
      "/tmp/ipykernel_1428/3080512228.py:73: FutureWarning: The frame.append method is deprecated and will be removed from pandas in a future version. Use pandas.concat instead.\n",
      "  _ = _.append(df_year)\n",
      "/tmp/ipykernel_1428/3080512228.py:73: FutureWarning: The frame.append method is deprecated and will be removed from pandas in a future version. Use pandas.concat instead.\n",
      "  _ = _.append(df_year)\n",
      "/tmp/ipykernel_1428/3080512228.py:81: FutureWarning: The frame.append method is deprecated and will be removed from pandas in a future version. Use pandas.concat instead.\n",
      "  normalized_df = normalized_df.append(_)\n"
     ]
    },
    {
     "data": {
      "application/vnd.jupyter.widget-view+json": {
       "model_id": "689244fd769e41d9a60f2c78fcd219fb",
       "version_major": 2,
       "version_minor": 0
      },
      "text/plain": [
       "  0%|          | 0/11 [00:00<?, ?it/s]"
      ]
     },
     "metadata": {},
     "output_type": "display_data"
    },
    {
     "name": "stderr",
     "output_type": "stream",
     "text": [
      "/tmp/ipykernel_1428/3080512228.py:73: FutureWarning: The frame.append method is deprecated and will be removed from pandas in a future version. Use pandas.concat instead.\n",
      "  _ = _.append(df_year)\n",
      "/tmp/ipykernel_1428/3080512228.py:73: FutureWarning: The frame.append method is deprecated and will be removed from pandas in a future version. Use pandas.concat instead.\n",
      "  _ = _.append(df_year)\n",
      "/tmp/ipykernel_1428/3080512228.py:73: FutureWarning: The frame.append method is deprecated and will be removed from pandas in a future version. Use pandas.concat instead.\n",
      "  _ = _.append(df_year)\n",
      "/tmp/ipykernel_1428/3080512228.py:73: FutureWarning: The frame.append method is deprecated and will be removed from pandas in a future version. Use pandas.concat instead.\n",
      "  _ = _.append(df_year)\n",
      "/tmp/ipykernel_1428/3080512228.py:73: FutureWarning: The frame.append method is deprecated and will be removed from pandas in a future version. Use pandas.concat instead.\n",
      "  _ = _.append(df_year)\n",
      "/tmp/ipykernel_1428/3080512228.py:73: FutureWarning: The frame.append method is deprecated and will be removed from pandas in a future version. Use pandas.concat instead.\n",
      "  _ = _.append(df_year)\n",
      "/tmp/ipykernel_1428/3080512228.py:73: FutureWarning: The frame.append method is deprecated and will be removed from pandas in a future version. Use pandas.concat instead.\n",
      "  _ = _.append(df_year)\n",
      "/tmp/ipykernel_1428/3080512228.py:73: FutureWarning: The frame.append method is deprecated and will be removed from pandas in a future version. Use pandas.concat instead.\n",
      "  _ = _.append(df_year)\n",
      "/tmp/ipykernel_1428/3080512228.py:73: FutureWarning: The frame.append method is deprecated and will be removed from pandas in a future version. Use pandas.concat instead.\n",
      "  _ = _.append(df_year)\n",
      "/tmp/ipykernel_1428/3080512228.py:73: FutureWarning: The frame.append method is deprecated and will be removed from pandas in a future version. Use pandas.concat instead.\n",
      "  _ = _.append(df_year)\n",
      "/tmp/ipykernel_1428/3080512228.py:73: FutureWarning: The frame.append method is deprecated and will be removed from pandas in a future version. Use pandas.concat instead.\n",
      "  _ = _.append(df_year)\n"
     ]
    },
    {
     "data": {
      "application/vnd.jupyter.widget-view+json": {
       "model_id": "ab748f07ac594e0095cd1b840fea5885",
       "version_major": 2,
       "version_minor": 0
      },
      "text/plain": [
       "  0%|          | 0/11 [00:00<?, ?it/s]"
      ]
     },
     "metadata": {},
     "output_type": "display_data"
    },
    {
     "name": "stderr",
     "output_type": "stream",
     "text": [
      "/tmp/ipykernel_1428/3080512228.py:73: FutureWarning: The frame.append method is deprecated and will be removed from pandas in a future version. Use pandas.concat instead.\n",
      "  _ = _.append(df_year)\n",
      "/tmp/ipykernel_1428/3080512228.py:73: FutureWarning: The frame.append method is deprecated and will be removed from pandas in a future version. Use pandas.concat instead.\n",
      "  _ = _.append(df_year)\n",
      "/tmp/ipykernel_1428/3080512228.py:73: FutureWarning: The frame.append method is deprecated and will be removed from pandas in a future version. Use pandas.concat instead.\n",
      "  _ = _.append(df_year)\n",
      "/tmp/ipykernel_1428/3080512228.py:73: FutureWarning: The frame.append method is deprecated and will be removed from pandas in a future version. Use pandas.concat instead.\n",
      "  _ = _.append(df_year)\n",
      "/tmp/ipykernel_1428/3080512228.py:73: FutureWarning: The frame.append method is deprecated and will be removed from pandas in a future version. Use pandas.concat instead.\n",
      "  _ = _.append(df_year)\n",
      "/tmp/ipykernel_1428/3080512228.py:73: FutureWarning: The frame.append method is deprecated and will be removed from pandas in a future version. Use pandas.concat instead.\n",
      "  _ = _.append(df_year)\n",
      "/tmp/ipykernel_1428/3080512228.py:73: FutureWarning: The frame.append method is deprecated and will be removed from pandas in a future version. Use pandas.concat instead.\n",
      "  _ = _.append(df_year)\n",
      "/tmp/ipykernel_1428/3080512228.py:73: FutureWarning: The frame.append method is deprecated and will be removed from pandas in a future version. Use pandas.concat instead.\n",
      "  _ = _.append(df_year)\n",
      "/tmp/ipykernel_1428/3080512228.py:73: FutureWarning: The frame.append method is deprecated and will be removed from pandas in a future version. Use pandas.concat instead.\n",
      "  _ = _.append(df_year)\n",
      "/tmp/ipykernel_1428/3080512228.py:73: FutureWarning: The frame.append method is deprecated and will be removed from pandas in a future version. Use pandas.concat instead.\n",
      "  _ = _.append(df_year)\n",
      "/tmp/ipykernel_1428/3080512228.py:73: FutureWarning: The frame.append method is deprecated and will be removed from pandas in a future version. Use pandas.concat instead.\n",
      "  _ = _.append(df_year)\n",
      "/tmp/ipykernel_1428/3080512228.py:81: FutureWarning: The frame.append method is deprecated and will be removed from pandas in a future version. Use pandas.concat instead.\n",
      "  normalized_df = normalized_df.append(_)\n"
     ]
    },
    {
     "data": {
      "application/vnd.jupyter.widget-view+json": {
       "model_id": "ae872a6fda3a4d81af00adeafde6c94f",
       "version_major": 2,
       "version_minor": 0
      },
      "text/plain": [
       "  0%|          | 0/11 [00:00<?, ?it/s]"
      ]
     },
     "metadata": {},
     "output_type": "display_data"
    },
    {
     "name": "stderr",
     "output_type": "stream",
     "text": [
      "/tmp/ipykernel_1428/3080512228.py:73: FutureWarning: The frame.append method is deprecated and will be removed from pandas in a future version. Use pandas.concat instead.\n",
      "  _ = _.append(df_year)\n",
      "/tmp/ipykernel_1428/3080512228.py:73: FutureWarning: The frame.append method is deprecated and will be removed from pandas in a future version. Use pandas.concat instead.\n",
      "  _ = _.append(df_year)\n",
      "/tmp/ipykernel_1428/3080512228.py:73: FutureWarning: The frame.append method is deprecated and will be removed from pandas in a future version. Use pandas.concat instead.\n",
      "  _ = _.append(df_year)\n",
      "/tmp/ipykernel_1428/3080512228.py:73: FutureWarning: The frame.append method is deprecated and will be removed from pandas in a future version. Use pandas.concat instead.\n",
      "  _ = _.append(df_year)\n",
      "/tmp/ipykernel_1428/3080512228.py:73: FutureWarning: The frame.append method is deprecated and will be removed from pandas in a future version. Use pandas.concat instead.\n",
      "  _ = _.append(df_year)\n",
      "/tmp/ipykernel_1428/3080512228.py:73: FutureWarning: The frame.append method is deprecated and will be removed from pandas in a future version. Use pandas.concat instead.\n",
      "  _ = _.append(df_year)\n",
      "/tmp/ipykernel_1428/3080512228.py:73: FutureWarning: The frame.append method is deprecated and will be removed from pandas in a future version. Use pandas.concat instead.\n",
      "  _ = _.append(df_year)\n",
      "/tmp/ipykernel_1428/3080512228.py:73: FutureWarning: The frame.append method is deprecated and will be removed from pandas in a future version. Use pandas.concat instead.\n",
      "  _ = _.append(df_year)\n",
      "/tmp/ipykernel_1428/3080512228.py:73: FutureWarning: The frame.append method is deprecated and will be removed from pandas in a future version. Use pandas.concat instead.\n",
      "  _ = _.append(df_year)\n",
      "/tmp/ipykernel_1428/3080512228.py:73: FutureWarning: The frame.append method is deprecated and will be removed from pandas in a future version. Use pandas.concat instead.\n",
      "  _ = _.append(df_year)\n",
      "/tmp/ipykernel_1428/3080512228.py:73: FutureWarning: The frame.append method is deprecated and will be removed from pandas in a future version. Use pandas.concat instead.\n",
      "  _ = _.append(df_year)\n"
     ]
    },
    {
     "data": {
      "application/vnd.jupyter.widget-view+json": {
       "model_id": "a4863402f07d4027a37e604dbaeffe7d",
       "version_major": 2,
       "version_minor": 0
      },
      "text/plain": [
       "  0%|          | 0/11 [00:00<?, ?it/s]"
      ]
     },
     "metadata": {},
     "output_type": "display_data"
    },
    {
     "name": "stderr",
     "output_type": "stream",
     "text": [
      "/tmp/ipykernel_1428/3080512228.py:73: FutureWarning: The frame.append method is deprecated and will be removed from pandas in a future version. Use pandas.concat instead.\n",
      "  _ = _.append(df_year)\n",
      "/tmp/ipykernel_1428/3080512228.py:73: FutureWarning: The frame.append method is deprecated and will be removed from pandas in a future version. Use pandas.concat instead.\n",
      "  _ = _.append(df_year)\n",
      "/tmp/ipykernel_1428/3080512228.py:73: FutureWarning: The frame.append method is deprecated and will be removed from pandas in a future version. Use pandas.concat instead.\n",
      "  _ = _.append(df_year)\n",
      "/tmp/ipykernel_1428/3080512228.py:73: FutureWarning: The frame.append method is deprecated and will be removed from pandas in a future version. Use pandas.concat instead.\n",
      "  _ = _.append(df_year)\n",
      "/tmp/ipykernel_1428/3080512228.py:73: FutureWarning: The frame.append method is deprecated and will be removed from pandas in a future version. Use pandas.concat instead.\n",
      "  _ = _.append(df_year)\n",
      "/tmp/ipykernel_1428/3080512228.py:73: FutureWarning: The frame.append method is deprecated and will be removed from pandas in a future version. Use pandas.concat instead.\n",
      "  _ = _.append(df_year)\n",
      "/tmp/ipykernel_1428/3080512228.py:73: FutureWarning: The frame.append method is deprecated and will be removed from pandas in a future version. Use pandas.concat instead.\n",
      "  _ = _.append(df_year)\n",
      "/tmp/ipykernel_1428/3080512228.py:73: FutureWarning: The frame.append method is deprecated and will be removed from pandas in a future version. Use pandas.concat instead.\n",
      "  _ = _.append(df_year)\n",
      "/tmp/ipykernel_1428/3080512228.py:73: FutureWarning: The frame.append method is deprecated and will be removed from pandas in a future version. Use pandas.concat instead.\n",
      "  _ = _.append(df_year)\n",
      "/tmp/ipykernel_1428/3080512228.py:73: FutureWarning: The frame.append method is deprecated and will be removed from pandas in a future version. Use pandas.concat instead.\n",
      "  _ = _.append(df_year)\n",
      "/tmp/ipykernel_1428/3080512228.py:73: FutureWarning: The frame.append method is deprecated and will be removed from pandas in a future version. Use pandas.concat instead.\n",
      "  _ = _.append(df_year)\n",
      "/tmp/ipykernel_1428/3080512228.py:81: FutureWarning: The frame.append method is deprecated and will be removed from pandas in a future version. Use pandas.concat instead.\n",
      "  normalized_df = normalized_df.append(_)\n",
      "imputing by the mean: 100% 646716/646716 [00:02<00:00, 264665.10it/s]\n"
     ]
    },
    {
     "data": {
      "application/vnd.jupyter.widget-view+json": {
       "model_id": "affc991e5add4e9791df7fc414249f24",
       "version_major": 2,
       "version_minor": 0
      },
      "text/plain": [
       "inferring race from lastnames:   0%|          | 0/1250500 [00:00<?, ?it/s]"
      ]
     },
     "metadata": {},
     "output_type": "display_data"
    }
   ],
   "source": [
    "df_merge = prepare_data.main()"
   ]
  },
  {
   "cell_type": "code",
   "execution_count": 16,
   "id": "e40c8389-2e81-4fd2-bff5-ce43c4f627bf",
   "metadata": {},
   "outputs": [
    {
     "data": {
      "text/html": [
       "<div>\n",
       "<style scoped>\n",
       "    .dataframe tbody tr th:only-of-type {\n",
       "        vertical-align: middle;\n",
       "    }\n",
       "\n",
       "    .dataframe tbody tr th {\n",
       "        vertical-align: top;\n",
       "    }\n",
       "\n",
       "    .dataframe thead th {\n",
       "        text-align: right;\n",
       "    }\n",
       "</style>\n",
       "<table border=\"1\" class=\"dataframe\">\n",
       "  <thead>\n",
       "    <tr style=\"text-align: right;\">\n",
       "      <th></th>\n",
       "      <th>Annee_Bibliographique</th>\n",
       "      <th>cit_all_IAC</th>\n",
       "      <th>norm_cit_all_IAC</th>\n",
       "      <th>FI_2</th>\n",
       "      <th>norm_FI_2</th>\n",
       "      <th>FIR_2</th>\n",
       "      <th>cit_rel_all_IAC</th>\n",
       "    </tr>\n",
       "  </thead>\n",
       "  <tbody>\n",
       "    <tr>\n",
       "      <th>1</th>\n",
       "      <td>2016</td>\n",
       "      <td>9.0</td>\n",
       "      <td>1.018068</td>\n",
       "      <td>3.129</td>\n",
       "      <td>0.975018</td>\n",
       "      <td>0.997</td>\n",
       "      <td>1.006</td>\n",
       "    </tr>\n",
       "    <tr>\n",
       "      <th>2</th>\n",
       "      <td>2010</td>\n",
       "      <td>52.0</td>\n",
       "      <td>1.595845</td>\n",
       "      <td>1.222</td>\n",
       "      <td>0.437601</td>\n",
       "      <td>0.702</td>\n",
       "      <td>2.519</td>\n",
       "    </tr>\n",
       "    <tr>\n",
       "      <th>3</th>\n",
       "      <td>2008</td>\n",
       "      <td>62.0</td>\n",
       "      <td>1.407677</td>\n",
       "      <td>3.333</td>\n",
       "      <td>1.012697</td>\n",
       "      <td>1.139</td>\n",
       "      <td>1.729</td>\n",
       "    </tr>\n",
       "    <tr>\n",
       "      <th>4</th>\n",
       "      <td>2010</td>\n",
       "      <td>37.0</td>\n",
       "      <td>1.028914</td>\n",
       "      <td>3.875</td>\n",
       "      <td>1.167059</td>\n",
       "      <td>1.559</td>\n",
       "      <td>1.550</td>\n",
       "    </tr>\n",
       "    <tr>\n",
       "      <th>5</th>\n",
       "      <td>2016</td>\n",
       "      <td>9.0</td>\n",
       "      <td>1.053697</td>\n",
       "      <td>1.887</td>\n",
       "      <td>0.639668</td>\n",
       "      <td>1.119</td>\n",
       "      <td>1.759</td>\n",
       "    </tr>\n",
       "    <tr>\n",
       "      <th>...</th>\n",
       "      <td>...</td>\n",
       "      <td>...</td>\n",
       "      <td>...</td>\n",
       "      <td>...</td>\n",
       "      <td>...</td>\n",
       "      <td>...</td>\n",
       "      <td>...</td>\n",
       "    </tr>\n",
       "    <tr>\n",
       "      <th>1250492</th>\n",
       "      <td>2015</td>\n",
       "      <td>6.0</td>\n",
       "      <td>0.884398</td>\n",
       "      <td>1.058</td>\n",
       "      <td>0.723933</td>\n",
       "      <td>0.664</td>\n",
       "      <td>0.886</td>\n",
       "    </tr>\n",
       "    <tr>\n",
       "      <th>1250494</th>\n",
       "      <td>2015</td>\n",
       "      <td>8.0</td>\n",
       "      <td>1.178308</td>\n",
       "      <td>0.811</td>\n",
       "      <td>0.559207</td>\n",
       "      <td>0.509</td>\n",
       "      <td>1.182</td>\n",
       "    </tr>\n",
       "    <tr>\n",
       "      <th>1250497</th>\n",
       "      <td>2015</td>\n",
       "      <td>8.0</td>\n",
       "      <td>1.113019</td>\n",
       "      <td>2.221</td>\n",
       "      <td>1.447992</td>\n",
       "      <td>1.413</td>\n",
       "      <td>1.221</td>\n",
       "    </tr>\n",
       "    <tr>\n",
       "      <th>1250498</th>\n",
       "      <td>2014</td>\n",
       "      <td>4.0</td>\n",
       "      <td>0.449347</td>\n",
       "      <td>0.427</td>\n",
       "      <td>0.294682</td>\n",
       "      <td>0.475</td>\n",
       "      <td>0.710</td>\n",
       "    </tr>\n",
       "    <tr>\n",
       "      <th>1250499</th>\n",
       "      <td>2012</td>\n",
       "      <td>3.0</td>\n",
       "      <td>0.211321</td>\n",
       "      <td>0.422</td>\n",
       "      <td>0.297824</td>\n",
       "      <td>0.384</td>\n",
       "      <td>0.286</td>\n",
       "    </tr>\n",
       "  </tbody>\n",
       "</table>\n",
       "<p>947516 rows × 7 columns</p>\n",
       "</div>"
      ],
      "text/plain": [
       "         Annee_Bibliographique  cit_all_IAC  norm_cit_all_IAC   FI_2  \\\n",
       "1                         2016          9.0          1.018068  3.129   \n",
       "2                         2010         52.0          1.595845  1.222   \n",
       "3                         2008         62.0          1.407677  3.333   \n",
       "4                         2010         37.0          1.028914  3.875   \n",
       "5                         2016          9.0          1.053697  1.887   \n",
       "...                        ...          ...               ...    ...   \n",
       "1250492                   2015          6.0          0.884398  1.058   \n",
       "1250494                   2015          8.0          1.178308  0.811   \n",
       "1250497                   2015          8.0          1.113019  2.221   \n",
       "1250498                   2014          4.0          0.449347  0.427   \n",
       "1250499                   2012          3.0          0.211321  0.422   \n",
       "\n",
       "         norm_FI_2  FIR_2  cit_rel_all_IAC  \n",
       "1         0.975018  0.997            1.006  \n",
       "2         0.437601  0.702            2.519  \n",
       "3         1.012697  1.139            1.729  \n",
       "4         1.167059  1.559            1.550  \n",
       "5         0.639668  1.119            1.759  \n",
       "...            ...    ...              ...  \n",
       "1250492   0.723933  0.664            0.886  \n",
       "1250494   0.559207  0.509            1.182  \n",
       "1250497   1.447992  1.413            1.221  \n",
       "1250498   0.294682  0.475            0.710  \n",
       "1250499   0.297824  0.384            0.286  \n",
       "\n",
       "[947516 rows x 7 columns]"
      ]
     },
     "execution_count": 16,
     "metadata": {},
     "output_type": "execute_result"
    }
   ],
   "source": [
    "df_merge[['Annee_Bibliographique','cit_all_IAC','norm_cit_all_IAC','FI_2','norm_FI_2','FIR_2','cit_rel_all_IAC']]"
   ]
  },
  {
   "cell_type": "code",
   "execution_count": 17,
   "id": "9ddeb9f2-534b-4775-a514-359a1cfa51a1",
   "metadata": {},
   "outputs": [
    {
     "data": {
      "text/plain": [
       "not HSI    0.943506\n",
       "HSI        0.056494\n",
       "Name: hsi, dtype: float64"
      ]
     },
     "execution_count": 17,
     "metadata": {},
     "output_type": "execute_result"
    }
   ],
   "source": [
    "df_merge.hsi.value_counts(normalize=True)"
   ]
  },
  {
   "cell_type": "code",
   "execution_count": 18,
   "id": "d4f484ed-169b-49f1-bd36-8694a3520949",
   "metadata": {},
   "outputs": [
    {
     "data": {
      "text/plain": [
       "(0.1, 1.24)     120995\n",
       "(1.24, 1.34)    103332\n",
       "(1.54, 1.59)    103223\n",
       "(1.34, 1.43)    102170\n",
       "(1.59, 1.66)     92540\n",
       "(2.17, 4.07)     92114\n",
       "(1.66, 1.81)     89933\n",
       "(1.91, 2.15)     86097\n",
       "(1.43, 1.54)     80966\n",
       "(1.82, 1.91)     76146\n",
       "Name: avg_citations_Q10, dtype: int64"
      ]
     },
     "execution_count": 18,
     "metadata": {},
     "output_type": "execute_result"
    }
   ],
   "source": [
    "df_merge.avg_citations_Q10.value_counts()"
   ]
  },
  {
   "cell_type": "code",
   "execution_count": 19,
   "id": "9977e3b9-aca1-445d-b8bd-683a8193bb6d",
   "metadata": {},
   "outputs": [],
   "source": [
    "df_merge.to_pickle('../../data/df_ols.p')"
   ]
  },
  {
   "cell_type": "code",
   "execution_count": null,
   "id": "d026965a-479f-4ccc-9ff4-3d26388c84d4",
   "metadata": {},
   "outputs": [],
   "source": []
  }
 ],
 "metadata": {
  "kernelspec": {
   "display_name": "Python 3 (ipykernel)",
   "language": "python",
   "name": "python3"
  },
  "language_info": {
   "codemirror_mode": {
    "name": "ipython",
    "version": 3
   },
   "file_extension": ".py",
   "mimetype": "text/x-python",
   "name": "python",
   "nbconvert_exporter": "python",
   "pygments_lexer": "ipython3",
   "version": "3.10.8"
  }
 },
 "nbformat": 4,
 "nbformat_minor": 5
}
