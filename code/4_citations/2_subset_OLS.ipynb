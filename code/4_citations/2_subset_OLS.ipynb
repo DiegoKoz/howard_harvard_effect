{
 "cells": [
  {
   "cell_type": "code",
   "execution_count": 1,
   "id": "830b75a1-5c8b-483c-aaee-0ac79514a9e1",
   "metadata": {},
   "outputs": [],
   "source": [
    "%config Completer.use_jedi = False"
   ]
  },
  {
   "cell_type": "code",
   "execution_count": 2,
   "id": "60e62bef-a9b1-4b38-81a7-9c7c428e6564",
   "metadata": {},
   "outputs": [],
   "source": [
    "#!pip install statsmodels"
   ]
  },
  {
   "cell_type": "code",
   "execution_count": 3,
   "id": "0b5f2e4a-0976-442c-bc28-33b3a1aff2bb",
   "metadata": {},
   "outputs": [],
   "source": [
    "import pandas as pd\n",
    "import pickle\n",
    "# import pickle5 as pickle\n",
    "from tqdm.notebook import tqdm\n",
    "import numpy as np\n",
    "import statsmodels.api as sm\n",
    "from libs.LastNamesInference import LastNamesInference\n",
    "\n",
    "from libs.OLSSubsetModel import OLSSubsetModel"
   ]
  },
  {
   "cell_type": "code",
   "execution_count": 4,
   "id": "3d6d25cd-b7d1-406c-b492-cf76d611c704",
   "metadata": {},
   "outputs": [],
   "source": [
    "def save(x, file_name):\n",
    "    with open(file_name, 'wb') as handle:\n",
    "        pickle.dump(x, handle, protocol=pickle.HIGHEST_PROTOCOL)\n",
    "\n",
    "def restore(file_name):\n",
    "    with open(file_name, 'rb') as handle:\n",
    "        x = pickle.load(handle)\n",
    "    return x"
   ]
  },
  {
   "cell_type": "code",
   "execution_count": 5,
   "id": "423e8a96-24c5-4391-8b52-a81e7c118fb0",
   "metadata": {},
   "outputs": [],
   "source": [
    "df_ols = pd.read_pickle('../../data/df_ols.p')"
   ]
  },
  {
   "cell_type": "markdown",
   "id": "08cd3907-7d76-4a5d-9385-1bd3517037b9",
   "metadata": {
    "tags": []
   },
   "source": [
    "# OLS for each institutional type"
   ]
  },
  {
   "cell_type": "code",
   "execution_count": 6,
   "id": "56b12fc0-bf12-47ee-8243-220651183fd6",
   "metadata": {},
   "outputs": [],
   "source": [
    "ols_subsets = OLSSubsetModel(df_ols)"
   ]
  },
  {
   "cell_type": "code",
   "execution_count": 7,
   "id": "bde6c986-f339-4f54-91a4-799cf6bad2dc",
   "metadata": {},
   "outputs": [],
   "source": [
    "subsets = ['usnr_rank_cat','selindex','avg_citations_Q','avg_citations_Q10'] #,'hbcu','hsi','womens'\n",
    "dep_vars = ['norm_cit_all_IAC','norm_FI_2']"
   ]
  },
  {
   "cell_type": "code",
   "execution_count": 8,
   "id": "84561ed3-2b2c-4da8-885b-ef41080d0b6d",
   "metadata": {},
   "outputs": [
    {
     "data": {
      "application/vnd.jupyter.widget-view+json": {
       "model_id": "679f960dac3e4596a822320b99917c65",
       "version_major": 2,
       "version_minor": 0
      },
      "text/plain": [
       "  0%|          | 0/4 [00:00<?, ?it/s]"
      ]
     },
     "metadata": {},
     "output_type": "display_data"
    },
    {
     "data": {
      "application/vnd.jupyter.widget-view+json": {
       "model_id": "befa220650be4ef6a6a35a1f55d93692",
       "version_major": 2,
       "version_minor": 0
      },
      "text/plain": [
       "  0%|          | 0/2 [00:00<?, ?it/s]"
      ]
     },
     "metadata": {},
     "output_type": "display_data"
    },
    {
     "data": {
      "application/vnd.jupyter.widget-view+json": {
       "model_id": "de64104cd8ae40e5a026d43850dd4345",
       "version_major": 2,
       "version_minor": 0
      },
      "text/plain": [
       "  0%|          | 0/2 [00:00<?, ?it/s]"
      ]
     },
     "metadata": {},
     "output_type": "display_data"
    },
    {
     "data": {
      "application/vnd.jupyter.widget-view+json": {
       "model_id": "b5b66754261f4231b8572bb1f1797a09",
       "version_major": 2,
       "version_minor": 0
      },
      "text/plain": [
       "  0%|          | 0/2 [00:00<?, ?it/s]"
      ]
     },
     "metadata": {},
     "output_type": "display_data"
    },
    {
     "data": {
      "application/vnd.jupyter.widget-view+json": {
       "model_id": "2c892186f76c4d0f9bb9b7ae1b3e2fc4",
       "version_major": 2,
       "version_minor": 0
      },
      "text/plain": [
       "  0%|          | 0/2 [00:00<?, ?it/s]"
      ]
     },
     "metadata": {},
     "output_type": "display_data"
    }
   ],
   "source": [
    "fitted_models_norm = {}\n",
    "for subset in tqdm(subsets):\n",
    "    for dv in tqdm(dep_vars):\n",
    "        _ = ols_subsets.main(subset=subset, dep = dv)\n",
    "        fitted_models_norm[subset+'+'+dv]=_"
   ]
  },
  {
   "cell_type": "code",
   "execution_count": 9,
   "id": "dc52ab52-63a6-441e-a0a5-e9fad8cbadf8",
   "metadata": {},
   "outputs": [
    {
     "name": "stderr",
     "output_type": "stream",
     "text": [
      "/home/jovyan/rg_institutions/code/4_citations/libs/OLSSubsetModel.py:96: FutureWarning: The frame.append method is deprecated and will be removed from pandas in a future version. Use pandas.concat instead.\n",
      "  res_group = res_group.append(_)\n",
      "/home/jovyan/rg_institutions/code/4_citations/libs/OLSSubsetModel.py:96: FutureWarning: The frame.append method is deprecated and will be removed from pandas in a future version. Use pandas.concat instead.\n",
      "  res_group = res_group.append(_)\n",
      "/home/jovyan/rg_institutions/code/4_citations/libs/OLSSubsetModel.py:96: FutureWarning: The frame.append method is deprecated and will be removed from pandas in a future version. Use pandas.concat instead.\n",
      "  res_group = res_group.append(_)\n",
      "/home/jovyan/rg_institutions/code/4_citations/libs/OLSSubsetModel.py:98: FutureWarning: The frame.append method is deprecated and will be removed from pandas in a future version. Use pandas.concat instead.\n",
      "  results = results.append(res_group)\n",
      "/home/jovyan/rg_institutions/code/4_citations/libs/OLSSubsetModel.py:96: FutureWarning: The frame.append method is deprecated and will be removed from pandas in a future version. Use pandas.concat instead.\n",
      "  res_group = res_group.append(_)\n",
      "/home/jovyan/rg_institutions/code/4_citations/libs/OLSSubsetModel.py:96: FutureWarning: The frame.append method is deprecated and will be removed from pandas in a future version. Use pandas.concat instead.\n",
      "  res_group = res_group.append(_)\n",
      "/home/jovyan/rg_institutions/code/4_citations/libs/OLSSubsetModel.py:96: FutureWarning: The frame.append method is deprecated and will be removed from pandas in a future version. Use pandas.concat instead.\n",
      "  res_group = res_group.append(_)\n",
      "/home/jovyan/rg_institutions/code/4_citations/libs/OLSSubsetModel.py:98: FutureWarning: The frame.append method is deprecated and will be removed from pandas in a future version. Use pandas.concat instead.\n",
      "  results = results.append(res_group)\n",
      "/home/jovyan/rg_institutions/code/4_citations/libs/OLSSubsetModel.py:96: FutureWarning: The frame.append method is deprecated and will be removed from pandas in a future version. Use pandas.concat instead.\n",
      "  res_group = res_group.append(_)\n",
      "/home/jovyan/rg_institutions/code/4_citations/libs/OLSSubsetModel.py:96: FutureWarning: The frame.append method is deprecated and will be removed from pandas in a future version. Use pandas.concat instead.\n",
      "  res_group = res_group.append(_)\n",
      "/home/jovyan/rg_institutions/code/4_citations/libs/OLSSubsetModel.py:96: FutureWarning: The frame.append method is deprecated and will be removed from pandas in a future version. Use pandas.concat instead.\n",
      "  res_group = res_group.append(_)\n",
      "/home/jovyan/rg_institutions/code/4_citations/libs/OLSSubsetModel.py:98: FutureWarning: The frame.append method is deprecated and will be removed from pandas in a future version. Use pandas.concat instead.\n",
      "  results = results.append(res_group)\n",
      "/home/jovyan/rg_institutions/code/4_citations/libs/OLSSubsetModel.py:96: FutureWarning: The frame.append method is deprecated and will be removed from pandas in a future version. Use pandas.concat instead.\n",
      "  res_group = res_group.append(_)\n",
      "/home/jovyan/rg_institutions/code/4_citations/libs/OLSSubsetModel.py:96: FutureWarning: The frame.append method is deprecated and will be removed from pandas in a future version. Use pandas.concat instead.\n",
      "  res_group = res_group.append(_)\n",
      "/home/jovyan/rg_institutions/code/4_citations/libs/OLSSubsetModel.py:96: FutureWarning: The frame.append method is deprecated and will be removed from pandas in a future version. Use pandas.concat instead.\n",
      "  res_group = res_group.append(_)\n",
      "/home/jovyan/rg_institutions/code/4_citations/libs/OLSSubsetModel.py:98: FutureWarning: The frame.append method is deprecated and will be removed from pandas in a future version. Use pandas.concat instead.\n",
      "  results = results.append(res_group)\n",
      "/home/jovyan/rg_institutions/code/4_citations/libs/OLSSubsetModel.py:96: FutureWarning: The frame.append method is deprecated and will be removed from pandas in a future version. Use pandas.concat instead.\n",
      "  res_group = res_group.append(_)\n",
      "/home/jovyan/rg_institutions/code/4_citations/libs/OLSSubsetModel.py:96: FutureWarning: The frame.append method is deprecated and will be removed from pandas in a future version. Use pandas.concat instead.\n",
      "  res_group = res_group.append(_)\n",
      "/home/jovyan/rg_institutions/code/4_citations/libs/OLSSubsetModel.py:96: FutureWarning: The frame.append method is deprecated and will be removed from pandas in a future version. Use pandas.concat instead.\n",
      "  res_group = res_group.append(_)\n",
      "/home/jovyan/rg_institutions/code/4_citations/libs/OLSSubsetModel.py:98: FutureWarning: The frame.append method is deprecated and will be removed from pandas in a future version. Use pandas.concat instead.\n",
      "  results = results.append(res_group)\n",
      "/home/jovyan/rg_institutions/code/4_citations/libs/OLSSubsetModel.py:96: FutureWarning: The frame.append method is deprecated and will be removed from pandas in a future version. Use pandas.concat instead.\n",
      "  res_group = res_group.append(_)\n",
      "/home/jovyan/rg_institutions/code/4_citations/libs/OLSSubsetModel.py:96: FutureWarning: The frame.append method is deprecated and will be removed from pandas in a future version. Use pandas.concat instead.\n",
      "  res_group = res_group.append(_)\n",
      "/home/jovyan/rg_institutions/code/4_citations/libs/OLSSubsetModel.py:96: FutureWarning: The frame.append method is deprecated and will be removed from pandas in a future version. Use pandas.concat instead.\n",
      "  res_group = res_group.append(_)\n",
      "/home/jovyan/rg_institutions/code/4_citations/libs/OLSSubsetModel.py:98: FutureWarning: The frame.append method is deprecated and will be removed from pandas in a future version. Use pandas.concat instead.\n",
      "  results = results.append(res_group)\n",
      "/home/jovyan/rg_institutions/code/4_citations/libs/OLSSubsetModel.py:96: FutureWarning: The frame.append method is deprecated and will be removed from pandas in a future version. Use pandas.concat instead.\n",
      "  res_group = res_group.append(_)\n",
      "/home/jovyan/rg_institutions/code/4_citations/libs/OLSSubsetModel.py:96: FutureWarning: The frame.append method is deprecated and will be removed from pandas in a future version. Use pandas.concat instead.\n",
      "  res_group = res_group.append(_)\n",
      "/home/jovyan/rg_institutions/code/4_citations/libs/OLSSubsetModel.py:96: FutureWarning: The frame.append method is deprecated and will be removed from pandas in a future version. Use pandas.concat instead.\n",
      "  res_group = res_group.append(_)\n",
      "/home/jovyan/rg_institutions/code/4_citations/libs/OLSSubsetModel.py:96: FutureWarning: The frame.append method is deprecated and will be removed from pandas in a future version. Use pandas.concat instead.\n",
      "  res_group = res_group.append(_)\n",
      "/home/jovyan/rg_institutions/code/4_citations/libs/OLSSubsetModel.py:96: FutureWarning: The frame.append method is deprecated and will be removed from pandas in a future version. Use pandas.concat instead.\n",
      "  res_group = res_group.append(_)\n",
      "/home/jovyan/rg_institutions/code/4_citations/libs/OLSSubsetModel.py:96: FutureWarning: The frame.append method is deprecated and will be removed from pandas in a future version. Use pandas.concat instead.\n",
      "  res_group = res_group.append(_)\n",
      "/home/jovyan/rg_institutions/code/4_citations/libs/OLSSubsetModel.py:96: FutureWarning: The frame.append method is deprecated and will be removed from pandas in a future version. Use pandas.concat instead.\n",
      "  res_group = res_group.append(_)\n",
      "/home/jovyan/rg_institutions/code/4_citations/libs/OLSSubsetModel.py:96: FutureWarning: The frame.append method is deprecated and will be removed from pandas in a future version. Use pandas.concat instead.\n",
      "  res_group = res_group.append(_)\n",
      "/home/jovyan/rg_institutions/code/4_citations/libs/OLSSubsetModel.py:96: FutureWarning: The frame.append method is deprecated and will be removed from pandas in a future version. Use pandas.concat instead.\n",
      "  res_group = res_group.append(_)\n",
      "/home/jovyan/rg_institutions/code/4_citations/libs/OLSSubsetModel.py:96: FutureWarning: The frame.append method is deprecated and will be removed from pandas in a future version. Use pandas.concat instead.\n",
      "  res_group = res_group.append(_)\n",
      "/home/jovyan/rg_institutions/code/4_citations/libs/OLSSubsetModel.py:98: FutureWarning: The frame.append method is deprecated and will be removed from pandas in a future version. Use pandas.concat instead.\n",
      "  results = results.append(res_group)\n",
      "/home/jovyan/rg_institutions/code/4_citations/libs/OLSSubsetModel.py:96: FutureWarning: The frame.append method is deprecated and will be removed from pandas in a future version. Use pandas.concat instead.\n",
      "  res_group = res_group.append(_)\n",
      "/home/jovyan/rg_institutions/code/4_citations/libs/OLSSubsetModel.py:96: FutureWarning: The frame.append method is deprecated and will be removed from pandas in a future version. Use pandas.concat instead.\n",
      "  res_group = res_group.append(_)\n",
      "/home/jovyan/rg_institutions/code/4_citations/libs/OLSSubsetModel.py:96: FutureWarning: The frame.append method is deprecated and will be removed from pandas in a future version. Use pandas.concat instead.\n",
      "  res_group = res_group.append(_)\n",
      "/home/jovyan/rg_institutions/code/4_citations/libs/OLSSubsetModel.py:96: FutureWarning: The frame.append method is deprecated and will be removed from pandas in a future version. Use pandas.concat instead.\n",
      "  res_group = res_group.append(_)\n",
      "/home/jovyan/rg_institutions/code/4_citations/libs/OLSSubsetModel.py:96: FutureWarning: The frame.append method is deprecated and will be removed from pandas in a future version. Use pandas.concat instead.\n",
      "  res_group = res_group.append(_)\n",
      "/home/jovyan/rg_institutions/code/4_citations/libs/OLSSubsetModel.py:96: FutureWarning: The frame.append method is deprecated and will be removed from pandas in a future version. Use pandas.concat instead.\n",
      "  res_group = res_group.append(_)\n",
      "/home/jovyan/rg_institutions/code/4_citations/libs/OLSSubsetModel.py:96: FutureWarning: The frame.append method is deprecated and will be removed from pandas in a future version. Use pandas.concat instead.\n",
      "  res_group = res_group.append(_)\n",
      "/home/jovyan/rg_institutions/code/4_citations/libs/OLSSubsetModel.py:96: FutureWarning: The frame.append method is deprecated and will be removed from pandas in a future version. Use pandas.concat instead.\n",
      "  res_group = res_group.append(_)\n",
      "/home/jovyan/rg_institutions/code/4_citations/libs/OLSSubsetModel.py:96: FutureWarning: The frame.append method is deprecated and will be removed from pandas in a future version. Use pandas.concat instead.\n",
      "  res_group = res_group.append(_)\n",
      "/home/jovyan/rg_institutions/code/4_citations/libs/OLSSubsetModel.py:96: FutureWarning: The frame.append method is deprecated and will be removed from pandas in a future version. Use pandas.concat instead.\n",
      "  res_group = res_group.append(_)\n",
      "/home/jovyan/rg_institutions/code/4_citations/libs/OLSSubsetModel.py:98: FutureWarning: The frame.append method is deprecated and will be removed from pandas in a future version. Use pandas.concat instead.\n",
      "  results = results.append(res_group)\n"
     ]
    }
   ],
   "source": [
    "params_table_norm = ols_subsets.get_params_table(fitted_models_norm)"
   ]
  },
  {
   "cell_type": "code",
   "execution_count": 10,
   "id": "35feaf4d-fd29-4106-8b14-e493374624a6",
   "metadata": {},
   "outputs": [
    {
     "data": {
      "text/html": [
       "<div>\n",
       "<style scoped>\n",
       "    .dataframe tbody tr th:only-of-type {\n",
       "        vertical-align: middle;\n",
       "    }\n",
       "\n",
       "    .dataframe tbody tr th {\n",
       "        vertical-align: top;\n",
       "    }\n",
       "\n",
       "    .dataframe thead th {\n",
       "        text-align: right;\n",
       "    }\n",
       "</style>\n",
       "<table border=\"1\" class=\"dataframe\">\n",
       "  <thead>\n",
       "    <tr style=\"text-align: right;\">\n",
       "      <th></th>\n",
       "      <th>variable</th>\n",
       "      <th>coeff</th>\n",
       "      <th>pvals</th>\n",
       "      <th>conf_lower</th>\n",
       "      <th>conf_higher</th>\n",
       "      <th>subset</th>\n",
       "      <th>n</th>\n",
       "      <th>university_group</th>\n",
       "    </tr>\n",
       "  </thead>\n",
       "  <tbody>\n",
       "    <tr>\n",
       "      <th>0</th>\n",
       "      <td>Intercept</td>\n",
       "      <td>1.239173</td>\n",
       "      <td>0.000000e+00</td>\n",
       "      <td>1.205056</td>\n",
       "      <td>1.273290</td>\n",
       "      <td>top_10</td>\n",
       "      <td>136290.0</td>\n",
       "      <td>usnr_rank_cat+norm_cit_all_IAC</td>\n",
       "    </tr>\n",
       "    <tr>\n",
       "      <th>1</th>\n",
       "      <td>nb_auteur</td>\n",
       "      <td>0.019624</td>\n",
       "      <td>1.726789e-139</td>\n",
       "      <td>0.018096</td>\n",
       "      <td>0.021152</td>\n",
       "      <td>top_10</td>\n",
       "      <td>136290.0</td>\n",
       "      <td>usnr_rank_cat+norm_cit_all_IAC</td>\n",
       "    </tr>\n",
       "    <tr>\n",
       "      <th>2</th>\n",
       "      <td>career_age</td>\n",
       "      <td>0.011022</td>\n",
       "      <td>6.260318e-42</td>\n",
       "      <td>0.009430</td>\n",
       "      <td>0.012614</td>\n",
       "      <td>top_10</td>\n",
       "      <td>136290.0</td>\n",
       "      <td>usnr_rank_cat+norm_cit_all_IAC</td>\n",
       "    </tr>\n",
       "    <tr>\n",
       "      <th>3</th>\n",
       "      <td>hispanic_M</td>\n",
       "      <td>-0.083169</td>\n",
       "      <td>1.942345e-01</td>\n",
       "      <td>-0.208738</td>\n",
       "      <td>0.042401</td>\n",
       "      <td>top_10</td>\n",
       "      <td>136290.0</td>\n",
       "      <td>usnr_rank_cat+norm_cit_all_IAC</td>\n",
       "    </tr>\n",
       "    <tr>\n",
       "      <th>4</th>\n",
       "      <td>black_M</td>\n",
       "      <td>0.007624</td>\n",
       "      <td>9.320676e-01</td>\n",
       "      <td>-0.167680</td>\n",
       "      <td>0.182929</td>\n",
       "      <td>top_10</td>\n",
       "      <td>136290.0</td>\n",
       "      <td>usnr_rank_cat+norm_cit_all_IAC</td>\n",
       "    </tr>\n",
       "    <tr>\n",
       "      <th>...</th>\n",
       "      <td>...</td>\n",
       "      <td>...</td>\n",
       "      <td>...</td>\n",
       "      <td>...</td>\n",
       "      <td>...</td>\n",
       "      <td>...</td>\n",
       "      <td>...</td>\n",
       "      <td>...</td>\n",
       "    </tr>\n",
       "    <tr>\n",
       "      <th>5</th>\n",
       "      <td>asian_M</td>\n",
       "      <td>0.055773</td>\n",
       "      <td>1.978674e-16</td>\n",
       "      <td>0.042482</td>\n",
       "      <td>0.069064</td>\n",
       "      <td>(1.24, 1.34)</td>\n",
       "      <td>103332.0</td>\n",
       "      <td>avg_citations_Q10+norm_FI_2</td>\n",
       "    </tr>\n",
       "    <tr>\n",
       "      <th>6</th>\n",
       "      <td>white_F</td>\n",
       "      <td>-0.003929</td>\n",
       "      <td>5.777285e-01</td>\n",
       "      <td>-0.017760</td>\n",
       "      <td>0.009903</td>\n",
       "      <td>(1.24, 1.34)</td>\n",
       "      <td>103332.0</td>\n",
       "      <td>avg_citations_Q10+norm_FI_2</td>\n",
       "    </tr>\n",
       "    <tr>\n",
       "      <th>7</th>\n",
       "      <td>hispanic_F</td>\n",
       "      <td>-0.013860</td>\n",
       "      <td>4.940556e-01</td>\n",
       "      <td>-0.053583</td>\n",
       "      <td>0.025863</td>\n",
       "      <td>(1.24, 1.34)</td>\n",
       "      <td>103332.0</td>\n",
       "      <td>avg_citations_Q10+norm_FI_2</td>\n",
       "    </tr>\n",
       "    <tr>\n",
       "      <th>8</th>\n",
       "      <td>black_F</td>\n",
       "      <td>-0.032945</td>\n",
       "      <td>2.222675e-01</td>\n",
       "      <td>-0.085849</td>\n",
       "      <td>0.019960</td>\n",
       "      <td>(1.24, 1.34)</td>\n",
       "      <td>103332.0</td>\n",
       "      <td>avg_citations_Q10+norm_FI_2</td>\n",
       "    </tr>\n",
       "    <tr>\n",
       "      <th>9</th>\n",
       "      <td>asian_F</td>\n",
       "      <td>0.042795</td>\n",
       "      <td>1.197191e-06</td>\n",
       "      <td>0.025523</td>\n",
       "      <td>0.060066</td>\n",
       "      <td>(1.24, 1.34)</td>\n",
       "      <td>103332.0</td>\n",
       "      <td>avg_citations_Q10+norm_FI_2</td>\n",
       "    </tr>\n",
       "  </tbody>\n",
       "</table>\n",
       "<p>380 rows × 8 columns</p>\n",
       "</div>"
      ],
      "text/plain": [
       "      variable     coeff          pvals  conf_lower  conf_higher  \\\n",
       "0    Intercept  1.239173   0.000000e+00    1.205056     1.273290   \n",
       "1    nb_auteur  0.019624  1.726789e-139    0.018096     0.021152   \n",
       "2   career_age  0.011022   6.260318e-42    0.009430     0.012614   \n",
       "3   hispanic_M -0.083169   1.942345e-01   -0.208738     0.042401   \n",
       "4      black_M  0.007624   9.320676e-01   -0.167680     0.182929   \n",
       "..         ...       ...            ...         ...          ...   \n",
       "5      asian_M  0.055773   1.978674e-16    0.042482     0.069064   \n",
       "6      white_F -0.003929   5.777285e-01   -0.017760     0.009903   \n",
       "7   hispanic_F -0.013860   4.940556e-01   -0.053583     0.025863   \n",
       "8      black_F -0.032945   2.222675e-01   -0.085849     0.019960   \n",
       "9      asian_F  0.042795   1.197191e-06    0.025523     0.060066   \n",
       "\n",
       "          subset         n                university_group  \n",
       "0         top_10  136290.0  usnr_rank_cat+norm_cit_all_IAC  \n",
       "1         top_10  136290.0  usnr_rank_cat+norm_cit_all_IAC  \n",
       "2         top_10  136290.0  usnr_rank_cat+norm_cit_all_IAC  \n",
       "3         top_10  136290.0  usnr_rank_cat+norm_cit_all_IAC  \n",
       "4         top_10  136290.0  usnr_rank_cat+norm_cit_all_IAC  \n",
       "..           ...       ...                             ...  \n",
       "5   (1.24, 1.34)  103332.0     avg_citations_Q10+norm_FI_2  \n",
       "6   (1.24, 1.34)  103332.0     avg_citations_Q10+norm_FI_2  \n",
       "7   (1.24, 1.34)  103332.0     avg_citations_Q10+norm_FI_2  \n",
       "8   (1.24, 1.34)  103332.0     avg_citations_Q10+norm_FI_2  \n",
       "9   (1.24, 1.34)  103332.0     avg_citations_Q10+norm_FI_2  \n",
       "\n",
       "[380 rows x 8 columns]"
      ]
     },
     "execution_count": 10,
     "metadata": {},
     "output_type": "execute_result"
    }
   ],
   "source": [
    "params_table_norm"
   ]
  },
  {
   "cell_type": "code",
   "execution_count": 11,
   "id": "a47996c9-15a8-442c-a2c6-0d68a10d49e5",
   "metadata": {},
   "outputs": [],
   "source": [
    "params_table_norm.to_csv('../../results/linear_models/subsets/parameters_table.csv',index=False)"
   ]
  }
 ],
 "metadata": {
  "kernelspec": {
   "display_name": "Python 3 (ipykernel)",
   "language": "python",
   "name": "python3"
  },
  "language_info": {
   "codemirror_mode": {
    "name": "ipython",
    "version": 3
   },
   "file_extension": ".py",
   "mimetype": "text/x-python",
   "name": "python",
   "nbconvert_exporter": "python",
   "pygments_lexer": "ipython3",
   "version": "3.10.8"
  }
 },
 "nbformat": 4,
 "nbformat_minor": 5
}
