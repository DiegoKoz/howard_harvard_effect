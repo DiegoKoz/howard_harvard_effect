{
 "cells": [
  {
   "cell_type": "code",
   "execution_count": 1,
   "id": "a293309b-688a-417a-b2f0-f76f6e7f4881",
   "metadata": {},
   "outputs": [],
   "source": [
    "import pandas as pd\n",
    "import pickle\n",
    "from tqdm.notebook import tqdm\n",
    "import numpy as np\n",
    "from pandas._libs.lib import is_integer"
   ]
  },
  {
   "cell_type": "code",
   "execution_count": 2,
   "id": "03c4fd1e-6696-42ad-a1fc-7c543fcf5a36",
   "metadata": {},
   "outputs": [],
   "source": [
    "def weighted_qcut(values, weights, q, **kwargs):\n",
    "    'Return weighted quantile cuts from a given series, values.'\n",
    "    if is_integer(q):\n",
    "        quantiles = np.linspace(0, 1, q + 1)\n",
    "    else:\n",
    "        quantiles = q\n",
    "    order = weights.iloc[values.argsort()].cumsum()\n",
    "    bins = pd.cut(order / order.iloc[-1], quantiles, **kwargs)\n",
    "    return bins.sort_index()"
   ]
  },
  {
   "cell_type": "code",
   "execution_count": 3,
   "id": "7e432fca-fe04-4877-848d-425d075b6523",
   "metadata": {},
   "outputs": [],
   "source": [
    "def weighted_qcut_labels(df, var,q):\n",
    "    lims = df.groupby('{}_Q{}'.format(var,q)).agg({var:[lambda x: round(min(x),ndigits=2),lambda x: round(max(x),ndigits=2)]}).droplevel(axis=1,level=1)\n",
    "    lims.columns = ['min','max']\n",
    "    lims['label'] = lims.apply(lambda x: '({}, {})'.format(x['min'], x['max']),axis=1)\n",
    "    lims = lims.drop(columns=['min','max'])\n",
    "    qlabels = df['{}_Q{}'.format(var,q)].map(lims['label'])\n",
    "    return qlabels"
   ]
  },
  {
   "cell_type": "code",
   "execution_count": 4,
   "id": "b992871b-2e3c-4a8e-ac1d-5a5d5692e5b3",
   "metadata": {},
   "outputs": [],
   "source": [
    "address_clean = pd.read_pickle('/data/datasets/WOS/US/address_clean.p')"
   ]
  },
  {
   "cell_type": "code",
   "execution_count": 5,
   "id": "eb797124-926e-4b78-9cd9-2a8d2eba6121",
   "metadata": {},
   "outputs": [],
   "source": [
    "institutions_impact = pd.read_excel('../../data/impact.xlsx')"
   ]
  },
  {
   "cell_type": "code",
   "execution_count": 6,
   "id": "dcbe555b-aa47-4cea-8d1f-459fe29cf5fa",
   "metadata": {},
   "outputs": [],
   "source": [
    "institutions_impact = institutions_impact[pd.to_numeric(institutions_impact['carnegie_id'], errors='coerce').notnull()]"
   ]
  },
  {
   "cell_type": "code",
   "execution_count": 7,
   "id": "3ac6ac7a-94de-4b8f-88d4-ab3a82e72550",
   "metadata": {},
   "outputs": [],
   "source": [
    "institutions_impact['carnegie_id'] = institutions_impact.carnegie_id.astype(str)"
   ]
  },
  {
   "cell_type": "code",
   "execution_count": 8,
   "id": "07344ee0-8a9e-4731-8e17-c4ccba1cc51e",
   "metadata": {},
   "outputs": [],
   "source": [
    "impact_df = institutions_impact.copy()"
   ]
  },
  {
   "cell_type": "code",
   "execution_count": 9,
   "id": "a46dd1b3-aeb8-43e6-ac98-cce3e80ff4a5",
   "metadata": {},
   "outputs": [],
   "source": [
    "impact_df = impact_df[impact_df.carnegie_id.isin(address_clean.carnegie_id.unique())]"
   ]
  },
  {
   "cell_type": "code",
   "execution_count": 10,
   "id": "46167f4d-af31-4ac4-ae41-b62cc3ed4f21",
   "metadata": {},
   "outputs": [],
   "source": [
    "# I use weighted quartiles, to consider the size of institutions\n",
    "impact_df['avg_citations_Q10'] = weighted_qcut(impact_df['avg_citations'], impact_df['npapers'], 10, labels=False)\n",
    "impact_df['avg_citations_Q10'] = weighted_qcut_labels(impact_df, 'avg_citations',10)\n",
    "\n",
    "# percentiles creates 10 groups with a single institution and 90 groups with less than 10 institutions\n",
    "# impact_df['avg_citations_Q100'] = weighted_qcut(impact_df['avg_citations'], impact_df['npapers'], 100, labels=False)\n",
    "# impact_df['avg_citations_Q100'] = weighted_qcut_labels(impact_df, 'avg_citations',100)"
   ]
  },
  {
   "cell_type": "code",
   "execution_count": 11,
   "id": "08cf18dd-4346-420e-a1da-7bb0be21cdf0",
   "metadata": {},
   "outputs": [],
   "source": [
    "#impact_df.avg_citations_Q100.value_counts().values"
   ]
  },
  {
   "cell_type": "code",
   "execution_count": 12,
   "id": "2f75fedb-2136-48c3-a2a5-9e0cec00ed92",
   "metadata": {},
   "outputs": [],
   "source": [
    "impact_df = impact_df[['carnegie_id','avg_citations_Q10']]"
   ]
  },
  {
   "cell_type": "code",
   "execution_count": 13,
   "id": "205217b1-0e8c-44b7-8108-2c6765276070",
   "metadata": {},
   "outputs": [],
   "source": [
    "address_clean = address_clean.merge(impact_df, on='carnegie_id', how='left')"
   ]
  },
  {
   "cell_type": "code",
   "execution_count": 14,
   "id": "ea9eeb1b-ecc6-403a-b0de-279e62c41900",
   "metadata": {},
   "outputs": [],
   "source": [
    "address_clean.to_pickle('/data/datasets/WOS/US/address_clean.p')"
   ]
  }
 ],
 "metadata": {
  "kernelspec": {
   "display_name": "Python 3 (ipykernel)",
   "language": "python",
   "name": "python3"
  },
  "language_info": {
   "codemirror_mode": {
    "name": "ipython",
    "version": 3
   },
   "file_extension": ".py",
   "mimetype": "text/x-python",
   "name": "python",
   "nbconvert_exporter": "python",
   "pygments_lexer": "ipython3",
   "version": "3.10.8"
  }
 },
 "nbformat": 4,
 "nbformat_minor": 5
}
