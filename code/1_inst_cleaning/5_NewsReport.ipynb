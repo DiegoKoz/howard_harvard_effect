{
 "cells": [
  {
   "cell_type": "code",
   "execution_count": 19,
   "id": "62f19882-bafa-4c9b-8c49-6a676ea6ddf2",
   "metadata": {},
   "outputs": [],
   "source": [
    "%config Completer.use_jedi = False"
   ]
  },
  {
   "cell_type": "code",
   "execution_count": 20,
   "id": "0e6398e6-b92d-43e3-b42d-1a111924695e",
   "metadata": {},
   "outputs": [],
   "source": [
    "import pandas as pd\n",
    "import pickle\n",
    "from tqdm.notebook import tqdm\n",
    "import numpy as np\n",
    "import re\n",
    "import string"
   ]
  },
  {
   "cell_type": "markdown",
   "id": "61ee36ba-8ee3-44a0-9c8a-60b5c31b34da",
   "metadata": {},
   "source": [
    "Save dataset for handcoding"
   ]
  },
  {
   "cell_type": "code",
   "execution_count": 21,
   "id": "4fb8a108-1b99-4888-8db1-9063a6d7a764",
   "metadata": {},
   "outputs": [],
   "source": [
    "address_clean = pd.read_pickle('/data/datasets/WOS/US/address_clean.p')"
   ]
  },
  {
   "cell_type": "code",
   "execution_count": 22,
   "id": "3f0135a5-48c1-4a80-8736-94eae730cad7",
   "metadata": {},
   "outputs": [],
   "source": [
    "#for repeated runs\n",
    "#address_clean = address_clean.drop(columns=['usnr_rank','usnr_rank_cat'])"
   ]
  },
  {
   "cell_type": "code",
   "execution_count": 23,
   "id": "907cdbe3-4e93-4b44-9b5e-80ce6d112043",
   "metadata": {},
   "outputs": [],
   "source": [
    "carnegie_universities = address_clean[['grid_id','carnegie_id','carnegie_name']].drop_duplicates('carnegie_id')\n",
    "\n",
    "carnegie_universities = carnegie_universities.merge(address_clean.carnegie_id.value_counts().to_frame(name='n'), how='left',left_on='carnegie_id',right_index=True)"
   ]
  },
  {
   "cell_type": "code",
   "execution_count": 24,
   "id": "9d673eb7-2722-42c8-a983-88dc87cfd8d2",
   "metadata": {},
   "outputs": [],
   "source": [
    "carnegie_universities = carnegie_universities.sort_values('n',ascending=False)"
   ]
  },
  {
   "cell_type": "code",
   "execution_count": 25,
   "id": "a92bd53a-7c51-40fa-8dcb-8aae5cf40c4a",
   "metadata": {},
   "outputs": [],
   "source": [
    "#carnegie_universities.to_excel('../../handcoding/universities_newsreport_for_handcoding.xlsx', index=False)"
   ]
  },
  {
   "cell_type": "markdown",
   "id": "dc9d1fd2-7ce8-402f-928c-bc9b1a37cfcc",
   "metadata": {},
   "source": [
    "Load top 100 universities"
   ]
  },
  {
   "cell_type": "code",
   "execution_count": 26,
   "id": "f9b214b7-2fa7-40c4-8811-9289ff3880c9",
   "metadata": {},
   "outputs": [],
   "source": [
    "us_newsreport = pd.read_excel('../../handcoding/USNEWS Ranking + Carnegie .xlsx', names=['usnr_rank','institution_name','carnegie_id'])"
   ]
  },
  {
   "cell_type": "code",
   "execution_count": 27,
   "id": "0d2d7745-5574-40ab-af44-0a71df4e5336",
   "metadata": {},
   "outputs": [],
   "source": [
    "#us_newsreport['usnr_rank'] = us_newsreport.usnr_rank.astype(int)\n",
    "us_newsreport['carnegie_id'] = us_newsreport.carnegie_id.astype(int).astype('str')"
   ]
  },
  {
   "cell_type": "code",
   "execution_count": 28,
   "id": "1a97b504-1d89-4433-b4c6-3af14c7104b0",
   "metadata": {},
   "outputs": [],
   "source": [
    "address_clean = address_clean.merge(us_newsreport[['usnr_rank','carnegie_id']], on = 'carnegie_id', how='left')"
   ]
  },
  {
   "cell_type": "code",
   "execution_count": 29,
   "id": "6ffc3dd1-6e8b-45a2-8e23-284830d4bfaf",
   "metadata": {},
   "outputs": [],
   "source": [
    "# I assign the ones that are not in the top 100 to 999\n",
    "address_clean.loc[address_clean.usnr_rank.isnull(),'usnr_rank'] = 999"
   ]
  },
  {
   "cell_type": "code",
   "execution_count": 33,
   "id": "d7fce37f-24f3-4b81-a70d-1587128e7702",
   "metadata": {},
   "outputs": [],
   "source": [
    "test =pd.cut(address_clean.usnr_rank,bins=[0,10,100,999], labels=['top_10','top_100','not_top'])"
   ]
  },
  {
   "cell_type": "code",
   "execution_count": 40,
   "id": "b9227740-7934-4150-bfea-10214f5b0f1d",
   "metadata": {},
   "outputs": [],
   "source": [
    "address_clean['usnr_rank_cat'] = pd.cut(address_clean.usnr_rank,bins=[0,10,100,999], labels=['top_10','top_100','not_top'])"
   ]
  },
  {
   "cell_type": "code",
   "execution_count": 41,
   "id": "9fabadf8-e96b-473b-9ee5-52a83e3405f7",
   "metadata": {},
   "outputs": [
    {
     "data": {
      "text/plain": [
       "top_100    7818345\n",
       "not_top    5228800\n",
       "top_10     2977081\n",
       "Name: usnr_rank_cat, dtype: int64"
      ]
     },
     "execution_count": 41,
     "metadata": {},
     "output_type": "execute_result"
    }
   ],
   "source": [
    "address_clean.usnr_rank_cat.value_counts()"
   ]
  },
  {
   "cell_type": "code",
   "execution_count": 42,
   "id": "c0f8cb0b-4376-4f8c-b140-cda4cbf90984",
   "metadata": {},
   "outputs": [],
   "source": [
    "address_clean.to_pickle('/data/datasets/WOS/US/address_clean.p')"
   ]
  },
  {
   "cell_type": "code",
   "execution_count": 43,
   "id": "8225bacf-bbf6-4093-852a-43b3cedf5c00",
   "metadata": {},
   "outputs": [],
   "source": [
    "#address_clean = pd.read_pickle('/data/datasets/WOS/US/address_clean.p')"
   ]
  },
  {
   "cell_type": "code",
   "execution_count": 44,
   "id": "61a1c050-cc39-44c0-a65a-4ca5c5b1934e",
   "metadata": {},
   "outputs": [],
   "source": [
    "institutions = address_clean[['carnegie_id','carnegie_name','avg_citations','avg_citations_Q','usnr_rank','usnr_rank_cat','selindex']].drop_duplicates()"
   ]
  },
  {
   "cell_type": "code",
   "execution_count": 45,
   "id": "40b57d9e-8228-4618-9d00-5a7b080a7290",
   "metadata": {},
   "outputs": [],
   "source": [
    "institutions.to_csv('../../data/institutions_prestige_metrics.csv', index=False)"
   ]
  },
  {
   "cell_type": "code",
   "execution_count": 46,
   "id": "9fba8c9a-bd54-415f-a470-9145675cffad",
   "metadata": {},
   "outputs": [
    {
     "data": {
      "text/html": [
       "<div>\n",
       "<style scoped>\n",
       "    .dataframe tbody tr th:only-of-type {\n",
       "        vertical-align: middle;\n",
       "    }\n",
       "\n",
       "    .dataframe tbody tr th {\n",
       "        vertical-align: top;\n",
       "    }\n",
       "\n",
       "    .dataframe thead th {\n",
       "        text-align: right;\n",
       "    }\n",
       "</style>\n",
       "<table border=\"1\" class=\"dataframe\">\n",
       "  <thead>\n",
       "    <tr style=\"text-align: right;\">\n",
       "      <th></th>\n",
       "      <th>cluster_id</th>\n",
       "      <th>id_art</th>\n",
       "      <th>grid_id</th>\n",
       "      <th>carnegie_id</th>\n",
       "      <th>carnegie_name</th>\n",
       "      <th>r1</th>\n",
       "      <th>control</th>\n",
       "      <th>obereg</th>\n",
       "      <th>hbcu</th>\n",
       "      <th>tribal</th>\n",
       "      <th>...</th>\n",
       "      <th>Top5CR_Q</th>\n",
       "      <th>Top1CR_Q</th>\n",
       "      <th>npapers</th>\n",
       "      <th>impact</th>\n",
       "      <th>avg_citations</th>\n",
       "      <th>npapers_Q</th>\n",
       "      <th>impact_Q</th>\n",
       "      <th>avg_citations_Q</th>\n",
       "      <th>usnr_rank</th>\n",
       "      <th>usnr_rank_cat</th>\n",
       "    </tr>\n",
       "  </thead>\n",
       "  <tbody>\n",
       "  </tbody>\n",
       "</table>\n",
       "<p>0 rows × 30 columns</p>\n",
       "</div>"
      ],
      "text/plain": [
       "Empty DataFrame\n",
       "Columns: [cluster_id, id_art, grid_id, carnegie_id, carnegie_name, r1, control, obereg, hbcu, tribal, hsi, msi, womens, selindex, n_papers_on_WOS, ncitable_docs, Top10CR, Top5CR, Top1CR, Top10CR_Q, Top5CR_Q, Top1CR_Q, npapers, impact, avg_citations, npapers_Q, impact_Q, avg_citations_Q, usnr_rank, usnr_rank_cat]\n",
       "Index: []\n",
       "\n",
       "[0 rows x 30 columns]"
      ]
     },
     "execution_count": 46,
     "metadata": {},
     "output_type": "execute_result"
    }
   ],
   "source": [
    "address_clean[address_clean.usnr_rank_cat.isnull()]"
   ]
  },
  {
   "cell_type": "code",
   "execution_count": 47,
   "id": "9d8797a4-d4ca-4f02-9081-3c721a107754",
   "metadata": {},
   "outputs": [
    {
     "data": {
      "text/html": [
       "<div>\n",
       "<style scoped>\n",
       "    .dataframe tbody tr th:only-of-type {\n",
       "        vertical-align: middle;\n",
       "    }\n",
       "\n",
       "    .dataframe tbody tr th {\n",
       "        vertical-align: top;\n",
       "    }\n",
       "\n",
       "    .dataframe thead th {\n",
       "        text-align: right;\n",
       "    }\n",
       "</style>\n",
       "<table border=\"1\" class=\"dataframe\">\n",
       "  <thead>\n",
       "    <tr style=\"text-align: right;\">\n",
       "      <th></th>\n",
       "      <th>carnegie_id</th>\n",
       "      <th>carnegie_name</th>\n",
       "      <th>avg_citations</th>\n",
       "      <th>avg_citations_Q</th>\n",
       "      <th>usnr_rank</th>\n",
       "      <th>usnr_rank_cat</th>\n",
       "      <th>selindex</th>\n",
       "    </tr>\n",
       "  </thead>\n",
       "  <tbody>\n",
       "  </tbody>\n",
       "</table>\n",
       "</div>"
      ],
      "text/plain": [
       "Empty DataFrame\n",
       "Columns: [carnegie_id, carnegie_name, avg_citations, avg_citations_Q, usnr_rank, usnr_rank_cat, selindex]\n",
       "Index: []"
      ]
     },
     "execution_count": 47,
     "metadata": {},
     "output_type": "execute_result"
    }
   ],
   "source": [
    "institutions[institutions.usnr_rank_cat.isnull()]"
   ]
  }
 ],
 "metadata": {
  "kernelspec": {
   "display_name": "Python 3 (ipykernel)",
   "language": "python",
   "name": "python3"
  },
  "language_info": {
   "codemirror_mode": {
    "name": "ipython",
    "version": 3
   },
   "file_extension": ".py",
   "mimetype": "text/x-python",
   "name": "python",
   "nbconvert_exporter": "python",
   "pygments_lexer": "ipython3",
   "version": "3.10.8"
  }
 },
 "nbformat": 4,
 "nbformat_minor": 5
}
