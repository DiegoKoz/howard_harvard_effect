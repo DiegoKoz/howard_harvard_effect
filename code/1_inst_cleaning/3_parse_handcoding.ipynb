{
 "cells": [
  {
   "cell_type": "code",
   "execution_count": 1,
   "id": "78a49120-5539-4cad-bbea-000487bd0101",
   "metadata": {},
   "outputs": [],
   "source": [
    "%config Completer.use_jedi = False"
   ]
  },
  {
   "cell_type": "code",
   "execution_count": 2,
   "id": "f043fa30-1155-421f-8c55-364aace9020f",
   "metadata": {},
   "outputs": [],
   "source": [
    "import pandas as pd\n",
    "import pickle\n",
    "from tqdm.notebook import tqdm\n",
    "import numpy as np\n",
    "import re\n",
    "import string"
   ]
  },
  {
   "cell_type": "code",
   "execution_count": 3,
   "id": "70af4c74-fe78-430a-a8e1-489ff33a9254",
   "metadata": {},
   "outputs": [],
   "source": [
    "institutional_type = pd.read_csv('../../data/institutions_us.csv')"
   ]
  },
  {
   "cell_type": "code",
   "execution_count": 4,
   "id": "f7afa9f3-68f7-4f9f-b7d7-5ac5aadb3c9a",
   "metadata": {},
   "outputs": [],
   "source": [
    "address = pd.read_pickle('/data/datasets/WOS/US/Adresses_impact.p')"
   ]
  },
  {
   "cell_type": "code",
   "execution_count": 5,
   "id": "d5ca45b5-8b96-4ee3-bee4-e11be5fb2f77",
   "metadata": {},
   "outputs": [],
   "source": [
    "carnegie_df = pd.read_excel('../../data/carnegie/CCIHE2021-PublicData.xlsx',sheet_name='Data',\n",
    "                           converters = {'unitid':str,'selindex':str})\n",
    "# carnegie_df = carnegie_df[['unitid','name']]\n",
    "# carnegie_df.columns = ['carnegie_id','carnegie_name']\n",
    "\n",
    "# carnegie_df['carnegie_id'] = carnegie_df.carnegie_id.astype(\"category\")"
   ]
  },
  {
   "cell_type": "code",
   "execution_count": 6,
   "id": "4d05771d-f1dc-459d-bda1-dbf4a9fdffd3",
   "metadata": {},
   "outputs": [],
   "source": [
    "handcoding_df = pd.read_excel('../../data/institutions_20220329.xlsx',sheet_name='Sheet1',converters={'index':int,'carnegie_id':int})\n",
    "\n",
    "handcoding_df['carnegie_id'] = handcoding_df.carnegie_id.astype('str')\n",
    "\n",
    "handcoding_df.drop(columns='Unnamed: 0', inplace=True)"
   ]
  },
  {
   "cell_type": "code",
   "execution_count": 7,
   "id": "7fbb22ae-26fa-4373-8b9a-cb9780405b03",
   "metadata": {},
   "outputs": [],
   "source": [
    "handcoding_flags = pd.read_excel('../../handcoding/carnegie_flags.xlsx',sheet_name='to_clean',converters={'real_unitid':str})\n",
    "\n",
    "handcoding_flags = handcoding_flags.dropna(subset=['real_unitid']).drop_duplicates()"
   ]
  },
  {
   "cell_type": "code",
   "execution_count": 8,
   "id": "f4896e9d-fd47-4040-9188-9b6f841bdf1e",
   "metadata": {},
   "outputs": [],
   "source": [
    "real_hsi = carnegie_df[carnegie_df.hsi==1].unitid.unique()"
   ]
  },
  {
   "cell_type": "code",
   "execution_count": 9,
   "id": "1701079a-5911-4751-995f-75aac1eccf72",
   "metadata": {},
   "outputs": [
    {
     "data": {
      "text/plain": [
       "332"
      ]
     },
     "execution_count": 9,
     "metadata": {},
     "output_type": "execute_result"
    }
   ],
   "source": [
    "len(real_hsi)"
   ]
  },
  {
   "cell_type": "code",
   "execution_count": 10,
   "id": "71851c27-a3ae-47e8-9b3f-d336b5b7ba78",
   "metadata": {},
   "outputs": [
    {
     "data": {
      "text/plain": [
       "hsi     250\n",
       "hbcu     59\n",
       "wc       28\n",
       "Name: potential_group, dtype: int64"
      ]
     },
     "execution_count": 10,
     "metadata": {},
     "output_type": "execute_result"
    }
   ],
   "source": [
    "handcoding_flags.potential_group.value_counts()"
   ]
  },
  {
   "cell_type": "code",
   "execution_count": 11,
   "id": "4a6383b5-a655-4923-b429-62b58d06c432",
   "metadata": {
    "tags": []
   },
   "outputs": [],
   "source": [
    "#we remove:\n",
    "handcoding_flags[(handcoding_flags.potential_group == 'hsi') & (-handcoding_flags.real_unitid.isin(real_hsi))]\n",
    "#we keep\n",
    "handcoding_flags = handcoding_flags[\n",
    "    (handcoding_flags.potential_group == 'hbcu') |\n",
    "    (handcoding_flags.potential_group == 'wc') |\n",
    "    ((handcoding_flags.potential_group == 'hsi') & (handcoding_flags.real_unitid.isin(real_hsi)))]"
   ]
  },
  {
   "cell_type": "code",
   "execution_count": 12,
   "id": "6be5519a-a1d8-4321-a04a-fd9c1403c03a",
   "metadata": {},
   "outputs": [
    {
     "data": {
      "text/plain": [
       "hsi     100\n",
       "hbcu     59\n",
       "wc       28\n",
       "Name: potential_group, dtype: int64"
      ]
     },
     "execution_count": 12,
     "metadata": {},
     "output_type": "execute_result"
    }
   ],
   "source": [
    "handcoding_flags.potential_group.value_counts()"
   ]
  },
  {
   "cell_type": "code",
   "execution_count": 13,
   "id": "2f9ca858-ceec-4825-9b9c-95246b496b04",
   "metadata": {},
   "outputs": [],
   "source": [
    "handcoding_flags = handcoding_flags[['name_wos','n','real_unitid']]\n",
    "handcoding_flags.columns = ['name','n','carnegie_id']"
   ]
  },
  {
   "cell_type": "code",
   "execution_count": 14,
   "id": "6dbb5d38-6958-46b4-8336-7cee1a47d5d6",
   "metadata": {},
   "outputs": [],
   "source": [
    "handcoding_flags = handcoding_flags.merge(carnegie_df[['unitid','name']].rename(columns={\"unitid\":'carnegie_id','name':'carnegie_name'}), on='carnegie_id')\n"
   ]
  },
  {
   "cell_type": "code",
   "execution_count": 15,
   "id": "4097a4ed-743d-4eb2-b710-8f00a39921a2",
   "metadata": {},
   "outputs": [],
   "source": [
    "handcoding_flags['sector']= 'university'\n",
    "handcoding_flags['grid_id'] = ''\n",
    "handcoding_flags['grid_name'] = ''\n",
    "handcoding_flags['Handcoder notes'] = 'special handcoding hbcu-hsi-wc'\n",
    "handcoding_flags['new_name'] = handcoding_flags.name\n",
    "handcoding_flags['Check'] = 'ok'\n"
   ]
  },
  {
   "cell_type": "code",
   "execution_count": 16,
   "id": "b86b296f-385c-4e4f-8bb0-f5b918fa2c3b",
   "metadata": {},
   "outputs": [],
   "source": [
    "handcoding_df = handcoding_df.append(handcoding_flags)"
   ]
  },
  {
   "cell_type": "code",
   "execution_count": 17,
   "id": "3b64ebe3-4ee6-4634-96c2-e9e4ba6e9880",
   "metadata": {},
   "outputs": [],
   "source": [
    "handcoding_df = handcoding_df[handcoding_df.Check == 'ok']"
   ]
  },
  {
   "cell_type": "code",
   "execution_count": 18,
   "id": "eb34ea23-eac5-4fbf-8134-f83ee4ef509b",
   "metadata": {},
   "outputs": [],
   "source": [
    "handcoding_df[['name','new_name','grid_id','grid_name','carnegie_id','carnegie_name']].to_csv('../../data/institutions_crosswalk.csv',index=False)"
   ]
  },
  {
   "cell_type": "code",
   "execution_count": 19,
   "id": "52dc809e-60db-417f-87e3-865e5ade1872",
   "metadata": {},
   "outputs": [],
   "source": [
    "address_clean = address.merge(handcoding_df[['name','grid_id','carnegie_id','carnegie_name']],how='inner',left_on = 'Institution',right_on='name')"
   ]
  },
  {
   "cell_type": "code",
   "execution_count": 20,
   "id": "450e1455-44b4-4429-9e06-1f5f8c04c25b",
   "metadata": {},
   "outputs": [
    {
     "name": "stdout",
     "output_type": "stream",
     "text": [
      "original number of rows: 21.290383 millions\n",
      "number of rows after cleaning: 16.03094 millions\n"
     ]
    }
   ],
   "source": [
    "print('original number of rows: ' + str(address.shape[0]/1000000) + ' millions')\n",
    "print('number of rows after cleaning: ' + str(address_clean.shape[0]/1000000) + ' millions')"
   ]
  },
  {
   "cell_type": "code",
   "execution_count": 21,
   "id": "9721873f-f950-4fb6-953b-cef2021b685b",
   "metadata": {},
   "outputs": [
    {
     "name": "stdout",
     "output_type": "stream",
     "text": [
      "original number of rows: 21.290383 millions\n",
      "number of rows after cleaning: 16.03094 millions\n"
     ]
    }
   ],
   "source": [
    "print('original number of rows: ' + str(address.shape[0]/1000000) + ' millions')\n",
    "print('number of rows after cleaning: ' + str(address_clean.shape[0]/1000000) + ' millions')"
   ]
  },
  {
   "cell_type": "code",
   "execution_count": 22,
   "id": "0404cde9-0db2-479f-9fe2-aa8e06ba3ca5",
   "metadata": {},
   "outputs": [
    {
     "data": {
      "text/plain": [
       "university    14177659\n",
       "hospital       3532425\n",
       "goverment      1747917\n",
       "company        1152552\n",
       "NaN             679830\n",
       "Name: sector, dtype: int64"
      ]
     },
     "execution_count": 22,
     "metadata": {},
     "output_type": "execute_result"
    }
   ],
   "source": [
    "address.sector.value_counts(dropna=False)"
   ]
  },
  {
   "cell_type": "code",
   "execution_count": 23,
   "id": "15cdb5b4-69ff-431c-bada-ea7b6c8252f7",
   "metadata": {},
   "outputs": [
    {
     "data": {
      "text/plain": [
       "14177649.266594"
      ]
     },
     "execution_count": 23,
     "metadata": {},
     "output_type": "execute_result"
    }
   ],
   "source": [
    "21290383*0.665918"
   ]
  },
  {
   "cell_type": "markdown",
   "id": "66db1023-a2b1-4fd0-9b0a-6a9ce91aee84",
   "metadata": {},
   "source": [
    "### Carnegie classifications"
   ]
  },
  {
   "cell_type": "code",
   "execution_count": 24,
   "id": "7617014d-2e44-4a27-92b7-6eca3f6d1c45",
   "metadata": {},
   "outputs": [],
   "source": [
    "carnegie_df = carnegie_df[['unitid','name', 'basic2021','control','obereg','hbcu','tribal','hsi','msi','womens','selindex']]"
   ]
  },
  {
   "cell_type": "code",
   "execution_count": 25,
   "id": "766b4d48-65ae-4ad4-b95a-1b32c5ac1cd4",
   "metadata": {},
   "outputs": [],
   "source": [
    "carnegie_df['r1']='not R1'\n",
    "\n",
    "carnegie_df.loc[carnegie_df.basic2021 == 15,'r1'] = 'R1'"
   ]
  },
  {
   "cell_type": "code",
   "execution_count": 26,
   "id": "584f93de-5646-4a88-b64a-bb0d97e3efef",
   "metadata": {},
   "outputs": [],
   "source": [
    "carnegie_df['control'] = carnegie_df.control.replace({1:'public',2:'private_nfp',3:'private_fp'})\n",
    "\n",
    "carnegie_df['obereg'] = carnegie_df.obereg.replace({0: \"US_Service_schools\",\n",
    "                                                     1: \"New_England\",\n",
    "                                                     2: \"Mid_East\",\n",
    "                                                     3: \"Great_Lakes\",\n",
    "                                                     4: \"Plains\",\n",
    "                                                     5: \"Southeast\",\n",
    "                                                     6: \"Southwest\",\n",
    "                                                     7: \"Rocky_Mountains\",\n",
    "                                                     8: \"Far_West\",\n",
    "                                                     9: \"Outlying_areas\"})\n",
    "\n",
    "carnegie_df['hbcu'] = carnegie_df.hbcu.replace({1:'HBCU', 2:'not HBCU'})\n",
    "carnegie_df['tribal'] = carnegie_df.tribal.replace({1:'tribal', 2:'not tribal'})\n",
    "carnegie_df['hsi'] = carnegie_df.hsi.replace({0:'not HSI', 1:'HSI'})\n",
    "carnegie_df['msi'] = carnegie_df.msi.replace({0:'not MSI', 1:'MSI'})\n",
    "carnegie_df['womens'] = carnegie_df.womens.replace({0:'not womens', 1:'Womens'})"
   ]
  },
  {
   "cell_type": "code",
   "execution_count": 27,
   "id": "bb32b03b-e566-451d-9544-2c67fb5abe65",
   "metadata": {},
   "outputs": [
    {
     "data": {
      "text/plain": [
       "NaN               1288\n",
       "inclusive         1268\n",
       "selective          562\n",
       "0                  525\n",
       "more_selective     296\n",
       "Name: selindex, dtype: int64"
      ]
     },
     "execution_count": 27,
     "metadata": {},
     "output_type": "execute_result"
    }
   ],
   "source": [
    "carnegie_df.selindex.replace({'1':'inclusive','2':'selective','3':'more_selective'}).value_counts(dropna=False)"
   ]
  },
  {
   "cell_type": "markdown",
   "id": "11fa7a53-922b-464b-9950-dd19559a32c5",
   "metadata": {},
   "source": [
    "### Most institutions don't have a selectivity index"
   ]
  },
  {
   "cell_type": "code",
   "execution_count": 28,
   "id": "9dbe2c46-57cb-4478-8f5b-93f9493359e0",
   "metadata": {},
   "outputs": [],
   "source": [
    "carnegie_df['selindex'] = carnegie_df.selindex.replace({'0':'not_indexed',np.NaN:'not_indexed',\n",
    "                              '1':'inclusive','2':'selective','3':'more_selective'})"
   ]
  },
  {
   "cell_type": "code",
   "execution_count": 29,
   "id": "e640da4a-e854-49bc-a9cb-351257e01dab",
   "metadata": {},
   "outputs": [],
   "source": [
    "carnegie_df = carnegie_df[['unitid','r1','control', 'obereg', 'hbcu', 'tribal',\n",
    "       'hsi', 'msi', 'womens', 'selindex']]"
   ]
  },
  {
   "cell_type": "code",
   "execution_count": 30,
   "id": "6f65ddf8-fa01-4a38-80e2-37ed9b1f8b99",
   "metadata": {},
   "outputs": [
    {
     "data": {
      "text/plain": [
       "not R1    3793\n",
       "R1         146\n",
       "Name: r1, dtype: int64"
      ]
     },
     "execution_count": 30,
     "metadata": {},
     "output_type": "execute_result"
    }
   ],
   "source": [
    "carnegie_df.r1.value_counts()"
   ]
  },
  {
   "cell_type": "code",
   "execution_count": 31,
   "id": "40c51289-adb5-40f2-bd77-25347da66f7a",
   "metadata": {},
   "outputs": [],
   "source": [
    "address_clean = address_clean.merge(carnegie_df, left_on='carnegie_id',right_on='unitid')"
   ]
  },
  {
   "cell_type": "code",
   "execution_count": 32,
   "id": "76bde583-8953-4c76-a685-80d730dcd835",
   "metadata": {},
   "outputs": [
    {
     "data": {
      "text/plain": [
       "R1        13416187\n",
       "not R1     2614753\n",
       "Name: r1, dtype: int64"
      ]
     },
     "execution_count": 32,
     "metadata": {},
     "output_type": "execute_result"
    }
   ],
   "source": [
    "address_clean.r1.value_counts()"
   ]
  },
  {
   "cell_type": "code",
   "execution_count": 33,
   "id": "4d15eef6-cb47-4f8a-986f-2105c3ca0ff2",
   "metadata": {},
   "outputs": [],
   "source": [
    "address_clean = address_clean[['cluster_id', 'id_art', 'grid_id', 'carnegie_id',\n",
    "       'carnegie_name', 'r1', 'control', 'obereg', 'hbcu', 'tribal',\n",
    "       'hsi', 'msi', 'womens', 'selindex']]"
   ]
  },
  {
   "cell_type": "code",
   "execution_count": 34,
   "id": "ba58eb60-4fda-48dd-990b-be73f6db4a2f",
   "metadata": {},
   "outputs": [
    {
     "data": {
      "text/plain": [
       "(16030940, 14)"
      ]
     },
     "execution_count": 34,
     "metadata": {},
     "output_type": "execute_result"
    }
   ],
   "source": [
    "address_clean.shape"
   ]
  },
  {
   "cell_type": "code",
   "execution_count": 35,
   "id": "2fd69bd1-d561-449c-9c6b-ac55c5c1a428",
   "metadata": {},
   "outputs": [
    {
     "data": {
      "text/plain": [
       "(16026519, 14)"
      ]
     },
     "execution_count": 35,
     "metadata": {},
     "output_type": "execute_result"
    }
   ],
   "source": [
    "address_clean.drop_duplicates().shape"
   ]
  },
  {
   "cell_type": "code",
   "execution_count": 36,
   "id": "6f9a513b-0b2e-4c85-acc8-d19b26c85d11",
   "metadata": {},
   "outputs": [],
   "source": [
    "address_clean = address_clean.drop_duplicates()"
   ]
  },
  {
   "cell_type": "markdown",
   "id": "999fc20e-303a-41e2-b244-0126e2aefd05",
   "metadata": {},
   "source": [
    "### Remove institutions that don't follow the selection criteria:\n",
    "\n",
    "1. being HSI, HBCU, WC \n",
    "OR\n",
    "2. having more than 500 papers on the database"
   ]
  },
  {
   "cell_type": "code",
   "execution_count": 37,
   "id": "de7cb58a-fc98-4c3a-8033-9ea121537650",
   "metadata": {},
   "outputs": [
    {
     "data": {
      "text/plain": [
       "Index(['cluster_id', 'id_art', 'grid_id', 'carnegie_id', 'carnegie_name', 'r1',\n",
       "       'control', 'obereg', 'hbcu', 'tribal', 'hsi', 'msi', 'womens',\n",
       "       'selindex'],\n",
       "      dtype='object')"
      ]
     },
     "execution_count": 37,
     "metadata": {},
     "output_type": "execute_result"
    }
   ],
   "source": [
    "address_clean.columns"
   ]
  },
  {
   "cell_type": "code",
   "execution_count": 38,
   "id": "82f4d884-571b-48e2-ac3e-b353db164057",
   "metadata": {},
   "outputs": [],
   "source": [
    "n_papers_on_WOS = handcoding_df.groupby('carnegie_id').n.sum().to_frame().rename(columns={'n':'n_papers_on_WOS'})"
   ]
  },
  {
   "cell_type": "code",
   "execution_count": 39,
   "id": "2dfef946-0e55-4547-b5c1-8718cc1f8dcf",
   "metadata": {},
   "outputs": [],
   "source": [
    "address_clean = address_clean.merge(n_papers_on_WOS, on='carnegie_id')"
   ]
  },
  {
   "cell_type": "code",
   "execution_count": 40,
   "id": "710cdbe6-136a-40f9-8d5e-0ee953b0f46e",
   "metadata": {},
   "outputs": [],
   "source": [
    "address_clean = address_clean[\n",
    "    (address_clean.hsi == 'HSI') |\n",
    "    (address_clean.hbcu == 'HBCU') |\n",
    "    (address_clean.womens == 'Womens') |\n",
    "    (address_clean.n_papers_on_WOS>=500)]"
   ]
  },
  {
   "cell_type": "code",
   "execution_count": 41,
   "id": "76b1b663-514e-4bab-aa16-e2fa93cd6fd3",
   "metadata": {},
   "outputs": [],
   "source": [
    "address_clean.to_pickle('/data/datasets/WOS/US/address_clean_carnegie.p')"
   ]
  }
 ],
 "metadata": {
  "kernelspec": {
   "display_name": "Python 3 (ipykernel)",
   "language": "python",
   "name": "python3"
  },
  "language_info": {
   "codemirror_mode": {
    "name": "ipython",
    "version": 3
   },
   "file_extension": ".py",
   "mimetype": "text/x-python",
   "name": "python",
   "nbconvert_exporter": "python",
   "pygments_lexer": "ipython3",
   "version": "3.7.13"
  }
 },
 "nbformat": 4,
 "nbformat_minor": 5
}
