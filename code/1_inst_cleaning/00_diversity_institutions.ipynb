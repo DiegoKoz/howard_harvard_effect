{
 "cells": [
  {
   "cell_type": "code",
   "execution_count": 1,
   "id": "0a4d7de7-6a96-4882-b53a-6b0e340fe0aa",
   "metadata": {},
   "outputs": [],
   "source": [
    "%config Completer.use_jedi = False"
   ]
  },
  {
   "cell_type": "code",
   "execution_count": 2,
   "id": "d98cf310-3455-49c3-852c-22726f7740af",
   "metadata": {},
   "outputs": [],
   "source": [
    "import pandas as pd\n",
    "import pickle\n",
    "from tqdm.notebook import tqdm\n",
    "import numpy as np\n",
    "\n",
    "\n",
    "from libs.LastNamesInference import LastNamesInference"
   ]
  },
  {
   "cell_type": "code",
   "execution_count": 4,
   "id": "255f59d7-b66e-49e0-b52f-e0ac707b30c6",
   "metadata": {},
   "outputs": [],
   "source": [
    "address_clean = pd.read_pickle('/data/datasets/WOS/US/address_clean.p')"
   ]
  },
  {
   "cell_type": "code",
   "execution_count": 72,
   "id": "139f037e-1cb3-483c-8316-86971edc182d",
   "metadata": {},
   "outputs": [],
   "source": [
    "carnegie_df = pd.read_excel('../../data/carnegie/CCIHE2021-PublicData.xlsx',sheet_name='Data',\n",
    "                           converters = {'unitid':str,'selindex':str})"
   ]
  },
  {
   "cell_type": "code",
   "execution_count": 73,
   "id": "59d1176c-f59e-4548-b73d-f178726eaa7e",
   "metadata": {},
   "outputs": [],
   "source": [
    "carnegie_df = carnegie_df[['unitid','name','city','hbcu','hsi','womens','tribal','basic2021']].copy()"
   ]
  },
  {
   "cell_type": "code",
   "execution_count": 74,
   "id": "96b34b17-ea0d-4049-89c2-074bbea7d983",
   "metadata": {},
   "outputs": [],
   "source": [
    "carnegie_df['retrieved']= carnegie_df.unitid.isin(set(address_clean.carnegie_id))\n",
    "carnegie_df['R1'] = carnegie_df.basic2021 == 16"
   ]
  },
  {
   "cell_type": "code",
   "execution_count": 78,
   "id": "8f8e975c-df0e-4825-a915-77303bb85ca1",
   "metadata": {},
   "outputs": [],
   "source": [
    "carnegie_df['basic2021'] = carnegie_df.basic2021.replace({0:\"(Not classified)\",\n",
    "                                                1:\"Associate's Colleges: High Transfer-High Traditional\",\n",
    "                                                2:\"Associate's Colleges: High Transfer-Mixed Traditional/Nontraditional\",\n",
    "                                                3:\"Associate's Colleges: High Transfer-High Nontraditional\",\n",
    "                                                4:\"Associate's Colleges: Mixed Transfer/Career & Technical-High Traditional\",\n",
    "                                                5:\"Associate's Colleges: Mixed Transfer/Career & Technical-Mixed Traditional/Nontraditional\",\n",
    "                                                6:\"Associate's Colleges: Mixed Transfer/Career & Technical-High Nontraditional\",\n",
    "                                                7:\"Associate's Colleges: High Career & Technical-High Traditional\",\n",
    "                                                8:\"Associate's Colleges: High Career & Technical-Mixed Traditional/Nontraditional\",\n",
    "                                                9:\"Associate's Colleges: High Career & Technical-High Nontraditional\",\n",
    "                                                10:\"Special Focus Two-Year: Health Professions\",\n",
    "                                                11:\"Special Focus Two-Year: Technical Professions\",\n",
    "                                                12:\"Special Focus Two-Year: Arts & Design\",\n",
    "                                                13:\"Special Focus Two-Year: Other Fields\",\n",
    "                                                14:\"Baccalaureate/Associate's Colleges: Associate's Dominant\",\n",
    "                                                15:\"Doctoral Universities: Very High Research Activity\",\n",
    "                                                16:\"Doctoral Universities: High Research Activity\",\n",
    "                                                17:\"Doctoral/Professional Universities\",\n",
    "                                                18:\"Master's Colleges & Universities: Larger Programs\",\n",
    "                                                19:\"Master's Colleges & Universities: Medium Programs\",\n",
    "                                                20:\"Master's Colleges & Universities: Small Programs\",\n",
    "                                                21:\"Baccalaureate Colleges: Arts & Sciences Focus\",\n",
    "                                                22:\"Baccalaureate Colleges: Diverse Fields\",\n",
    "                                                23:\"Baccalaureate/Associate's Colleges: Mixed Baccalaureate/Associate's\",\n",
    "                                                24:\"Special Focus Four-Year: Faith-Related Institutions\",\n",
    "                                                25:\"Special Focus Four-Year: Medical Schools & Centers\",\n",
    "                                                26:\"Special Focus Four-Year: Other Health Professions Schools\",\n",
    "                                                27:\"Special Focus Four-Year: Research Institution\",\n",
    "                                                28:\"Special Focus Four-Year: Engineering and Other Technology-Related Schools\",\n",
    "                                                29:\"Special Focus Four-Year: Business & Management Schools\",\n",
    "                                                30:\"Special Focus Four-Year: Arts, Music & Design Schools\",\n",
    "                                                31:\"Special Focus Four-Year: Law Schools\",\n",
    "                                                32:\"Special Focus Four-Year: Other Special Focus Institutions\",\n",
    "                                                33:\"Tribal Colleges and Universities\"})"
   ]
  },
  {
   "cell_type": "code",
   "execution_count": 79,
   "id": "98f1e449-a1b3-4a2c-a0bf-3a591d9cd20e",
   "metadata": {},
   "outputs": [],
   "source": [
    "carnegie_df['hbcu'] = carnegie_df.hbcu.replace({1:'HBCU', 2:'not HBCU'})\n",
    "carnegie_df['tribal'] = carnegie_df.tribal.replace({1:'tribal', 2:'not tribal'})\n",
    "carnegie_df['hsi'] = carnegie_df.hsi.replace({0:'not HSI', 1:'HSI'})\n",
    "carnegie_df['womens'] = carnegie_df.womens.replace({0:'not womens', 1:'Womens'})"
   ]
  },
  {
   "cell_type": "code",
   "execution_count": 80,
   "id": "eb6e416b-0bdc-4f1a-9f55-7ae03ad73bd0",
   "metadata": {},
   "outputs": [],
   "source": [
    "hbcu = carnegie_df[carnegie_df.hbcu == 'HBCU']\n",
    "hsi = carnegie_df[carnegie_df.hsi == 'HSI']\n",
    "womens = carnegie_df[carnegie_df.womens == 'Womens']\n",
    "tribal = carnegie_df[carnegie_df.tribal == 'tribal']"
   ]
  },
  {
   "cell_type": "code",
   "execution_count": 82,
   "id": "2d399576-f788-4855-89f9-f0973630f257",
   "metadata": {},
   "outputs": [],
   "source": [
    "writer = pd.ExcelWriter('../../handcoding/carnegie_flags.xlsx')\n",
    "\n",
    "hbcu.to_excel(writer,index=False, sheet_name='hbcu')\n",
    "tribal.to_excel(writer,index=False, sheet_name='tribal',)\n",
    "hsi.to_excel(writer,index=False, sheet_name='hsi')\n",
    "womens.to_excel(writer,index=False, sheet_name='womens')\n",
    "\n",
    "writer.save()\n"
   ]
  }
 ],
 "metadata": {
  "kernelspec": {
   "display_name": "Python 3 (ipykernel)",
   "language": "python",
   "name": "python3"
  },
  "language_info": {
   "codemirror_mode": {
    "name": "ipython",
    "version": 3
   },
   "file_extension": ".py",
   "mimetype": "text/x-python",
   "name": "python",
   "nbconvert_exporter": "python",
   "pygments_lexer": "ipython3",
   "version": "3.7.11"
  }
 },
 "nbformat": 4,
 "nbformat_minor": 5
}
