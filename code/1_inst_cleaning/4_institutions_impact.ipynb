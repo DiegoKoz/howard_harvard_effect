{
 "cells": [
  {
   "cell_type": "markdown",
   "id": "24f85478-23b2-43a9-98d6-7d6a0783fd09",
   "metadata": {
    "tags": []
   },
   "source": [
    "## Legacy code\n",
    "\n",
    "new goals:\n",
    "\n",
    "1. Valuative classification: proportion of papers in top 1%/5% most cited)\n",
    "2. Perceptual classification: US news report. "
   ]
  },
  {
   "cell_type": "code",
   "execution_count": 1,
   "id": "dca557db-5588-4547-9c36-662758c5ab40",
   "metadata": {},
   "outputs": [],
   "source": [
    "%config Completer.use_jedi = False"
   ]
  },
  {
   "cell_type": "code",
   "execution_count": 2,
   "id": "aa50fe4b-b2ea-43b1-8e3b-43d00f776a2e",
   "metadata": {},
   "outputs": [],
   "source": [
    "import pandas as pd\n",
    "import pickle\n",
    "from tqdm.notebook import tqdm\n",
    "import numpy as np\n",
    "from pandas._libs.lib import is_integer\n",
    "\n",
    "\n",
    "from libs.LastNamesInference import LastNamesInference"
   ]
  },
  {
   "cell_type": "code",
   "execution_count": 3,
   "id": "69e9c64a-d4c3-43e1-bed6-440e7e1c693c",
   "metadata": {},
   "outputs": [],
   "source": [
    "def split_by_gender(df_race):\n",
    "    df_race = df_race.copy()\n",
    "    df_race['gender'] = df_race.gender.str.upper()\n",
    "\n",
    "    boolean_mask_M = df_race.gender == 'M'\n",
    "    boolean_mask_F = df_race.gender == 'F'\n",
    "\n",
    "    race_dist_M = df_race.loc[boolean_mask_M,['white','hispanic','black','asian']]\n",
    "    race_dist_F = df_race.loc[boolean_mask_F,['white','hispanic','black','asian']]\n",
    "\n",
    "    race_dist_M.columns = race_dist_M.columns + '_M'\n",
    "    race_dist_F.columns = race_dist_F.columns + '_F'\n",
    "    race_dist_MF = pd.concat([race_dist_M,race_dist_F]).fillna(0).sort_index()\n",
    "    df_race = df_race.join(race_dist_MF,how='inner' )\n",
    "    return df_race\n"
   ]
  },
  {
   "cell_type": "code",
   "execution_count": 4,
   "id": "3f5ff2f5-7892-4cd8-acc0-bd08e8e0c992",
   "metadata": {},
   "outputs": [],
   "source": [
    "def infer_race(us_papers, df=None):\n",
    "    papers = us_papers.drop_duplicates('cluster_ID')\n",
    "    lni = LastNamesInference(names = papers.nom)\n",
    "    if df is None:\n",
    "        df = us_papers.copy()\n",
    "    tqdm.pandas(desc=\"inferring race from lastnames\")\n",
    "    lastname_race_dist = df.progress_apply(lambda x: lni.get_name_dist(lastname=x.nom), axis=1)\n",
    "    df[lni.prob_order] = pd.DataFrame(lastname_race_dist.to_list(), index=df.index)\n",
    "    df = split_by_gender(df)\n",
    "    return df"
   ]
  },
  {
   "cell_type": "code",
   "execution_count": 5,
   "id": "b798d480-996c-42c6-824d-d932d65479d1",
   "metadata": {},
   "outputs": [],
   "source": [
    "def weighted_qcut(values, weights, q, **kwargs):\n",
    "    'Return weighted quantile cuts from a given series, values.'\n",
    "    if is_integer(q):\n",
    "        quantiles = np.linspace(0, 1, q + 1)\n",
    "    else:\n",
    "        quantiles = q\n",
    "    order = weights.iloc[values.argsort()].cumsum()\n",
    "    bins = pd.cut(order / order.iloc[-1], quantiles, **kwargs)\n",
    "    return bins.sort_index()"
   ]
  },
  {
   "cell_type": "code",
   "execution_count": 6,
   "id": "a9e78d10-468d-4524-b3e9-db84a1dffa21",
   "metadata": {},
   "outputs": [],
   "source": [
    "def weighted_qcut_labels(df, var):\n",
    "    lims = df.groupby('{}_Q'.format(var)).agg({var:[lambda x: round(min(x),ndigits=2),lambda x: round(max(x),ndigits=2)]}).droplevel(axis=1,level=1)\n",
    "    lims.columns = ['min','max']\n",
    "    lims['label'] = lims.apply(lambda x: '({}, {})'.format(x['min'], x['max']),axis=1)\n",
    "    lims = lims.drop(columns=['min','max'])\n",
    "    qlabels = df['{}_Q'.format(var)].map(lims['label'])\n",
    "    return qlabels"
   ]
  },
  {
   "cell_type": "code",
   "execution_count": 7,
   "id": "78d6075f-c090-47df-8fd5-27ea2d62d1c7",
   "metadata": {},
   "outputs": [],
   "source": [
    "# us_papers = pd.read_csv('/data/datasets//WOS/US/US_papers.txt')\n",
    "# us_papers.to_pickle('/data/datasets//WOS/US/US_papers.p')\n",
    "us_papers = pd.read_pickle('/data/datasets//WOS/US/US_papers.p')"
   ]
  },
  {
   "cell_type": "code",
   "execution_count": 8,
   "id": "4817a2b3-0bd6-4ec6-9f84-8e057379ab01",
   "metadata": {},
   "outputs": [],
   "source": [
    "us_papers_citations = pd.read_csv('/data/datasets/WOS/US/us_papers_citations.csv', delimiter='\\t')"
   ]
  },
  {
   "cell_type": "code",
   "execution_count": 9,
   "id": "16988533-0743-47da-84c6-2115e7ca7248",
   "metadata": {},
   "outputs": [],
   "source": [
    "us_papers_citations = us_papers_citations.rename(columns={'ID_Art':'id_art'})"
   ]
  },
  {
   "cell_type": "code",
   "execution_count": 10,
   "id": "03379fce-68d2-4055-b434-c9648e0e4395",
   "metadata": {},
   "outputs": [],
   "source": [
    "institutions_impact = pd.read_excel('../../data/impact.xlsx')\n",
    "#institutions_impact = pd.read_excel('/data/datasets/WOS/US/institutions_impact.xlsx', names = ['institution','country', 'npapers','avg_citations'])\n",
    "#address = pd.read_csv('/data/datasets/WOS/US/Adresses_race.txt', delimiter='\\t')"
   ]
  },
  {
   "cell_type": "code",
   "execution_count": 11,
   "id": "3a2669d1-d180-4dbb-ba8f-2ae9ea503647",
   "metadata": {},
   "outputs": [],
   "source": [
    "institutions_impact = institutions_impact[pd.to_numeric(institutions_impact['carnegie_id'], errors='coerce').notnull()]"
   ]
  },
  {
   "cell_type": "code",
   "execution_count": 12,
   "id": "a3b8cbb9-7eae-4695-b2c5-103d7eb53b5b",
   "metadata": {},
   "outputs": [],
   "source": [
    "institutions_impact['carnegie_id'] = institutions_impact.carnegie_id.astype(str)"
   ]
  },
  {
   "cell_type": "code",
   "execution_count": 13,
   "id": "5e1ff304-3451-49a7-bed1-d2c5bf5609ae",
   "metadata": {},
   "outputs": [],
   "source": [
    "handcoding_df = pd.read_excel('../../data/institutions_20220329.xlsx',sheet_name='Sheet1',converters={'index':int,'carnegie_id':int})\n",
    "handcoding_df['carnegie_id'] = handcoding_df.carnegie_id.astype('str')\n",
    "handcoding_flags = pd.read_excel('../../handcoding/carnegie_flags.xlsx',sheet_name='to_clean',converters={'real_unitid':str})"
   ]
  },
  {
   "cell_type": "code",
   "execution_count": 14,
   "id": "27c525ef-118c-4c53-b216-42c73db743f4",
   "metadata": {},
   "outputs": [],
   "source": [
    "crosswalk_wos_carnegie = handcoding_df[['name','carnegie_id']]"
   ]
  },
  {
   "cell_type": "code",
   "execution_count": 15,
   "id": "c1f0f77a-7bd7-41b7-a040-2141df3d81d4",
   "metadata": {},
   "outputs": [],
   "source": [
    "_ = handcoding_flags[['name_wos','real_unitid']].dropna().drop_duplicates().\\\n",
    "rename(columns={'name_wos':'name','real_unitid':'carnegie_id'})"
   ]
  },
  {
   "cell_type": "code",
   "execution_count": 16,
   "id": "e5148522-970c-476a-8de9-9263025e9282",
   "metadata": {},
   "outputs": [
    {
     "name": "stderr",
     "output_type": "stream",
     "text": [
      "/tmp/ipykernel_29/3982732977.py:1: FutureWarning: The frame.append method is deprecated and will be removed from pandas in a future version. Use pandas.concat instead.\n",
      "  crosswalk_wos_carnegie = crosswalk_wos_carnegie.append(_)\n"
     ]
    }
   ],
   "source": [
    "crosswalk_wos_carnegie = crosswalk_wos_carnegie.append(_)"
   ]
  },
  {
   "cell_type": "code",
   "execution_count": 17,
   "id": "b832e325-30e4-432c-8fdf-451d93127d32",
   "metadata": {},
   "outputs": [],
   "source": [
    "address_clean= pd.read_pickle('/data/datasets/WOS/US/address_clean_carnegie.p')"
   ]
  },
  {
   "cell_type": "markdown",
   "id": "384e3ba6-2bdf-4ec3-844a-af669ccadcbb",
   "metadata": {},
   "source": [
    "### proprotion of articles in the top x% most cited"
   ]
  },
  {
   "cell_type": "code",
   "execution_count": 18,
   "id": "4d039298-6a68-480a-8f61-956cd55a47e4",
   "metadata": {},
   "outputs": [],
   "source": [
    "df_topcr = us_papers_citations.merge(address_clean[['id_art','carnegie_id']].drop_duplicates(),on='id_art')"
   ]
  },
  {
   "cell_type": "code",
   "execution_count": 19,
   "id": "0cb3ee2e-4348-4fbe-b9e4-c0334f6d05fe",
   "metadata": {},
   "outputs": [],
   "source": [
    "agg_topcr = df_topcr.groupby('carnegie_id').agg({'id_art':len, 'Top10CR':sum,'Top5CR':sum,'Top1CR':sum})"
   ]
  },
  {
   "cell_type": "code",
   "execution_count": 20,
   "id": "903b3041-2ad5-4eb4-b1cc-57d1c0f6b472",
   "metadata": {},
   "outputs": [],
   "source": [
    "agg_topcr['Top10CR'] = agg_topcr.Top10CR/agg_topcr.id_art\n",
    "agg_topcr['Top5CR'] = agg_topcr.Top5CR/agg_topcr.id_art\n",
    "agg_topcr['Top1CR'] = agg_topcr.Top1CR/agg_topcr.id_art"
   ]
  },
  {
   "cell_type": "code",
   "execution_count": 21,
   "id": "555a085a-622c-41dc-ae86-bd154050ab1c",
   "metadata": {},
   "outputs": [],
   "source": [
    "agg_topcr = agg_topcr.rename(columns={'id_art':'ncitable_docs'})"
   ]
  },
  {
   "cell_type": "code",
   "execution_count": 22,
   "id": "dc74a3d9-5cf6-4761-a431-fd0886f8fb3d",
   "metadata": {},
   "outputs": [],
   "source": [
    "# I use weighted quartiles, to consider the size of institutions\n",
    "\n",
    "agg_topcr['Top10CR_Q'] = weighted_qcut(agg_topcr['Top10CR'], agg_topcr['ncitable_docs'], 3, labels=False)\n",
    "agg_topcr['Top5CR_Q'] = weighted_qcut(agg_topcr['Top5CR'], agg_topcr['ncitable_docs'], 3, labels=False)\n",
    "agg_topcr['Top1CR_Q'] = weighted_qcut(agg_topcr['Top1CR'], agg_topcr['ncitable_docs'], 3, labels=False)\n",
    "\n",
    "# agg_topcr['Top10CR_Q'] = pd.qcut(agg_topcr.Top10CR, 4)\n",
    "# agg_topcr['Top5CR_Q'] = pd.qcut(agg_topcr.Top5CR, 4)\n",
    "# agg_topcr['Top1CR_Q'] = pd.qcut(agg_topcr.Top1CR, 4)"
   ]
  },
  {
   "cell_type": "code",
   "execution_count": 23,
   "id": "a4d6aed6-0abe-4da1-828f-b9fb61677a9a",
   "metadata": {},
   "outputs": [],
   "source": [
    "agg_topcr['Top10CR_Q'] = weighted_qcut_labels(agg_topcr, 'Top10CR')\n",
    "agg_topcr['Top5CR_Q'] = weighted_qcut_labels(agg_topcr, 'Top5CR')\n",
    "agg_topcr['Top1CR_Q'] = weighted_qcut_labels(agg_topcr, 'Top1CR')"
   ]
  },
  {
   "cell_type": "code",
   "execution_count": 24,
   "id": "f3d8e5d1-fecd-41f4-947e-a17c01cc33a2",
   "metadata": {},
   "outputs": [
    {
     "data": {
      "text/plain": [
       "(0.0, 0.09)     540\n",
       "(0.09, 0.11)     80\n",
       "(0.11, 0.33)     65\n",
       "Name: Top5CR_Q, dtype: int64"
      ]
     },
     "execution_count": 24,
     "metadata": {},
     "output_type": "execute_result"
    }
   ],
   "source": [
    "agg_topcr.Top5CR_Q.value_counts()"
   ]
  },
  {
   "cell_type": "code",
   "execution_count": 25,
   "id": "9d4cf415-0da0-47ec-a849-9060898d2ed3",
   "metadata": {},
   "outputs": [],
   "source": [
    "address_clean = address_clean.merge(agg_topcr, on = 'carnegie_id')"
   ]
  },
  {
   "cell_type": "markdown",
   "id": "4b031a80-d8dd-43ad-85d2-cb88044f8df7",
   "metadata": {},
   "source": [
    "## impact"
   ]
  },
  {
   "cell_type": "code",
   "execution_count": 26,
   "id": "8d677f98-b533-4a28-9763-9b35dbe7b8c5",
   "metadata": {},
   "outputs": [],
   "source": [
    "# impact_df = crosswalk_wos_carnegie.merge(institutions_impact, left_on='name',right_on='institution')\\\n",
    "# [['carnegie_id','npapers','avg_citations']].copy()\n",
    "\n",
    "# impact_df = impact_df[impact_df.carnegie_id!='nan']\n",
    "\n",
    "# impact_df['impact'] = impact_df.npapers*impact_df.avg_citations\n",
    "\n",
    "# impact_df = impact_df.groupby('carnegie_id').agg({'npapers':sum, 'impact':sum})\n",
    "\n",
    "# impact_df['avg_citations'] = impact_df.impact/impact_df.npapers # I reconstruct the average citations as the weighted average"
   ]
  },
  {
   "cell_type": "code",
   "execution_count": 27,
   "id": "7fb29220-4ac0-4a15-8d88-6ce838acce4e",
   "metadata": {},
   "outputs": [],
   "source": [
    "impact_df = institutions_impact.copy()"
   ]
  },
  {
   "cell_type": "code",
   "execution_count": 28,
   "id": "b18c2435-da3e-40b1-b88d-72803dea0807",
   "metadata": {},
   "outputs": [],
   "source": [
    "impact_df = impact_df[impact_df.carnegie_id.isin(address_clean.carnegie_id.unique())]"
   ]
  },
  {
   "cell_type": "code",
   "execution_count": 29,
   "id": "ab7e334a-a658-49a8-bd9f-d3bd8dd6c194",
   "metadata": {
    "tags": []
   },
   "outputs": [],
   "source": [
    "# I use weighted quartiles, to consider the size of institutions\n",
    "\n",
    "impact_df['npapers_Q'] = weighted_qcut(impact_df['npapers'], impact_df['npapers'], 3, labels=False)\n",
    "impact_df['impact_Q'] = weighted_qcut(impact_df['impact'], impact_df['npapers'], 3, labels=False)\n",
    "impact_df['avg_citations_Q'] = weighted_qcut(impact_df['avg_citations'], impact_df['npapers'], 3, labels=False)\n",
    "\n",
    "impact_df['npapers_Q'] = weighted_qcut_labels(impact_df, 'npapers')\n",
    "impact_df['impact_Q'] = weighted_qcut_labels(impact_df, 'impact')\n",
    "impact_df['avg_citations_Q'] = weighted_qcut_labels(impact_df, 'avg_citations')"
   ]
  },
  {
   "cell_type": "code",
   "execution_count": 30,
   "id": "13b98047-4317-4500-9bce-df0ea6ef3d25",
   "metadata": {},
   "outputs": [
    {
     "data": {
      "text/plain": [
       "(5, 64564)          619\n",
       "(65003, 145486)      44\n",
       "(146327, 445620)     22\n",
       "Name: npapers_Q, dtype: int64"
      ]
     },
     "execution_count": 30,
     "metadata": {},
     "output_type": "execute_result"
    }
   ],
   "source": [
    "impact_df.npapers_Q.value_counts()"
   ]
  },
  {
   "cell_type": "code",
   "execution_count": 31,
   "id": "f4490357-19d1-4137-b800-fb8677d09c82",
   "metadata": {
    "tags": []
   },
   "outputs": [],
   "source": [
    "# impact_df['npapers_Q'] = pd.qcut(impact_df.npapers, 4)\n",
    "# impact_df['impact_Q'] = pd.qcut(impact_df.impact, 4)\n",
    "# impact_df['avg_citations_Q'] = pd.qcut(impact_df.avg_citations, 4)"
   ]
  },
  {
   "cell_type": "code",
   "execution_count": 32,
   "id": "c1920fb2-9bf2-43bc-89c5-1fce10ed19c1",
   "metadata": {},
   "outputs": [],
   "source": [
    "address_clean = address_clean.merge(impact_df, on='carnegie_id', how='left')"
   ]
  },
  {
   "cell_type": "code",
   "execution_count": 33,
   "id": "3e146f9f-4555-4e41-b04d-16b73a10a47a",
   "metadata": {},
   "outputs": [
    {
     "data": {
      "text/plain": [
       "(146327, 445620)    5528158\n",
       "(65003, 145486)     5444355\n",
       "(5, 64564)          5051713\n",
       "Name: npapers_Q, dtype: int64"
      ]
     },
     "execution_count": 33,
     "metadata": {},
     "output_type": "execute_result"
    }
   ],
   "source": [
    "address_clean.npapers_Q.value_counts()"
   ]
  },
  {
   "cell_type": "code",
   "execution_count": 34,
   "id": "77ca1785-5078-42fe-95d6-4b23b0a5a9e8",
   "metadata": {},
   "outputs": [
    {
     "data": {
      "text/plain": [
       "(1.77, 4.07)    6093028\n",
       "(1.48, 1.74)    5355699\n",
       "(0.1, 1.47)     4575499\n",
       "Name: avg_citations_Q, dtype: int64"
      ]
     },
     "execution_count": 34,
     "metadata": {},
     "output_type": "execute_result"
    }
   ],
   "source": [
    "address_clean.avg_citations_Q.value_counts()"
   ]
  },
  {
   "cell_type": "code",
   "execution_count": 35,
   "id": "469eee48-f96d-4b38-afff-d0b361ab6f7f",
   "metadata": {},
   "outputs": [
    {
     "data": {
      "text/plain": [
       "(1.77, 4.07)    6093028\n",
       "(1.48, 1.74)    5355699\n",
       "(0.1, 1.47)     4575499\n",
       "Name: avg_citations_Q, dtype: int64"
      ]
     },
     "execution_count": 35,
     "metadata": {},
     "output_type": "execute_result"
    }
   ],
   "source": [
    "address_clean.avg_citations_Q.value_counts()"
   ]
  },
  {
   "cell_type": "code",
   "execution_count": 36,
   "id": "3f785771-5d0a-4611-866f-12a86097d000",
   "metadata": {},
   "outputs": [
    {
     "data": {
      "text/plain": [
       "1.73778974087"
      ]
     },
     "execution_count": 36,
     "metadata": {},
     "output_type": "execute_result"
    }
   ],
   "source": [
    "address_clean.loc[address_clean.avg_citations_Q=='(1.48, 1.74)','avg_citations'].max()"
   ]
  },
  {
   "cell_type": "code",
   "execution_count": 37,
   "id": "2adcf85c-a862-4461-a2dc-648e2b4b6f69",
   "metadata": {},
   "outputs": [
    {
     "data": {
      "text/plain": [
       "1.77047619047"
      ]
     },
     "execution_count": 37,
     "metadata": {},
     "output_type": "execute_result"
    }
   ],
   "source": [
    "address_clean.loc[address_clean.avg_citations_Q=='(1.77, 4.07)','avg_citations'].min()"
   ]
  },
  {
   "cell_type": "code",
   "execution_count": 38,
   "id": "a87b505a-4faf-488d-b2e1-c1fcb9aa730c",
   "metadata": {},
   "outputs": [],
   "source": [
    "address_clean.to_pickle('/data/datasets/WOS/US/address_clean.p')"
   ]
  },
  {
   "cell_type": "code",
   "execution_count": null,
   "id": "dee0589e-5d40-43bd-8bdb-36742c3a6e8f",
   "metadata": {},
   "outputs": [],
   "source": []
  }
 ],
 "metadata": {
  "kernelspec": {
   "display_name": "Python 3 (ipykernel)",
   "language": "python",
   "name": "python3"
  },
  "language_info": {
   "codemirror_mode": {
    "name": "ipython",
    "version": 3
   },
   "file_extension": ".py",
   "mimetype": "text/x-python",
   "name": "python",
   "nbconvert_exporter": "python",
   "pygments_lexer": "ipython3",
   "version": "3.10.8"
  }
 },
 "nbformat": 4,
 "nbformat_minor": 5
}
