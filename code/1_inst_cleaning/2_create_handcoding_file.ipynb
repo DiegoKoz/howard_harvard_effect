{
 "cells": [
  {
   "cell_type": "code",
   "execution_count": null,
   "id": "9bbf1606-a04b-4787-91c3-8cf3d1d0bbe7",
   "metadata": {},
   "outputs": [],
   "source": [
    "%config Completer.use_jedi = False"
   ]
  },
  {
   "cell_type": "code",
   "execution_count": null,
   "id": "243ce896-fadd-4c44-8c65-a2025645cd98",
   "metadata": {},
   "outputs": [],
   "source": [
    "import pandas as pd\n",
    "import pickle\n",
    "from tqdm.notebook import tqdm\n",
    "import numpy as np\n",
    "import re\n",
    "import string"
   ]
  },
  {
   "cell_type": "code",
   "execution_count": null,
   "id": "8ddfedac-498d-42ba-8cc7-3ea2a42884c2",
   "metadata": {},
   "outputs": [],
   "source": [
    "institutional_type = pd.read_csv('../../data/institutions_us.csv')\n",
    "institutions_impact = pd.read_excel('/data/datasets/WOS/US/institutions_impact.xlsx', names = ['Institution','country', 'npapers','avg_citations'])"
   ]
  },
  {
   "cell_type": "code",
   "execution_count": null,
   "id": "11b62292-fb20-4115-8574-87d8a5755824",
   "metadata": {},
   "outputs": [],
   "source": [
    "address = pd.read_pickle('/data/datasets/WOS/US/Adresses_impact.p')"
   ]
  },
  {
   "cell_type": "code",
   "execution_count": null,
   "id": "084ed376-aa6c-459f-be52-35e58405cfe5",
   "metadata": {},
   "outputs": [],
   "source": [
    "grid_df = pd.read_csv('../../data/grid-2021-09-16/grid.csv')\n",
    "grid_type = pd.read_csv('../../data/grid-2021-09-16/full_tables/types.csv')"
   ]
  },
  {
   "cell_type": "code",
   "execution_count": null,
   "id": "0e18c3a9-cf79-428a-8c52-ccebf6103e7e",
   "metadata": {},
   "outputs": [],
   "source": [
    "## updated to new 2021 classification\n",
    "# carnegie_df = pd.read_csv('../../data/carnegie/Data_1-7-2022---920.csv')\n",
    "# carnegie_labels = pd.read_csv('../../data/carnegie/ValueLabels_1-7-2022---920.csv')\n",
    "# carnegie_df = carnegie_df[['UnitID','Institution Name']]\n",
    "carnegie_df = pd.read_excel('../../data/carnegie/CCIHE2021-PublicData.xlsx',sheet_name='Data')\n",
    "carnegie_df = carnegie_df[['unitid','name']]\n",
    "carnegie_df.columns = ['carnegie_id','carnegie_name']\n",
    "\n",
    "carnegie_df['carnegie_id'] = carnegie_df.carnegie_id.astype(\"category\")"
   ]
  },
  {
   "cell_type": "code",
   "execution_count": 6,
   "id": "2a5cec97-100d-4320-9aaf-69d26cdbd57c",
   "metadata": {
    "tags": []
   },
   "outputs": [],
   "source": [
    "institution_count = address.Institution.value_counts().reset_index()\n",
    "institution_count.columns=['name','n']"
   ]
  },
  {
   "cell_type": "code",
   "execution_count": 7,
   "id": "b91d8942-3858-4649-a47d-2884777c45f4",
   "metadata": {
    "tags": []
   },
   "outputs": [],
   "source": [
    "institution_count['name'] = institution_count.name.str.upper()"
   ]
  },
  {
   "cell_type": "code",
   "execution_count": 8,
   "id": "b3ceca3f-ee8c-4c22-9636-d172490776c4",
   "metadata": {},
   "outputs": [],
   "source": [
    "institution_count = institution_count.merge(institutional_type, left_on='name', right_on='Institution', how='left')\n",
    "\n",
    "institution_count.drop(columns='Institution',inplace=True)"
   ]
  },
  {
   "cell_type": "code",
   "execution_count": 9,
   "id": "fc839f48-3fa1-4051-8769-6501ee6934f3",
   "metadata": {},
   "outputs": [
    {
     "data": {
      "text/plain": [
       "hospital      64251\n",
       "company       51456\n",
       "university    23784\n",
       "goverment      3349\n",
       "Name: sector, dtype: int64"
      ]
     },
     "execution_count": 9,
     "metadata": {},
     "output_type": "execute_result"
    }
   ],
   "source": [
    "institution_count.sector.value_counts()"
   ]
  },
  {
   "cell_type": "markdown",
   "id": "5ba01f22-afbc-493c-b7a2-334d8f6c0cda",
   "metadata": {
    "tags": []
   },
   "source": [
    "## Automatic cleaning"
   ]
  },
  {
   "cell_type": "code",
   "execution_count": 10,
   "id": "bf1a688b-642d-4ae2-872b-360024436f05",
   "metadata": {},
   "outputs": [],
   "source": [
    "def rename_to_greater(institution_count,to_omit, threshold):\n",
    "    \n",
    "    ic = institution_count.copy()\n",
    "    names = to_omit\n",
    "\n",
    "    ic['new_name'] = ic.name\n",
    "\n",
    "    for index, row in tqdm(ic[ic.n>threshold].iterrows()): # I only clean names of institutions with n>100, 5K institutions\n",
    "        if row.new_name in names:\n",
    "            continue\n",
    "        else:\n",
    "            name = row['new_name']\n",
    "            sector = row['sector']\n",
    "            ic_names = ic.new_name.values\n",
    "            matched_names = ic_names[[bool(re.search(pattern=f'(^|\\s|-){name}($|\\s|-)', string=n)) for n in ic_names]]\n",
    "            ic.loc[ic.name.isin(matched_names),'new_name'] = name\n",
    "            ic.loc[ic.name.isin(matched_names),'sector'] = sector\n",
    "            names += [name]\n",
    "\n",
    "    return ic"
   ]
  },
  {
   "cell_type": "code",
   "execution_count": 11,
   "id": "6e45d45e-3aa4-4840-9ed5-ccac33ce4442",
   "metadata": {},
   "outputs": [],
   "source": [
    "states = ['ALASKA', 'ALABAMA', 'ARKANSAS', 'AMERICAN SAMOA', 'ARIZONA', 'CALIFORNIA', 'COLORADO', 'CONNECTICUT', 'COLUMBIA', 'DELAWARE', 'FLORIDA', 'GEORGIA', 'GUAM', 'HAWAII', 'IOWA', 'IDAHO', 'ILLINOIS', 'INDIANA', 'KANSAS', 'KENTUCKY', 'LOUISIANA', 'MASSACHUSETTS', 'MARYLAND', 'MAINE', 'MICHIGAN', 'MINNESOTA', 'MISSOURI', 'MISSISSIPPI', 'MONTANA', 'NORTH CAROLINA', 'NORTH DAKOTA', 'NEBRASKA', 'NEW HAMPSHIRE', 'NEW JERSEY', 'NEW MEXICO', 'NEVADA', 'NEW YORK', 'OHIO', 'OKLAHOMA', 'OREGON', 'PENNSYLVANIA','PENN', 'PUERTO RICO', 'RHODE ISLAND', 'SOUTH CAROLINA', 'SOUTH DAKOTA', 'TENNESSEE', 'TEXAS', 'UTAH', 'VIRGINIA', 'VIRGIN ISLANDS', 'VERMONT', 'WASHINGTON', 'WISCONSIN', 'WEST VIRGINIA', 'WYOMING']"
   ]
  },
  {
   "cell_type": "code",
   "execution_count": 12,
   "id": "af83d52f-0cf3-40bb-a5bd-f6e9ed1dc23d",
   "metadata": {},
   "outputs": [],
   "source": [
    "state_unis = ['UNIV-' + state for state in states] + [state + '-UNIV' for state in states]"
   ]
  },
  {
   "cell_type": "code",
   "execution_count": 13,
   "id": "be48e22f-9e49-4cb9-b50c-68f4e4befdc0",
   "metadata": {},
   "outputs": [],
   "source": [
    "to_omit = ['LLC','MED-CTR','RES-INST', 'CHILDRENS-HOSP','USA','SCH-MED','VET-ADM','UNIV-CALIF','UNC','UNIV-HOSP'] + state_unis"
   ]
  },
  {
   "cell_type": "code",
   "execution_count": null,
   "id": "f73df82a-6663-484b-a121-77ae824fcf0c",
   "metadata": {},
   "outputs": [
    {
     "data": {
      "application/vnd.jupyter.widget-view+json": {
       "model_id": "6b5d865e83d4483f81bf0b49b72e9456",
       "version_major": 2,
       "version_minor": 0
      },
      "text/plain": [
       "0it [00:00, ?it/s]"
      ]
     },
     "metadata": {},
     "output_type": "display_data"
    }
   ],
   "source": [
    "ic = rename_to_greater(institution_count, to_omit,1000)"
   ]
  },
  {
   "cell_type": "code",
   "execution_count": null,
   "id": "22639c15-c76c-4998-aba5-d0e113c888e2",
   "metadata": {
    "tags": []
   },
   "outputs": [],
   "source": [
    "ic.new_name.value_counts()[:40]"
   ]
  },
  {
   "cell_type": "code",
   "execution_count": null,
   "id": "47566ac9-ca82-49e3-ba78-10c426dd4fad",
   "metadata": {},
   "outputs": [],
   "source": [
    "new_ic= ic.groupby('new_name').n.sum().reset_index().sort_values('n',ascending=False)"
   ]
  },
  {
   "cell_type": "code",
   "execution_count": null,
   "id": "61590eff-1c2f-491c-a9c5-4c8270ad5102",
   "metadata": {},
   "outputs": [],
   "source": [
    "print(f\"we retrieve {round(new_ic[new_ic.n>=500].n.sum()/new_ic.n.sum()*100,2)}% of the database,\")\n",
    "print(f\"represented by {len(new_ic[new_ic.n>=500])} institutions,\")\n",
    "print(f\"which are the {round(len(new_ic[new_ic.n>=500])/len(new_ic)*100,3)}% of the institutions.\")\n",
    "\n"
   ]
  },
  {
   "cell_type": "code",
   "execution_count": null,
   "id": "009f5164-182b-4b89-974e-117e5e9a5225",
   "metadata": {},
   "outputs": [],
   "source": [
    "large_institutions = new_ic[new_ic.n>=500]"
   ]
  },
  {
   "cell_type": "code",
   "execution_count": null,
   "id": "00a9d81b-d492-4eb7-b179-4257257eb38d",
   "metadata": {},
   "outputs": [],
   "source": [
    "large_institutions_all = ic[ic.new_name.isin(large_institutions.new_name)]"
   ]
  },
  {
   "cell_type": "code",
   "execution_count": 29,
   "id": "d590d230-ed66-4cda-85a5-4ca694a88baf",
   "metadata": {},
   "outputs": [
    {
     "data": {
      "text/plain": [
       "sector\n",
       "company       0.056296\n",
       "goverment     0.087184\n",
       "hospital      0.157070\n",
       "university    0.699450\n",
       "Name: n, dtype: float64"
      ]
     },
     "execution_count": 29,
     "metadata": {},
     "output_type": "execute_result"
    }
   ],
   "source": [
    "ic.groupby('sector').n.sum()/ic.groupby('sector').n.sum().sum()"
   ]
  },
  {
   "cell_type": "code",
   "execution_count": 28,
   "id": "4e05f0b6-9a54-4334-9983-37c7e25e82ee",
   "metadata": {},
   "outputs": [],
   "source": [
    "institutions_to_clean = large_institutions_all[large_institutions_all.sector.isin(['university','hospital'])]"
   ]
  },
  {
   "cell_type": "code",
   "execution_count": 29,
   "id": "1cff85ce-653e-4834-8d7c-32f34190d19b",
   "metadata": {},
   "outputs": [
    {
     "data": {
      "text/html": [
       "<div>\n",
       "<style scoped>\n",
       "    .dataframe tbody tr th:only-of-type {\n",
       "        vertical-align: middle;\n",
       "    }\n",
       "\n",
       "    .dataframe tbody tr th {\n",
       "        vertical-align: top;\n",
       "    }\n",
       "\n",
       "    .dataframe thead th {\n",
       "        text-align: right;\n",
       "    }\n",
       "</style>\n",
       "<table border=\"1\" class=\"dataframe\">\n",
       "  <thead>\n",
       "    <tr style=\"text-align: right;\">\n",
       "      <th></th>\n",
       "      <th>name</th>\n",
       "      <th>n</th>\n",
       "      <th>sector</th>\n",
       "      <th>new_name</th>\n",
       "    </tr>\n",
       "  </thead>\n",
       "  <tbody>\n",
       "    <tr>\n",
       "      <th>821</th>\n",
       "      <td>ABILENE-CHRISTIAN-UNIV</td>\n",
       "      <td>1635</td>\n",
       "      <td>university</td>\n",
       "      <td>ABILENE-CHRISTIAN-UNIV</td>\n",
       "    </tr>\n",
       "    <tr>\n",
       "      <th>152872</th>\n",
       "      <td>ABILENE-CHRISTIAN-UNIV-DALLAS</td>\n",
       "      <td>1</td>\n",
       "      <td>university</td>\n",
       "      <td>ABILENE-CHRISTIAN-UNIV</td>\n",
       "    </tr>\n",
       "    <tr>\n",
       "      <th>1814</th>\n",
       "      <td>ABINGTON-MEM-HOSP</td>\n",
       "      <td>511</td>\n",
       "      <td>hospital</td>\n",
       "      <td>ABINGTON-MEM-HOSP</td>\n",
       "    </tr>\n",
       "    <tr>\n",
       "      <th>803</th>\n",
       "      <td>ADELPHI-UNIV</td>\n",
       "      <td>1693</td>\n",
       "      <td>university</td>\n",
       "      <td>ADELPHI-UNIV</td>\n",
       "    </tr>\n",
       "    <tr>\n",
       "      <th>152712</th>\n",
       "      <td>ADELPHI-UNIV-GARDEN-CITY</td>\n",
       "      <td>1</td>\n",
       "      <td>university</td>\n",
       "      <td>ADELPHI-UNIV</td>\n",
       "    </tr>\n",
       "    <tr>\n",
       "      <th>...</th>\n",
       "      <td>...</td>\n",
       "      <td>...</td>\n",
       "      <td>...</td>\n",
       "      <td>...</td>\n",
       "    </tr>\n",
       "    <tr>\n",
       "      <th>136370</th>\n",
       "      <td>ZUCKER-HILLSIDE-HOSP-NORTH-SHORE-LONG-ISL-JEWISH</td>\n",
       "      <td>2</td>\n",
       "      <td>hospital</td>\n",
       "      <td>ZUCKER-HILLSIDE-HOSP</td>\n",
       "    </tr>\n",
       "    <tr>\n",
       "      <th>136498</th>\n",
       "      <td>ZUCKER-HILLSIDE-HOSP-DIV-NORTH-SHORE</td>\n",
       "      <td>2</td>\n",
       "      <td>hospital</td>\n",
       "      <td>ZUCKER-HILLSIDE-HOSP</td>\n",
       "    </tr>\n",
       "    <tr>\n",
       "      <th>201139</th>\n",
       "      <td>ZUCKER-HILLSIDE-HOSP-NORTHSHORE-LIJ</td>\n",
       "      <td>1</td>\n",
       "      <td>hospital</td>\n",
       "      <td>ZUCKER-HILLSIDE-HOSP</td>\n",
       "    </tr>\n",
       "    <tr>\n",
       "      <th>218270</th>\n",
       "      <td>N-SHORE-LIJ-ZUCKER-HILLSIDE-HOSP</td>\n",
       "      <td>1</td>\n",
       "      <td>hospital</td>\n",
       "      <td>ZUCKER-HILLSIDE-HOSP</td>\n",
       "    </tr>\n",
       "    <tr>\n",
       "      <th>244088</th>\n",
       "      <td>ZUCKER-HILLSIDE-HOSP-NORTH-SHORE-LIJ-HLTH-SYST</td>\n",
       "      <td>1</td>\n",
       "      <td>hospital</td>\n",
       "      <td>ZUCKER-HILLSIDE-HOSP</td>\n",
       "    </tr>\n",
       "  </tbody>\n",
       "</table>\n",
       "<p>14409 rows × 4 columns</p>\n",
       "</div>"
      ],
      "text/plain": [
       "                                                    name     n      sector  \\\n",
       "821                               ABILENE-CHRISTIAN-UNIV  1635  university   \n",
       "152872                     ABILENE-CHRISTIAN-UNIV-DALLAS     1  university   \n",
       "1814                                   ABINGTON-MEM-HOSP   511    hospital   \n",
       "803                                         ADELPHI-UNIV  1693  university   \n",
       "152712                          ADELPHI-UNIV-GARDEN-CITY     1  university   \n",
       "...                                                  ...   ...         ...   \n",
       "136370  ZUCKER-HILLSIDE-HOSP-NORTH-SHORE-LONG-ISL-JEWISH     2    hospital   \n",
       "136498              ZUCKER-HILLSIDE-HOSP-DIV-NORTH-SHORE     2    hospital   \n",
       "201139               ZUCKER-HILLSIDE-HOSP-NORTHSHORE-LIJ     1    hospital   \n",
       "218270                  N-SHORE-LIJ-ZUCKER-HILLSIDE-HOSP     1    hospital   \n",
       "244088    ZUCKER-HILLSIDE-HOSP-NORTH-SHORE-LIJ-HLTH-SYST     1    hospital   \n",
       "\n",
       "                      new_name  \n",
       "821     ABILENE-CHRISTIAN-UNIV  \n",
       "152872  ABILENE-CHRISTIAN-UNIV  \n",
       "1814         ABINGTON-MEM-HOSP  \n",
       "803               ADELPHI-UNIV  \n",
       "152712            ADELPHI-UNIV  \n",
       "...                        ...  \n",
       "136370    ZUCKER-HILLSIDE-HOSP  \n",
       "136498    ZUCKER-HILLSIDE-HOSP  \n",
       "201139    ZUCKER-HILLSIDE-HOSP  \n",
       "218270    ZUCKER-HILLSIDE-HOSP  \n",
       "244088    ZUCKER-HILLSIDE-HOSP  \n",
       "\n",
       "[14409 rows x 4 columns]"
      ]
     },
     "execution_count": 29,
     "metadata": {},
     "output_type": "execute_result"
    }
   ],
   "source": [
    "institutions_to_clean.sort_values(['new_name','n'],ascending=[True,False])"
   ]
  },
  {
   "cell_type": "code",
   "execution_count": 30,
   "id": "87e81a52-f703-4c6b-9ef2-29daeff384ba",
   "metadata": {},
   "outputs": [
    {
     "name": "stderr",
     "output_type": "stream",
     "text": [
      "/opt/conda/lib/python3.7/site-packages/pandas/core/indexing.py:1773: SettingWithCopyWarning: \n",
      "A value is trying to be set on a copy of a slice from a DataFrame.\n",
      "Try using .loc[row_indexer,col_indexer] = value instead\n",
      "\n",
      "See the caveats in the documentation: https://pandas.pydata.org/pandas-docs/stable/user_guide/indexing.html#returning-a-view-versus-a-copy\n",
      "  self._setitem_single_column(ilocs[0], value, pi)\n"
     ]
    }
   ],
   "source": [
    "sorter = institutions_to_clean.new_name.unique()\n",
    "\n",
    "institutions_to_clean.loc[:,'new_name'] = institutions_to_clean.new_name.astype(\"category\")\n",
    "\n",
    "institutions_to_clean.loc[:,'new_name'] = institutions_to_clean.new_name.cat.set_categories(sorter)\n"
   ]
  },
  {
   "cell_type": "code",
   "execution_count": 31,
   "id": "8fb1fb95-9e11-4fa8-be0a-2f8bf7914694",
   "metadata": {},
   "outputs": [],
   "source": [
    "institutions_to_clean = institutions_to_clean.sort_values(['new_name','n'],ascending=[True,False])"
   ]
  },
  {
   "cell_type": "markdown",
   "id": "73a66dd1-0d61-44d8-a530-b3c05186d9f0",
   "metadata": {
    "tags": []
   },
   "source": [
    "### Partial match with GRID"
   ]
  },
  {
   "cell_type": "code",
   "execution_count": 32,
   "id": "9c3799b7-cba5-434e-833b-829830ef96b4",
   "metadata": {},
   "outputs": [],
   "source": [
    "grid_us = grid_df[grid_df.Country == 'United States']"
   ]
  },
  {
   "cell_type": "code",
   "execution_count": 33,
   "id": "8659df77-7e2b-4a8c-9f40-8cf24910be9d",
   "metadata": {},
   "outputs": [],
   "source": [
    "grid_us = grid_us.merge(grid_type,left_on='ID', right_on='grid_id')"
   ]
  },
  {
   "cell_type": "code",
   "execution_count": 34,
   "id": "17624423-dd28-475c-a657-e5eefad322dc",
   "metadata": {},
   "outputs": [],
   "source": [
    "def standardize_name(name):\n",
    "    name = name.translate(str.maketrans('','',string.punctuation)) # remove punctuation\n",
    "    name = re.sub('the|of','',name,flags=re.IGNORECASE)\n",
    "    name = re.sub(' +', ' ', name) #remove multiple white space\n",
    "    name = name.upper()\n",
    "    name = name.replace(' ','-')\n",
    "    name = name.replace('UNIVERSITY','UNIV')\n",
    "    name = name.replace('INSTITUTE','INST')\n",
    "    name = name.replace('DIVISION','DIV')\n",
    "    name = name.replace('CLINIQUE','CLI')\n",
    "    name = name.replace('MEDICAL','MED')    \n",
    "    name = name.replace('CENTER','CTR')  \n",
    "    name = name.replace('RESEARCH','RES')  \n",
    "    name = name.replace('RESEARCH','RES')  \n",
    "    name = name.replace('COLLEGE','COLL')  \n",
    "    name = name.replace('ACADEMY','ACAD')      \n",
    "    name = name.replace('CALIFORNIA','CALIF')      \n",
    "    name = name.replace('PENNSYLVANIA','PENN')\n",
    "    return name"
   ]
  },
  {
   "cell_type": "code",
   "execution_count": 35,
   "id": "4df0eca0-49ab-4ddd-88b9-6d3307003a3f",
   "metadata": {},
   "outputs": [
    {
     "data": {
      "text/plain": [
       "'UNIV-CALIF-LOS-ANGELES'"
      ]
     },
     "execution_count": 35,
     "metadata": {},
     "output_type": "execute_result"
    }
   ],
   "source": [
    "text = 'University of California, Los Angeles'\n",
    "standardize_name(text)"
   ]
  },
  {
   "cell_type": "code",
   "execution_count": 36,
   "id": "45c9f077-80df-4443-9766-2c01d670c329",
   "metadata": {},
   "outputs": [],
   "source": [
    "grid_us.loc[:,'standard_name'] = grid_us.Name.apply(standardize_name)"
   ]
  },
  {
   "cell_type": "code",
   "execution_count": 37,
   "id": "7dcac029-6019-46e2-90f1-7d885e0b12ba",
   "metadata": {},
   "outputs": [],
   "source": [
    "grid_us_merge = grid_us[['grid_id','Name','standard_name']]\n",
    "grid_us_merge.columns = ['grid_id','grid_name','grid_standard_name']"
   ]
  },
  {
   "cell_type": "code",
   "execution_count": 38,
   "id": "e6bfa497-4cdb-414f-84a1-9d48cbd7243b",
   "metadata": {},
   "outputs": [],
   "source": [
    "def double_merge_grid(institutions_to_clean, grid_us_merge):\n",
    "\n",
    "    partial_match = institutions_to_clean.merge(grid_us_merge, left_on='new_name', right_on='grid_standard_name', how='left')\n",
    "\n",
    "    partial_match.drop(columns='grid_standard_name',inplace=True)\n",
    "\n",
    "    not_matched = partial_match[partial_match.grid_id.isnull()]\n",
    "\n",
    "    not_matched.drop(columns=['grid_id', 'grid_name'],inplace=True)\n",
    "\n",
    "    second_match = not_matched.merge(grid_us_merge, left_on='name', right_on='grid_standard_name', how='inner')\n",
    "    second_match.drop(columns='grid_standard_name',inplace=True)\n",
    "\n",
    "    partial_match.loc[partial_match.name.isin(second_match.name),['grid_id','grid_name']] = second_match[['grid_id','grid_name']].values\n",
    "\n",
    "    return partial_match"
   ]
  },
  {
   "cell_type": "code",
   "execution_count": 39,
   "id": "1a763119-405e-4ecb-a973-40bddb776f23",
   "metadata": {},
   "outputs": [
    {
     "name": "stderr",
     "output_type": "stream",
     "text": [
      "/opt/conda/lib/python3.7/site-packages/pandas/core/frame.py:4913: SettingWithCopyWarning: \n",
      "A value is trying to be set on a copy of a slice from a DataFrame\n",
      "\n",
      "See the caveats in the documentation: https://pandas.pydata.org/pandas-docs/stable/user_guide/indexing.html#returning-a-view-versus-a-copy\n",
      "  errors=errors,\n"
     ]
    }
   ],
   "source": [
    "partial_match = double_merge_grid(institutions_to_clean, grid_us_merge)"
   ]
  },
  {
   "cell_type": "markdown",
   "id": "1e135bb9-565e-49a3-b4a0-ec6c3b00be7c",
   "metadata": {},
   "source": [
    "### Partial match with Carnegie"
   ]
  },
  {
   "cell_type": "code",
   "execution_count": 40,
   "id": "2c02edf8-1f37-4aaf-86e8-90179d7b4b85",
   "metadata": {},
   "outputs": [],
   "source": [
    "carnegie_df.loc[:,'carnegie_standard_name'] = carnegie_df.carnegie_name.apply(standardize_name)"
   ]
  },
  {
   "cell_type": "code",
   "execution_count": 41,
   "id": "8092acec-f85a-4716-a92e-b532eca52a45",
   "metadata": {},
   "outputs": [],
   "source": [
    "def double_merge_carnegie(partial_match, carnegie_df):\n",
    "\n",
    "    partial_match = partial_match.merge(carnegie_df, left_on='new_name', right_on='carnegie_standard_name', how='left')\n",
    "\n",
    "    partial_match.drop(columns='carnegie_standard_name',inplace=True)\n",
    "\n",
    "    not_matched = partial_match[partial_match.carnegie_id.isnull()]\n",
    "\n",
    "    not_matched.drop(columns=['carnegie_id', 'carnegie_name'],inplace=True)\n",
    "\n",
    "    second_match = not_matched.merge(carnegie_df, left_on='name', right_on='carnegie_standard_name', how='inner')\n",
    "    second_match.drop(columns='carnegie_standard_name',inplace=True)\n",
    "\n",
    "    partial_match.loc[partial_match.name.isin(second_match.name),['carnegie_id', 'carnegie_name']] = second_match[['carnegie_id', 'carnegie_name']].values\n",
    "\n",
    "    return partial_match"
   ]
  },
  {
   "cell_type": "code",
   "execution_count": 42,
   "id": "44fe67f3-9236-4175-8a67-8093e247e955",
   "metadata": {},
   "outputs": [],
   "source": [
    "matched_institutions = double_merge_carnegie(partial_match, carnegie_df)"
   ]
  },
  {
   "cell_type": "code",
   "execution_count": 44,
   "id": "0784629e-a44d-4460-9e6c-e50da61b20ba",
   "metadata": {},
   "outputs": [
    {
     "data": {
      "text/html": [
       "<div>\n",
       "<style scoped>\n",
       "    .dataframe tbody tr th:only-of-type {\n",
       "        vertical-align: middle;\n",
       "    }\n",
       "\n",
       "    .dataframe tbody tr th {\n",
       "        vertical-align: top;\n",
       "    }\n",
       "\n",
       "    .dataframe thead th {\n",
       "        text-align: right;\n",
       "    }\n",
       "</style>\n",
       "<table border=\"1\" class=\"dataframe\">\n",
       "  <thead>\n",
       "    <tr style=\"text-align: right;\">\n",
       "      <th></th>\n",
       "      <th>name</th>\n",
       "      <th>n</th>\n",
       "      <th>sector</th>\n",
       "      <th>new_name</th>\n",
       "      <th>grid_id</th>\n",
       "      <th>grid_name</th>\n",
       "      <th>carnegie_id</th>\n",
       "      <th>carnegie_name</th>\n",
       "    </tr>\n",
       "  </thead>\n",
       "  <tbody>\n",
       "    <tr>\n",
       "      <th>0</th>\n",
       "      <td>HARVARD-UNIV</td>\n",
       "      <td>302415</td>\n",
       "      <td>university</td>\n",
       "      <td>HARVARD-UNIV</td>\n",
       "      <td>grid.38142.3c</td>\n",
       "      <td>Harvard University</td>\n",
       "      <td>166027</td>\n",
       "      <td>Harvard University</td>\n",
       "    </tr>\n",
       "    <tr>\n",
       "      <th>1</th>\n",
       "      <td>HARVARD-UNIV-HERBARIA</td>\n",
       "      <td>143</td>\n",
       "      <td>university</td>\n",
       "      <td>HARVARD-UNIV</td>\n",
       "      <td>grid.38142.3c</td>\n",
       "      <td>Harvard University</td>\n",
       "      <td>166027</td>\n",
       "      <td>Harvard University</td>\n",
       "    </tr>\n",
       "    <tr>\n",
       "      <th>2</th>\n",
       "      <td>BROAD-INST-MIT-&amp;-HARVARD-UNIV</td>\n",
       "      <td>141</td>\n",
       "      <td>university</td>\n",
       "      <td>HARVARD-UNIV</td>\n",
       "      <td>grid.38142.3c</td>\n",
       "      <td>Harvard University</td>\n",
       "      <td>166027</td>\n",
       "      <td>Harvard University</td>\n",
       "    </tr>\n",
       "    <tr>\n",
       "      <th>3</th>\n",
       "      <td>ARNOLD-ARBORETUM-HARVARD-UNIV</td>\n",
       "      <td>68</td>\n",
       "      <td>university</td>\n",
       "      <td>HARVARD-UNIV</td>\n",
       "      <td>grid.38142.3c</td>\n",
       "      <td>Harvard University</td>\n",
       "      <td>166027</td>\n",
       "      <td>Harvard University</td>\n",
       "    </tr>\n",
       "    <tr>\n",
       "      <th>4</th>\n",
       "      <td>HARVARD-UNIV-HEBARIA</td>\n",
       "      <td>67</td>\n",
       "      <td>university</td>\n",
       "      <td>HARVARD-UNIV</td>\n",
       "      <td>grid.38142.3c</td>\n",
       "      <td>Harvard University</td>\n",
       "      <td>166027</td>\n",
       "      <td>Harvard University</td>\n",
       "    </tr>\n",
       "    <tr>\n",
       "      <th>...</th>\n",
       "      <td>...</td>\n",
       "      <td>...</td>\n",
       "      <td>...</td>\n",
       "      <td>...</td>\n",
       "      <td>...</td>\n",
       "      <td>...</td>\n",
       "      <td>...</td>\n",
       "      <td>...</td>\n",
       "    </tr>\n",
       "    <tr>\n",
       "      <th>14630</th>\n",
       "      <td>UT-SOUTHWESTERN-MED-CTR-PARKLAND-MEM-HOSP</td>\n",
       "      <td>2</td>\n",
       "      <td>hospital</td>\n",
       "      <td>UT-SOUTHWESTERN-MED-CTR</td>\n",
       "      <td>NaN</td>\n",
       "      <td>NaN</td>\n",
       "      <td>NaN</td>\n",
       "      <td>NaN</td>\n",
       "    </tr>\n",
       "    <tr>\n",
       "      <th>14631</th>\n",
       "      <td>UT-SOUTHWESTERN-MED-CTR-PARKLAND-MEM-HOSP-DALLAS</td>\n",
       "      <td>1</td>\n",
       "      <td>hospital</td>\n",
       "      <td>UT-SOUTHWESTERN-MED-CTR</td>\n",
       "      <td>NaN</td>\n",
       "      <td>NaN</td>\n",
       "      <td>NaN</td>\n",
       "      <td>NaN</td>\n",
       "    </tr>\n",
       "    <tr>\n",
       "      <th>14632</th>\n",
       "      <td>UT-SOUTHWESTERN-MED-CTR-DALLAS-TX</td>\n",
       "      <td>1</td>\n",
       "      <td>hospital</td>\n",
       "      <td>UT-SOUTHWESTERN-MED-CTR</td>\n",
       "      <td>NaN</td>\n",
       "      <td>NaN</td>\n",
       "      <td>NaN</td>\n",
       "      <td>NaN</td>\n",
       "    </tr>\n",
       "    <tr>\n",
       "      <th>14633</th>\n",
       "      <td>UT-SOUTHWESTERN-MED-CTR-&amp;-CHILDRENS-HEALTH</td>\n",
       "      <td>1</td>\n",
       "      <td>hospital</td>\n",
       "      <td>UT-SOUTHWESTERN-MED-CTR</td>\n",
       "      <td>NaN</td>\n",
       "      <td>NaN</td>\n",
       "      <td>NaN</td>\n",
       "      <td>NaN</td>\n",
       "    </tr>\n",
       "    <tr>\n",
       "      <th>14634</th>\n",
       "      <td>UT-SOUTHWESTERN-MED-CTR-CHILDRENS-MED-CTR</td>\n",
       "      <td>1</td>\n",
       "      <td>hospital</td>\n",
       "      <td>UT-SOUTHWESTERN-MED-CTR</td>\n",
       "      <td>NaN</td>\n",
       "      <td>NaN</td>\n",
       "      <td>NaN</td>\n",
       "      <td>NaN</td>\n",
       "    </tr>\n",
       "  </tbody>\n",
       "</table>\n",
       "<p>14635 rows × 8 columns</p>\n",
       "</div>"
      ],
      "text/plain": [
       "                                                   name       n      sector  \\\n",
       "0                                          HARVARD-UNIV  302415  university   \n",
       "1                                 HARVARD-UNIV-HERBARIA     143  university   \n",
       "2                         BROAD-INST-MIT-&-HARVARD-UNIV     141  university   \n",
       "3                         ARNOLD-ARBORETUM-HARVARD-UNIV      68  university   \n",
       "4                                  HARVARD-UNIV-HEBARIA      67  university   \n",
       "...                                                 ...     ...         ...   \n",
       "14630         UT-SOUTHWESTERN-MED-CTR-PARKLAND-MEM-HOSP       2    hospital   \n",
       "14631  UT-SOUTHWESTERN-MED-CTR-PARKLAND-MEM-HOSP-DALLAS       1    hospital   \n",
       "14632                 UT-SOUTHWESTERN-MED-CTR-DALLAS-TX       1    hospital   \n",
       "14633        UT-SOUTHWESTERN-MED-CTR-&-CHILDRENS-HEALTH       1    hospital   \n",
       "14634         UT-SOUTHWESTERN-MED-CTR-CHILDRENS-MED-CTR       1    hospital   \n",
       "\n",
       "                      new_name        grid_id           grid_name carnegie_id  \\\n",
       "0                 HARVARD-UNIV  grid.38142.3c  Harvard University      166027   \n",
       "1                 HARVARD-UNIV  grid.38142.3c  Harvard University      166027   \n",
       "2                 HARVARD-UNIV  grid.38142.3c  Harvard University      166027   \n",
       "3                 HARVARD-UNIV  grid.38142.3c  Harvard University      166027   \n",
       "4                 HARVARD-UNIV  grid.38142.3c  Harvard University      166027   \n",
       "...                        ...            ...                 ...         ...   \n",
       "14630  UT-SOUTHWESTERN-MED-CTR            NaN                 NaN         NaN   \n",
       "14631  UT-SOUTHWESTERN-MED-CTR            NaN                 NaN         NaN   \n",
       "14632  UT-SOUTHWESTERN-MED-CTR            NaN                 NaN         NaN   \n",
       "14633  UT-SOUTHWESTERN-MED-CTR            NaN                 NaN         NaN   \n",
       "14634  UT-SOUTHWESTERN-MED-CTR            NaN                 NaN         NaN   \n",
       "\n",
       "            carnegie_name  \n",
       "0      Harvard University  \n",
       "1      Harvard University  \n",
       "2      Harvard University  \n",
       "3      Harvard University  \n",
       "4      Harvard University  \n",
       "...                   ...  \n",
       "14630                 NaN  \n",
       "14631                 NaN  \n",
       "14632                 NaN  \n",
       "14633                 NaN  \n",
       "14634                 NaN  \n",
       "\n",
       "[14635 rows x 8 columns]"
      ]
     },
     "execution_count": 44,
     "metadata": {},
     "output_type": "execute_result"
    }
   ],
   "source": [
    "matched_institutions"
   ]
  },
  {
   "cell_type": "code",
   "execution_count": 45,
   "id": "5d31000a-ec61-487f-9462-d65841f5fe4f",
   "metadata": {},
   "outputs": [],
   "source": [
    "matched_institutions.to_excel('../../handcoding/institutions.xlsx')"
   ]
  }
 ],
 "metadata": {
  "kernelspec": {
   "display_name": "Python 3 (ipykernel)",
   "language": "python",
   "name": "python3"
  },
  "language_info": {
   "codemirror_mode": {
    "name": "ipython",
    "version": 3
   },
   "file_extension": ".py",
   "mimetype": "text/x-python",
   "name": "python",
   "nbconvert_exporter": "python",
   "pygments_lexer": "ipython3",
   "version": "3.10.8"
  }
 },
 "nbformat": 4,
 "nbformat_minor": 5
}
