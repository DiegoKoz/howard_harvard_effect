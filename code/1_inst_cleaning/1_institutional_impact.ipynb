{
 "cells": [
  {
   "cell_type": "code",
   "execution_count": 2,
   "id": "1ec2e2d1-7a64-40f4-bdf3-53b419366d8d",
   "metadata": {},
   "outputs": [],
   "source": [
    "%config Completer.use_jedi = False"
   ]
  },
  {
   "cell_type": "code",
   "execution_count": 3,
   "id": "3217fdca-3df8-47b5-9713-9e58c3b1eb30",
   "metadata": {},
   "outputs": [],
   "source": [
    "import pandas as pd\n",
    "import numpy as np\n"
   ]
  },
  {
   "cell_type": "code",
   "execution_count": 4,
   "id": "30ddaa70-0189-4602-a6af-ac6110eca5bf",
   "metadata": {},
   "outputs": [],
   "source": [
    "address = pd.read_csv('/data/datasets/WOS/US/Adresses_race.txt', delimiter='\\t')"
   ]
  },
  {
   "cell_type": "code",
   "execution_count": 1,
   "id": "471a90dc-5316-461d-b98d-5d76f6ccbeef",
   "metadata": {},
   "outputs": [
    {
     "ename": "NameError",
     "evalue": "name 'address' is not defined",
     "output_type": "error",
     "traceback": [
      "\u001b[0;31m---------------------------------------------------------------------------\u001b[0m",
      "\u001b[0;31mNameError\u001b[0m                                 Traceback (most recent call last)",
      "\u001b[0;32m/tmp/ipykernel_2104/1739064490.py\u001b[0m in \u001b[0;36m<module>\u001b[0;34m\u001b[0m\n\u001b[0;32m----> 1\u001b[0;31m \u001b[0maddress\u001b[0m\u001b[0;34m\u001b[0m\u001b[0;34m\u001b[0m\u001b[0m\n\u001b[0m",
      "\u001b[0;31mNameError\u001b[0m: name 'address' is not defined"
     ]
    }
   ],
   "source": [
    "address"
   ]
  },
  {
   "cell_type": "code",
   "execution_count": null,
   "id": "b120c637-604b-4be1-b951-235b5dfa90ce",
   "metadata": {},
   "outputs": [],
   "source": []
  },
  {
   "cell_type": "code",
   "execution_count": 198,
   "id": "0f8d81a2-388a-42da-8dbd-c5b62e710b7f",
   "metadata": {},
   "outputs": [],
   "source": [
    "institutional_type = pd.read_csv('../../data/institutions_us.csv')\n",
    "institutions_impact = pd.read_excel('/data/datasets/WOS/US/institutions_impact.xlsx', names = ['Institution','country', 'npapers','avg_citations'])"
   ]
  },
  {
   "cell_type": "code",
   "execution_count": 199,
   "id": "73d9ae55-ae2a-4817-98c6-592a049ed5f2",
   "metadata": {},
   "outputs": [],
   "source": [
    "institutions_impact['impact'] = institutions_impact.npapers * institutions_impact.avg_citations"
   ]
  },
  {
   "cell_type": "code",
   "execution_count": 216,
   "id": "372396fb-390f-4549-986a-5d3103302347",
   "metadata": {},
   "outputs": [],
   "source": [
    "institutions_impact_us = institutions_impact[institutions_impact.country == 'United States of America']"
   ]
  },
  {
   "cell_type": "code",
   "execution_count": 217,
   "id": "e437df21-10a2-46a6-9cf1-1603f51cbbe3",
   "metadata": {},
   "outputs": [],
   "source": [
    "df_institutions = address.merge(institutions_impact_us, how='left', on='Institution').merge(institutional_type, how='left', on='Institution')"
   ]
  },
  {
   "cell_type": "code",
   "execution_count": 219,
   "id": "c771b7d5-aa26-4bc3-82a0-790e3a2ce5f5",
   "metadata": {},
   "outputs": [],
   "source": [
    "df_institutions.to_pickle('/data/datasets/WOS/US/Adresses_impact.p')"
   ]
  },
  {
   "cell_type": "code",
   "execution_count": null,
   "id": "38470eb4-a4ee-4de4-950c-75b9424eb069",
   "metadata": {},
   "outputs": [],
   "source": []
  }
 ],
 "metadata": {
  "kernelspec": {
   "display_name": "Python 3 (ipykernel)",
   "language": "python",
   "name": "python3"
  },
  "language_info": {
   "codemirror_mode": {
    "name": "ipython",
    "version": 3
   },
   "file_extension": ".py",
   "mimetype": "text/x-python",
   "name": "python",
   "nbconvert_exporter": "python",
   "pygments_lexer": "ipython3",
   "version": "3.7.13"
  }
 },
 "nbformat": 4,
 "nbformat_minor": 5
}
