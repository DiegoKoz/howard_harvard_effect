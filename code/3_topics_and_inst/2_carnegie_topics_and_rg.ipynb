{
 "cells": [
  {
   "cell_type": "markdown",
   "id": "3a507a03-fd60-4679-b3e1-403c38fab212",
   "metadata": {},
   "source": [
    "- Top 10 topics by RG\n",
    "- Distribution of those topics by institutions flags\n",
    "\n",
    "Institutions profile:\n",
    "\n",
    "2. R1 vs other\n",
    "3. public, private control\n",
    "4. Region\n",
    "5. HBCU\n",
    "7. HSI\n",
    "8. MSI\n",
    "9. Womens' college\n",
    "10. Selectivity index\n",
    "\n",
    "US Newsreport ranking: Top 10, top 100, other\n"
   ]
  },
  {
   "cell_type": "code",
   "execution_count": 1,
   "id": "d5a2154c-916f-4e87-81c9-04ae8f1909b0",
   "metadata": {},
   "outputs": [],
   "source": [
    "%config Completer.use_jedi = False"
   ]
  },
  {
   "cell_type": "code",
   "execution_count": 2,
   "id": "659f037d-910e-4f1d-b267-42176d3d7a98",
   "metadata": {},
   "outputs": [],
   "source": [
    "import pandas as pd\n",
    "import pickle\n",
    "# import pickle5 as pickle\n",
    "from tqdm.notebook import tqdm\n",
    "import numpy as np\n",
    "from sklearn.metrics.pairwise import cosine_similarity\n",
    "from libs.LastNamesInference import LastNamesInference"
   ]
  },
  {
   "cell_type": "code",
   "execution_count": 3,
   "id": "84ed04e1-3b5c-4187-b96e-fc3668e7f663",
   "metadata": {},
   "outputs": [],
   "source": [
    "def save(x, file_name):\n",
    "    with open(file_name, 'wb') as handle:\n",
    "        pickle.dump(x, handle, protocol=pickle.HIGHEST_PROTOCOL)\n",
    "\n",
    "def restore(file_name):\n",
    "    with open(file_name, 'rb') as handle:\n",
    "        x = pickle.load(handle)\n",
    "    return x"
   ]
  },
  {
   "cell_type": "code",
   "execution_count": 4,
   "id": "f7598853-447c-4218-bd0b-0228e90aa6e6",
   "metadata": {},
   "outputs": [],
   "source": [
    "df_socsci = pd.read_csv('/data/datasets//WOS/US/text_clean_socsci.txt')\n",
    "us_papers = pd.read_pickle('/data/datasets//WOS/US/US_papers.p')\n",
    "df_health = pd.read_csv('/data/datasets/WOS/US/text_clean_health.txt')"
   ]
  },
  {
   "cell_type": "code",
   "execution_count": 5,
   "id": "776f95ff-c8ee-4188-bdcf-1aba99fd4ca8",
   "metadata": {},
   "outputs": [],
   "source": [
    "doc_dist_socsci = restore('/data/datasets/WOS/US/lda_socsci_dist.p')\n",
    "doc_dist_health = restore('/data/datasets/WOS/US/lda_health_dist.p')"
   ]
  },
  {
   "cell_type": "code",
   "execution_count": 6,
   "id": "67930b28-55f6-4d1a-9848-66dd673ec73b",
   "metadata": {},
   "outputs": [],
   "source": [
    "socsci_papers = us_papers.loc[(us_papers.id_art.isin(df_socsci.id_art)),]\n",
    "first_authors_socsci = socsci_papers[socsci_papers.ordre==1].copy()\n",
    "\n",
    "doc_dist_socsci,_ = doc_dist_socsci.set_index('id_art').align(first_authors_socsci.set_index('id_art'),axis=0, join='right')\n",
    "doc_dist_socsci = doc_dist_socsci.reset_index()"
   ]
  },
  {
   "cell_type": "code",
   "execution_count": 7,
   "id": "cec4309d-6f6e-486b-87e7-f9286b3714af",
   "metadata": {},
   "outputs": [],
   "source": [
    "health_papers = us_papers.loc[(us_papers.id_art.isin(df_health.id_art)),]\n",
    "first_authors_health = health_papers[health_papers.ordre==1].copy()\n",
    "\n",
    "doc_dist_health,_ = doc_dist_health.set_index('id_art').align(first_authors_health.set_index('id_art'),axis=0, join='right')\n",
    "doc_dist_health = doc_dist_health.reset_index()"
   ]
  },
  {
   "cell_type": "code",
   "execution_count": 8,
   "id": "f92887be-1c0f-4b24-a874-8454a183f768",
   "metadata": {},
   "outputs": [],
   "source": [
    "address_clean = pd.read_pickle('/data/datasets/WOS/US/address_clean.p')"
   ]
  },
  {
   "cell_type": "code",
   "execution_count": 9,
   "id": "7621d05f-a9d9-427f-82e9-227b3d2b2f60",
   "metadata": {},
   "outputs": [],
   "source": [
    "df = us_papers.merge(address_clean, how='inner', left_on=['cluster_ID','id_art'], right_on=['cluster_id', 'id_art'])"
   ]
  },
  {
   "cell_type": "code",
   "execution_count": 10,
   "id": "55ef2f58-9b57-45f6-841f-56777b9c5c31",
   "metadata": {},
   "outputs": [],
   "source": [
    "def split_by_gender(df_race):\n",
    "    df_race = df_race.copy()\n",
    "    df_race['gender'] = df_race.gender.str.upper()\n",
    "\n",
    "    boolean_mask_M = df_race.gender == 'M'\n",
    "    boolean_mask_F = df_race.gender == 'F'\n",
    "\n",
    "    race_dist_M = df_race.loc[boolean_mask_M,['white','hispanic','black','asian']]\n",
    "    race_dist_F = df_race.loc[boolean_mask_F,['white','hispanic','black','asian']]\n",
    "\n",
    "    race_dist_M.columns = race_dist_M.columns + '_M'\n",
    "    race_dist_F.columns = race_dist_F.columns + '_F'\n",
    "    race_dist_MF = pd.concat([race_dist_M,race_dist_F]).fillna(0).sort_index()\n",
    "    df_race = df_race.join(race_dist_MF,how='inner' )\n",
    "    return df_race\n"
   ]
  },
  {
   "cell_type": "code",
   "execution_count": 11,
   "id": "49d33da2-c2ae-46ec-9498-44bee36a9884",
   "metadata": {},
   "outputs": [],
   "source": [
    "def infer_race(us_papers,df_socsci, authors='first'):\n",
    "    socsci_papers = us_papers.loc[(us_papers.id_art.isin(df_socsci.id_art)),]\n",
    "    first_authors = socsci_papers[socsci_papers.ordre==1].copy().reset_index(drop=True)\n",
    "    #first_authors = first_authors[['id_art','Prenom', 'nom']]\n",
    "    lni = LastNamesInference(names = first_authors.nom)\n",
    "    tqdm.pandas(desc=\"inferring race from lastnames\")\n",
    "    lastname_race_dist = first_authors.progress_apply(lambda x: lni.get_name_dist(lastname=x.nom), axis=1)\n",
    "    first_authors[lni.prob_order] = pd.DataFrame(lastname_race_dist.to_list())\n",
    "    #first_authors = first_authors[['id_art','white', 'hispanic', 'black', 'asian']]\n",
    "    df_socsci_race = df_socsci.merge(first_authors, on ='id_art')\n",
    "\n",
    "    return df_socsci_race"
   ]
  },
  {
   "cell_type": "code",
   "execution_count": 12,
   "id": "b3a3908a-eefd-4d2e-9e97-61fd2e4e371a",
   "metadata": {},
   "outputs": [
    {
     "name": "stderr",
     "output_type": "stream",
     "text": [
      "imputing by the mean: 100% 238652/238652 [00:00<00:00, 264688.69it/s]\n"
     ]
    },
    {
     "data": {
      "application/vnd.jupyter.widget-view+json": {
       "model_id": "ce50626fd047450eac0cc5d47ac1bf1f",
       "version_major": 2,
       "version_minor": 0
      },
      "text/plain": [
       "inferring race from lastnames:   0%|          | 0/238652 [00:00<?, ?it/s]"
      ]
     },
     "metadata": {},
     "output_type": "display_data"
    }
   ],
   "source": [
    "df_socsci_race = infer_race(us_papers,df_socsci)"
   ]
  },
  {
   "cell_type": "code",
   "execution_count": 13,
   "id": "6f85210d-12e4-4432-88d5-1d9ac5d63b6f",
   "metadata": {},
   "outputs": [
    {
     "name": "stderr",
     "output_type": "stream",
     "text": [
      "imputing by the mean: 100% 123472/123472 [00:00<00:00, 260675.26it/s]\n"
     ]
    },
    {
     "data": {
      "application/vnd.jupyter.widget-view+json": {
       "model_id": "62e927ac5f82404abb1bb7abd0fbbcd6",
       "version_major": 2,
       "version_minor": 0
      },
      "text/plain": [
       "inferring race from lastnames:   0%|          | 0/123472 [00:00<?, ?it/s]"
      ]
     },
     "metadata": {},
     "output_type": "display_data"
    }
   ],
   "source": [
    "df_health_race = infer_race(us_papers,df_health)"
   ]
  },
  {
   "cell_type": "code",
   "execution_count": 14,
   "id": "97d71536-127f-4016-96f3-c0db3c48899b",
   "metadata": {},
   "outputs": [],
   "source": [
    "def project_lda_topics(df_race,doc_dist):\n",
    "    \n",
    "    race_dist = df_race.filter(regex=('white|hispanic|black|asian'))\n",
    "    topics_by_group = race_dist.T @ doc_dist \n",
    "    \n",
    "    topics_by_group = topics_by_group.astype(np.float128)\n",
    "    \n",
    "    joint_prob = topics_by_group/topics_by_group.to_numpy().sum()\n",
    "    marginal_by_topic = joint_prob.div(joint_prob.sum(axis=0), axis=1)\n",
    "    marginal_by_group = joint_prob.div(joint_prob.sum(axis=1), axis=0)\n",
    "#    dist_diff_topic = marginal_by_topic.subtract(joint_prob.sum(axis=1), axis=0)  # with the substraction, this gives \"how many percentual points (more/less) than \n",
    "                                                                                    # expected they talk about this topic\n",
    "    dist_diff_topic = marginal_by_topic.div(joint_prob.sum(axis=1), axis=0) -1   # with the ratio, this gives \"how much % (more/less) than expected\n",
    "                                                                                    # they talk about this topic\n",
    "    joint_prob = joint_prob.T.rename_axis('topic').reset_index()\n",
    "    marginal_by_topic = marginal_by_topic.T.rename_axis('topic').reset_index()\n",
    "    marginal_by_group = marginal_by_group.T.rename_axis('topic').reset_index()\n",
    "    dist_diff_topic = dist_diff_topic.T.rename_axis('topic').reset_index()\n",
    "    \n",
    "    # I start the topics in 1, so they are equal to the LDAVIZ!!!!\n",
    "    joint_prob.topic += 1\n",
    "    marginal_by_topic.topic += 1\n",
    "    marginal_by_group.topic += 1\n",
    "    dist_diff_topic.topic += 1    \n",
    "    \n",
    "    return joint_prob, marginal_by_topic, marginal_by_group, dist_diff_topic"
   ]
  },
  {
   "cell_type": "code",
   "execution_count": 15,
   "id": "fdcff0ad-f885-4d99-8fd0-8653c418a2e7",
   "metadata": {},
   "outputs": [],
   "source": [
    "def intersect_by_gender(df_race, doc_dist):\n",
    "    \n",
    "    #race_dist = race_dist.merge(metadata_papers, how='left', left_index=True, right_on='id_art')\n",
    "    #race_dist = first_or_so_authors(race_dist)\n",
    "\n",
    "    df_race['gender'] = df_race.gender.str.upper()\n",
    "\n",
    "    boolean_mask_M = df_race.gender == 'M'\n",
    "    boolean_mask_F = df_race.gender == 'F'\n",
    "    \n",
    "    race_dist_M = df_race.loc[boolean_mask_M,['white','hispanic','black','asian']]\n",
    "    race_dist_F = df_race.loc[boolean_mask_F,['white','hispanic','black','asian']]\n",
    "\n",
    "    race_dist_M.columns = race_dist_M.columns + '_M'\n",
    "    race_dist_F.columns = race_dist_F.columns + '_F'\n",
    "\n",
    "    race_dist_MF = pd.concat([race_dist_M,race_dist_F]).fillna(0)\n",
    "    doc_dist_MF = np.concatenate((doc_dist[boolean_mask_M],doc_dist[boolean_mask_F]))\n",
    "\n",
    "    joint_prob, marginal_by_topic, marginal_by_group, dist_diff_topic = project_lda_topics(race_dist_MF,doc_dist_MF)\n",
    "\n",
    "    return joint_prob, marginal_by_topic, marginal_by_group, dist_diff_topic"
   ]
  },
  {
   "cell_type": "code",
   "execution_count": 16,
   "id": "e618edb7-6ca1-4208-a7a2-fbe96fc69960",
   "metadata": {},
   "outputs": [],
   "source": [
    "def group_stats(group, res = 'dist_diff_topic_gender'):\n",
    "    df_race_group = group[['gender']+ race_groups].copy()\n",
    "    doc_dist_group = group[topics_col].copy()\n",
    "    \n",
    "    joint_prob_gender, marginal_by_topic_gender, marginal_by_group_gender, dist_diff_topic_gender = intersect_by_gender(df_race_group, doc_dist_group)\n",
    "    \n",
    "    results_dict = {'joint_prob_gender':joint_prob_gender, 'marginal_by_topic_gender':marginal_by_topic_gender, \n",
    "                    'marginal_by_group_gender':marginal_by_group_gender, 'dist_diff_topic_gender':dist_diff_topic_gender}\n",
    "    \n",
    "    return results_dict[res]"
   ]
  },
  {
   "cell_type": "code",
   "execution_count": 17,
   "id": "8cf8913d-e5da-4fd5-a45b-6fb6a0f6aa30",
   "metadata": {},
   "outputs": [],
   "source": [
    "def group_dist_diff(group):\n",
    "    return group_stats(group, 'dist_diff_topic_gender')"
   ]
  },
  {
   "cell_type": "code",
   "execution_count": 18,
   "id": "8d6d8868-81e0-4461-9a47-c531b70ee5eb",
   "metadata": {},
   "outputs": [],
   "source": [
    "def group_joint_prop(group):\n",
    "    return group_stats(group, 'joint_prob_gender')"
   ]
  },
  {
   "cell_type": "code",
   "execution_count": 19,
   "id": "00c661ea-b289-4480-99c3-a765aa87aeea",
   "metadata": {},
   "outputs": [],
   "source": [
    "def get_marginal_by_topic_gender(group):\n",
    "    return group_stats(group, 'marginal_by_topic_gender')"
   ]
  },
  {
   "cell_type": "code",
   "execution_count": 20,
   "id": "8ebb104b-60ef-4e20-ae5f-9995f4aaab1c",
   "metadata": {},
   "outputs": [],
   "source": [
    "def get_marginal_by_group_gender(group):\n",
    "    return group_stats(group, 'marginal_by_group_gender')"
   ]
  },
  {
   "cell_type": "code",
   "execution_count": 21,
   "id": "98339a4c-84eb-4513-a401-5d74c07090f5",
   "metadata": {},
   "outputs": [],
   "source": [
    "university_groups = ['r1', 'control', 'obereg', 'hbcu', 'hsi', 'msi', 'womens', 'selindex',\n",
    "                    'usnr_rank_cat','Top10CR_Q','Top5CR_Q','Top1CR_Q','impact_Q','avg_citations_Q','avg_citations_Q10']\n",
    "race_groups = ['white','hispanic','black','asian']\n",
    "race_gender_groups = ['white_M', 'hispanic_M', 'black_M', 'asian_M', 'white_F','hispanic_F', 'black_F', 'asian_F']"
   ]
  },
  {
   "cell_type": "markdown",
   "id": "13cdc62a-5051-4654-a350-9f087442c8fe",
   "metadata": {},
   "source": [
    "# Social sciences"
   ]
  },
  {
   "cell_type": "code",
   "execution_count": 22,
   "id": "7e26bad6-04d0-461a-8964-de13eb8e2e5b",
   "metadata": {},
   "outputs": [],
   "source": [
    "# profile_similarity = pd.DataFrame(cosine_similarity(carnegie_topic_profile.iloc[: , 1:],group_topic_profile), columns=group_topic_profile.index, index =carnegie_topic_profile.iloc[: , 1:].index ) \n",
    "\n",
    "# profile_similarity.insert(0, column='group',value=carnegie_topic_profile.iloc[: , :1].values)\n",
    "\n",
    "# profile_similarity.to_csv('../../results/institutions/carnegie_groups_profile_sim_sosci.csv', index_label= 'group_tag')"
   ]
  },
  {
   "cell_type": "markdown",
   "id": "216bb001-a2c7-4d82-8556-fa76ad4e2ba7",
   "metadata": {},
   "source": [
    "## Topics by rg on institutions "
   ]
  },
  {
   "cell_type": "code",
   "execution_count": 23,
   "id": "15da128c-8ef2-49b4-a883-c271c40433e9",
   "metadata": {},
   "outputs": [
    {
     "data": {
      "text/plain": [
       "(238652, 301)"
      ]
     },
     "execution_count": 23,
     "metadata": {},
     "output_type": "execute_result"
    }
   ],
   "source": [
    "doc_dist_socsci.shape"
   ]
  },
  {
   "cell_type": "code",
   "execution_count": 24,
   "id": "b53dfb6f-1f53-465e-b701-eded81cc0916",
   "metadata": {},
   "outputs": [
    {
     "data": {
      "text/plain": [
       "(238652, 23)"
      ]
     },
     "execution_count": 24,
     "metadata": {},
     "output_type": "execute_result"
    }
   ],
   "source": [
    "df_socsci_race.shape"
   ]
  },
  {
   "cell_type": "code",
   "execution_count": 25,
   "id": "facf110e-f5be-44a6-b6c0-1337be294ec7",
   "metadata": {},
   "outputs": [],
   "source": [
    "df_race = df_socsci_race"
   ]
  },
  {
   "cell_type": "code",
   "execution_count": 26,
   "id": "d8d5904d-2a72-4cae-a87e-4aebe9225b07",
   "metadata": {},
   "outputs": [],
   "source": [
    "doc_dist =doc_dist_socsci"
   ]
  },
  {
   "cell_type": "code",
   "execution_count": 27,
   "id": "dca4d4f2-f63c-468e-9b0e-5a6e944e4dcc",
   "metadata": {},
   "outputs": [],
   "source": [
    "joint_prob_gender, marginal_by_topic_gender, marginal_by_group_gender, dist_diff_topic_gender = intersect_by_gender(df_socsci_race, doc_dist_socsci)"
   ]
  },
  {
   "cell_type": "markdown",
   "id": "ce78b35e-18ef-4700-9802-e3cbb8907ecc",
   "metadata": {},
   "source": [
    "# dist_diff_topic for each Carnegie group"
   ]
  },
  {
   "cell_type": "code",
   "execution_count": 28,
   "id": "a1a04644-27bd-473d-836b-900c73bd8aab",
   "metadata": {},
   "outputs": [],
   "source": [
    "topics_col = ['topic_'+ str(x) for x in range(1,301)]"
   ]
  },
  {
   "cell_type": "code",
   "execution_count": 29,
   "id": "77b4342e-ab46-43ef-9a1e-0b734c7147a4",
   "metadata": {},
   "outputs": [],
   "source": [
    "df_merge = df_socsci_race.merge(address_clean, left_on=['id_art','cluster_ID'], right_on= ['id_art','cluster_id'])\n",
    "df_merge= df_merge.merge(doc_dist_socsci,on='id_art')\n"
   ]
  },
  {
   "cell_type": "code",
   "execution_count": 30,
   "id": "5cc919f0-3360-42bb-86a8-e54ef448c6ab",
   "metadata": {},
   "outputs": [
    {
     "name": "stderr",
     "output_type": "stream",
     "text": [
      "/tmp/ipykernel_1364/3687882438.py:4: FutureWarning: The frame.append method is deprecated and will be removed from pandas in a future version. Use pandas.concat instead.\n",
      "  groups_dist_diff = groups_dist_diff.append(agg_res)\n",
      "/tmp/ipykernel_1364/3687882438.py:4: FutureWarning: The frame.append method is deprecated and will be removed from pandas in a future version. Use pandas.concat instead.\n",
      "  groups_dist_diff = groups_dist_diff.append(agg_res)\n",
      "/tmp/ipykernel_1364/3687882438.py:4: FutureWarning: The frame.append method is deprecated and will be removed from pandas in a future version. Use pandas.concat instead.\n",
      "  groups_dist_diff = groups_dist_diff.append(agg_res)\n",
      "/tmp/ipykernel_1364/3687882438.py:4: FutureWarning: The frame.append method is deprecated and will be removed from pandas in a future version. Use pandas.concat instead.\n",
      "  groups_dist_diff = groups_dist_diff.append(agg_res)\n",
      "/tmp/ipykernel_1364/3687882438.py:4: FutureWarning: The frame.append method is deprecated and will be removed from pandas in a future version. Use pandas.concat instead.\n",
      "  groups_dist_diff = groups_dist_diff.append(agg_res)\n",
      "/tmp/ipykernel_1364/3687882438.py:4: FutureWarning: The frame.append method is deprecated and will be removed from pandas in a future version. Use pandas.concat instead.\n",
      "  groups_dist_diff = groups_dist_diff.append(agg_res)\n",
      "/tmp/ipykernel_1364/3687882438.py:4: FutureWarning: The frame.append method is deprecated and will be removed from pandas in a future version. Use pandas.concat instead.\n",
      "  groups_dist_diff = groups_dist_diff.append(agg_res)\n",
      "/tmp/ipykernel_1364/3687882438.py:4: FutureWarning: The frame.append method is deprecated and will be removed from pandas in a future version. Use pandas.concat instead.\n",
      "  groups_dist_diff = groups_dist_diff.append(agg_res)\n",
      "/tmp/ipykernel_1364/3687882438.py:4: FutureWarning: The frame.append method is deprecated and will be removed from pandas in a future version. Use pandas.concat instead.\n",
      "  groups_dist_diff = groups_dist_diff.append(agg_res)\n",
      "/tmp/ipykernel_1364/3687882438.py:4: FutureWarning: The frame.append method is deprecated and will be removed from pandas in a future version. Use pandas.concat instead.\n",
      "  groups_dist_diff = groups_dist_diff.append(agg_res)\n",
      "/tmp/ipykernel_1364/3687882438.py:4: FutureWarning: The frame.append method is deprecated and will be removed from pandas in a future version. Use pandas.concat instead.\n",
      "  groups_dist_diff = groups_dist_diff.append(agg_res)\n",
      "/tmp/ipykernel_1364/3687882438.py:4: FutureWarning: The frame.append method is deprecated and will be removed from pandas in a future version. Use pandas.concat instead.\n",
      "  groups_dist_diff = groups_dist_diff.append(agg_res)\n",
      "/tmp/ipykernel_1364/3687882438.py:4: FutureWarning: The frame.append method is deprecated and will be removed from pandas in a future version. Use pandas.concat instead.\n",
      "  groups_dist_diff = groups_dist_diff.append(agg_res)\n",
      "/tmp/ipykernel_1364/3687882438.py:4: FutureWarning: The frame.append method is deprecated and will be removed from pandas in a future version. Use pandas.concat instead.\n",
      "  groups_dist_diff = groups_dist_diff.append(agg_res)\n",
      "/tmp/ipykernel_1364/3687882438.py:4: FutureWarning: The frame.append method is deprecated and will be removed from pandas in a future version. Use pandas.concat instead.\n",
      "  groups_dist_diff = groups_dist_diff.append(agg_res)\n"
     ]
    }
   ],
   "source": [
    "groups_dist_diff = pd.DataFrame()\n",
    "for carnegie_group in university_groups:\n",
    "    agg_res = df_merge.groupby(carnegie_group).apply(group_dist_diff).reset_index(level=carnegie_group).reset_index(drop=True)\n",
    "    groups_dist_diff = groups_dist_diff.append(agg_res)\n"
   ]
  },
  {
   "cell_type": "code",
   "execution_count": 31,
   "id": "f367240e-fde8-4753-9f94-127aec10ae1d",
   "metadata": {},
   "outputs": [],
   "source": [
    "groups_dist_diff = groups_dist_diff.melt(['topic', 'white_M', 'hispanic_M', 'black_M', 'asian_M', 'white_F',\n",
    "       'hispanic_F', 'black_F', 'asian_F'],var_name='carnegie_group',value_name='carnegie_tag').dropna()"
   ]
  },
  {
   "cell_type": "code",
   "execution_count": 32,
   "id": "cf02572c-333d-49b3-b14f-2d288f67c542",
   "metadata": {},
   "outputs": [],
   "source": [
    "groups_dist_diff.to_csv('../../results/institutions_topics/rg_carnegie_topic_dist.csv',index=False)"
   ]
  },
  {
   "cell_type": "markdown",
   "id": "d301e283-59c1-4c6e-80d0-b272dc4a9e4e",
   "metadata": {},
   "source": [
    "## Carnegie groups proportion in topics"
   ]
  },
  {
   "cell_type": "code",
   "execution_count": 33,
   "id": "d73374ea-5603-4acb-baaf-4701a4ea87ac",
   "metadata": {},
   "outputs": [
    {
     "name": "stderr",
     "output_type": "stream",
     "text": [
      "/tmp/ipykernel_1364/3660278355.py:5: FutureWarning: The frame.append method is deprecated and will be removed from pandas in a future version. Use pandas.concat instead.\n",
      "  university_groups_prop = university_groups_prop.append(university_groups_prop_topic)\n",
      "/tmp/ipykernel_1364/3660278355.py:5: FutureWarning: The frame.append method is deprecated and will be removed from pandas in a future version. Use pandas.concat instead.\n",
      "  university_groups_prop = university_groups_prop.append(university_groups_prop_topic)\n",
      "/tmp/ipykernel_1364/3660278355.py:5: FutureWarning: The frame.append method is deprecated and will be removed from pandas in a future version. Use pandas.concat instead.\n",
      "  university_groups_prop = university_groups_prop.append(university_groups_prop_topic)\n",
      "/tmp/ipykernel_1364/3660278355.py:5: FutureWarning: The frame.append method is deprecated and will be removed from pandas in a future version. Use pandas.concat instead.\n",
      "  university_groups_prop = university_groups_prop.append(university_groups_prop_topic)\n",
      "/tmp/ipykernel_1364/3660278355.py:5: FutureWarning: The frame.append method is deprecated and will be removed from pandas in a future version. Use pandas.concat instead.\n",
      "  university_groups_prop = university_groups_prop.append(university_groups_prop_topic)\n",
      "/tmp/ipykernel_1364/3660278355.py:5: FutureWarning: The frame.append method is deprecated and will be removed from pandas in a future version. Use pandas.concat instead.\n",
      "  university_groups_prop = university_groups_prop.append(university_groups_prop_topic)\n",
      "/tmp/ipykernel_1364/3660278355.py:5: FutureWarning: The frame.append method is deprecated and will be removed from pandas in a future version. Use pandas.concat instead.\n",
      "  university_groups_prop = university_groups_prop.append(university_groups_prop_topic)\n",
      "/tmp/ipykernel_1364/3660278355.py:5: FutureWarning: The frame.append method is deprecated and will be removed from pandas in a future version. Use pandas.concat instead.\n",
      "  university_groups_prop = university_groups_prop.append(university_groups_prop_topic)\n",
      "/tmp/ipykernel_1364/3660278355.py:5: FutureWarning: The frame.append method is deprecated and will be removed from pandas in a future version. Use pandas.concat instead.\n",
      "  university_groups_prop = university_groups_prop.append(university_groups_prop_topic)\n",
      "/tmp/ipykernel_1364/3660278355.py:5: FutureWarning: The frame.append method is deprecated and will be removed from pandas in a future version. Use pandas.concat instead.\n",
      "  university_groups_prop = university_groups_prop.append(university_groups_prop_topic)\n",
      "/tmp/ipykernel_1364/3660278355.py:5: FutureWarning: The frame.append method is deprecated and will be removed from pandas in a future version. Use pandas.concat instead.\n",
      "  university_groups_prop = university_groups_prop.append(university_groups_prop_topic)\n",
      "/tmp/ipykernel_1364/3660278355.py:5: FutureWarning: The frame.append method is deprecated and will be removed from pandas in a future version. Use pandas.concat instead.\n",
      "  university_groups_prop = university_groups_prop.append(university_groups_prop_topic)\n",
      "/tmp/ipykernel_1364/3660278355.py:5: FutureWarning: The frame.append method is deprecated and will be removed from pandas in a future version. Use pandas.concat instead.\n",
      "  university_groups_prop = university_groups_prop.append(university_groups_prop_topic)\n",
      "/tmp/ipykernel_1364/3660278355.py:5: FutureWarning: The frame.append method is deprecated and will be removed from pandas in a future version. Use pandas.concat instead.\n",
      "  university_groups_prop = university_groups_prop.append(university_groups_prop_topic)\n",
      "/tmp/ipykernel_1364/3660278355.py:5: FutureWarning: The frame.append method is deprecated and will be removed from pandas in a future version. Use pandas.concat instead.\n",
      "  university_groups_prop = university_groups_prop.append(university_groups_prop_topic)\n"
     ]
    }
   ],
   "source": [
    "university_groups_prop = pd.DataFrame()\n",
    "for carnegie_group in university_groups:\n",
    "    df_group = df_merge.groupby(carnegie_group)[topics_col].sum()\n",
    "    university_groups_prop_topic = df_group.div(df_group.sum(axis=0), axis=1).reset_index(level=carnegie_group)\n",
    "    university_groups_prop = university_groups_prop.append(university_groups_prop_topic)\n"
   ]
  },
  {
   "cell_type": "code",
   "execution_count": 34,
   "id": "0774bc05-dd0d-4f10-ad57-7e939b855b45",
   "metadata": {},
   "outputs": [],
   "source": [
    "university_groups_prop = university_groups_prop.melt(id_vars=topics_col,var_name='carnegie_group',value_name='carnegie_tag').dropna()"
   ]
  },
  {
   "cell_type": "code",
   "execution_count": 35,
   "id": "60b0ec67-7298-4c65-bb99-2dcb74f84ca1",
   "metadata": {},
   "outputs": [],
   "source": [
    "university_groups_prop.to_csv('../../results/institutions_topics/topic_prop_by_university_groups.csv', index=False)"
   ]
  },
  {
   "cell_type": "markdown",
   "id": "ba4bb292-51ec-46a1-88ed-ea99c48afb1d",
   "metadata": {},
   "source": [
    "# Howard Harvard effect\n",
    "\n",
    "\n",
    "harvard: 166027\n",
    "Howard: 131520"
   ]
  },
  {
   "cell_type": "code",
   "execution_count": 36,
   "id": "3146d153-df1a-479d-8dd8-d35486a9a48e",
   "metadata": {},
   "outputs": [],
   "source": [
    "hh_df = df_merge[df_merge.carnegie_id.isin(['166027','131520'])]"
   ]
  },
  {
   "cell_type": "code",
   "execution_count": 37,
   "id": "abfbbe8b-cb94-4d8b-9f05-3cf32de95cf7",
   "metadata": {},
   "outputs": [
    {
     "data": {
      "text/plain": [
       "62        Harvard University\n",
       "80        Harvard University\n",
       "101       Harvard University\n",
       "203       Harvard University\n",
       "204       Harvard University\n",
       "                 ...        \n",
       "206738    Harvard University\n",
       "206883    Harvard University\n",
       "207239    Harvard University\n",
       "207244    Harvard University\n",
       "207319    Harvard University\n",
       "Name: carnegie_name, Length: 3599, dtype: object"
      ]
     },
     "execution_count": 37,
     "metadata": {},
     "output_type": "execute_result"
    }
   ],
   "source": [
    "hh_df.carnegie_name"
   ]
  },
  {
   "cell_type": "code",
   "execution_count": 38,
   "id": "386a806b-a2b1-4939-a6d6-dd3d7633d7ac",
   "metadata": {},
   "outputs": [],
   "source": [
    "df_hh = hh_df.groupby('carnegie_name')[topics_col].sum()"
   ]
  },
  {
   "cell_type": "code",
   "execution_count": 39,
   "id": "347dc7ef-1a8e-4ded-b262-ab4cc8dd2720",
   "metadata": {},
   "outputs": [],
   "source": [
    "hh_topic_prop = df_hh.div(df_merge[topics_col].sum(), axis=1).reset_index()"
   ]
  },
  {
   "cell_type": "code",
   "execution_count": 40,
   "id": "1deaa06d-9cf6-4be1-a57e-0af9ceaab4a9",
   "metadata": {},
   "outputs": [],
   "source": [
    "hh_topic_prop.to_csv('../../results/institutions_topics/hh_topic_prop.csv', index=False)"
   ]
  },
  {
   "cell_type": "markdown",
   "id": "75f1ec29-f3eb-4061-8576-1210ab04e4eb",
   "metadata": {
    "tags": []
   },
   "source": [
    "## Topic proportion by race, gender and institution\n",
    "\n",
    "Note: We change the joint probability to the margial probability by topic, on race, gender and institution group, on EACH institution classification. \n",
    "\n",
    "In this way, we have the answer to 'which proportion of the papers in topic X are from [race] [gender] and [institution type within a specific classification]"
   ]
  },
  {
   "cell_type": "code",
   "execution_count": 41,
   "id": "04e432e8-002c-4b89-92df-b12bf9665cc7",
   "metadata": {
    "tags": []
   },
   "outputs": [],
   "source": [
    "# groups_prop = pd.DataFrame()\n",
    "# for carnegie_group in university_groups:\n",
    "#     agg_res = df_merge.groupby(carnegie_group).apply(marginal_by_topic_gender).reset_index(level=carnegie_group).reset_index(drop=True)\n",
    "#     groups_prop = groups_prop.append(agg_res)\n",
    "\n",
    "\n",
    "# topics_rg_institutions_prop = groups_prop.melt(['topic', 'white_M', 'hispanic_M', 'black_M', 'asian_M', 'white_F',\n",
    "#        'hispanic_F', 'black_F', 'asian_F'],var_name='carnegie_group',value_name='carnegie_tag').dropna()"
   ]
  },
  {
   "cell_type": "code",
   "execution_count": 42,
   "id": "f174ebaf-3a4c-432c-b016-601362352a9e",
   "metadata": {},
   "outputs": [
    {
     "data": {
      "application/vnd.jupyter.widget-view+json": {
       "model_id": "c61224ebffd24d0e9bf5f4c3bdba1ce1",
       "version_major": 2,
       "version_minor": 0
      },
      "text/plain": [
       "  0%|          | 0/15 [00:00<?, ?it/s]"
      ]
     },
     "metadata": {},
     "output_type": "display_data"
    },
    {
     "name": "stderr",
     "output_type": "stream",
     "text": [
      "/tmp/ipykernel_1364/4247792466.py:7: FutureWarning: The frame.append method is deprecated and will be removed from pandas in a future version. Use pandas.concat instead.\n",
      "  marginal_by_group_gender_socsci = marginal_by_group_gender_socsci.append(group_dist)\n",
      "/tmp/ipykernel_1364/4247792466.py:7: FutureWarning: The frame.append method is deprecated and will be removed from pandas in a future version. Use pandas.concat instead.\n",
      "  marginal_by_group_gender_socsci = marginal_by_group_gender_socsci.append(group_dist)\n",
      "/tmp/ipykernel_1364/4247792466.py:7: FutureWarning: The frame.append method is deprecated and will be removed from pandas in a future version. Use pandas.concat instead.\n",
      "  marginal_by_group_gender_socsci = marginal_by_group_gender_socsci.append(group_dist)\n",
      "/tmp/ipykernel_1364/4247792466.py:7: FutureWarning: The frame.append method is deprecated and will be removed from pandas in a future version. Use pandas.concat instead.\n",
      "  marginal_by_group_gender_socsci = marginal_by_group_gender_socsci.append(group_dist)\n",
      "/tmp/ipykernel_1364/4247792466.py:7: FutureWarning: The frame.append method is deprecated and will be removed from pandas in a future version. Use pandas.concat instead.\n",
      "  marginal_by_group_gender_socsci = marginal_by_group_gender_socsci.append(group_dist)\n",
      "/tmp/ipykernel_1364/4247792466.py:7: FutureWarning: The frame.append method is deprecated and will be removed from pandas in a future version. Use pandas.concat instead.\n",
      "  marginal_by_group_gender_socsci = marginal_by_group_gender_socsci.append(group_dist)\n",
      "/tmp/ipykernel_1364/4247792466.py:7: FutureWarning: The frame.append method is deprecated and will be removed from pandas in a future version. Use pandas.concat instead.\n",
      "  marginal_by_group_gender_socsci = marginal_by_group_gender_socsci.append(group_dist)\n",
      "/tmp/ipykernel_1364/4247792466.py:7: FutureWarning: The frame.append method is deprecated and will be removed from pandas in a future version. Use pandas.concat instead.\n",
      "  marginal_by_group_gender_socsci = marginal_by_group_gender_socsci.append(group_dist)\n",
      "/tmp/ipykernel_1364/4247792466.py:7: FutureWarning: The frame.append method is deprecated and will be removed from pandas in a future version. Use pandas.concat instead.\n",
      "  marginal_by_group_gender_socsci = marginal_by_group_gender_socsci.append(group_dist)\n",
      "/tmp/ipykernel_1364/4247792466.py:7: FutureWarning: The frame.append method is deprecated and will be removed from pandas in a future version. Use pandas.concat instead.\n",
      "  marginal_by_group_gender_socsci = marginal_by_group_gender_socsci.append(group_dist)\n",
      "/tmp/ipykernel_1364/4247792466.py:7: FutureWarning: The frame.append method is deprecated and will be removed from pandas in a future version. Use pandas.concat instead.\n",
      "  marginal_by_group_gender_socsci = marginal_by_group_gender_socsci.append(group_dist)\n",
      "/tmp/ipykernel_1364/4247792466.py:7: FutureWarning: The frame.append method is deprecated and will be removed from pandas in a future version. Use pandas.concat instead.\n",
      "  marginal_by_group_gender_socsci = marginal_by_group_gender_socsci.append(group_dist)\n",
      "/tmp/ipykernel_1364/4247792466.py:7: FutureWarning: The frame.append method is deprecated and will be removed from pandas in a future version. Use pandas.concat instead.\n",
      "  marginal_by_group_gender_socsci = marginal_by_group_gender_socsci.append(group_dist)\n",
      "/tmp/ipykernel_1364/4247792466.py:7: FutureWarning: The frame.append method is deprecated and will be removed from pandas in a future version. Use pandas.concat instead.\n",
      "  marginal_by_group_gender_socsci = marginal_by_group_gender_socsci.append(group_dist)\n",
      "/tmp/ipykernel_1364/4247792466.py:7: FutureWarning: The frame.append method is deprecated and will be removed from pandas in a future version. Use pandas.concat instead.\n",
      "  marginal_by_group_gender_socsci = marginal_by_group_gender_socsci.append(group_dist)\n"
     ]
    }
   ],
   "source": [
    "marginal_by_group_gender_socsci = pd.DataFrame()\n",
    "for carnegie_group in tqdm(university_groups):\n",
    "    group_dist = df_merge.groupby(carnegie_group).apply(get_marginal_by_group_gender).reset_index(level=carnegie_group).reset_index(drop=True)\n",
    "    # group_n = df_merge.groupby(carnegie_group).id_art.count().reset_index(level=carnegie_group).reset_index(drop=True).rename(columns={'id_art':'n'})\n",
    "    # group_dist = group_dist.merge(group_n, on = carnegie_group)\n",
    "    # group_dist[race_gender_groups] = group_dist[race_gender_groups].multiply(group_dist.n,axis=0)/group_n.n.sum()\n",
    "    marginal_by_group_gender_socsci = marginal_by_group_gender_socsci.append(group_dist)\n"
   ]
  },
  {
   "cell_type": "code",
   "execution_count": 43,
   "id": "18e6ea36-4585-4ea9-91a6-ccd62e9eda92",
   "metadata": {},
   "outputs": [],
   "source": [
    "marginal_by_group_gender_socsci = marginal_by_group_gender_socsci.melt(['topic', 'white_M', 'hispanic_M', 'black_M', 'asian_M', 'white_F',\n",
    "       'hispanic_F', 'black_F', 'asian_F'],var_name='carnegie_group',value_name='carnegie_tag').dropna()"
   ]
  },
  {
   "cell_type": "code",
   "execution_count": 44,
   "id": "fa3e5961-e299-4627-852f-e4c587f696e4",
   "metadata": {},
   "outputs": [],
   "source": [
    "marginal_by_group_gender_socsci.to_csv('../../results/institutions_topics/marginal_by_group_gender_socsci.csv', index=False)"
   ]
  },
  {
   "cell_type": "code",
   "execution_count": 45,
   "id": "aa1b5de8-6ceb-4f28-8f99-905c3738d2aa",
   "metadata": {},
   "outputs": [
    {
     "data": {
      "application/vnd.jupyter.widget-view+json": {
       "model_id": "37bacb9c133c4166bdf4a5c66263d602",
       "version_major": 2,
       "version_minor": 0
      },
      "text/plain": [
       "  0%|          | 0/15 [00:00<?, ?it/s]"
      ]
     },
     "metadata": {},
     "output_type": "display_data"
    },
    {
     "name": "stderr",
     "output_type": "stream",
     "text": [
      "/tmp/ipykernel_1364/4290019014.py:7: FutureWarning: The frame.append method is deprecated and will be removed from pandas in a future version. Use pandas.concat instead.\n",
      "  marginal_by_topic_gender_socsci = marginal_by_topic_gender_socsci.append(group_dist)\n",
      "/tmp/ipykernel_1364/4290019014.py:7: FutureWarning: The frame.append method is deprecated and will be removed from pandas in a future version. Use pandas.concat instead.\n",
      "  marginal_by_topic_gender_socsci = marginal_by_topic_gender_socsci.append(group_dist)\n",
      "/tmp/ipykernel_1364/4290019014.py:7: FutureWarning: The frame.append method is deprecated and will be removed from pandas in a future version. Use pandas.concat instead.\n",
      "  marginal_by_topic_gender_socsci = marginal_by_topic_gender_socsci.append(group_dist)\n",
      "/tmp/ipykernel_1364/4290019014.py:7: FutureWarning: The frame.append method is deprecated and will be removed from pandas in a future version. Use pandas.concat instead.\n",
      "  marginal_by_topic_gender_socsci = marginal_by_topic_gender_socsci.append(group_dist)\n",
      "/tmp/ipykernel_1364/4290019014.py:7: FutureWarning: The frame.append method is deprecated and will be removed from pandas in a future version. Use pandas.concat instead.\n",
      "  marginal_by_topic_gender_socsci = marginal_by_topic_gender_socsci.append(group_dist)\n",
      "/tmp/ipykernel_1364/4290019014.py:7: FutureWarning: The frame.append method is deprecated and will be removed from pandas in a future version. Use pandas.concat instead.\n",
      "  marginal_by_topic_gender_socsci = marginal_by_topic_gender_socsci.append(group_dist)\n",
      "/tmp/ipykernel_1364/4290019014.py:7: FutureWarning: The frame.append method is deprecated and will be removed from pandas in a future version. Use pandas.concat instead.\n",
      "  marginal_by_topic_gender_socsci = marginal_by_topic_gender_socsci.append(group_dist)\n",
      "/tmp/ipykernel_1364/4290019014.py:7: FutureWarning: The frame.append method is deprecated and will be removed from pandas in a future version. Use pandas.concat instead.\n",
      "  marginal_by_topic_gender_socsci = marginal_by_topic_gender_socsci.append(group_dist)\n",
      "/tmp/ipykernel_1364/4290019014.py:7: FutureWarning: The frame.append method is deprecated and will be removed from pandas in a future version. Use pandas.concat instead.\n",
      "  marginal_by_topic_gender_socsci = marginal_by_topic_gender_socsci.append(group_dist)\n",
      "/tmp/ipykernel_1364/4290019014.py:7: FutureWarning: The frame.append method is deprecated and will be removed from pandas in a future version. Use pandas.concat instead.\n",
      "  marginal_by_topic_gender_socsci = marginal_by_topic_gender_socsci.append(group_dist)\n",
      "/tmp/ipykernel_1364/4290019014.py:7: FutureWarning: The frame.append method is deprecated and will be removed from pandas in a future version. Use pandas.concat instead.\n",
      "  marginal_by_topic_gender_socsci = marginal_by_topic_gender_socsci.append(group_dist)\n",
      "/tmp/ipykernel_1364/4290019014.py:7: FutureWarning: The frame.append method is deprecated and will be removed from pandas in a future version. Use pandas.concat instead.\n",
      "  marginal_by_topic_gender_socsci = marginal_by_topic_gender_socsci.append(group_dist)\n",
      "/tmp/ipykernel_1364/4290019014.py:7: FutureWarning: The frame.append method is deprecated and will be removed from pandas in a future version. Use pandas.concat instead.\n",
      "  marginal_by_topic_gender_socsci = marginal_by_topic_gender_socsci.append(group_dist)\n",
      "/tmp/ipykernel_1364/4290019014.py:7: FutureWarning: The frame.append method is deprecated and will be removed from pandas in a future version. Use pandas.concat instead.\n",
      "  marginal_by_topic_gender_socsci = marginal_by_topic_gender_socsci.append(group_dist)\n",
      "/tmp/ipykernel_1364/4290019014.py:7: FutureWarning: The frame.append method is deprecated and will be removed from pandas in a future version. Use pandas.concat instead.\n",
      "  marginal_by_topic_gender_socsci = marginal_by_topic_gender_socsci.append(group_dist)\n"
     ]
    }
   ],
   "source": [
    "marginal_by_topic_gender_socsci = pd.DataFrame()\n",
    "for carnegie_group in tqdm(university_groups):\n",
    "    group_dist = df_merge.groupby(carnegie_group).apply(get_marginal_by_topic_gender).reset_index(level=carnegie_group).reset_index(drop=True)\n",
    "    # group_n = df_merge.groupby(carnegie_group).id_art.count().reset_index(level=carnegie_group).reset_index(drop=True).rename(columns={'id_art':'n'})\n",
    "    # group_dist = group_dist.merge(group_n, on = carnegie_group)\n",
    "    # group_dist[race_gender_groups] = group_dist[race_gender_groups].multiply(group_dist.n,axis=0)/group_n.n.sum()\n",
    "    marginal_by_topic_gender_socsci = marginal_by_topic_gender_socsci.append(group_dist)\n"
   ]
  },
  {
   "cell_type": "code",
   "execution_count": 46,
   "id": "becfb493-6cfd-4523-ad86-6df8b5542628",
   "metadata": {},
   "outputs": [],
   "source": [
    "marginal_by_topic_gender_socsci = marginal_by_topic_gender_socsci.melt(['topic', 'white_M', 'hispanic_M', 'black_M', 'asian_M', 'white_F',\n",
    "       'hispanic_F', 'black_F', 'asian_F'],var_name='carnegie_group',value_name='carnegie_tag').dropna()"
   ]
  },
  {
   "cell_type": "code",
   "execution_count": 47,
   "id": "ace0b89b-ef5f-4871-a7a8-3f68f3e682c4",
   "metadata": {},
   "outputs": [],
   "source": [
    "marginal_by_topic_gender_socsci.to_csv('../../results/institutions_topics/marginal_by_topic_gender_socsci.csv', index=False)"
   ]
  },
  {
   "cell_type": "code",
   "execution_count": 48,
   "id": "8b1ac571-fe0b-436a-8e13-1d1954289414",
   "metadata": {},
   "outputs": [
    {
     "data": {
      "text/html": [
       "<div>\n",
       "<style scoped>\n",
       "    .dataframe tbody tr th:only-of-type {\n",
       "        vertical-align: middle;\n",
       "    }\n",
       "\n",
       "    .dataframe tbody tr th {\n",
       "        vertical-align: top;\n",
       "    }\n",
       "\n",
       "    .dataframe thead th {\n",
       "        text-align: right;\n",
       "    }\n",
       "</style>\n",
       "<table border=\"1\" class=\"dataframe\">\n",
       "  <thead>\n",
       "    <tr style=\"text-align: right;\">\n",
       "      <th></th>\n",
       "      <th>topic</th>\n",
       "      <th>white_M</th>\n",
       "      <th>hispanic_M</th>\n",
       "      <th>black_M</th>\n",
       "      <th>asian_M</th>\n",
       "      <th>white_F</th>\n",
       "      <th>hispanic_F</th>\n",
       "      <th>black_F</th>\n",
       "      <th>asian_F</th>\n",
       "      <th>carnegie_group</th>\n",
       "      <th>carnegie_tag</th>\n",
       "    </tr>\n",
       "  </thead>\n",
       "  <tbody>\n",
       "    <tr>\n",
       "      <th>142800</th>\n",
       "      <td>1</td>\n",
       "      <td>0.290296</td>\n",
       "      <td>0.025831</td>\n",
       "      <td>0.034135</td>\n",
       "      <td>0.044330</td>\n",
       "      <td>0.452329</td>\n",
       "      <td>0.034022</td>\n",
       "      <td>0.059236</td>\n",
       "      <td>0.059821</td>\n",
       "      <td>usnr_rank_cat</td>\n",
       "      <td>top_10</td>\n",
       "    </tr>\n",
       "    <tr>\n",
       "      <th>142801</th>\n",
       "      <td>2</td>\n",
       "      <td>0.500576</td>\n",
       "      <td>0.043301</td>\n",
       "      <td>0.053817</td>\n",
       "      <td>0.093292</td>\n",
       "      <td>0.210019</td>\n",
       "      <td>0.018688</td>\n",
       "      <td>0.024670</td>\n",
       "      <td>0.055636</td>\n",
       "      <td>usnr_rank_cat</td>\n",
       "      <td>top_10</td>\n",
       "    </tr>\n",
       "    <tr>\n",
       "      <th>142802</th>\n",
       "      <td>3</td>\n",
       "      <td>0.458450</td>\n",
       "      <td>0.036911</td>\n",
       "      <td>0.050724</td>\n",
       "      <td>0.094212</td>\n",
       "      <td>0.255823</td>\n",
       "      <td>0.021745</td>\n",
       "      <td>0.027893</td>\n",
       "      <td>0.054241</td>\n",
       "      <td>usnr_rank_cat</td>\n",
       "      <td>top_10</td>\n",
       "    </tr>\n",
       "    <tr>\n",
       "      <th>142803</th>\n",
       "      <td>4</td>\n",
       "      <td>0.531305</td>\n",
       "      <td>0.049091</td>\n",
       "      <td>0.064924</td>\n",
       "      <td>0.092866</td>\n",
       "      <td>0.179512</td>\n",
       "      <td>0.012389</td>\n",
       "      <td>0.023843</td>\n",
       "      <td>0.046069</td>\n",
       "      <td>usnr_rank_cat</td>\n",
       "      <td>top_10</td>\n",
       "    </tr>\n",
       "    <tr>\n",
       "      <th>142804</th>\n",
       "      <td>5</td>\n",
       "      <td>0.506408</td>\n",
       "      <td>0.045949</td>\n",
       "      <td>0.054823</td>\n",
       "      <td>0.104826</td>\n",
       "      <td>0.208693</td>\n",
       "      <td>0.017039</td>\n",
       "      <td>0.024046</td>\n",
       "      <td>0.038217</td>\n",
       "      <td>usnr_rank_cat</td>\n",
       "      <td>top_10</td>\n",
       "    </tr>\n",
       "    <tr>\n",
       "      <th>...</th>\n",
       "      <td>...</td>\n",
       "      <td>...</td>\n",
       "      <td>...</td>\n",
       "      <td>...</td>\n",
       "      <td>...</td>\n",
       "      <td>...</td>\n",
       "      <td>...</td>\n",
       "      <td>...</td>\n",
       "      <td>...</td>\n",
       "      <td>...</td>\n",
       "      <td>...</td>\n",
       "    </tr>\n",
       "    <tr>\n",
       "      <th>143095</th>\n",
       "      <td>296</td>\n",
       "      <td>0.509969</td>\n",
       "      <td>0.043898</td>\n",
       "      <td>0.057284</td>\n",
       "      <td>0.108290</td>\n",
       "      <td>0.190035</td>\n",
       "      <td>0.016479</td>\n",
       "      <td>0.024179</td>\n",
       "      <td>0.049867</td>\n",
       "      <td>usnr_rank_cat</td>\n",
       "      <td>top_10</td>\n",
       "    </tr>\n",
       "    <tr>\n",
       "      <th>143096</th>\n",
       "      <td>297</td>\n",
       "      <td>0.517268</td>\n",
       "      <td>0.041742</td>\n",
       "      <td>0.062165</td>\n",
       "      <td>0.115103</td>\n",
       "      <td>0.168970</td>\n",
       "      <td>0.012091</td>\n",
       "      <td>0.019562</td>\n",
       "      <td>0.063098</td>\n",
       "      <td>usnr_rank_cat</td>\n",
       "      <td>top_10</td>\n",
       "    </tr>\n",
       "    <tr>\n",
       "      <th>143097</th>\n",
       "      <td>298</td>\n",
       "      <td>0.446272</td>\n",
       "      <td>0.036973</td>\n",
       "      <td>0.051569</td>\n",
       "      <td>0.125083</td>\n",
       "      <td>0.233238</td>\n",
       "      <td>0.017598</td>\n",
       "      <td>0.026641</td>\n",
       "      <td>0.062626</td>\n",
       "      <td>usnr_rank_cat</td>\n",
       "      <td>top_10</td>\n",
       "    </tr>\n",
       "    <tr>\n",
       "      <th>143098</th>\n",
       "      <td>299</td>\n",
       "      <td>0.471132</td>\n",
       "      <td>0.039686</td>\n",
       "      <td>0.052314</td>\n",
       "      <td>0.087459</td>\n",
       "      <td>0.251095</td>\n",
       "      <td>0.024037</td>\n",
       "      <td>0.030815</td>\n",
       "      <td>0.043461</td>\n",
       "      <td>usnr_rank_cat</td>\n",
       "      <td>top_10</td>\n",
       "    </tr>\n",
       "    <tr>\n",
       "      <th>143099</th>\n",
       "      <td>300</td>\n",
       "      <td>0.466999</td>\n",
       "      <td>0.046068</td>\n",
       "      <td>0.051867</td>\n",
       "      <td>0.098672</td>\n",
       "      <td>0.235874</td>\n",
       "      <td>0.020502</td>\n",
       "      <td>0.030020</td>\n",
       "      <td>0.049999</td>\n",
       "      <td>usnr_rank_cat</td>\n",
       "      <td>top_10</td>\n",
       "    </tr>\n",
       "  </tbody>\n",
       "</table>\n",
       "<p>300 rows × 11 columns</p>\n",
       "</div>"
      ],
      "text/plain": [
       "        topic   white_M  hispanic_M   black_M   asian_M   white_F  hispanic_F  \\\n",
       "142800      1  0.290296    0.025831  0.034135  0.044330  0.452329    0.034022   \n",
       "142801      2  0.500576    0.043301  0.053817  0.093292  0.210019    0.018688   \n",
       "142802      3  0.458450    0.036911  0.050724  0.094212  0.255823    0.021745   \n",
       "142803      4  0.531305    0.049091  0.064924  0.092866  0.179512    0.012389   \n",
       "142804      5  0.506408    0.045949  0.054823  0.104826  0.208693    0.017039   \n",
       "...       ...       ...         ...       ...       ...       ...         ...   \n",
       "143095    296  0.509969    0.043898  0.057284  0.108290  0.190035    0.016479   \n",
       "143096    297  0.517268    0.041742  0.062165  0.115103  0.168970    0.012091   \n",
       "143097    298  0.446272    0.036973  0.051569  0.125083  0.233238    0.017598   \n",
       "143098    299  0.471132    0.039686  0.052314  0.087459  0.251095    0.024037   \n",
       "143099    300  0.466999    0.046068  0.051867  0.098672  0.235874    0.020502   \n",
       "\n",
       "         black_F   asian_F carnegie_group carnegie_tag  \n",
       "142800  0.059236  0.059821  usnr_rank_cat       top_10  \n",
       "142801  0.024670  0.055636  usnr_rank_cat       top_10  \n",
       "142802  0.027893  0.054241  usnr_rank_cat       top_10  \n",
       "142803  0.023843  0.046069  usnr_rank_cat       top_10  \n",
       "142804  0.024046  0.038217  usnr_rank_cat       top_10  \n",
       "...          ...       ...            ...          ...  \n",
       "143095  0.024179  0.049867  usnr_rank_cat       top_10  \n",
       "143096  0.019562  0.063098  usnr_rank_cat       top_10  \n",
       "143097  0.026641  0.062626  usnr_rank_cat       top_10  \n",
       "143098  0.030815  0.043461  usnr_rank_cat       top_10  \n",
       "143099  0.030020  0.049999  usnr_rank_cat       top_10  \n",
       "\n",
       "[300 rows x 11 columns]"
      ]
     },
     "execution_count": 48,
     "metadata": {},
     "output_type": "execute_result"
    }
   ],
   "source": [
    "marginal_by_topic_gender_socsci[marginal_by_topic_gender_socsci.carnegie_tag=='top_10']"
   ]
  },
  {
   "cell_type": "markdown",
   "id": "ff5f1e6f-1bf5-48eb-b25d-2b5e58477b01",
   "metadata": {},
   "source": [
    "# Health"
   ]
  },
  {
   "cell_type": "markdown",
   "id": "bcf89c7b-7200-48e5-890b-1f764559ba69",
   "metadata": {},
   "source": [
    "## Topics by rg on institutions "
   ]
  },
  {
   "cell_type": "code",
   "execution_count": 49,
   "id": "d56e4cec-ab54-4499-acbb-4ec391a5ffb3",
   "metadata": {},
   "outputs": [
    {
     "data": {
      "text/plain": [
       "(123472, 201)"
      ]
     },
     "execution_count": 49,
     "metadata": {},
     "output_type": "execute_result"
    }
   ],
   "source": [
    "doc_dist_health.shape"
   ]
  },
  {
   "cell_type": "code",
   "execution_count": 50,
   "id": "9a52818d-1b53-4bae-889b-485a8fb2ebf7",
   "metadata": {},
   "outputs": [
    {
     "data": {
      "text/plain": [
       "(123472, 23)"
      ]
     },
     "execution_count": 50,
     "metadata": {},
     "output_type": "execute_result"
    }
   ],
   "source": [
    "df_health_race.shape"
   ]
  },
  {
   "cell_type": "code",
   "execution_count": 51,
   "id": "53361a7e-4653-47a5-beca-6b760cb09125",
   "metadata": {},
   "outputs": [],
   "source": [
    "df_race = df_health_race"
   ]
  },
  {
   "cell_type": "code",
   "execution_count": 52,
   "id": "3d523738-eecd-4fd8-999c-0305360272ff",
   "metadata": {},
   "outputs": [],
   "source": [
    "doc_dist = doc_dist_health"
   ]
  },
  {
   "cell_type": "code",
   "execution_count": 53,
   "id": "543f1b2e-626d-435a-8d9c-1540939db5b2",
   "metadata": {},
   "outputs": [],
   "source": [
    "joint_prob_gender, marginal_by_topic_gender, marginal_by_group_gender, dist_diff_topic_gender = intersect_by_gender(df_health_race, doc_dist_health)"
   ]
  },
  {
   "cell_type": "markdown",
   "id": "d47e9fe9-fdf8-4153-9320-6a2ab1b43e83",
   "metadata": {},
   "source": [
    "# dist_diff_topic for each Carnegie group"
   ]
  },
  {
   "cell_type": "code",
   "execution_count": 54,
   "id": "74abbf53-a6b8-422f-af73-e9767faf785d",
   "metadata": {},
   "outputs": [],
   "source": [
    "university_groups = ['r1', 'control', 'obereg', 'hbcu', 'hsi', 'msi', 'womens', 'selindex',\n",
    "                    'usnr_rank_cat','Top10CR_Q','Top5CR_Q','Top1CR_Q','impact_Q','avg_citations_Q','avg_citations_Q10']\n",
    "topics_col = ['topic_'+ str(x) for x in range(1,201)]\n",
    "race_groups = ['white','hispanic','black','asian']\n"
   ]
  },
  {
   "cell_type": "code",
   "execution_count": 55,
   "id": "346b3f53-6cbc-44fe-b559-98ad0ebfc0a3",
   "metadata": {},
   "outputs": [],
   "source": [
    "df_merge_health = df_health_race.merge(address_clean, left_on=['id_art','cluster_ID'], right_on= ['id_art','cluster_id'])\n",
    "df_merge_health= df_merge_health.merge(doc_dist_health,on='id_art')\n"
   ]
  },
  {
   "cell_type": "code",
   "execution_count": 56,
   "id": "d379dd2c-5c57-44d6-ade6-36c773306e11",
   "metadata": {},
   "outputs": [
    {
     "name": "stderr",
     "output_type": "stream",
     "text": [
      "/tmp/ipykernel_1364/1386398765.py:4: FutureWarning: The frame.append method is deprecated and will be removed from pandas in a future version. Use pandas.concat instead.\n",
      "  groups_dist_diff_health = groups_dist_diff_health.append(agg_res)\n",
      "/tmp/ipykernel_1364/1386398765.py:4: FutureWarning: The frame.append method is deprecated and will be removed from pandas in a future version. Use pandas.concat instead.\n",
      "  groups_dist_diff_health = groups_dist_diff_health.append(agg_res)\n",
      "/tmp/ipykernel_1364/1386398765.py:4: FutureWarning: The frame.append method is deprecated and will be removed from pandas in a future version. Use pandas.concat instead.\n",
      "  groups_dist_diff_health = groups_dist_diff_health.append(agg_res)\n",
      "/tmp/ipykernel_1364/1386398765.py:4: FutureWarning: The frame.append method is deprecated and will be removed from pandas in a future version. Use pandas.concat instead.\n",
      "  groups_dist_diff_health = groups_dist_diff_health.append(agg_res)\n",
      "/tmp/ipykernel_1364/1386398765.py:4: FutureWarning: The frame.append method is deprecated and will be removed from pandas in a future version. Use pandas.concat instead.\n",
      "  groups_dist_diff_health = groups_dist_diff_health.append(agg_res)\n",
      "/tmp/ipykernel_1364/1386398765.py:4: FutureWarning: The frame.append method is deprecated and will be removed from pandas in a future version. Use pandas.concat instead.\n",
      "  groups_dist_diff_health = groups_dist_diff_health.append(agg_res)\n",
      "/tmp/ipykernel_1364/1386398765.py:4: FutureWarning: The frame.append method is deprecated and will be removed from pandas in a future version. Use pandas.concat instead.\n",
      "  groups_dist_diff_health = groups_dist_diff_health.append(agg_res)\n",
      "/tmp/ipykernel_1364/1386398765.py:4: FutureWarning: The frame.append method is deprecated and will be removed from pandas in a future version. Use pandas.concat instead.\n",
      "  groups_dist_diff_health = groups_dist_diff_health.append(agg_res)\n",
      "/tmp/ipykernel_1364/1386398765.py:4: FutureWarning: The frame.append method is deprecated and will be removed from pandas in a future version. Use pandas.concat instead.\n",
      "  groups_dist_diff_health = groups_dist_diff_health.append(agg_res)\n",
      "/tmp/ipykernel_1364/1386398765.py:4: FutureWarning: The frame.append method is deprecated and will be removed from pandas in a future version. Use pandas.concat instead.\n",
      "  groups_dist_diff_health = groups_dist_diff_health.append(agg_res)\n",
      "/tmp/ipykernel_1364/1386398765.py:4: FutureWarning: The frame.append method is deprecated and will be removed from pandas in a future version. Use pandas.concat instead.\n",
      "  groups_dist_diff_health = groups_dist_diff_health.append(agg_res)\n",
      "/tmp/ipykernel_1364/1386398765.py:4: FutureWarning: The frame.append method is deprecated and will be removed from pandas in a future version. Use pandas.concat instead.\n",
      "  groups_dist_diff_health = groups_dist_diff_health.append(agg_res)\n",
      "/tmp/ipykernel_1364/1386398765.py:4: FutureWarning: The frame.append method is deprecated and will be removed from pandas in a future version. Use pandas.concat instead.\n",
      "  groups_dist_diff_health = groups_dist_diff_health.append(agg_res)\n",
      "/tmp/ipykernel_1364/1386398765.py:4: FutureWarning: The frame.append method is deprecated and will be removed from pandas in a future version. Use pandas.concat instead.\n",
      "  groups_dist_diff_health = groups_dist_diff_health.append(agg_res)\n",
      "/tmp/ipykernel_1364/1386398765.py:4: FutureWarning: The frame.append method is deprecated and will be removed from pandas in a future version. Use pandas.concat instead.\n",
      "  groups_dist_diff_health = groups_dist_diff_health.append(agg_res)\n"
     ]
    }
   ],
   "source": [
    "groups_dist_diff_health = pd.DataFrame()\n",
    "for carnegie_group in university_groups:\n",
    "    agg_res = df_merge_health.groupby(carnegie_group).apply(group_dist_diff).reset_index(level=carnegie_group).reset_index(drop=True)\n",
    "    groups_dist_diff_health = groups_dist_diff_health.append(agg_res)\n"
   ]
  },
  {
   "cell_type": "code",
   "execution_count": 57,
   "id": "9e869091-db9f-4846-9eb6-da96bc4dd05a",
   "metadata": {},
   "outputs": [],
   "source": [
    "groups_dist_diff_health = groups_dist_diff_health.melt(['topic', 'white_M', 'hispanic_M', 'black_M', 'asian_M', 'white_F',\n",
    "       'hispanic_F', 'black_F', 'asian_F'],var_name='carnegie_group',value_name='carnegie_tag').dropna()"
   ]
  },
  {
   "cell_type": "code",
   "execution_count": 58,
   "id": "c3f4b0d2-b29c-4666-aab7-94f2f0166ee3",
   "metadata": {},
   "outputs": [],
   "source": [
    "groups_dist_diff_health.to_csv('../../results/institutions_topics/rg_carnegie_topic_dist_health.csv',index=False)"
   ]
  },
  {
   "cell_type": "markdown",
   "id": "fb6496e4-9986-4911-aa2c-a8b3d1eb4b4d",
   "metadata": {},
   "source": [
    "## Carnegie groups proportion in topics"
   ]
  },
  {
   "cell_type": "code",
   "execution_count": 59,
   "id": "c64f5e94-9005-48e1-950a-a69776a3f421",
   "metadata": {},
   "outputs": [
    {
     "name": "stderr",
     "output_type": "stream",
     "text": [
      "/tmp/ipykernel_1364/2041002196.py:5: FutureWarning: The frame.append method is deprecated and will be removed from pandas in a future version. Use pandas.concat instead.\n",
      "  university_groups_prop_health = university_groups_prop_health.append(university_groups_prop_topic)\n",
      "/tmp/ipykernel_1364/2041002196.py:5: FutureWarning: The frame.append method is deprecated and will be removed from pandas in a future version. Use pandas.concat instead.\n",
      "  university_groups_prop_health = university_groups_prop_health.append(university_groups_prop_topic)\n",
      "/tmp/ipykernel_1364/2041002196.py:5: FutureWarning: The frame.append method is deprecated and will be removed from pandas in a future version. Use pandas.concat instead.\n",
      "  university_groups_prop_health = university_groups_prop_health.append(university_groups_prop_topic)\n",
      "/tmp/ipykernel_1364/2041002196.py:5: FutureWarning: The frame.append method is deprecated and will be removed from pandas in a future version. Use pandas.concat instead.\n",
      "  university_groups_prop_health = university_groups_prop_health.append(university_groups_prop_topic)\n",
      "/tmp/ipykernel_1364/2041002196.py:5: FutureWarning: The frame.append method is deprecated and will be removed from pandas in a future version. Use pandas.concat instead.\n",
      "  university_groups_prop_health = university_groups_prop_health.append(university_groups_prop_topic)\n",
      "/tmp/ipykernel_1364/2041002196.py:5: FutureWarning: The frame.append method is deprecated and will be removed from pandas in a future version. Use pandas.concat instead.\n",
      "  university_groups_prop_health = university_groups_prop_health.append(university_groups_prop_topic)\n",
      "/tmp/ipykernel_1364/2041002196.py:5: FutureWarning: The frame.append method is deprecated and will be removed from pandas in a future version. Use pandas.concat instead.\n",
      "  university_groups_prop_health = university_groups_prop_health.append(university_groups_prop_topic)\n",
      "/tmp/ipykernel_1364/2041002196.py:5: FutureWarning: The frame.append method is deprecated and will be removed from pandas in a future version. Use pandas.concat instead.\n",
      "  university_groups_prop_health = university_groups_prop_health.append(university_groups_prop_topic)\n",
      "/tmp/ipykernel_1364/2041002196.py:5: FutureWarning: The frame.append method is deprecated and will be removed from pandas in a future version. Use pandas.concat instead.\n",
      "  university_groups_prop_health = university_groups_prop_health.append(university_groups_prop_topic)\n",
      "/tmp/ipykernel_1364/2041002196.py:5: FutureWarning: The frame.append method is deprecated and will be removed from pandas in a future version. Use pandas.concat instead.\n",
      "  university_groups_prop_health = university_groups_prop_health.append(university_groups_prop_topic)\n",
      "/tmp/ipykernel_1364/2041002196.py:5: FutureWarning: The frame.append method is deprecated and will be removed from pandas in a future version. Use pandas.concat instead.\n",
      "  university_groups_prop_health = university_groups_prop_health.append(university_groups_prop_topic)\n",
      "/tmp/ipykernel_1364/2041002196.py:5: FutureWarning: The frame.append method is deprecated and will be removed from pandas in a future version. Use pandas.concat instead.\n",
      "  university_groups_prop_health = university_groups_prop_health.append(university_groups_prop_topic)\n",
      "/tmp/ipykernel_1364/2041002196.py:5: FutureWarning: The frame.append method is deprecated and will be removed from pandas in a future version. Use pandas.concat instead.\n",
      "  university_groups_prop_health = university_groups_prop_health.append(university_groups_prop_topic)\n",
      "/tmp/ipykernel_1364/2041002196.py:5: FutureWarning: The frame.append method is deprecated and will be removed from pandas in a future version. Use pandas.concat instead.\n",
      "  university_groups_prop_health = university_groups_prop_health.append(university_groups_prop_topic)\n",
      "/tmp/ipykernel_1364/2041002196.py:5: FutureWarning: The frame.append method is deprecated and will be removed from pandas in a future version. Use pandas.concat instead.\n",
      "  university_groups_prop_health = university_groups_prop_health.append(university_groups_prop_topic)\n"
     ]
    }
   ],
   "source": [
    "university_groups_prop_health = pd.DataFrame()\n",
    "for carnegie_group in university_groups:\n",
    "    df_group = df_merge_health.groupby(carnegie_group)[topics_col].sum()\n",
    "    university_groups_prop_topic = df_group.div(df_group.sum(axis=0), axis=1).reset_index(level=carnegie_group)\n",
    "    university_groups_prop_health = university_groups_prop_health.append(university_groups_prop_topic)\n"
   ]
  },
  {
   "cell_type": "code",
   "execution_count": 60,
   "id": "57e9e9ba-ce09-4bdd-845f-dae2d11ba08a",
   "metadata": {},
   "outputs": [],
   "source": [
    "university_groups_prop_health = university_groups_prop_health.melt(id_vars=topics_col,var_name='carnegie_group',value_name='carnegie_tag').dropna()"
   ]
  },
  {
   "cell_type": "code",
   "execution_count": 61,
   "id": "b041c3b9-58aa-47e7-9932-fe892cfbfea4",
   "metadata": {},
   "outputs": [],
   "source": [
    "university_groups_prop_health.to_csv('../../results/institutions_topics/topic_prop_by_university_groups_health.csv', index=False)"
   ]
  },
  {
   "cell_type": "markdown",
   "id": "eb4a5073-3ce2-4f7d-9bf9-7a67d12d22b6",
   "metadata": {},
   "source": [
    "## Topic proportion by race, gender and institution"
   ]
  },
  {
   "cell_type": "code",
   "execution_count": 62,
   "id": "8746b6d7-582d-453a-b503-cc2cd9137052",
   "metadata": {},
   "outputs": [],
   "source": [
    "# groups_prop_health = pd.DataFrame()\n",
    "# for carnegie_group in university_groups:\n",
    "#     agg_res = df_merge_health.groupby(carnegie_group).apply(marginal_by_topic_gender).reset_index(level=carnegie_group).reset_index(drop=True)\n",
    "#     groups_prop_health = groups_prop_health.append(agg_res)\n",
    "\n",
    "\n",
    "# topics_rg_institutions_prop_health = groups_prop_health.melt(['topic', 'white_M', 'hispanic_M', 'black_M', 'asian_M', 'white_F',\n",
    "#        'hispanic_F', 'black_F', 'asian_F'],var_name='carnegie_group',value_name='carnegie_tag').dropna()"
   ]
  },
  {
   "cell_type": "code",
   "execution_count": 63,
   "id": "376c6c4a-dafe-4a7d-8d21-fee77809a617",
   "metadata": {},
   "outputs": [
    {
     "data": {
      "application/vnd.jupyter.widget-view+json": {
       "model_id": "adf3778735934670a54cbea66abbda41",
       "version_major": 2,
       "version_minor": 0
      },
      "text/plain": [
       "  0%|          | 0/15 [00:00<?, ?it/s]"
      ]
     },
     "metadata": {},
     "output_type": "display_data"
    },
    {
     "name": "stderr",
     "output_type": "stream",
     "text": [
      "/tmp/ipykernel_1364/3547757348.py:7: FutureWarning: The frame.append method is deprecated and will be removed from pandas in a future version. Use pandas.concat instead.\n",
      "  marginal_by_group_gender_health = marginal_by_group_gender_health.append(group_dist)\n",
      "/tmp/ipykernel_1364/3547757348.py:7: FutureWarning: The frame.append method is deprecated and will be removed from pandas in a future version. Use pandas.concat instead.\n",
      "  marginal_by_group_gender_health = marginal_by_group_gender_health.append(group_dist)\n",
      "/tmp/ipykernel_1364/3547757348.py:7: FutureWarning: The frame.append method is deprecated and will be removed from pandas in a future version. Use pandas.concat instead.\n",
      "  marginal_by_group_gender_health = marginal_by_group_gender_health.append(group_dist)\n",
      "/tmp/ipykernel_1364/3547757348.py:7: FutureWarning: The frame.append method is deprecated and will be removed from pandas in a future version. Use pandas.concat instead.\n",
      "  marginal_by_group_gender_health = marginal_by_group_gender_health.append(group_dist)\n",
      "/tmp/ipykernel_1364/3547757348.py:7: FutureWarning: The frame.append method is deprecated and will be removed from pandas in a future version. Use pandas.concat instead.\n",
      "  marginal_by_group_gender_health = marginal_by_group_gender_health.append(group_dist)\n",
      "/tmp/ipykernel_1364/3547757348.py:7: FutureWarning: The frame.append method is deprecated and will be removed from pandas in a future version. Use pandas.concat instead.\n",
      "  marginal_by_group_gender_health = marginal_by_group_gender_health.append(group_dist)\n",
      "/tmp/ipykernel_1364/3547757348.py:7: FutureWarning: The frame.append method is deprecated and will be removed from pandas in a future version. Use pandas.concat instead.\n",
      "  marginal_by_group_gender_health = marginal_by_group_gender_health.append(group_dist)\n",
      "/tmp/ipykernel_1364/3547757348.py:7: FutureWarning: The frame.append method is deprecated and will be removed from pandas in a future version. Use pandas.concat instead.\n",
      "  marginal_by_group_gender_health = marginal_by_group_gender_health.append(group_dist)\n",
      "/tmp/ipykernel_1364/3547757348.py:7: FutureWarning: The frame.append method is deprecated and will be removed from pandas in a future version. Use pandas.concat instead.\n",
      "  marginal_by_group_gender_health = marginal_by_group_gender_health.append(group_dist)\n",
      "/tmp/ipykernel_1364/3547757348.py:7: FutureWarning: The frame.append method is deprecated and will be removed from pandas in a future version. Use pandas.concat instead.\n",
      "  marginal_by_group_gender_health = marginal_by_group_gender_health.append(group_dist)\n",
      "/tmp/ipykernel_1364/3547757348.py:7: FutureWarning: The frame.append method is deprecated and will be removed from pandas in a future version. Use pandas.concat instead.\n",
      "  marginal_by_group_gender_health = marginal_by_group_gender_health.append(group_dist)\n",
      "/tmp/ipykernel_1364/3547757348.py:7: FutureWarning: The frame.append method is deprecated and will be removed from pandas in a future version. Use pandas.concat instead.\n",
      "  marginal_by_group_gender_health = marginal_by_group_gender_health.append(group_dist)\n",
      "/tmp/ipykernel_1364/3547757348.py:7: FutureWarning: The frame.append method is deprecated and will be removed from pandas in a future version. Use pandas.concat instead.\n",
      "  marginal_by_group_gender_health = marginal_by_group_gender_health.append(group_dist)\n",
      "/tmp/ipykernel_1364/3547757348.py:7: FutureWarning: The frame.append method is deprecated and will be removed from pandas in a future version. Use pandas.concat instead.\n",
      "  marginal_by_group_gender_health = marginal_by_group_gender_health.append(group_dist)\n",
      "/tmp/ipykernel_1364/3547757348.py:7: FutureWarning: The frame.append method is deprecated and will be removed from pandas in a future version. Use pandas.concat instead.\n",
      "  marginal_by_group_gender_health = marginal_by_group_gender_health.append(group_dist)\n"
     ]
    }
   ],
   "source": [
    "marginal_by_group_gender_health = pd.DataFrame()\n",
    "for carnegie_group in tqdm(university_groups):\n",
    "    group_dist = df_merge_health.groupby(carnegie_group).apply(get_marginal_by_group_gender).reset_index(level=carnegie_group).reset_index(drop=True)\n",
    "    # group_n = df_merge.groupby(carnegie_group).id_art.count().reset_index(level=carnegie_group).reset_index(drop=True).rename(columns={'id_art':'n'})\n",
    "    # group_dist = group_dist.merge(group_n, on = carnegie_group)\n",
    "    # group_dist[race_gender_groups] = group_dist[race_gender_groups].multiply(group_dist.n,axis=0)/group_n.n.sum()\n",
    "    marginal_by_group_gender_health = marginal_by_group_gender_health.append(group_dist)\n"
   ]
  },
  {
   "cell_type": "code",
   "execution_count": 64,
   "id": "8c5bf2e3-869b-4504-b366-6ffa4832fdb5",
   "metadata": {},
   "outputs": [],
   "source": [
    "marginal_by_group_gender_health = marginal_by_group_gender_health.melt(['topic', 'white_M', 'hispanic_M', 'black_M', 'asian_M', 'white_F',\n",
    "       'hispanic_F', 'black_F', 'asian_F'],var_name='carnegie_group',value_name='carnegie_tag').dropna()"
   ]
  },
  {
   "cell_type": "code",
   "execution_count": 65,
   "id": "943549fa-6810-4b59-ae29-1929015d4662",
   "metadata": {},
   "outputs": [],
   "source": [
    "marginal_by_group_gender_health.to_csv('../../results/institutions_topics/marginal_by_group_gender_health.csv', index=False)"
   ]
  },
  {
   "cell_type": "code",
   "execution_count": 66,
   "id": "8ed1016e-0cc7-4dbc-ab20-e6938165b45c",
   "metadata": {},
   "outputs": [
    {
     "data": {
      "application/vnd.jupyter.widget-view+json": {
       "model_id": "dd152504dbe845fa88c89f1c4c97d5bd",
       "version_major": 2,
       "version_minor": 0
      },
      "text/plain": [
       "  0%|          | 0/15 [00:00<?, ?it/s]"
      ]
     },
     "metadata": {},
     "output_type": "display_data"
    },
    {
     "name": "stderr",
     "output_type": "stream",
     "text": [
      "/tmp/ipykernel_1364/88063784.py:7: FutureWarning: The frame.append method is deprecated and will be removed from pandas in a future version. Use pandas.concat instead.\n",
      "  marginal_by_topic_gender_health = marginal_by_topic_gender_health.append(group_dist)\n",
      "/tmp/ipykernel_1364/88063784.py:7: FutureWarning: The frame.append method is deprecated and will be removed from pandas in a future version. Use pandas.concat instead.\n",
      "  marginal_by_topic_gender_health = marginal_by_topic_gender_health.append(group_dist)\n",
      "/tmp/ipykernel_1364/88063784.py:7: FutureWarning: The frame.append method is deprecated and will be removed from pandas in a future version. Use pandas.concat instead.\n",
      "  marginal_by_topic_gender_health = marginal_by_topic_gender_health.append(group_dist)\n",
      "/tmp/ipykernel_1364/88063784.py:7: FutureWarning: The frame.append method is deprecated and will be removed from pandas in a future version. Use pandas.concat instead.\n",
      "  marginal_by_topic_gender_health = marginal_by_topic_gender_health.append(group_dist)\n",
      "/tmp/ipykernel_1364/88063784.py:7: FutureWarning: The frame.append method is deprecated and will be removed from pandas in a future version. Use pandas.concat instead.\n",
      "  marginal_by_topic_gender_health = marginal_by_topic_gender_health.append(group_dist)\n",
      "/tmp/ipykernel_1364/88063784.py:7: FutureWarning: The frame.append method is deprecated and will be removed from pandas in a future version. Use pandas.concat instead.\n",
      "  marginal_by_topic_gender_health = marginal_by_topic_gender_health.append(group_dist)\n",
      "/tmp/ipykernel_1364/88063784.py:7: FutureWarning: The frame.append method is deprecated and will be removed from pandas in a future version. Use pandas.concat instead.\n",
      "  marginal_by_topic_gender_health = marginal_by_topic_gender_health.append(group_dist)\n",
      "/tmp/ipykernel_1364/88063784.py:7: FutureWarning: The frame.append method is deprecated and will be removed from pandas in a future version. Use pandas.concat instead.\n",
      "  marginal_by_topic_gender_health = marginal_by_topic_gender_health.append(group_dist)\n",
      "/tmp/ipykernel_1364/88063784.py:7: FutureWarning: The frame.append method is deprecated and will be removed from pandas in a future version. Use pandas.concat instead.\n",
      "  marginal_by_topic_gender_health = marginal_by_topic_gender_health.append(group_dist)\n",
      "/tmp/ipykernel_1364/88063784.py:7: FutureWarning: The frame.append method is deprecated and will be removed from pandas in a future version. Use pandas.concat instead.\n",
      "  marginal_by_topic_gender_health = marginal_by_topic_gender_health.append(group_dist)\n",
      "/tmp/ipykernel_1364/88063784.py:7: FutureWarning: The frame.append method is deprecated and will be removed from pandas in a future version. Use pandas.concat instead.\n",
      "  marginal_by_topic_gender_health = marginal_by_topic_gender_health.append(group_dist)\n",
      "/tmp/ipykernel_1364/88063784.py:7: FutureWarning: The frame.append method is deprecated and will be removed from pandas in a future version. Use pandas.concat instead.\n",
      "  marginal_by_topic_gender_health = marginal_by_topic_gender_health.append(group_dist)\n",
      "/tmp/ipykernel_1364/88063784.py:7: FutureWarning: The frame.append method is deprecated and will be removed from pandas in a future version. Use pandas.concat instead.\n",
      "  marginal_by_topic_gender_health = marginal_by_topic_gender_health.append(group_dist)\n",
      "/tmp/ipykernel_1364/88063784.py:7: FutureWarning: The frame.append method is deprecated and will be removed from pandas in a future version. Use pandas.concat instead.\n",
      "  marginal_by_topic_gender_health = marginal_by_topic_gender_health.append(group_dist)\n",
      "/tmp/ipykernel_1364/88063784.py:7: FutureWarning: The frame.append method is deprecated and will be removed from pandas in a future version. Use pandas.concat instead.\n",
      "  marginal_by_topic_gender_health = marginal_by_topic_gender_health.append(group_dist)\n"
     ]
    }
   ],
   "source": [
    "marginal_by_topic_gender_health = pd.DataFrame()\n",
    "for carnegie_group in tqdm(university_groups):\n",
    "    group_dist = df_merge_health.groupby(carnegie_group).apply(get_marginal_by_topic_gender).reset_index(level=carnegie_group).reset_index(drop=True)\n",
    "    # group_n = df_merge.groupby(carnegie_group).id_art.count().reset_index(level=carnegie_group).reset_index(drop=True).rename(columns={'id_art':'n'})\n",
    "    # group_dist = group_dist.merge(group_n, on = carnegie_group)\n",
    "    # group_dist[race_gender_groups] = group_dist[race_gender_groups].multiply(group_dist.n,axis=0)/group_n.n.sum()\n",
    "    marginal_by_topic_gender_health = marginal_by_topic_gender_health.append(group_dist)\n"
   ]
  },
  {
   "cell_type": "code",
   "execution_count": 67,
   "id": "f4a9e4ce-b1d6-41d3-b7c2-ded453602bf3",
   "metadata": {},
   "outputs": [],
   "source": [
    "marginal_by_topic_gender_health = marginal_by_topic_gender_health.melt(['topic', 'white_M', 'hispanic_M', 'black_M', 'asian_M', 'white_F',\n",
    "       'hispanic_F', 'black_F', 'asian_F'],var_name='carnegie_group',value_name='carnegie_tag').dropna()"
   ]
  },
  {
   "cell_type": "code",
   "execution_count": 68,
   "id": "332502a1-db46-4ea4-8295-3941516de03e",
   "metadata": {},
   "outputs": [],
   "source": [
    "marginal_by_topic_gender_health.to_csv('../../results/institutions_topics/marginal_by_topic_gender_health.csv', index=False)"
   ]
  },
  {
   "cell_type": "code",
   "execution_count": 69,
   "id": "d3841a8d-e098-41d8-b605-ec4fdc39a108",
   "metadata": {},
   "outputs": [],
   "source": [
    "# groups_join_prop_health = pd.DataFrame()\n",
    "# for carnegie_group in tqdm(university_groups):\n",
    "#     group_dist = df_merge_health.groupby(carnegie_group).apply(get_marginal_by_topic_gender).reset_index(level=carnegie_group).reset_index(drop=True)\n",
    "#     group_n = df_merge.groupby(carnegie_group).id_art.count().reset_index(level=carnegie_group).reset_index(drop=True).rename(columns={'id_art':'n'})\n",
    "#     group_dist = group_dist.merge(group_n, on = carnegie_group)\n",
    "#     group_dist[race_gender_groups] = group_dist[race_gender_groups].multiply(group_dist.n,axis=0)/group_n.n.sum()\n",
    "#     groups_join_prop_health = groups_join_prop_health.append(group_dist)\n",
    "\n",
    "\n",
    "# groups_join_prop_health = groups_join_prop_health.melt(['topic', 'white_M', 'hispanic_M', 'black_M', 'asian_M', 'white_F',\n",
    "#        'hispanic_F', 'black_F', 'asian_F'],var_name='carnegie_group',value_name='carnegie_tag').dropna()\n",
    "\n",
    "# groups_join_prop_health.to_csv('../../results/institutions_topics/topics_rg_institutions_prop_health.csv', index=False)"
   ]
  }
 ],
 "metadata": {
  "kernelspec": {
   "display_name": "Python 3 (ipykernel)",
   "language": "python",
   "name": "python3"
  },
  "language_info": {
   "codemirror_mode": {
    "name": "ipython",
    "version": 3
   },
   "file_extension": ".py",
   "mimetype": "text/x-python",
   "name": "python",
   "nbconvert_exporter": "python",
   "pygments_lexer": "ipython3",
   "version": "3.10.8"
  }
 },
 "nbformat": 4,
 "nbformat_minor": 5
}
