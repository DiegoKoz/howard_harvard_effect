{
 "cells": [
  {
   "cell_type": "markdown",
   "id": "3a507a03-fd60-4679-b3e1-403c38fab212",
   "metadata": {},
   "source": [
    "- topical profile of institutions\n",
    "- topical profile of race&gender group\n",
    "- cosine similarity between institutions and race and gender\n",
    "\n",
    "\n",
    "Institutions profile:\n",
    "\n",
    "2. R1 vs other\n",
    "3. public, private control\n",
    "4. Region\n",
    "5. HBCU\n",
    "7. HSI\n",
    "8. MSI\n",
    "9. Womens' college\n",
    "10. Selectivity index\n"
   ]
  },
  {
   "cell_type": "code",
   "execution_count": 1,
   "id": "d5a2154c-916f-4e87-81c9-04ae8f1909b0",
   "metadata": {},
   "outputs": [],
   "source": [
    "%config Completer.use_jedi = False"
   ]
  },
  {
   "cell_type": "code",
   "execution_count": 2,
   "id": "659f037d-910e-4f1d-b267-42176d3d7a98",
   "metadata": {},
   "outputs": [],
   "source": [
    "import pandas as pd\n",
    "import pickle\n",
    "# import pickle5 as pickle\n",
    "from tqdm.notebook import tqdm\n",
    "import numpy as np\n",
    "from sklearn.metrics.pairwise import cosine_similarity\n",
    "from libs.LastNamesInference import LastNamesInference"
   ]
  },
  {
   "cell_type": "code",
   "execution_count": 3,
   "id": "f7598853-447c-4218-bd0b-0228e90aa6e6",
   "metadata": {},
   "outputs": [],
   "source": [
    "df_socsci = pd.read_csv('/data/datasets//WOS/US/text_clean_socsci.txt')\n",
    "us_papers = pd.read_pickle('/data/datasets//WOS/US/US_papers.p')\n",
    "df_health = pd.read_csv('/data/datasets/WOS/US/text_clean_health.txt')"
   ]
  },
  {
   "cell_type": "code",
   "execution_count": 4,
   "id": "84ed04e1-3b5c-4187-b96e-fc3668e7f663",
   "metadata": {},
   "outputs": [],
   "source": [
    "def save(x, file_name):\n",
    "    with open(file_name, 'wb') as handle:\n",
    "        pickle.dump(x, handle, protocol=pickle.HIGHEST_PROTOCOL)\n",
    "\n",
    "def restore(file_name):\n",
    "    with open(file_name, 'rb') as handle:\n",
    "        x = pickle.load(handle)\n",
    "    return x"
   ]
  },
  {
   "cell_type": "code",
   "execution_count": 5,
   "id": "776f95ff-c8ee-4188-bdcf-1aba99fd4ca8",
   "metadata": {},
   "outputs": [],
   "source": [
    "doc_dist_socsci = restore('/data/datasets/WOS/US/lda_socsci_dist.p')\n",
    "doc_dist_health = restore('/data/datasets/WOS/US/lda_health_dist.p')"
   ]
  },
  {
   "cell_type": "code",
   "execution_count": 6,
   "id": "f92887be-1c0f-4b24-a874-8454a183f768",
   "metadata": {},
   "outputs": [],
   "source": [
    "address_clean = pd.read_pickle('/data/datasets/WOS/US/address_clean.p')"
   ]
  },
  {
   "cell_type": "code",
   "execution_count": 7,
   "id": "7621d05f-a9d9-427f-82e9-227b3d2b2f60",
   "metadata": {},
   "outputs": [],
   "source": [
    "df = us_papers.merge(address_clean, how='inner', left_on=['cluster_ID','id_art'], right_on=['cluster_id', 'id_art'])"
   ]
  },
  {
   "cell_type": "code",
   "execution_count": 8,
   "id": "55ef2f58-9b57-45f6-841f-56777b9c5c31",
   "metadata": {},
   "outputs": [],
   "source": [
    "def split_by_gender(df_race):\n",
    "    df_race = df_race.copy()\n",
    "    df_race['gender'] = df_race.gender.str.upper()\n",
    "\n",
    "    boolean_mask_M = df_race.gender == 'M'\n",
    "    boolean_mask_F = df_race.gender == 'F'\n",
    "\n",
    "    race_dist_M = df_race.loc[boolean_mask_M,['white','hispanic','black','asian']]\n",
    "    race_dist_F = df_race.loc[boolean_mask_F,['white','hispanic','black','asian']]\n",
    "\n",
    "    race_dist_M.columns = race_dist_M.columns + '_M'\n",
    "    race_dist_F.columns = race_dist_F.columns + '_F'\n",
    "    race_dist_MF = pd.concat([race_dist_M,race_dist_F]).fillna(0).sort_index()\n",
    "    df_race = df_race.join(race_dist_MF,how='inner' )\n",
    "    return df_race\n"
   ]
  },
  {
   "cell_type": "code",
   "execution_count": 9,
   "id": "e3fd771f-aea6-4f05-bbee-a0546e42897a",
   "metadata": {},
   "outputs": [],
   "source": [
    "def infer_race(us_papers, df=None):\n",
    "    papers = us_papers.drop_duplicates('cluster_ID')\n",
    "    lni = LastNamesInference(names = papers.nom)\n",
    "    if df is None:\n",
    "        df = us_papers.copy()\n",
    "    tqdm.pandas(desc=\"inferring race from lastnames\")\n",
    "    lastname_race_dist = df.progress_apply(lambda x: lni.get_name_dist(lastname=x.nom), axis=1)\n",
    "    df[lni.prob_order] = pd.DataFrame(lastname_race_dist.to_list(), index=df.index)\n",
    "    df = split_by_gender(df)\n",
    "    return df"
   ]
  },
  {
   "cell_type": "code",
   "execution_count": 10,
   "id": "109bf2a0-7a41-4da9-ad5a-95125e69810a",
   "metadata": {},
   "outputs": [],
   "source": [
    "def transform_data(df,dataset= 'socsci',n_components=300):\n",
    "    \n",
    "    lda_model = restore( '../../models/lda_model_{}_k{}.p'.format(dataset,n_components))\n",
    "    vectorizer = restore( '../../models/vectorizer_{}.p'.format(dataset))\n",
    "\n",
    "    texts = df.text_clean.values\n",
    "    data_vectorized = vectorizer.transform(texts)\n",
    "    doc_dist = lda_model.transform(data_vectorized)\n",
    "    return doc_dist"
   ]
  },
  {
   "cell_type": "code",
   "execution_count": 11,
   "id": "78931872-8f27-4b88-8c31-0f14a9135790",
   "metadata": {
    "tags": []
   },
   "outputs": [
    {
     "name": "stderr",
     "output_type": "stream",
     "text": [
      "imputing by the mean: 100% 3441264/3441264 [00:11<00:00, 291815.00it/s]\n"
     ]
    },
    {
     "data": {
      "application/vnd.jupyter.widget-view+json": {
       "model_id": "3d8c26a677a04d71ae9f420739e50198",
       "version_major": 2,
       "version_minor": 0
      },
      "text/plain": [
       "inferring race from lastnames:   0%|          | 0/16033434 [00:00<?, ?it/s]"
      ]
     },
     "metadata": {},
     "output_type": "display_data"
    }
   ],
   "source": [
    "df_race = infer_race(df)"
   ]
  },
  {
   "cell_type": "code",
   "execution_count": 12,
   "id": "6f4d56a6-09c6-4cbc-bd7c-fdee593d31d3",
   "metadata": {},
   "outputs": [
    {
     "data": {
      "text/plain": [
       "Index(['cluster_ID', 'Annee_Bibliographique', 'yfp', 'id_art', 'Prenom', 'nom',\n",
       "       'ordre', 'nb_auteur', 'EDiscipline', 'ESpecialite', 'cit_rel_all_IAC',\n",
       "       'ordre_auteur', 'Province', 'disc_origin', 'spec_origin',\n",
       "       'count_origin', 'gender', 'cit_all_IAC', 'cluster_id', 'grid_id',\n",
       "       'carnegie_id', 'carnegie_name', 'r1', 'control', 'obereg', 'hbcu',\n",
       "       'tribal', 'hsi', 'msi', 'womens', 'selindex', 'n_papers_on_WOS',\n",
       "       'ncitable_docs', 'Top10CR', 'Top5CR', 'Top1CR', 'Top10CR_Q', 'Top5CR_Q',\n",
       "       'Top1CR_Q', 'npapers', 'impact', 'avg_citations', 'npapers_Q',\n",
       "       'impact_Q', 'avg_citations_Q', 'usnr_rank', 'usnr_rank_cat',\n",
       "       'avg_citations_Q10', 'white', 'hispanic', 'black', 'asian', 'white_M',\n",
       "       'hispanic_M', 'black_M', 'asian_M', 'white_F', 'hispanic_F', 'black_F',\n",
       "       'asian_F'],\n",
       "      dtype='object')"
      ]
     },
     "execution_count": 12,
     "metadata": {},
     "output_type": "execute_result"
    }
   ],
   "source": [
    "df_race.columns"
   ]
  },
  {
   "cell_type": "markdown",
   "id": "13cdc62a-5051-4654-a350-9f087442c8fe",
   "metadata": {},
   "source": [
    "# Social sciences"
   ]
  },
  {
   "cell_type": "code",
   "execution_count": 13,
   "id": "154e78a2-1ae1-4340-ac39-99e2028da1cf",
   "metadata": {},
   "outputs": [],
   "source": [
    "metadata_df = df_race[df_race.ordre==1]\n",
    "\n",
    "metadata_df = df_socsci.merge(metadata_df,how='left', on= 'id_art')"
   ]
  },
  {
   "cell_type": "code",
   "execution_count": 14,
   "id": "e477e568-bcd0-45b2-873f-2d10051ea374",
   "metadata": {},
   "outputs": [],
   "source": [
    "metadata_df = metadata_df.merge(doc_dist_socsci, how='left',on='id_art').dropna()"
   ]
  },
  {
   "cell_type": "code",
   "execution_count": 15,
   "id": "677282f0-c0d6-4e8e-ae8f-b28a62c6b9a2",
   "metadata": {},
   "outputs": [],
   "source": [
    "topics_col = ['topic_'+ str(x) for x in range(1,301)]\n",
    "groups = ['white_M','hispanic_M', 'black_M', 'asian_M', 'white_F', 'hispanic_F', 'black_F','asian_F']\n",
    "carnegie_groups = ['r1', 'control', 'obereg', 'hbcu', 'hsi', 'msi', 'womens', 'selindex',\n",
    "                  'usnr_rank_cat','Top10CR_Q','Top5CR_Q','Top1CR_Q','impact_Q','avg_citations_Q','avg_citations_Q10']"
   ]
  },
  {
   "cell_type": "markdown",
   "id": "799d0241-19f1-4df4-80f5-3b0b998a894e",
   "metadata": {},
   "source": [
    "## topical profile by Carnegie groups\n",
    "\n",
    "- Topical profile: Is the average distribution by topics given a Carnegie group\n",
    "\n",
    "- Topical profile norm: Is the ratio between the topical profile of a group and the average distribution by topics (topics_size). ~It shows the topics where a group is publishing relatively more/less than average~ it is a ver size-dependent measure!"
   ]
  },
  {
   "cell_type": "code",
   "execution_count": 16,
   "id": "38bcdb8a-4463-4a57-b20c-2ad725098910",
   "metadata": {},
   "outputs": [
    {
     "name": "stderr",
     "output_type": "stream",
     "text": [
      "/tmp/ipykernel_1340/1963503394.py:5: FutureWarning: The frame.append method is deprecated and will be removed from pandas in a future version. Use pandas.concat instead.\n",
      "  carnegie_topic_profile = carnegie_topic_profile.append(topic_profile_grp)\n",
      "/tmp/ipykernel_1340/1963503394.py:5: FutureWarning: The frame.append method is deprecated and will be removed from pandas in a future version. Use pandas.concat instead.\n",
      "  carnegie_topic_profile = carnegie_topic_profile.append(topic_profile_grp)\n",
      "/tmp/ipykernel_1340/1963503394.py:5: FutureWarning: The frame.append method is deprecated and will be removed from pandas in a future version. Use pandas.concat instead.\n",
      "  carnegie_topic_profile = carnegie_topic_profile.append(topic_profile_grp)\n",
      "/tmp/ipykernel_1340/1963503394.py:5: FutureWarning: The frame.append method is deprecated and will be removed from pandas in a future version. Use pandas.concat instead.\n",
      "  carnegie_topic_profile = carnegie_topic_profile.append(topic_profile_grp)\n",
      "/tmp/ipykernel_1340/1963503394.py:5: FutureWarning: The frame.append method is deprecated and will be removed from pandas in a future version. Use pandas.concat instead.\n",
      "  carnegie_topic_profile = carnegie_topic_profile.append(topic_profile_grp)\n",
      "/tmp/ipykernel_1340/1963503394.py:5: FutureWarning: The frame.append method is deprecated and will be removed from pandas in a future version. Use pandas.concat instead.\n",
      "  carnegie_topic_profile = carnegie_topic_profile.append(topic_profile_grp)\n",
      "/tmp/ipykernel_1340/1963503394.py:5: FutureWarning: The frame.append method is deprecated and will be removed from pandas in a future version. Use pandas.concat instead.\n",
      "  carnegie_topic_profile = carnegie_topic_profile.append(topic_profile_grp)\n",
      "/tmp/ipykernel_1340/1963503394.py:5: FutureWarning: The frame.append method is deprecated and will be removed from pandas in a future version. Use pandas.concat instead.\n",
      "  carnegie_topic_profile = carnegie_topic_profile.append(topic_profile_grp)\n",
      "/tmp/ipykernel_1340/1963503394.py:5: FutureWarning: The frame.append method is deprecated and will be removed from pandas in a future version. Use pandas.concat instead.\n",
      "  carnegie_topic_profile = carnegie_topic_profile.append(topic_profile_grp)\n",
      "/tmp/ipykernel_1340/1963503394.py:5: FutureWarning: The frame.append method is deprecated and will be removed from pandas in a future version. Use pandas.concat instead.\n",
      "  carnegie_topic_profile = carnegie_topic_profile.append(topic_profile_grp)\n",
      "/tmp/ipykernel_1340/1963503394.py:5: FutureWarning: The frame.append method is deprecated and will be removed from pandas in a future version. Use pandas.concat instead.\n",
      "  carnegie_topic_profile = carnegie_topic_profile.append(topic_profile_grp)\n",
      "/tmp/ipykernel_1340/1963503394.py:5: FutureWarning: The frame.append method is deprecated and will be removed from pandas in a future version. Use pandas.concat instead.\n",
      "  carnegie_topic_profile = carnegie_topic_profile.append(topic_profile_grp)\n",
      "/tmp/ipykernel_1340/1963503394.py:5: FutureWarning: The frame.append method is deprecated and will be removed from pandas in a future version. Use pandas.concat instead.\n",
      "  carnegie_topic_profile = carnegie_topic_profile.append(topic_profile_grp)\n",
      "/tmp/ipykernel_1340/1963503394.py:5: FutureWarning: The frame.append method is deprecated and will be removed from pandas in a future version. Use pandas.concat instead.\n",
      "  carnegie_topic_profile = carnegie_topic_profile.append(topic_profile_grp)\n",
      "/tmp/ipykernel_1340/1963503394.py:5: FutureWarning: The frame.append method is deprecated and will be removed from pandas in a future version. Use pandas.concat instead.\n",
      "  carnegie_topic_profile = carnegie_topic_profile.append(topic_profile_grp)\n"
     ]
    }
   ],
   "source": [
    "carnegie_topic_profile = pd.DataFrame()\n",
    "for grp in carnegie_groups:\n",
    "    topic_profile_grp = metadata_df.groupby(grp)[topics_col].mean()\n",
    "    topic_profile_grp.insert(0, 'group', grp)\n",
    "    carnegie_topic_profile = carnegie_topic_profile.append(topic_profile_grp)"
   ]
  },
  {
   "cell_type": "code",
   "execution_count": 17,
   "id": "b0a493d2-7e99-4e9f-a387-7941dcaa9fbe",
   "metadata": {},
   "outputs": [],
   "source": [
    "topics_size = metadata_df[topics_col].mean()"
   ]
  },
  {
   "cell_type": "code",
   "execution_count": 18,
   "id": "7a02be70-fd54-4550-8d93-bdac555beb34",
   "metadata": {
    "tags": []
   },
   "outputs": [],
   "source": [
    "#carnegie_topic_profile_norm = carnegie_topic_profile.iloc[: , 1:].divide(topics_size,axis=1)"
   ]
  },
  {
   "cell_type": "markdown",
   "id": "7e8137ba-cf42-489d-9a57-20011f7def99",
   "metadata": {},
   "source": [
    "## topical profile by race and gender"
   ]
  },
  {
   "cell_type": "code",
   "execution_count": 19,
   "id": "a31ec249-c382-4760-903e-e48daec0ec06",
   "metadata": {},
   "outputs": [],
   "source": [
    "topics_by_group = metadata_df[groups].T @ metadata_df[topics_col]\n",
    "\n",
    "group_topic_profile = topics_by_group.div(topics_by_group.sum(axis=1), axis=0)"
   ]
  },
  {
   "cell_type": "code",
   "execution_count": 20,
   "id": "cf08a3c3-60ca-4e1c-a0df-2bb7b35c737f",
   "metadata": {},
   "outputs": [],
   "source": [
    "group_topic_profile_norm = group_topic_profile.divide(topics_size,axis=1)"
   ]
  },
  {
   "cell_type": "code",
   "execution_count": 21,
   "id": "83b939ae-7dcb-4f83-8b32-8cd30af17380",
   "metadata": {
    "tags": []
   },
   "outputs": [],
   "source": [
    "profile_similarity = pd.DataFrame(cosine_similarity(carnegie_topic_profile.iloc[: , 1:],group_topic_profile), columns=group_topic_profile.index, index =carnegie_topic_profile.iloc[: , 1:].index ) "
   ]
  },
  {
   "cell_type": "code",
   "execution_count": 22,
   "id": "c8342ddd-455c-4e9b-b364-4f99a3d63bf3",
   "metadata": {},
   "outputs": [],
   "source": [
    "# normalize by on row level\n",
    "# profile_similarity = profile_similarity.div(profile_similarity.sum(axis=1),axis=0)"
   ]
  },
  {
   "cell_type": "code",
   "execution_count": 23,
   "id": "fa32ff24-9c20-449c-bf40-074ce8f5c9cd",
   "metadata": {},
   "outputs": [],
   "source": [
    "# profile_similarity.insert(0, column='group',value=carnegie_topic_profile.iloc[: , :1].values)"
   ]
  },
  {
   "cell_type": "code",
   "execution_count": 24,
   "id": "0602796b-f85d-400f-9134-fe333dc47e4f",
   "metadata": {},
   "outputs": [],
   "source": [
    "profile_similarity.to_csv('../../results/institutions/carnegie_groups_profile_sim_sosci.csv', index_label= 'group_tag')"
   ]
  },
  {
   "cell_type": "markdown",
   "id": "84b15cd5-8e6b-44cf-9159-10bdf43366f4",
   "metadata": {},
   "source": [
    "### institutional level similarity"
   ]
  },
  {
   "cell_type": "code",
   "execution_count": 25,
   "id": "1fba60d8-bc06-4cb9-ad8a-d6678251ace4",
   "metadata": {},
   "outputs": [],
   "source": [
    "institutions_profile = metadata_df.groupby('carnegie_id')[topics_col].mean()"
   ]
  },
  {
   "cell_type": "code",
   "execution_count": 26,
   "id": "22f01185-f908-4c92-9bc0-1ad1be59630a",
   "metadata": {},
   "outputs": [],
   "source": [
    "institutions_profile_norm = institutions_profile.divide(topics_size,axis=1)"
   ]
  },
  {
   "cell_type": "code",
   "execution_count": 27,
   "id": "d9afcc7e-bb76-4a48-8fe3-7589c27135cc",
   "metadata": {},
   "outputs": [],
   "source": [
    "institutions_grp_similarity = pd.DataFrame(cosine_similarity(institutions_profile_norm,group_topic_profile_norm), columns=group_topic_profile_norm.index, index =institutions_profile_norm.index ) "
   ]
  },
  {
   "cell_type": "code",
   "execution_count": 28,
   "id": "e0d87326-8666-4f82-83d8-a7c5d00327a6",
   "metadata": {},
   "outputs": [],
   "source": [
    "# normalize by on row level\n",
    "institutions_grp_similarity = institutions_grp_similarity.div(institutions_grp_similarity.sum(axis=1),axis=0)"
   ]
  },
  {
   "cell_type": "code",
   "execution_count": 29,
   "id": "25919aed-e3b4-42f2-b792-e0c9f0349bf9",
   "metadata": {},
   "outputs": [],
   "source": [
    "universities_carnegie = address_clean[['carnegie_id', 'carnegie_name', 'r1','control', 'obereg', 'hbcu', 'tribal', 'hsi', 'msi', 'womens','selindex',\n",
    "                                      'usnr_rank_cat','Top10CR_Q','Top5CR_Q','Top1CR_Q','impact_Q','avg_citations_Q','avg_citations_Q10']].drop_duplicates('carnegie_id')"
   ]
  },
  {
   "cell_type": "code",
   "execution_count": 30,
   "id": "0c3376ac-6741-403a-bce9-ff280fba5642",
   "metadata": {
    "tags": []
   },
   "outputs": [],
   "source": [
    "#some unis have multiple names, we unify\n",
    "universities_carnegie2 = address_clean[['carnegie_id', 'carnegie_name', 'r1','control', 'obereg', 'hbcu', 'tribal', 'hsi', 'msi', 'womens','selindex',\n",
    "                                       'usnr_rank_cat','Top10CR_Q','Top5CR_Q','Top1CR_Q','impact_Q','avg_citations_Q','avg_citations_Q10']].drop_duplicates()\n",
    "\n",
    "universities_carnegie2 = universities_carnegie2.merge(universities_carnegie, indicator=True, how='outer')\n",
    "\n",
    "universities_carnegie2 = universities_carnegie2[universities_carnegie2.carnegie_id.isin(universities_carnegie2[universities_carnegie2._merge=='left_only'].carnegie_id)]\n",
    "\n",
    "shortest_names = universities_carnegie2.groupby('carnegie_id').carnegie_name.apply(lambda x:  min(x, key=len))\n",
    "largest_names = universities_carnegie2.groupby('carnegie_id').carnegie_name.apply(lambda x:  max(x, key=len))\n",
    "\n",
    "name_map = pd.DataFrame([shortest_names,largest_names]).T\n",
    "\n",
    "name_map.columns =['short_name', 'large_name']\n",
    "\n",
    "name_map = name_map.set_index('large_name')\n",
    "\n",
    "universities_carnegie.loc[universities_carnegie.carnegie_name.isin(name_map.index),'carnegie_name'] = universities_carnegie.loc[universities_carnegie.carnegie_name.isin(name_map.index),'carnegie_name'].map(name_map.short_name)"
   ]
  },
  {
   "cell_type": "code",
   "execution_count": 31,
   "id": "667a983e-8225-4051-bb58-61ddc0a3e373",
   "metadata": {},
   "outputs": [],
   "source": [
    "institutions_grp_similarity = institutions_grp_similarity.merge(universities_carnegie, left_index=True, right_on='carnegie_id')"
   ]
  },
  {
   "cell_type": "code",
   "execution_count": 32,
   "id": "f1e5a4df-587c-4f1d-a404-0960da798912",
   "metadata": {},
   "outputs": [],
   "source": [
    "institutions_grp_similarity.to_csv('../../results/institutions/institutions_grp_similarity.csv', index=False)"
   ]
  },
  {
   "cell_type": "markdown",
   "id": "520079f9-4fed-417f-ac0d-4360c29cf2d1",
   "metadata": {},
   "source": [
    "# Health"
   ]
  },
  {
   "cell_type": "code",
   "execution_count": 33,
   "id": "574eae90-2287-4633-89dd-12120802e3a4",
   "metadata": {},
   "outputs": [],
   "source": [
    "metadata_df_health = df_race[df_race.ordre==1]\n",
    "metadata_df_health = df_health.merge(metadata_df_health,how='left', on= 'id_art')"
   ]
  },
  {
   "cell_type": "code",
   "execution_count": 34,
   "id": "b205bccb-5580-4f7f-934b-256e673e1a23",
   "metadata": {},
   "outputs": [],
   "source": [
    "metadata_df_health = metadata_df_health.merge(doc_dist_health, how='left',on='id_art').dropna()"
   ]
  },
  {
   "cell_type": "code",
   "execution_count": 35,
   "id": "2b0a15f4-0d4c-451c-b149-2b0f228609d3",
   "metadata": {},
   "outputs": [],
   "source": [
    "topics_col_health = ['topic_'+ str(x) for x in range(1,201)]\n",
    "groups = ['white_M','hispanic_M', 'black_M', 'asian_M', 'white_F', 'hispanic_F', 'black_F','asian_F']\n",
    "carnegie_groups = ['r1', 'control', 'obereg', 'hbcu', 'hsi', 'msi', 'womens', 'selindex',\n",
    "                  'usnr_rank_cat','Top10CR_Q','Top5CR_Q','Top1CR_Q','impact_Q','avg_citations_Q','avg_citations_Q10']"
   ]
  },
  {
   "cell_type": "markdown",
   "id": "219ad47f-8b04-4a23-a8fe-0d70d567a0c7",
   "metadata": {},
   "source": [
    "## topical profile by Carnegie groups\n"
   ]
  },
  {
   "cell_type": "code",
   "execution_count": 36,
   "id": "504454b6-cb46-44b1-aca9-1b5e0e080f8d",
   "metadata": {},
   "outputs": [
    {
     "name": "stderr",
     "output_type": "stream",
     "text": [
      "/tmp/ipykernel_1340/2359051433.py:5: FutureWarning: The frame.append method is deprecated and will be removed from pandas in a future version. Use pandas.concat instead.\n",
      "  carnegie_topic_profile_health = carnegie_topic_profile_health.append(topic_profile_grp)\n",
      "/tmp/ipykernel_1340/2359051433.py:5: FutureWarning: The frame.append method is deprecated and will be removed from pandas in a future version. Use pandas.concat instead.\n",
      "  carnegie_topic_profile_health = carnegie_topic_profile_health.append(topic_profile_grp)\n",
      "/tmp/ipykernel_1340/2359051433.py:5: FutureWarning: The frame.append method is deprecated and will be removed from pandas in a future version. Use pandas.concat instead.\n",
      "  carnegie_topic_profile_health = carnegie_topic_profile_health.append(topic_profile_grp)\n",
      "/tmp/ipykernel_1340/2359051433.py:5: FutureWarning: The frame.append method is deprecated and will be removed from pandas in a future version. Use pandas.concat instead.\n",
      "  carnegie_topic_profile_health = carnegie_topic_profile_health.append(topic_profile_grp)\n",
      "/tmp/ipykernel_1340/2359051433.py:5: FutureWarning: The frame.append method is deprecated and will be removed from pandas in a future version. Use pandas.concat instead.\n",
      "  carnegie_topic_profile_health = carnegie_topic_profile_health.append(topic_profile_grp)\n",
      "/tmp/ipykernel_1340/2359051433.py:5: FutureWarning: The frame.append method is deprecated and will be removed from pandas in a future version. Use pandas.concat instead.\n",
      "  carnegie_topic_profile_health = carnegie_topic_profile_health.append(topic_profile_grp)\n",
      "/tmp/ipykernel_1340/2359051433.py:5: FutureWarning: The frame.append method is deprecated and will be removed from pandas in a future version. Use pandas.concat instead.\n",
      "  carnegie_topic_profile_health = carnegie_topic_profile_health.append(topic_profile_grp)\n",
      "/tmp/ipykernel_1340/2359051433.py:5: FutureWarning: The frame.append method is deprecated and will be removed from pandas in a future version. Use pandas.concat instead.\n",
      "  carnegie_topic_profile_health = carnegie_topic_profile_health.append(topic_profile_grp)\n",
      "/tmp/ipykernel_1340/2359051433.py:5: FutureWarning: The frame.append method is deprecated and will be removed from pandas in a future version. Use pandas.concat instead.\n",
      "  carnegie_topic_profile_health = carnegie_topic_profile_health.append(topic_profile_grp)\n",
      "/tmp/ipykernel_1340/2359051433.py:5: FutureWarning: The frame.append method is deprecated and will be removed from pandas in a future version. Use pandas.concat instead.\n",
      "  carnegie_topic_profile_health = carnegie_topic_profile_health.append(topic_profile_grp)\n",
      "/tmp/ipykernel_1340/2359051433.py:5: FutureWarning: The frame.append method is deprecated and will be removed from pandas in a future version. Use pandas.concat instead.\n",
      "  carnegie_topic_profile_health = carnegie_topic_profile_health.append(topic_profile_grp)\n",
      "/tmp/ipykernel_1340/2359051433.py:5: FutureWarning: The frame.append method is deprecated and will be removed from pandas in a future version. Use pandas.concat instead.\n",
      "  carnegie_topic_profile_health = carnegie_topic_profile_health.append(topic_profile_grp)\n",
      "/tmp/ipykernel_1340/2359051433.py:5: FutureWarning: The frame.append method is deprecated and will be removed from pandas in a future version. Use pandas.concat instead.\n",
      "  carnegie_topic_profile_health = carnegie_topic_profile_health.append(topic_profile_grp)\n",
      "/tmp/ipykernel_1340/2359051433.py:5: FutureWarning: The frame.append method is deprecated and will be removed from pandas in a future version. Use pandas.concat instead.\n",
      "  carnegie_topic_profile_health = carnegie_topic_profile_health.append(topic_profile_grp)\n",
      "/tmp/ipykernel_1340/2359051433.py:5: FutureWarning: The frame.append method is deprecated and will be removed from pandas in a future version. Use pandas.concat instead.\n",
      "  carnegie_topic_profile_health = carnegie_topic_profile_health.append(topic_profile_grp)\n"
     ]
    }
   ],
   "source": [
    "carnegie_topic_profile_health = pd.DataFrame()\n",
    "for grp in carnegie_groups:\n",
    "    topic_profile_grp = metadata_df_health.groupby(grp)[topics_col_health].mean()\n",
    "    topic_profile_grp.insert(0, 'group', grp)\n",
    "    carnegie_topic_profile_health = carnegie_topic_profile_health.append(topic_profile_grp)"
   ]
  },
  {
   "cell_type": "code",
   "execution_count": 37,
   "id": "40024bac-4fc9-4bde-83d2-ebcf65eab5ea",
   "metadata": {},
   "outputs": [],
   "source": [
    "topics_size_health = metadata_df_health[topics_col_health].mean()"
   ]
  },
  {
   "cell_type": "markdown",
   "id": "e5a4109f-f41a-4d3e-adb1-5c74994a285e",
   "metadata": {},
   "source": [
    "## topical profile by race and gender"
   ]
  },
  {
   "cell_type": "code",
   "execution_count": 38,
   "id": "c636bdfc-8dc9-479d-bec8-1cbace7dfbdc",
   "metadata": {},
   "outputs": [],
   "source": [
    "topics_by_group_health = metadata_df_health[groups].T @ metadata_df_health[topics_col_health]\n",
    "\n",
    "group_topic_profile_health = topics_by_group_health.div(topics_by_group_health.sum(axis=1), axis=0)"
   ]
  },
  {
   "cell_type": "code",
   "execution_count": 39,
   "id": "8950facd-a32e-4944-8c06-af3ebcb030f2",
   "metadata": {},
   "outputs": [],
   "source": [
    "group_topic_profile_norm_health = group_topic_profile_health.divide(topics_size_health,axis=1)"
   ]
  },
  {
   "cell_type": "code",
   "execution_count": 40,
   "id": "95e9e31c-ac33-457b-a047-84be960e6040",
   "metadata": {
    "tags": []
   },
   "outputs": [],
   "source": [
    "profile_similarity_health = pd.DataFrame(cosine_similarity(carnegie_topic_profile_health.iloc[: , 1:],group_topic_profile_health), columns=group_topic_profile_health.index, index =carnegie_topic_profile_health.iloc[: , 1:].index ) "
   ]
  },
  {
   "cell_type": "code",
   "execution_count": 41,
   "id": "2ab10cb9-8a1d-4844-b6ae-240024f60076",
   "metadata": {},
   "outputs": [],
   "source": [
    "profile_similarity_health['group']=carnegie_topic_profile_health.group"
   ]
  },
  {
   "cell_type": "code",
   "execution_count": 42,
   "id": "20a2bc3c-125b-452c-b37f-5eb235ea1f43",
   "metadata": {},
   "outputs": [],
   "source": [
    "profile_similarity_health.to_csv('../../results/institutions/carnegie_groups_profile_sim_health.csv', index_label= 'group_tag')"
   ]
  },
  {
   "cell_type": "markdown",
   "id": "500c534b-cb77-40c7-918e-57527df09315",
   "metadata": {},
   "source": [
    "### institutional level similarity"
   ]
  },
  {
   "cell_type": "code",
   "execution_count": 43,
   "id": "e325ea13-7fad-4370-98b7-e8d766fb971b",
   "metadata": {},
   "outputs": [],
   "source": [
    "institutions_profile_health = metadata_df_health.groupby('carnegie_id')[topics_col_health].mean()"
   ]
  },
  {
   "cell_type": "code",
   "execution_count": 44,
   "id": "6952345a-c29c-4f8c-abcd-fa9b71c359dc",
   "metadata": {},
   "outputs": [],
   "source": [
    "institutions_profile_norm_health = institutions_profile_health.divide(topics_size_health,axis=1)"
   ]
  },
  {
   "cell_type": "code",
   "execution_count": 45,
   "id": "8f07ebd4-7c34-4ac9-b19c-6a9f8e8eeef8",
   "metadata": {},
   "outputs": [],
   "source": [
    "institutions_grp_similarity_health = pd.DataFrame(cosine_similarity(institutions_profile_norm_health,group_topic_profile_norm_health), columns=group_topic_profile_norm_health.index, index =institutions_profile_norm_health.index ) "
   ]
  },
  {
   "cell_type": "code",
   "execution_count": 46,
   "id": "9537474f-6653-4155-b531-aba7db56d283",
   "metadata": {},
   "outputs": [],
   "source": [
    "# normalize by on row level\n",
    "institutions_grp_similarity_health = institutions_grp_similarity_health.div(institutions_grp_similarity_health.sum(axis=1),axis=0)"
   ]
  },
  {
   "cell_type": "code",
   "execution_count": 47,
   "id": "219ec277-2fad-4524-9a5d-d155c17c2c6d",
   "metadata": {},
   "outputs": [],
   "source": [
    "universities_carnegie = address_clean[['carnegie_id', 'carnegie_name', 'r1','control', 'obereg', 'hbcu', 'tribal', 'hsi', 'msi', 'womens','selindex',\n",
    "                                      'usnr_rank_cat','Top10CR_Q','Top5CR_Q','Top1CR_Q','impact_Q','avg_citations_Q','avg_citations_Q10']].drop_duplicates('carnegie_id')"
   ]
  },
  {
   "cell_type": "code",
   "execution_count": 48,
   "id": "c45be56e-a6a7-4649-af91-88f390a12a21",
   "metadata": {
    "tags": []
   },
   "outputs": [],
   "source": [
    "#some unis have multiple names, we unify\n",
    "universities_carnegie2 = address_clean[['carnegie_id', 'carnegie_name', 'r1','control', 'obereg', 'hbcu', 'tribal', 'hsi', 'msi', 'womens','selindex',\n",
    "                                       'usnr_rank_cat','Top10CR_Q','Top5CR_Q','Top1CR_Q','impact_Q','avg_citations_Q','avg_citations_Q10']].drop_duplicates()\n",
    "\n",
    "universities_carnegie2 = universities_carnegie2.merge(universities_carnegie, indicator=True, how='outer')\n",
    "\n",
    "universities_carnegie2 = universities_carnegie2[universities_carnegie2.carnegie_id.isin(universities_carnegie2[universities_carnegie2._merge=='left_only'].carnegie_id)]\n",
    "\n",
    "shortest_names = universities_carnegie2.groupby('carnegie_id').carnegie_name.apply(lambda x:  min(x, key=len))\n",
    "largest_names = universities_carnegie2.groupby('carnegie_id').carnegie_name.apply(lambda x:  max(x, key=len))\n",
    "\n",
    "name_map = pd.DataFrame([shortest_names,largest_names]).T\n",
    "\n",
    "name_map.columns =['short_name', 'large_name']\n",
    "\n",
    "name_map = name_map.set_index('large_name')\n",
    "\n",
    "universities_carnegie.loc[universities_carnegie.carnegie_name.isin(name_map.index),'carnegie_name'] = universities_carnegie.loc[universities_carnegie.carnegie_name.isin(name_map.index),'carnegie_name'].map(name_map.short_name)"
   ]
  },
  {
   "cell_type": "code",
   "execution_count": 49,
   "id": "fb8ba213-fb62-4ebc-831b-324afa4615af",
   "metadata": {},
   "outputs": [],
   "source": [
    "institutions_grp_similarity_health = institutions_grp_similarity_health.merge(universities_carnegie, left_index=True, right_on='carnegie_id')"
   ]
  },
  {
   "cell_type": "code",
   "execution_count": 50,
   "id": "09bdfbc7-5fef-47c5-ad88-72457cb4ca29",
   "metadata": {},
   "outputs": [],
   "source": [
    "institutions_grp_similarity_health.to_csv('../../results/institutions/institutions_grp_similarity_health.csv', index=False)"
   ]
  },
  {
   "cell_type": "code",
   "execution_count": null,
   "id": "410c7b9f-8adf-477f-8ecd-f3760248f8c7",
   "metadata": {},
   "outputs": [],
   "source": []
  },
  {
   "cell_type": "code",
   "execution_count": null,
   "id": "777fc20f-9b22-48bc-aafd-0e3979063067",
   "metadata": {},
   "outputs": [],
   "source": []
  }
 ],
 "metadata": {
  "kernelspec": {
   "display_name": "Python 3 (ipykernel)",
   "language": "python",
   "name": "python3"
  },
  "language_info": {
   "codemirror_mode": {
    "name": "ipython",
    "version": 3
   },
   "file_extension": ".py",
   "mimetype": "text/x-python",
   "name": "python",
   "nbconvert_exporter": "python",
   "pygments_lexer": "ipython3",
   "version": "3.10.8"
  }
 },
 "nbformat": 4,
 "nbformat_minor": 5
}
